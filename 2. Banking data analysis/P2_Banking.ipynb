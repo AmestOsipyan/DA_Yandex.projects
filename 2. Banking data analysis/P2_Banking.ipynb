{
 "cells": [
  {
   "cell_type": "markdown",
   "id": "386f2ae7",
   "metadata": {
    "deletable": false,
    "editable": false,
    "id": "386f2ae7"
   },
   "source": [
    "# Исследование надежности заемщиков\n"
   ]
  },
  {
   "cell_type": "markdown",
   "id": "06ff17b8",
   "metadata": {},
   "source": [
    "**Цели и задачи проекта:** На основе статистики о платёжеспособности клиентов исследовать влияет ли семейное положение и количество детей клиента на факт возврата кредита в срок."
   ]
  },
  {
   "cell_type": "markdown",
   "id": "26613308",
   "metadata": {
    "id": "26613308"
   },
   "source": [
    "## Откроем таблицу и изучим общую информацию о данных"
   ]
  },
  {
   "cell_type": "code",
   "execution_count": 1,
   "id": "77a68a90",
   "metadata": {
    "deletable": false,
    "id": "77a68a90"
   },
   "outputs": [],
   "source": [
    "import pandas as pd\n",
    "\n",
    "try:\n",
    "    data = pd.read_csv('/datasets/data.csv')\n",
    "except:\n",
    "    data = pd.read_csv('c:/users/user/Desktop/datasets/data.csv')"
   ]
  },
  {
   "cell_type": "markdown",
   "id": "45365635",
   "metadata": {
    "id": "45365635"
   },
   "source": [
    "**Выведим первые 20 строчек датафрейма `data` на экран.**"
   ]
  },
  {
   "cell_type": "code",
   "execution_count": 2,
   "id": "b0451a9a",
   "metadata": {
    "deletable": false,
    "id": "b0451a9a",
    "outputId": "1a8f3ef2-d323-4ec2-ddf7-89670b5944c4"
   },
   "outputs": [
    {
     "data": {
      "text/html": [
       "<div>\n",
       "<style scoped>\n",
       "    .dataframe tbody tr th:only-of-type {\n",
       "        vertical-align: middle;\n",
       "    }\n",
       "\n",
       "    .dataframe tbody tr th {\n",
       "        vertical-align: top;\n",
       "    }\n",
       "\n",
       "    .dataframe thead th {\n",
       "        text-align: right;\n",
       "    }\n",
       "</style>\n",
       "<table border=\"1\" class=\"dataframe\">\n",
       "  <thead>\n",
       "    <tr style=\"text-align: right;\">\n",
       "      <th></th>\n",
       "      <th>children</th>\n",
       "      <th>days_employed</th>\n",
       "      <th>dob_years</th>\n",
       "      <th>education</th>\n",
       "      <th>education_id</th>\n",
       "      <th>family_status</th>\n",
       "      <th>family_status_id</th>\n",
       "      <th>gender</th>\n",
       "      <th>income_type</th>\n",
       "      <th>debt</th>\n",
       "      <th>total_income</th>\n",
       "      <th>purpose</th>\n",
       "    </tr>\n",
       "  </thead>\n",
       "  <tbody>\n",
       "    <tr>\n",
       "      <th>0</th>\n",
       "      <td>1</td>\n",
       "      <td>-8437.673028</td>\n",
       "      <td>42</td>\n",
       "      <td>высшее</td>\n",
       "      <td>0</td>\n",
       "      <td>женат / замужем</td>\n",
       "      <td>0</td>\n",
       "      <td>F</td>\n",
       "      <td>сотрудник</td>\n",
       "      <td>0</td>\n",
       "      <td>253875.639453</td>\n",
       "      <td>покупка жилья</td>\n",
       "    </tr>\n",
       "    <tr>\n",
       "      <th>1</th>\n",
       "      <td>1</td>\n",
       "      <td>-4024.803754</td>\n",
       "      <td>36</td>\n",
       "      <td>среднее</td>\n",
       "      <td>1</td>\n",
       "      <td>женат / замужем</td>\n",
       "      <td>0</td>\n",
       "      <td>F</td>\n",
       "      <td>сотрудник</td>\n",
       "      <td>0</td>\n",
       "      <td>112080.014102</td>\n",
       "      <td>приобретение автомобиля</td>\n",
       "    </tr>\n",
       "    <tr>\n",
       "      <th>2</th>\n",
       "      <td>0</td>\n",
       "      <td>-5623.422610</td>\n",
       "      <td>33</td>\n",
       "      <td>Среднее</td>\n",
       "      <td>1</td>\n",
       "      <td>женат / замужем</td>\n",
       "      <td>0</td>\n",
       "      <td>M</td>\n",
       "      <td>сотрудник</td>\n",
       "      <td>0</td>\n",
       "      <td>145885.952297</td>\n",
       "      <td>покупка жилья</td>\n",
       "    </tr>\n",
       "    <tr>\n",
       "      <th>3</th>\n",
       "      <td>3</td>\n",
       "      <td>-4124.747207</td>\n",
       "      <td>32</td>\n",
       "      <td>среднее</td>\n",
       "      <td>1</td>\n",
       "      <td>женат / замужем</td>\n",
       "      <td>0</td>\n",
       "      <td>M</td>\n",
       "      <td>сотрудник</td>\n",
       "      <td>0</td>\n",
       "      <td>267628.550329</td>\n",
       "      <td>дополнительное образование</td>\n",
       "    </tr>\n",
       "    <tr>\n",
       "      <th>4</th>\n",
       "      <td>0</td>\n",
       "      <td>340266.072047</td>\n",
       "      <td>53</td>\n",
       "      <td>среднее</td>\n",
       "      <td>1</td>\n",
       "      <td>гражданский брак</td>\n",
       "      <td>1</td>\n",
       "      <td>F</td>\n",
       "      <td>пенсионер</td>\n",
       "      <td>0</td>\n",
       "      <td>158616.077870</td>\n",
       "      <td>сыграть свадьбу</td>\n",
       "    </tr>\n",
       "    <tr>\n",
       "      <th>5</th>\n",
       "      <td>0</td>\n",
       "      <td>-926.185831</td>\n",
       "      <td>27</td>\n",
       "      <td>высшее</td>\n",
       "      <td>0</td>\n",
       "      <td>гражданский брак</td>\n",
       "      <td>1</td>\n",
       "      <td>M</td>\n",
       "      <td>компаньон</td>\n",
       "      <td>0</td>\n",
       "      <td>255763.565419</td>\n",
       "      <td>покупка жилья</td>\n",
       "    </tr>\n",
       "    <tr>\n",
       "      <th>6</th>\n",
       "      <td>0</td>\n",
       "      <td>-2879.202052</td>\n",
       "      <td>43</td>\n",
       "      <td>высшее</td>\n",
       "      <td>0</td>\n",
       "      <td>женат / замужем</td>\n",
       "      <td>0</td>\n",
       "      <td>F</td>\n",
       "      <td>компаньон</td>\n",
       "      <td>0</td>\n",
       "      <td>240525.971920</td>\n",
       "      <td>операции с жильем</td>\n",
       "    </tr>\n",
       "    <tr>\n",
       "      <th>7</th>\n",
       "      <td>0</td>\n",
       "      <td>-152.779569</td>\n",
       "      <td>50</td>\n",
       "      <td>СРЕДНЕЕ</td>\n",
       "      <td>1</td>\n",
       "      <td>женат / замужем</td>\n",
       "      <td>0</td>\n",
       "      <td>M</td>\n",
       "      <td>сотрудник</td>\n",
       "      <td>0</td>\n",
       "      <td>135823.934197</td>\n",
       "      <td>образование</td>\n",
       "    </tr>\n",
       "    <tr>\n",
       "      <th>8</th>\n",
       "      <td>2</td>\n",
       "      <td>-6929.865299</td>\n",
       "      <td>35</td>\n",
       "      <td>ВЫСШЕЕ</td>\n",
       "      <td>0</td>\n",
       "      <td>гражданский брак</td>\n",
       "      <td>1</td>\n",
       "      <td>F</td>\n",
       "      <td>сотрудник</td>\n",
       "      <td>0</td>\n",
       "      <td>95856.832424</td>\n",
       "      <td>на проведение свадьбы</td>\n",
       "    </tr>\n",
       "    <tr>\n",
       "      <th>9</th>\n",
       "      <td>0</td>\n",
       "      <td>-2188.756445</td>\n",
       "      <td>41</td>\n",
       "      <td>среднее</td>\n",
       "      <td>1</td>\n",
       "      <td>женат / замужем</td>\n",
       "      <td>0</td>\n",
       "      <td>M</td>\n",
       "      <td>сотрудник</td>\n",
       "      <td>0</td>\n",
       "      <td>144425.938277</td>\n",
       "      <td>покупка жилья для семьи</td>\n",
       "    </tr>\n",
       "    <tr>\n",
       "      <th>10</th>\n",
       "      <td>2</td>\n",
       "      <td>-4171.483647</td>\n",
       "      <td>36</td>\n",
       "      <td>высшее</td>\n",
       "      <td>0</td>\n",
       "      <td>женат / замужем</td>\n",
       "      <td>0</td>\n",
       "      <td>M</td>\n",
       "      <td>компаньон</td>\n",
       "      <td>0</td>\n",
       "      <td>113943.491460</td>\n",
       "      <td>покупка недвижимости</td>\n",
       "    </tr>\n",
       "    <tr>\n",
       "      <th>11</th>\n",
       "      <td>0</td>\n",
       "      <td>-792.701887</td>\n",
       "      <td>40</td>\n",
       "      <td>среднее</td>\n",
       "      <td>1</td>\n",
       "      <td>женат / замужем</td>\n",
       "      <td>0</td>\n",
       "      <td>F</td>\n",
       "      <td>сотрудник</td>\n",
       "      <td>0</td>\n",
       "      <td>77069.234271</td>\n",
       "      <td>покупка коммерческой недвижимости</td>\n",
       "    </tr>\n",
       "    <tr>\n",
       "      <th>12</th>\n",
       "      <td>0</td>\n",
       "      <td>NaN</td>\n",
       "      <td>65</td>\n",
       "      <td>среднее</td>\n",
       "      <td>1</td>\n",
       "      <td>гражданский брак</td>\n",
       "      <td>1</td>\n",
       "      <td>M</td>\n",
       "      <td>пенсионер</td>\n",
       "      <td>0</td>\n",
       "      <td>NaN</td>\n",
       "      <td>сыграть свадьбу</td>\n",
       "    </tr>\n",
       "    <tr>\n",
       "      <th>13</th>\n",
       "      <td>0</td>\n",
       "      <td>-1846.641941</td>\n",
       "      <td>54</td>\n",
       "      <td>неоконченное высшее</td>\n",
       "      <td>2</td>\n",
       "      <td>женат / замужем</td>\n",
       "      <td>0</td>\n",
       "      <td>F</td>\n",
       "      <td>сотрудник</td>\n",
       "      <td>0</td>\n",
       "      <td>130458.228857</td>\n",
       "      <td>приобретение автомобиля</td>\n",
       "    </tr>\n",
       "    <tr>\n",
       "      <th>14</th>\n",
       "      <td>0</td>\n",
       "      <td>-1844.956182</td>\n",
       "      <td>56</td>\n",
       "      <td>высшее</td>\n",
       "      <td>0</td>\n",
       "      <td>гражданский брак</td>\n",
       "      <td>1</td>\n",
       "      <td>F</td>\n",
       "      <td>компаньон</td>\n",
       "      <td>1</td>\n",
       "      <td>165127.911772</td>\n",
       "      <td>покупка жилой недвижимости</td>\n",
       "    </tr>\n",
       "    <tr>\n",
       "      <th>15</th>\n",
       "      <td>1</td>\n",
       "      <td>-972.364419</td>\n",
       "      <td>26</td>\n",
       "      <td>среднее</td>\n",
       "      <td>1</td>\n",
       "      <td>женат / замужем</td>\n",
       "      <td>0</td>\n",
       "      <td>F</td>\n",
       "      <td>сотрудник</td>\n",
       "      <td>0</td>\n",
       "      <td>116820.904450</td>\n",
       "      <td>строительство собственной недвижимости</td>\n",
       "    </tr>\n",
       "    <tr>\n",
       "      <th>16</th>\n",
       "      <td>0</td>\n",
       "      <td>-1719.934226</td>\n",
       "      <td>35</td>\n",
       "      <td>среднее</td>\n",
       "      <td>1</td>\n",
       "      <td>женат / замужем</td>\n",
       "      <td>0</td>\n",
       "      <td>F</td>\n",
       "      <td>сотрудник</td>\n",
       "      <td>0</td>\n",
       "      <td>289202.704229</td>\n",
       "      <td>недвижимость</td>\n",
       "    </tr>\n",
       "    <tr>\n",
       "      <th>17</th>\n",
       "      <td>0</td>\n",
       "      <td>-2369.999720</td>\n",
       "      <td>33</td>\n",
       "      <td>высшее</td>\n",
       "      <td>0</td>\n",
       "      <td>гражданский брак</td>\n",
       "      <td>1</td>\n",
       "      <td>M</td>\n",
       "      <td>сотрудник</td>\n",
       "      <td>0</td>\n",
       "      <td>90410.586745</td>\n",
       "      <td>строительство недвижимости</td>\n",
       "    </tr>\n",
       "    <tr>\n",
       "      <th>18</th>\n",
       "      <td>0</td>\n",
       "      <td>400281.136913</td>\n",
       "      <td>53</td>\n",
       "      <td>среднее</td>\n",
       "      <td>1</td>\n",
       "      <td>вдовец / вдова</td>\n",
       "      <td>2</td>\n",
       "      <td>F</td>\n",
       "      <td>пенсионер</td>\n",
       "      <td>0</td>\n",
       "      <td>56823.777243</td>\n",
       "      <td>на покупку подержанного автомобиля</td>\n",
       "    </tr>\n",
       "    <tr>\n",
       "      <th>19</th>\n",
       "      <td>0</td>\n",
       "      <td>-10038.818549</td>\n",
       "      <td>48</td>\n",
       "      <td>СРЕДНЕЕ</td>\n",
       "      <td>1</td>\n",
       "      <td>в разводе</td>\n",
       "      <td>3</td>\n",
       "      <td>F</td>\n",
       "      <td>сотрудник</td>\n",
       "      <td>0</td>\n",
       "      <td>242831.107982</td>\n",
       "      <td>на покупку своего автомобиля</td>\n",
       "    </tr>\n",
       "  </tbody>\n",
       "</table>\n",
       "</div>"
      ],
      "text/plain": [
       "    children  days_employed  dob_years            education  education_id  \\\n",
       "0          1   -8437.673028         42               высшее             0   \n",
       "1          1   -4024.803754         36              среднее             1   \n",
       "2          0   -5623.422610         33              Среднее             1   \n",
       "3          3   -4124.747207         32              среднее             1   \n",
       "4          0  340266.072047         53              среднее             1   \n",
       "5          0    -926.185831         27               высшее             0   \n",
       "6          0   -2879.202052         43               высшее             0   \n",
       "7          0    -152.779569         50              СРЕДНЕЕ             1   \n",
       "8          2   -6929.865299         35               ВЫСШЕЕ             0   \n",
       "9          0   -2188.756445         41              среднее             1   \n",
       "10         2   -4171.483647         36               высшее             0   \n",
       "11         0    -792.701887         40              среднее             1   \n",
       "12         0            NaN         65              среднее             1   \n",
       "13         0   -1846.641941         54  неоконченное высшее             2   \n",
       "14         0   -1844.956182         56               высшее             0   \n",
       "15         1    -972.364419         26              среднее             1   \n",
       "16         0   -1719.934226         35              среднее             1   \n",
       "17         0   -2369.999720         33               высшее             0   \n",
       "18         0  400281.136913         53              среднее             1   \n",
       "19         0  -10038.818549         48              СРЕДНЕЕ             1   \n",
       "\n",
       "       family_status  family_status_id gender income_type  debt  \\\n",
       "0    женат / замужем                 0      F   сотрудник     0   \n",
       "1    женат / замужем                 0      F   сотрудник     0   \n",
       "2    женат / замужем                 0      M   сотрудник     0   \n",
       "3    женат / замужем                 0      M   сотрудник     0   \n",
       "4   гражданский брак                 1      F   пенсионер     0   \n",
       "5   гражданский брак                 1      M   компаньон     0   \n",
       "6    женат / замужем                 0      F   компаньон     0   \n",
       "7    женат / замужем                 0      M   сотрудник     0   \n",
       "8   гражданский брак                 1      F   сотрудник     0   \n",
       "9    женат / замужем                 0      M   сотрудник     0   \n",
       "10   женат / замужем                 0      M   компаньон     0   \n",
       "11   женат / замужем                 0      F   сотрудник     0   \n",
       "12  гражданский брак                 1      M   пенсионер     0   \n",
       "13   женат / замужем                 0      F   сотрудник     0   \n",
       "14  гражданский брак                 1      F   компаньон     1   \n",
       "15   женат / замужем                 0      F   сотрудник     0   \n",
       "16   женат / замужем                 0      F   сотрудник     0   \n",
       "17  гражданский брак                 1      M   сотрудник     0   \n",
       "18    вдовец / вдова                 2      F   пенсионер     0   \n",
       "19         в разводе                 3      F   сотрудник     0   \n",
       "\n",
       "     total_income                                 purpose  \n",
       "0   253875.639453                           покупка жилья  \n",
       "1   112080.014102                 приобретение автомобиля  \n",
       "2   145885.952297                           покупка жилья  \n",
       "3   267628.550329              дополнительное образование  \n",
       "4   158616.077870                         сыграть свадьбу  \n",
       "5   255763.565419                           покупка жилья  \n",
       "6   240525.971920                       операции с жильем  \n",
       "7   135823.934197                             образование  \n",
       "8    95856.832424                   на проведение свадьбы  \n",
       "9   144425.938277                 покупка жилья для семьи  \n",
       "10  113943.491460                    покупка недвижимости  \n",
       "11   77069.234271       покупка коммерческой недвижимости  \n",
       "12            NaN                         сыграть свадьбу  \n",
       "13  130458.228857                 приобретение автомобиля  \n",
       "14  165127.911772              покупка жилой недвижимости  \n",
       "15  116820.904450  строительство собственной недвижимости  \n",
       "16  289202.704229                            недвижимость  \n",
       "17   90410.586745              строительство недвижимости  \n",
       "18   56823.777243      на покупку подержанного автомобиля  \n",
       "19  242831.107982            на покупку своего автомобиля  "
      ]
     },
     "execution_count": 2,
     "metadata": {},
     "output_type": "execute_result"
    }
   ],
   "source": [
    "data.head(20)"
   ]
  },
  {
   "cell_type": "markdown",
   "id": "0ed8f27f",
   "metadata": {
    "id": "0ed8f27f"
   },
   "source": [
    "**Выведим основную информацию о датафрейме с помощью метода `info()`.**"
   ]
  },
  {
   "cell_type": "code",
   "execution_count": 3,
   "id": "ab3f863b",
   "metadata": {
    "deletable": false,
    "id": "ab3f863b",
    "outputId": "15376089-8dad-46c9-b520-c05248d43158"
   },
   "outputs": [
    {
     "name": "stdout",
     "output_type": "stream",
     "text": [
      "<class 'pandas.core.frame.DataFrame'>\n",
      "RangeIndex: 21525 entries, 0 to 21524\n",
      "Data columns (total 12 columns):\n",
      " #   Column            Non-Null Count  Dtype  \n",
      "---  ------            --------------  -----  \n",
      " 0   children          21525 non-null  int64  \n",
      " 1   days_employed     19351 non-null  float64\n",
      " 2   dob_years         21525 non-null  int64  \n",
      " 3   education         21525 non-null  object \n",
      " 4   education_id      21525 non-null  int64  \n",
      " 5   family_status     21525 non-null  object \n",
      " 6   family_status_id  21525 non-null  int64  \n",
      " 7   gender            21525 non-null  object \n",
      " 8   income_type       21525 non-null  object \n",
      " 9   debt              21525 non-null  int64  \n",
      " 10  total_income      19351 non-null  float64\n",
      " 11  purpose           21525 non-null  object \n",
      "dtypes: float64(2), int64(5), object(5)\n",
      "memory usage: 2.0+ MB\n"
     ]
    }
   ],
   "source": [
    "data.info()"
   ]
  },
  {
   "cell_type": "markdown",
   "id": "60e3e22d",
   "metadata": {
    "deletable": false,
    "editable": false,
    "id": "60e3e22d"
   },
   "source": [
    "## Предобработка данных"
   ]
  },
  {
   "cell_type": "markdown",
   "id": "03dc170c",
   "metadata": {
    "deletable": false,
    "editable": false,
    "id": "03dc170c"
   },
   "source": [
    "### Удаление пропусков"
   ]
  },
  {
   "cell_type": "markdown",
   "id": "a4f54eef",
   "metadata": {
    "id": "a4f54eef"
   },
   "source": [
    "**Выведим количество пропущенных значений для каждого столбца. Используем комбинацию двух методов.**"
   ]
  },
  {
   "cell_type": "code",
   "execution_count": 4,
   "id": "2dc372b2",
   "metadata": {
    "deletable": false,
    "id": "2dc372b2",
    "outputId": "81f4d817-781c-465c-ed15-91ce4446810d"
   },
   "outputs": [
    {
     "data": {
      "text/plain": [
       "children               0\n",
       "days_employed       2174\n",
       "dob_years              0\n",
       "education              0\n",
       "education_id           0\n",
       "family_status          0\n",
       "family_status_id       0\n",
       "gender                 0\n",
       "income_type            0\n",
       "debt                   0\n",
       "total_income        2174\n",
       "purpose                0\n",
       "dtype: int64"
      ]
     },
     "execution_count": 4,
     "metadata": {},
     "output_type": "execute_result"
    }
   ],
   "source": [
    "data.isna().sum()"
   ]
  },
  {
   "cell_type": "markdown",
   "id": "14f011b1",
   "metadata": {
    "id": "14f011b1"
   },
   "source": [
    "**В двух столбцах есть пропущенные значения. Один из них — `days_employed`. Пропуски в этом столбце мы обработаем на следующем этапе. Другой столбец с пропущенными значениями — `total_income` — хранит данные о доходах. На сумму дохода сильнее всего влияет тип занятости, поэтому заполнить пропуски в этом столбце нужно медианным значением по каждому типу из столбца `income_type`. Например, у человека с типом занятости `сотрудник` пропуск в столбце `total_income` должен быть заполнен медианным доходом среди всех записей с тем же типом.**"
   ]
  },
  {
   "cell_type": "code",
   "execution_count": 5,
   "id": "bdabfb6e",
   "metadata": {
    "deletable": false,
    "id": "bdabfb6e"
   },
   "outputs": [],
   "source": [
    "for t in data['income_type'].unique():\n",
    "    data.loc[(data['income_type'] == t) & (data['total_income'].isna()), 'total_income'] = \\\n",
    "    data.loc[(data['income_type'] == t), 'total_income'].median()"
   ]
  },
  {
   "cell_type": "markdown",
   "id": "5be34059",
   "metadata": {
    "deletable": false,
    "editable": false,
    "id": "5be34059"
   },
   "source": [
    "### Обработка аномальных значений"
   ]
  },
  {
   "cell_type": "markdown",
   "id": "a87606cb",
   "metadata": {
    "id": "a87606cb"
   },
   "source": [
    "**В данных могут встречаться артефакты (аномалии) — значения, которые не отражают действительность и появились по какой-то ошибке. Обработаем значения: заменим все отрицательные значения положительными с помощью метода `abs()`.**"
   ]
  },
  {
   "cell_type": "code",
   "execution_count": 6,
   "id": "020c46cc",
   "metadata": {
    "deletable": false,
    "id": "020c46cc"
   },
   "outputs": [],
   "source": [
    "data['days_employed'] = data['days_employed'].abs()"
   ]
  },
  {
   "cell_type": "markdown",
   "id": "45538a3a",
   "metadata": {
    "id": "45538a3a"
   },
   "source": [
    "**Для каждого типа занятости выведим медианное значение трудового стажа `days_employed` в днях.**"
   ]
  },
  {
   "cell_type": "code",
   "execution_count": 7,
   "id": "cd3e6328",
   "metadata": {
    "deletable": false,
    "id": "cd3e6328",
    "outputId": "801ef80e-522b-4668-f34e-565af7432bcf"
   },
   "outputs": [
    {
     "data": {
      "text/plain": [
       "income_type\n",
       "безработный        366413.652744\n",
       "в декрете            3296.759962\n",
       "госслужащий          2689.368353\n",
       "компаньон            1547.382223\n",
       "пенсионер          365213.306266\n",
       "предприниматель       520.848083\n",
       "сотрудник            1574.202821\n",
       "студент               578.751554\n",
       "Name: days_employed, dtype: float64"
      ]
     },
     "execution_count": 7,
     "metadata": {},
     "output_type": "execute_result"
    }
   ],
   "source": [
    "data.groupby('income_type')['days_employed'].agg('median')"
   ]
  },
  {
   "cell_type": "markdown",
   "id": "90c5f058",
   "metadata": {
    "id": "90c5f058"
   },
   "source": [
    "У двух типов (безработные и пенсионеры) получатся аномально большие значения. Исправить такие значения сложно, поэтому оставим их как есть."
   ]
  },
  {
   "cell_type": "markdown",
   "id": "9652e50d",
   "metadata": {
    "id": "9652e50d"
   },
   "source": [
    "**Выведим перечень уникальных значений столбца `children`.**"
   ]
  },
  {
   "cell_type": "code",
   "execution_count": 8,
   "id": "dbb37b8e",
   "metadata": {
    "deletable": false,
    "id": "dbb37b8e",
    "outputId": "6975b15c-7f95-4697-d16d-a0c79b657b03"
   },
   "outputs": [
    {
     "data": {
      "text/plain": [
       "array([ 1,  0,  3,  2, -1,  4, 20,  5], dtype=int64)"
      ]
     },
     "execution_count": 8,
     "metadata": {},
     "output_type": "execute_result"
    }
   ],
   "source": [
    "data['children'].unique()"
   ]
  },
  {
   "cell_type": "markdown",
   "id": "2b8b0715",
   "metadata": {
    "id": "2b8b0715"
   },
   "source": [
    "**В столбце `children` есть два аномальных значения. Удалим строки, в которых встречаются такие аномальные значения из датафрейма `data`.**"
   ]
  },
  {
   "cell_type": "code",
   "execution_count": 9,
   "id": "20009df8",
   "metadata": {
    "deletable": false,
    "id": "20009df8"
   },
   "outputs": [],
   "source": [
    "data = data[(data['children'] != -1) & (data['children'] != 20)]"
   ]
  },
  {
   "cell_type": "markdown",
   "id": "8c6ac9f1",
   "metadata": {
    "id": "8c6ac9f1"
   },
   "source": [
    "**Ещё раз выведим перечень уникальных значений столбца `children`, чтобы убедиться, что артефакты удалены.**"
   ]
  },
  {
   "cell_type": "code",
   "execution_count": 10,
   "id": "07337b81",
   "metadata": {
    "deletable": false,
    "id": "07337b81",
    "outputId": "b2097101-d49d-44d9-901b-32a65c9463d1"
   },
   "outputs": [
    {
     "data": {
      "text/plain": [
       "array([1, 0, 3, 2, 4, 5], dtype=int64)"
      ]
     },
     "execution_count": 10,
     "metadata": {},
     "output_type": "execute_result"
    }
   ],
   "source": [
    "data['children'].unique()"
   ]
  },
  {
   "cell_type": "markdown",
   "id": "ee3f52d4",
   "metadata": {
    "deletable": false,
    "editable": false,
    "id": "ee3f52d4"
   },
   "source": [
    "### Удаление пропусков (продолжение)"
   ]
  },
  {
   "cell_type": "markdown",
   "id": "a700b0e4",
   "metadata": {
    "id": "a700b0e4"
   },
   "source": [
    "**Заполним пропуски в столбце `days_employed` медианными значениями по каждого типа занятости `income_type`.**"
   ]
  },
  {
   "cell_type": "code",
   "execution_count": 11,
   "id": "61946b83",
   "metadata": {
    "deletable": false,
    "id": "61946b83"
   },
   "outputs": [],
   "source": [
    "for t in data['income_type'].unique():\n",
    "    data.loc[(data['income_type'] == t) & (data['days_employed'].isna()), 'days_employed'] = \\\n",
    "    data.loc[(data['income_type'] == t), 'days_employed'].median()"
   ]
  },
  {
   "cell_type": "markdown",
   "id": "550dcd9b",
   "metadata": {
    "id": "550dcd9b"
   },
   "source": [
    "**Убедимся, что все пропуски заполнены. Проверим себя и ещё раз выведим количество пропущенных значений для каждого столбца с помощью двух методов.**"
   ]
  },
  {
   "cell_type": "code",
   "execution_count": 12,
   "id": "937c7014",
   "metadata": {
    "deletable": false,
    "id": "937c7014",
    "outputId": "8da1e4e1-358e-4e87-98c9-f261bce0a7b2"
   },
   "outputs": [
    {
     "data": {
      "text/plain": [
       "children            0\n",
       "days_employed       0\n",
       "dob_years           0\n",
       "education           0\n",
       "education_id        0\n",
       "family_status       0\n",
       "family_status_id    0\n",
       "gender              0\n",
       "income_type         0\n",
       "debt                0\n",
       "total_income        0\n",
       "purpose             0\n",
       "dtype: int64"
      ]
     },
     "execution_count": 12,
     "metadata": {},
     "output_type": "execute_result"
    }
   ],
   "source": [
    "data.isna().sum()"
   ]
  },
  {
   "cell_type": "markdown",
   "id": "d522e295",
   "metadata": {
    "deletable": false,
    "editable": false,
    "id": "d522e295"
   },
   "source": [
    "### Изменение типов данных"
   ]
  },
  {
   "cell_type": "markdown",
   "id": "c229c581",
   "metadata": {
    "id": "c229c581"
   },
   "source": [
    "**Заменим вещественный тип данных в столбце `total_income` на целочисленный с помощью метода `astype()`.**"
   ]
  },
  {
   "cell_type": "code",
   "execution_count": 13,
   "id": "31036462",
   "metadata": {
    "deletable": false,
    "id": "31036462"
   },
   "outputs": [],
   "source": [
    "data['total_income'] = data['total_income'].astype(int)"
   ]
  },
  {
   "cell_type": "markdown",
   "id": "b8e3d1d9",
   "metadata": {
    "deletable": false,
    "editable": false,
    "id": "b8e3d1d9"
   },
   "source": [
    "### Обработка дубликатов"
   ]
  },
  {
   "cell_type": "markdown",
   "id": "9be53c49",
   "metadata": {
    "id": "9be53c49"
   },
   "source": [
    "**Обработаем неявные дубликаты в столбце `education`. В этом столбце есть одни и те же значения, но записанные по-разному: с использованием заглавных и строчных букв. Приведем их к нижнему регистру.**"
   ]
  },
  {
   "cell_type": "code",
   "execution_count": 14,
   "id": "d89e73e1",
   "metadata": {
    "deletable": false,
    "id": "d89e73e1"
   },
   "outputs": [],
   "source": [
    "data['education'] = data['education'].str.lower()"
   ]
  },
  {
   "cell_type": "markdown",
   "id": "01d4500e",
   "metadata": {
    "id": "01d4500e"
   },
   "source": [
    "**Выведим на экран количество строк-дубликатов в данных. Если такие строки присутствуют, удалим их.**"
   ]
  },
  {
   "cell_type": "code",
   "execution_count": 15,
   "id": "e10efb23",
   "metadata": {
    "deletable": false,
    "id": "e10efb23",
    "outputId": "9684deba-1934-42d1-99e1-cda61740f822"
   },
   "outputs": [
    {
     "data": {
      "text/plain": [
       "71"
      ]
     },
     "execution_count": 15,
     "metadata": {},
     "output_type": "execute_result"
    }
   ],
   "source": [
    "data.duplicated().sum()"
   ]
  },
  {
   "cell_type": "code",
   "execution_count": 16,
   "id": "df853f20",
   "metadata": {
    "deletable": false,
    "id": "df853f20"
   },
   "outputs": [],
   "source": [
    "data = data.drop_duplicates()"
   ]
  },
  {
   "cell_type": "markdown",
   "id": "627be38f",
   "metadata": {
    "deletable": false,
    "editable": false,
    "id": "627be38f"
   },
   "source": [
    "### Категоризация данных"
   ]
  },
  {
   "cell_type": "markdown",
   "id": "4684c3e0",
   "metadata": {
    "id": "4684c3e0"
   },
   "source": [
    "**На основании диапазонов, указанных ниже, создаем в датафрейме `data` столбец `total_income_category` с категориями:**\n",
    "\n",
    "- 0–30000 — `'E'`;\n",
    "- 30001–50000 — `'D'`;\n",
    "- 50001–200000 — `'C'`;\n",
    "- 200001–1000000 — `'B'`;\n",
    "- 1000001 и выше — `'A'`.\n",
    "\n",
    "\n",
    "**Используем собственную функцию с именем `categorize_income()` и метод `apply()`.**"
   ]
  },
  {
   "cell_type": "code",
   "execution_count": 17,
   "id": "78965238",
   "metadata": {
    "deletable": false,
    "id": "78965238"
   },
   "outputs": [],
   "source": [
    "def categorize_income(income):\n",
    "    try:\n",
    "        if 0 <= income <= 30000:\n",
    "            return 'E'\n",
    "        elif 30001 <= income <= 50000:\n",
    "            return 'D'\n",
    "        elif 50001 <= income <= 200000:\n",
    "            return 'C'\n",
    "        elif 200001 <= income <= 1000000:\n",
    "            return 'B'\n",
    "        elif income >= 1000001:\n",
    "            return 'A'\n",
    "    except:\n",
    "        pass"
   ]
  },
  {
   "cell_type": "code",
   "execution_count": 18,
   "id": "0980ada1",
   "metadata": {
    "deletable": false,
    "id": "0980ada1"
   },
   "outputs": [],
   "source": [
    "data['total_income_category'] = data['total_income'].apply(categorize_income)"
   ]
  },
  {
   "cell_type": "markdown",
   "id": "9917bba0",
   "metadata": {
    "id": "9917bba0"
   },
   "source": [
    "**Выведим на экран перечень уникальных целей взятия кредита из столбца `purpose`.**"
   ]
  },
  {
   "cell_type": "code",
   "execution_count": 19,
   "id": "ee07b65e",
   "metadata": {
    "deletable": false,
    "id": "ee07b65e",
    "outputId": "673c12d9-7d7e-4ae0-9812-c622c89dd244"
   },
   "outputs": [
    {
     "data": {
      "text/plain": [
       "array(['покупка жилья', 'приобретение автомобиля',\n",
       "       'дополнительное образование', 'сыграть свадьбу',\n",
       "       'операции с жильем', 'образование', 'на проведение свадьбы',\n",
       "       'покупка жилья для семьи', 'покупка недвижимости',\n",
       "       'покупка коммерческой недвижимости', 'покупка жилой недвижимости',\n",
       "       'строительство собственной недвижимости', 'недвижимость',\n",
       "       'строительство недвижимости', 'на покупку подержанного автомобиля',\n",
       "       'на покупку своего автомобиля',\n",
       "       'операции с коммерческой недвижимостью',\n",
       "       'строительство жилой недвижимости', 'жилье',\n",
       "       'операции со своей недвижимостью', 'автомобили',\n",
       "       'заняться образованием', 'сделка с подержанным автомобилем',\n",
       "       'получение образования', 'автомобиль', 'свадьба',\n",
       "       'получение дополнительного образования', 'покупка своего жилья',\n",
       "       'операции с недвижимостью', 'получение высшего образования',\n",
       "       'свой автомобиль', 'сделка с автомобилем',\n",
       "       'профильное образование', 'высшее образование',\n",
       "       'покупка жилья для сдачи', 'на покупку автомобиля', 'ремонт жилью',\n",
       "       'заняться высшим образованием'], dtype=object)"
      ]
     },
     "execution_count": 19,
     "metadata": {},
     "output_type": "execute_result"
    }
   ],
   "source": [
    "data['purpose'].unique()"
   ]
  },
  {
   "cell_type": "markdown",
   "id": "52b79d56",
   "metadata": {
    "id": "52b79d56"
   },
   "source": [
    "**Создаем функцию, которая на основании данных из столбца `purpose` сформирует новый столбец `purpose_category`, в который войдут следующие категории:**\n",
    "\n",
    "- `'операции с автомобилем'`,\n",
    "- `'операции с недвижимостью'`,\n",
    "- `'проведение свадьбы'`,\n",
    "- `'получение образования'`."
   ]
  },
  {
   "cell_type": "code",
   "execution_count": 20,
   "id": "be41da5d",
   "metadata": {
    "deletable": false,
    "id": "be41da5d"
   },
   "outputs": [],
   "source": [
    "def categorize_purpose(row):\n",
    "    try:\n",
    "        if 'автом' in row:\n",
    "            return 'операции с автомобилем'\n",
    "        elif 'жил' in row or 'недвиж' in row:\n",
    "            return 'операции с недвижимостью'\n",
    "        elif 'свад' in row:\n",
    "            return 'проведение свадьбы'\n",
    "        elif 'образов' in row:\n",
    "            return 'получение образования'\n",
    "    except:\n",
    "        return 'нет категории'"
   ]
  },
  {
   "cell_type": "code",
   "execution_count": 21,
   "id": "94c4a19a",
   "metadata": {
    "deletable": false,
    "id": "94c4a19a"
   },
   "outputs": [],
   "source": [
    "data['purpose_category'] = data['purpose'].apply(categorize_purpose)"
   ]
  },
  {
   "cell_type": "markdown",
   "id": "3d596c34",
   "metadata": {
    "id": "3d596c34"
   },
   "source": [
    "### Шаг 3. Исследуем данные и ответим на вопросы"
   ]
  },
  {
   "cell_type": "markdown",
   "id": "648db036",
   "metadata": {
    "id": "648db036"
   },
   "source": [
    "#### 3.1 Посмотрим, есть ли зависимость между количеством детей и возвратом кредита в срок?"
   ]
  },
  {
   "cell_type": "code",
   "execution_count": 22,
   "id": "7fcff25e",
   "metadata": {
    "deletable": false,
    "id": "7fcff25e"
   },
   "outputs": [
    {
     "data": {
      "text/html": [
       "<div>\n",
       "<style scoped>\n",
       "    .dataframe tbody tr th:only-of-type {\n",
       "        vertical-align: middle;\n",
       "    }\n",
       "\n",
       "    .dataframe tbody tr th {\n",
       "        vertical-align: top;\n",
       "    }\n",
       "\n",
       "    .dataframe thead tr th {\n",
       "        text-align: left;\n",
       "    }\n",
       "\n",
       "    .dataframe thead tr:last-of-type th {\n",
       "        text-align: right;\n",
       "    }\n",
       "</style>\n",
       "<table border=\"1\" class=\"dataframe\">\n",
       "  <thead>\n",
       "    <tr>\n",
       "      <th></th>\n",
       "      <th>count</th>\n",
       "      <th>sum</th>\n",
       "      <th>debt_share</th>\n",
       "    </tr>\n",
       "    <tr>\n",
       "      <th></th>\n",
       "      <th>debt</th>\n",
       "      <th>debt</th>\n",
       "      <th></th>\n",
       "    </tr>\n",
       "    <tr>\n",
       "      <th>children_category</th>\n",
       "      <th></th>\n",
       "      <th></th>\n",
       "      <th></th>\n",
       "    </tr>\n",
       "  </thead>\n",
       "  <tbody>\n",
       "    <tr>\n",
       "      <th>Без детей</th>\n",
       "      <td>14091</td>\n",
       "      <td>1063</td>\n",
       "      <td>7.54%</td>\n",
       "    </tr>\n",
       "    <tr>\n",
       "      <th>С детьми</th>\n",
       "      <td>7240</td>\n",
       "      <td>669</td>\n",
       "      <td>9.24%</td>\n",
       "    </tr>\n",
       "  </tbody>\n",
       "</table>\n",
       "</div>"
      ],
      "text/plain": [
       "                   count   sum debt_share\n",
       "                    debt  debt           \n",
       "children_category                        \n",
       "Без детей          14091  1063      7.54%\n",
       "С детьми            7240   669      9.24%"
      ]
     },
     "metadata": {},
     "output_type": "display_data"
    }
   ],
   "source": [
    "data_pivot_children = data.pivot_table(index = 'children', values = 'debt', aggfunc = ['count', 'sum'])\n",
    "data_pivot_children['debt_share'] = data_pivot_children['sum'] / data_pivot_children['count'] * 100\n",
    "data_pivot_children['debt_share'] = round(data_pivot_children['debt_share'], 2)\n",
    "data_pivot_children['debt_share'] = data_pivot_children['debt_share'].astype(str)\n",
    "data_pivot_children['debt_share'] = data_pivot_children['debt_share'] + '%'\n",
    "\n",
    "def categorize_children(children):\n",
    "    try:\n",
    "        if  children == 0:\n",
    "            return 'Без детей'\n",
    "        elif children >= 1:\n",
    "            return 'С детьми'\n",
    "    except:\n",
    "        pass\n",
    "data['children_category'] = data['children'].apply(categorize_children)\n",
    "data_pivot_children = data.pivot_table(index = 'children_category', values = 'debt', aggfunc = ['count', 'sum'])\n",
    "data_pivot_children['debt_share'] = data_pivot_children['sum'] / data_pivot_children['count'] * 100\n",
    "data_pivot_children['debt_share'] = round(data_pivot_children['debt_share'], 2)\n",
    "data_pivot_children['debt_share'] = data_pivot_children['debt_share'].astype(str)\n",
    "data_pivot_children['debt_share'] = data_pivot_children['debt_share'] + '%'\n",
    "display(data_pivot_children)"
   ]
  },
  {
   "cell_type": "markdown",
   "id": "2eb9088e",
   "metadata": {
    "deletable": false,
    "id": "2eb9088e"
   },
   "source": [
    "**Вывод:** \n",
    "\n",
    "Из полученных данных можно сделать вывод, что заемщики без детей пользуются кредитными средствами почти в 2 раза больше чем заемщики с детьми. В виду того, что группы заемщиков с количеством детей равным 3-м и более малочисленны (*в сумме составляет менее 2% от общего количества заемщиков*) и не репрезентативны, а показатели групп заемщиков с детьми в количестве 1 и 2 отличаются незначительно, заемщики поделены на 2 основные категории: \"Без детей\" и \"С детьми\".\n",
    "\n",
    "**Наблюдается следующая зависимость между количеством детей и возвратом кредита в срок:**\n",
    "1. Самыми надежными заемщиками по критерию возврата кредита в срок являются заемщики без детей (*самая больщая группа заемщиков*). Доля \"невозврата\" в данной группе составляет 7.54%.\n",
    "2. На втором месте - заемщики с детьми. Доля \"невозврата\" в данной группе превышает долю \"невозврата\" группы заемщиков без детей на 1.7%."
   ]
  },
  {
   "cell_type": "markdown",
   "id": "74c9b3a7",
   "metadata": {
    "id": "74c9b3a7"
   },
   "source": [
    "#### 3.2 Посмотрим, есть ли зависимость между семейным положением и возвратом кредита в срок?"
   ]
  },
  {
   "cell_type": "code",
   "execution_count": 23,
   "id": "8098ab3b",
   "metadata": {
    "deletable": false,
    "id": "8098ab3b"
   },
   "outputs": [
    {
     "data": {
      "text/html": [
       "<div>\n",
       "<style scoped>\n",
       "    .dataframe tbody tr th:only-of-type {\n",
       "        vertical-align: middle;\n",
       "    }\n",
       "\n",
       "    .dataframe tbody tr th {\n",
       "        vertical-align: top;\n",
       "    }\n",
       "\n",
       "    .dataframe thead tr th {\n",
       "        text-align: left;\n",
       "    }\n",
       "\n",
       "    .dataframe thead tr:last-of-type th {\n",
       "        text-align: right;\n",
       "    }\n",
       "</style>\n",
       "<table border=\"1\" class=\"dataframe\">\n",
       "  <thead>\n",
       "    <tr>\n",
       "      <th></th>\n",
       "      <th>count</th>\n",
       "      <th>sum</th>\n",
       "      <th>debt_share</th>\n",
       "    </tr>\n",
       "    <tr>\n",
       "      <th></th>\n",
       "      <th>debt</th>\n",
       "      <th>debt</th>\n",
       "      <th></th>\n",
       "    </tr>\n",
       "    <tr>\n",
       "      <th>family_status</th>\n",
       "      <th></th>\n",
       "      <th></th>\n",
       "      <th></th>\n",
       "    </tr>\n",
       "  </thead>\n",
       "  <tbody>\n",
       "    <tr>\n",
       "      <th>Не женат / не замужем</th>\n",
       "      <td>2796</td>\n",
       "      <td>273</td>\n",
       "      <td>9.76%</td>\n",
       "    </tr>\n",
       "    <tr>\n",
       "      <th>в разводе</th>\n",
       "      <td>1189</td>\n",
       "      <td>84</td>\n",
       "      <td>7.06%</td>\n",
       "    </tr>\n",
       "    <tr>\n",
       "      <th>вдовец / вдова</th>\n",
       "      <td>951</td>\n",
       "      <td>63</td>\n",
       "      <td>6.62%</td>\n",
       "    </tr>\n",
       "    <tr>\n",
       "      <th>гражданский брак</th>\n",
       "      <td>4134</td>\n",
       "      <td>385</td>\n",
       "      <td>9.31%</td>\n",
       "    </tr>\n",
       "    <tr>\n",
       "      <th>женат / замужем</th>\n",
       "      <td>12261</td>\n",
       "      <td>927</td>\n",
       "      <td>7.56%</td>\n",
       "    </tr>\n",
       "  </tbody>\n",
       "</table>\n",
       "</div>"
      ],
      "text/plain": [
       "                       count  sum debt_share\n",
       "                        debt debt           \n",
       "family_status                               \n",
       "Не женат / не замужем   2796  273      9.76%\n",
       "в разводе               1189   84      7.06%\n",
       "вдовец / вдова           951   63      6.62%\n",
       "гражданский брак        4134  385      9.31%\n",
       "женат / замужем        12261  927      7.56%"
      ]
     },
     "metadata": {},
     "output_type": "display_data"
    }
   ],
   "source": [
    "data_pivot_family = data.pivot_table(index = 'family_status', values = 'debt', aggfunc = ['count', 'sum'])\n",
    "data_pivot_family['debt_share'] = data_pivot_family['sum'] / data_pivot_family['count'] * 100\n",
    "data_pivot_family['debt_share'] = round(data_pivot_family['debt_share'], 2)\n",
    "data_pivot_family['debt_share'] = data_pivot_family['debt_share'].astype(str)\n",
    "data_pivot_family['debt_share'] = data_pivot_family['debt_share'] + '%'\n",
    "display(data_pivot_family)"
   ]
  },
  {
   "cell_type": "markdown",
   "id": "c389ca63",
   "metadata": {
    "deletable": false,
    "id": "c389ca63"
   },
   "source": [
    "**Вывод:** Самой большой по численности категорией заемщиков явялются заемщики, состоящие в браке. Их количество превышает количество заемщиков других категорий минимум в 3 раза.\n",
    "\n",
    "**Наблюдается следующая зависимость между семейным положением и возвратом кредита в срок:**\n",
    "1. Самыми надежными по критерию возврата кредита в срок являются \"вдовцы/водвы\" (*самая маленькая группа заемщиков*). Доля \"невозврата\" в данной группе составляет 6.62%.\n",
    "2. На втором месте по надежности по критерию возврата кредита в срок являются заемщики, находящиеся в группах \"женат/замужем\" (*самая большая группа заемщиков*) и \"в разводе\". Данные группы демонтрируют схожие показатели по \"невозврату\": доля \"невозврата\" в данных группах в среднем выше на 0,69% показателей самой надежной группы \"вдовцы/вдовы\".\n",
    "3. На третьем месте с самой высокая долей \"невозврата\" - заемщики, относиещся к группам \"не женат/не замужем\" и \"гражданский брак\". Доля \"невозврата\" в данных группах в среднем выше на 2.91% показателей самой надежной группы \"вдовцы/вдовы\"."
   ]
  },
  {
   "cell_type": "markdown",
   "id": "9529de68",
   "metadata": {
    "id": "9529de68"
   },
   "source": [
    "#### 3.3 Посмотрим, есть ли зависимость между уровнем дохода и возвратом кредита в срок?"
   ]
  },
  {
   "cell_type": "code",
   "execution_count": 24,
   "id": "8787f44a",
   "metadata": {
    "deletable": false,
    "id": "8787f44a"
   },
   "outputs": [
    {
     "data": {
      "text/html": [
       "<div>\n",
       "<style scoped>\n",
       "    .dataframe tbody tr th:only-of-type {\n",
       "        vertical-align: middle;\n",
       "    }\n",
       "\n",
       "    .dataframe tbody tr th {\n",
       "        vertical-align: top;\n",
       "    }\n",
       "\n",
       "    .dataframe thead tr th {\n",
       "        text-align: left;\n",
       "    }\n",
       "\n",
       "    .dataframe thead tr:last-of-type th {\n",
       "        text-align: right;\n",
       "    }\n",
       "</style>\n",
       "<table border=\"1\" class=\"dataframe\">\n",
       "  <thead>\n",
       "    <tr>\n",
       "      <th></th>\n",
       "      <th>count</th>\n",
       "      <th>sum</th>\n",
       "      <th>share</th>\n",
       "    </tr>\n",
       "    <tr>\n",
       "      <th></th>\n",
       "      <th>debt</th>\n",
       "      <th>debt</th>\n",
       "      <th></th>\n",
       "    </tr>\n",
       "    <tr>\n",
       "      <th>total_income_category</th>\n",
       "      <th></th>\n",
       "      <th></th>\n",
       "      <th></th>\n",
       "    </tr>\n",
       "  </thead>\n",
       "  <tbody>\n",
       "    <tr>\n",
       "      <th>A</th>\n",
       "      <td>25</td>\n",
       "      <td>2</td>\n",
       "      <td>8.0%</td>\n",
       "    </tr>\n",
       "    <tr>\n",
       "      <th>B</th>\n",
       "      <td>5014</td>\n",
       "      <td>354</td>\n",
       "      <td>7.06%</td>\n",
       "    </tr>\n",
       "    <tr>\n",
       "      <th>C</th>\n",
       "      <td>15921</td>\n",
       "      <td>1353</td>\n",
       "      <td>8.5%</td>\n",
       "    </tr>\n",
       "    <tr>\n",
       "      <th>D</th>\n",
       "      <td>349</td>\n",
       "      <td>21</td>\n",
       "      <td>6.02%</td>\n",
       "    </tr>\n",
       "    <tr>\n",
       "      <th>E</th>\n",
       "      <td>22</td>\n",
       "      <td>2</td>\n",
       "      <td>9.09%</td>\n",
       "    </tr>\n",
       "  </tbody>\n",
       "</table>\n",
       "</div>"
      ],
      "text/plain": [
       "                       count   sum  share\n",
       "                        debt  debt       \n",
       "total_income_category                    \n",
       "A                         25     2   8.0%\n",
       "B                       5014   354  7.06%\n",
       "C                      15921  1353   8.5%\n",
       "D                        349    21  6.02%\n",
       "E                         22     2  9.09%"
      ]
     },
     "metadata": {},
     "output_type": "display_data"
    }
   ],
   "source": [
    "data_pivot_total_income = data.pivot_table(index = 'total_income_category', values = 'debt', aggfunc = ['count', 'sum'])\n",
    "data_pivot_total_income['share'] = data_pivot_total_income['sum']/data_pivot_total_income['count']*100\n",
    "data_pivot_total_income['share'] = round(data_pivot_total_income['share'], 2)\n",
    "data_pivot_total_income['share'] = data_pivot_total_income['share'].astype(str)\n",
    "data_pivot_total_income['share'] = data_pivot_total_income['share'] + '%'\n",
    "display(data_pivot_total_income)"
   ]
  },
  {
   "cell_type": "markdown",
   "id": "6dd14b57",
   "metadata": {
    "deletable": false,
    "id": "6dd14b57"
   },
   "source": [
    "**Вывод:** \n",
    "1. Данные указывают, что самыми надежными заемщиками по критерию возврата кредита в срок являются заемщики с уровнем дохода категории D (от 30001 до 50000). Доля \"невозврата\" в данной категории составляет 6,02%.\n",
    "2. На втором месте по данному критерию находятся заемщики с уровнем дохода категории В (*от 200001 до 1000000*). Уровень \"невозврата\" в данной категории превышает долю \"невозврата\" категории D на 1,04%.\n",
    "3. На третьем месте по данному критерию находятся заемщики с уровнем дохода А (*самый высокий уровень, более 1000001*) и С (*от 50001 до 200000*)(*С - самая большая группа заемщиков*), которые проявляют примерно одинаковый уровень возврата кредитов в срок. В среднем, доля \"невозврата\" данной категории превышает долю \"невозврата\" категории D на 2.23%. \n",
    "4. Самый высокий уровень \"невозврата\" наблюдается у самой малочисленной группы заемщиков с уровнем дохода категории Е (*менее 30000*). Доля \"невозврата\" данной категории превышает долю \"невозврата\" категории D на 3.07%.\n"
   ]
  },
  {
   "cell_type": "markdown",
   "id": "1dcc9b12",
   "metadata": {
    "id": "1dcc9b12"
   },
   "source": [
    "#### 3.4 Посмотрим, как разные цели кредита влияют на его возврат в срок?"
   ]
  },
  {
   "cell_type": "code",
   "execution_count": 25,
   "id": "c602bc8b",
   "metadata": {
    "deletable": false,
    "id": "c602bc8b"
   },
   "outputs": [
    {
     "data": {
      "text/html": [
       "<div>\n",
       "<style scoped>\n",
       "    .dataframe tbody tr th:only-of-type {\n",
       "        vertical-align: middle;\n",
       "    }\n",
       "\n",
       "    .dataframe tbody tr th {\n",
       "        vertical-align: top;\n",
       "    }\n",
       "\n",
       "    .dataframe thead tr th {\n",
       "        text-align: left;\n",
       "    }\n",
       "\n",
       "    .dataframe thead tr:last-of-type th {\n",
       "        text-align: right;\n",
       "    }\n",
       "</style>\n",
       "<table border=\"1\" class=\"dataframe\">\n",
       "  <thead>\n",
       "    <tr>\n",
       "      <th></th>\n",
       "      <th>count</th>\n",
       "      <th>sum</th>\n",
       "      <th>share_of_debt</th>\n",
       "    </tr>\n",
       "    <tr>\n",
       "      <th></th>\n",
       "      <th>debt</th>\n",
       "      <th>debt</th>\n",
       "      <th></th>\n",
       "    </tr>\n",
       "    <tr>\n",
       "      <th>purpose_category</th>\n",
       "      <th></th>\n",
       "      <th></th>\n",
       "      <th></th>\n",
       "    </tr>\n",
       "  </thead>\n",
       "  <tbody>\n",
       "    <tr>\n",
       "      <th>операции с автомобилем</th>\n",
       "      <td>4279</td>\n",
       "      <td>400</td>\n",
       "      <td>9.35%</td>\n",
       "    </tr>\n",
       "    <tr>\n",
       "      <th>операции с недвижимостью</th>\n",
       "      <td>10751</td>\n",
       "      <td>780</td>\n",
       "      <td>7.26%</td>\n",
       "    </tr>\n",
       "    <tr>\n",
       "      <th>получение образования</th>\n",
       "      <td>3988</td>\n",
       "      <td>369</td>\n",
       "      <td>9.25%</td>\n",
       "    </tr>\n",
       "    <tr>\n",
       "      <th>проведение свадьбы</th>\n",
       "      <td>2313</td>\n",
       "      <td>183</td>\n",
       "      <td>7.91%</td>\n",
       "    </tr>\n",
       "  </tbody>\n",
       "</table>\n",
       "</div>"
      ],
      "text/plain": [
       "                          count  sum share_of_debt\n",
       "                           debt debt              \n",
       "purpose_category                                  \n",
       "операции с автомобилем     4279  400         9.35%\n",
       "операции с недвижимостью  10751  780         7.26%\n",
       "получение образования      3988  369         9.25%\n",
       "проведение свадьбы         2313  183         7.91%"
      ]
     },
     "metadata": {},
     "output_type": "display_data"
    }
   ],
   "source": [
    "data_pivot_purpose = data.pivot_table(index = 'purpose_category', values = 'debt', aggfunc = ['count', 'sum'])\n",
    "data_pivot_purpose['share_of_debt'] = data_pivot_purpose['sum'] / data_pivot_purpose['count'] * 100\n",
    "data_pivot_purpose['share_of_debt'] = round(data_pivot_purpose['share_of_debt'], 2)\n",
    "data_pivot_purpose['share_of_debt'] = data_pivot_purpose['share_of_debt'].astype(str)\n",
    "data_pivot_purpose['share_of_debt'] = data_pivot_purpose['share_of_debt'] + '%'\n",
    "display(data_pivot_purpose)"
   ]
  },
  {
   "cell_type": "markdown",
   "id": "cf05ed63",
   "metadata": {
    "deletable": false,
    "id": "cf05ed63"
   },
   "source": [
    "**Вывод:** \n",
    "1. Наиболее надежными по критерию возврата кредита в срок являются займы, выданные на \"операции с недвижимостью\" (*самая большая группа заемщиков*). Доля \"невозврата\" в данной категории составляет 7,26%.\n",
    "2. На втором месте с небольшой разницей по данному критерию находятся займы, выданные на \"проведение свадьбы\". Доля \"невозварата\" в данной категории превышает долю \"невозврата\" в категории \"операции с недвижимостью\" на 0,65%.\n",
    "3. На третьем месте по данному критерию находятся займы, выданные на \"операции с автомобилем\" и \"получение образования\". В среднемдоля \"невозврата\" в данных категориях превышает долю \"невозврата\" в катеригории \"операции с недвижимостью\" на 2.04%."
   ]
  },
  {
   "cell_type": "markdown",
   "id": "46c1f10b",
   "metadata": {
    "id": "46c1f10b"
   },
   "source": [
    "#### 3.5 Возможные причины появления пропусков в исходных данных."
   ]
  },
  {
   "cell_type": "markdown",
   "id": "3697d2a9",
   "metadata": {
    "id": "3697d2a9"
   },
   "source": [
    "\n",
    "**Причинами появления пропусков могут служить:**\n",
    "1. Человечкий фактор: данные не были предоставлены самими заемщиками либо данные не были внесены оператором баз данных.\n",
    "2. Человеческий фактор: учитывая специфику данных датафрейма, возможно в местах появления пропусков заемщиками были указаны сведения с 0 значенииями, но для дальнешего успешного оформления займа данные были удалены специально, чтобы они отрицательно не повлияли на принятие решений по выдаче займа. \n",
    "3. Технологические ошибки, которые возникли при копировании, считывании, смене форматов или при другой технолгической ошибке, которые привели к удалению или несохранению данных."
   ]
  },
  {
   "cell_type": "markdown",
   "id": "57bc304e",
   "metadata": {
    "deletable": false,
    "editable": false,
    "id": "57bc304e"
   },
   "source": [
    "### Шаг 4: общий вывод."
   ]
  },
  {
   "cell_type": "markdown",
   "id": "1ab75d1c",
   "metadata": {
    "deletable": false,
    "id": "1ab75d1c"
   },
   "source": [
    "**Общий вывод**\n",
    "\n",
    "По результатам исследования выяснили, что существует зависимость возрвата кредита в срок от таких показателей как количество детей у заемщиков, семейное положение, уровень дохода, цели кредита. При этом зависимость нелинейная. Например, самый высокий уровень дохода не гарантирует самые лучшие показатели по возврату кредита в срок. Каждая группа в данных категориях заемщиков демонстрирует собственные показатели.\n",
    "\n",
    "В зависимости от целей проведения данного исследования, рекомендуется обратить внимание на группы заемщиков в данных категориях, которые являются самыми большими по численности, так как их показатели в абсолютном денежном выражении могут существенно повлиять на выручку. (*Для подтверждения данной гипотезы рекомендуется провести дополнительное исследование с учетом объемов кредитования в денежном выражении.*)\n",
    "\n",
    "Также рекомендуется обратить пристальное внимание на объемы кредитования. Так, например, объемы кредитования для групп с уровнем дохода категории А могут быть значительно выше и финансовые потери от \"невозврата\" или \"несовевременного возврата\" в абсолютном денежном выражении выше чем в случаях с заемщиками других категорий.(*Для подтверждения данной гипотезы рекомендуется провести дополнительное исследование.*)\n",
    "\n",
    "В исходных были пропуски в двух колонках \"days_employed\" и \"total_incomе\", количество пропусков одинаковое. Из этого можно сделать предположение, что пропуски имеют неслучайный характер. Данные из двух таблиц обычно ялвяются обязательными сведениями для оформления кредита, так как показывают финансовую состоятельность заемщика. Рекомендуется провести исследование и выяснить причинно-следственную связь пропусков, так как возможны нарушения регламента принятия решения по кредитованию, неправомерные действия со стороны сотрудников и/или заемщиков, несоотвесттвие банковской требований актуальным требованиям ЦБ по вопросам кредитования, технологические ошибки в системе и прочее.\n"
   ]
  }
 ],
 "metadata": {
  "ExecuteTimeLog": [
   {
    "duration": 50,
    "start_time": "2023-03-31T19:18:38.392Z"
   },
   {
    "duration": 804,
    "start_time": "2023-03-31T19:18:59.499Z"
   },
   {
    "duration": 22,
    "start_time": "2023-03-31T19:19:00.310Z"
   },
   {
    "duration": 27,
    "start_time": "2023-03-31T19:19:00.334Z"
   },
   {
    "duration": 84,
    "start_time": "2023-03-31T19:19:00.363Z"
   },
   {
    "duration": 98,
    "start_time": "2023-03-31T19:19:00.450Z"
   },
   {
    "duration": 5,
    "start_time": "2023-03-31T19:19:00.549Z"
   },
   {
    "duration": 65,
    "start_time": "2023-03-31T19:19:00.555Z"
   },
   {
    "duration": 33,
    "start_time": "2023-03-31T19:19:00.621Z"
   },
   {
    "duration": 70,
    "start_time": "2023-03-31T19:19:00.656Z"
   },
   {
    "duration": 25,
    "start_time": "2023-03-31T19:19:00.727Z"
   },
   {
    "duration": 96,
    "start_time": "2023-03-31T19:19:00.754Z"
   },
   {
    "duration": 12,
    "start_time": "2023-03-31T19:19:00.852Z"
   },
   {
    "duration": 48,
    "start_time": "2023-03-31T19:19:00.866Z"
   },
   {
    "duration": 24,
    "start_time": "2023-03-31T19:19:00.916Z"
   },
   {
    "duration": 83,
    "start_time": "2023-03-31T19:19:00.942Z"
   },
   {
    "duration": 31,
    "start_time": "2023-03-31T19:19:01.027Z"
   },
   {
    "duration": 4,
    "start_time": "2023-03-31T19:19:01.060Z"
   },
   {
    "duration": 84,
    "start_time": "2023-03-31T19:19:01.066Z"
   },
   {
    "duration": 30,
    "start_time": "2023-03-31T19:19:01.151Z"
   },
   {
    "duration": 36,
    "start_time": "2023-03-31T19:19:01.182Z"
   },
   {
    "duration": 40,
    "start_time": "2023-03-31T19:19:01.220Z"
   },
   {
    "duration": 59,
    "start_time": "2023-03-31T19:19:01.262Z"
   },
   {
    "duration": 28,
    "start_time": "2023-03-31T19:19:01.323Z"
   },
   {
    "duration": 10,
    "start_time": "2023-03-31T19:19:01.352Z"
   },
   {
    "duration": 54,
    "start_time": "2023-03-31T19:19:01.365Z"
   },
   {
    "duration": 7,
    "start_time": "2023-03-31T19:19:04.594Z"
   },
   {
    "duration": 7,
    "start_time": "2023-03-31T19:20:06.440Z"
   },
   {
    "duration": 6,
    "start_time": "2023-03-31T19:20:33.601Z"
   },
   {
    "duration": 16,
    "start_time": "2023-03-31T19:21:38.394Z"
   },
   {
    "duration": 11,
    "start_time": "2023-03-31T19:22:07.044Z"
   },
   {
    "duration": 105,
    "start_time": "2023-03-31T19:24:34.201Z"
   },
   {
    "duration": 7,
    "start_time": "2023-03-31T19:24:44.312Z"
   },
   {
    "duration": 1175,
    "start_time": "2023-03-31T19:33:19.564Z"
   },
   {
    "duration": 11,
    "start_time": "2023-03-31T19:50:07.158Z"
   },
   {
    "duration": 18,
    "start_time": "2023-03-31T19:50:45.775Z"
   },
   {
    "duration": 56,
    "start_time": "2023-03-31T19:50:55.969Z"
   },
   {
    "duration": 21,
    "start_time": "2023-03-31T19:52:42.427Z"
   },
   {
    "duration": 7,
    "start_time": "2023-03-31T19:56:15.694Z"
   },
   {
    "duration": 24,
    "start_time": "2023-03-31T19:56:43.066Z"
   },
   {
    "duration": 21,
    "start_time": "2023-03-31T19:56:57.670Z"
   },
   {
    "duration": 26,
    "start_time": "2023-03-31T19:57:16.159Z"
   },
   {
    "duration": 13,
    "start_time": "2023-03-31T19:59:41.599Z"
   },
   {
    "duration": 18,
    "start_time": "2023-03-31T20:02:06.626Z"
   },
   {
    "duration": 16,
    "start_time": "2023-03-31T20:04:24.165Z"
   },
   {
    "duration": 15,
    "start_time": "2023-03-31T20:05:28.725Z"
   },
   {
    "duration": 1198,
    "start_time": "2023-03-31T20:05:47.760Z"
   },
   {
    "duration": 51,
    "start_time": "2023-04-01T07:59:37.064Z"
   },
   {
    "duration": 680,
    "start_time": "2023-04-01T07:59:44.165Z"
   },
   {
    "duration": 24,
    "start_time": "2023-04-01T07:59:44.847Z"
   },
   {
    "duration": 17,
    "start_time": "2023-04-01T07:59:44.873Z"
   },
   {
    "duration": 12,
    "start_time": "2023-04-01T07:59:44.893Z"
   },
   {
    "duration": 38,
    "start_time": "2023-04-01T07:59:44.919Z"
   },
   {
    "duration": 4,
    "start_time": "2023-04-01T07:59:44.959Z"
   },
   {
    "duration": 16,
    "start_time": "2023-04-01T07:59:44.965Z"
   },
   {
    "duration": 21,
    "start_time": "2023-04-01T07:59:44.983Z"
   },
   {
    "duration": 49,
    "start_time": "2023-04-01T07:59:45.006Z"
   },
   {
    "duration": 17,
    "start_time": "2023-04-01T07:59:45.058Z"
   },
   {
    "duration": 49,
    "start_time": "2023-04-01T07:59:45.077Z"
   },
   {
    "duration": 12,
    "start_time": "2023-04-01T07:59:45.128Z"
   },
   {
    "duration": 16,
    "start_time": "2023-04-01T07:59:45.142Z"
   },
   {
    "duration": 26,
    "start_time": "2023-04-01T07:59:45.159Z"
   },
   {
    "duration": 29,
    "start_time": "2023-04-01T07:59:45.187Z"
   },
   {
    "duration": 16,
    "start_time": "2023-04-01T07:59:45.218Z"
   },
   {
    "duration": 8,
    "start_time": "2023-04-01T07:59:45.235Z"
   },
   {
    "duration": 32,
    "start_time": "2023-04-01T07:59:45.244Z"
   },
   {
    "duration": 8,
    "start_time": "2023-04-01T07:59:45.278Z"
   },
   {
    "duration": 16,
    "start_time": "2023-04-01T07:59:45.288Z"
   },
   {
    "duration": 24,
    "start_time": "2023-04-01T07:59:45.306Z"
   },
   {
    "duration": 12,
    "start_time": "2023-04-01T07:59:45.332Z"
   },
   {
    "duration": 10,
    "start_time": "2023-04-01T07:59:45.346Z"
   },
   {
    "duration": 28,
    "start_time": "2023-04-01T07:59:45.358Z"
   },
   {
    "duration": 11,
    "start_time": "2023-04-01T07:59:45.388Z"
   },
   {
    "duration": 69,
    "start_time": "2023-04-01T08:00:15.719Z"
   },
   {
    "duration": 11,
    "start_time": "2023-04-01T08:00:27.340Z"
   },
   {
    "duration": 8,
    "start_time": "2023-04-01T08:09:59.097Z"
   },
   {
    "duration": 8,
    "start_time": "2023-04-01T08:10:14.965Z"
   },
   {
    "duration": 9,
    "start_time": "2023-04-01T08:10:58.440Z"
   },
   {
    "duration": 523,
    "start_time": "2023-04-01T08:11:26.233Z"
   },
   {
    "duration": 27,
    "start_time": "2023-04-01T08:11:26.758Z"
   },
   {
    "duration": 44,
    "start_time": "2023-04-01T08:11:26.787Z"
   },
   {
    "duration": 15,
    "start_time": "2023-04-01T08:11:26.832Z"
   },
   {
    "duration": 40,
    "start_time": "2023-04-01T08:11:26.850Z"
   },
   {
    "duration": 9,
    "start_time": "2023-04-01T08:11:26.891Z"
   },
   {
    "duration": 36,
    "start_time": "2023-04-01T08:11:26.901Z"
   },
   {
    "duration": 10,
    "start_time": "2023-04-01T08:11:26.939Z"
   },
   {
    "duration": 18,
    "start_time": "2023-04-01T08:11:26.950Z"
   },
   {
    "duration": 31,
    "start_time": "2023-04-01T08:11:26.970Z"
   },
   {
    "duration": 61,
    "start_time": "2023-04-01T08:11:27.003Z"
   },
   {
    "duration": 9,
    "start_time": "2023-04-01T08:11:27.066Z"
   },
   {
    "duration": 38,
    "start_time": "2023-04-01T08:11:27.077Z"
   },
   {
    "duration": 38,
    "start_time": "2023-04-01T08:11:27.118Z"
   },
   {
    "duration": 42,
    "start_time": "2023-04-01T08:11:27.158Z"
   },
   {
    "duration": 26,
    "start_time": "2023-04-01T08:11:27.202Z"
   },
   {
    "duration": 24,
    "start_time": "2023-04-01T08:11:27.229Z"
   },
   {
    "duration": 30,
    "start_time": "2023-04-01T08:11:27.254Z"
   },
   {
    "duration": 29,
    "start_time": "2023-04-01T08:11:27.285Z"
   },
   {
    "duration": 23,
    "start_time": "2023-04-01T08:11:27.316Z"
   },
   {
    "duration": 17,
    "start_time": "2023-04-01T08:11:27.340Z"
   },
   {
    "duration": 81,
    "start_time": "2023-04-01T08:11:27.359Z"
   },
   {
    "duration": 0,
    "start_time": "2023-04-01T08:11:27.441Z"
   },
   {
    "duration": 0,
    "start_time": "2023-04-01T08:11:27.443Z"
   },
   {
    "duration": 0,
    "start_time": "2023-04-01T08:11:27.444Z"
   },
   {
    "duration": 7,
    "start_time": "2023-04-01T08:12:35.298Z"
   },
   {
    "duration": 12,
    "start_time": "2023-04-01T08:13:53.295Z"
   },
   {
    "duration": 17,
    "start_time": "2023-04-01T08:14:27.555Z"
   },
   {
    "duration": 1685,
    "start_time": "2023-04-01T08:18:45.344Z"
   },
   {
    "duration": 1528,
    "start_time": "2023-04-01T08:19:02.912Z"
   },
   {
    "duration": 1245,
    "start_time": "2023-04-01T08:19:18.960Z"
   },
   {
    "duration": 25,
    "start_time": "2023-04-01T08:20:05.005Z"
   },
   {
    "duration": 22,
    "start_time": "2023-04-01T08:23:10.899Z"
   },
   {
    "duration": 29,
    "start_time": "2023-04-01T08:25:50.006Z"
   },
   {
    "duration": 22,
    "start_time": "2023-04-01T08:26:41.241Z"
   },
   {
    "duration": 32,
    "start_time": "2023-04-01T08:29:12.806Z"
   },
   {
    "duration": 25,
    "start_time": "2023-04-01T08:29:18.353Z"
   },
   {
    "duration": 32,
    "start_time": "2023-04-01T08:29:24.700Z"
   },
   {
    "duration": 30,
    "start_time": "2023-04-01T08:29:32.957Z"
   },
   {
    "duration": 27,
    "start_time": "2023-04-01T08:30:46.957Z"
   },
   {
    "duration": 1361,
    "start_time": "2023-04-01T08:30:56.205Z"
   },
   {
    "duration": 27,
    "start_time": "2023-04-01T08:31:09.751Z"
   },
   {
    "duration": 50,
    "start_time": "2023-04-01T12:08:54.053Z"
   },
   {
    "duration": 554,
    "start_time": "2023-04-01T12:09:00.353Z"
   },
   {
    "duration": 20,
    "start_time": "2023-04-01T12:09:00.909Z"
   },
   {
    "duration": 20,
    "start_time": "2023-04-01T12:09:00.931Z"
   },
   {
    "duration": 16,
    "start_time": "2023-04-01T12:09:00.952Z"
   },
   {
    "duration": 42,
    "start_time": "2023-04-01T12:09:00.970Z"
   },
   {
    "duration": 3,
    "start_time": "2023-04-01T12:09:01.014Z"
   },
   {
    "duration": 37,
    "start_time": "2023-04-01T12:09:01.018Z"
   },
   {
    "duration": 28,
    "start_time": "2023-04-01T12:09:01.057Z"
   },
   {
    "duration": 21,
    "start_time": "2023-04-01T12:09:01.086Z"
   },
   {
    "duration": 4,
    "start_time": "2023-04-01T12:09:01.109Z"
   },
   {
    "duration": 46,
    "start_time": "2023-04-01T12:09:01.114Z"
   },
   {
    "duration": 11,
    "start_time": "2023-04-01T12:09:01.162Z"
   },
   {
    "duration": 22,
    "start_time": "2023-04-01T12:09:01.175Z"
   },
   {
    "duration": 24,
    "start_time": "2023-04-01T12:09:01.200Z"
   },
   {
    "duration": 33,
    "start_time": "2023-04-01T12:09:01.225Z"
   },
   {
    "duration": 14,
    "start_time": "2023-04-01T12:09:01.260Z"
   },
   {
    "duration": 3,
    "start_time": "2023-04-01T12:09:01.276Z"
   },
   {
    "duration": 33,
    "start_time": "2023-04-01T12:09:01.281Z"
   },
   {
    "duration": 6,
    "start_time": "2023-04-01T12:09:01.316Z"
   },
   {
    "duration": 8,
    "start_time": "2023-04-01T12:09:01.323Z"
   },
   {
    "duration": 37,
    "start_time": "2023-04-01T12:09:01.333Z"
   },
   {
    "duration": 56,
    "start_time": "2023-04-01T12:09:01.371Z"
   },
   {
    "duration": 25,
    "start_time": "2023-04-01T12:09:01.428Z"
   },
   {
    "duration": 2,
    "start_time": "2023-04-01T12:09:01.455Z"
   },
   {
    "duration": 41,
    "start_time": "2023-04-01T12:09:01.458Z"
   },
   {
    "duration": 76,
    "start_time": "2023-04-01T12:31:50.818Z"
   },
   {
    "duration": 458,
    "start_time": "2023-04-01T12:31:56.768Z"
   },
   {
    "duration": 21,
    "start_time": "2023-04-01T12:31:57.227Z"
   },
   {
    "duration": 13,
    "start_time": "2023-04-01T12:31:57.249Z"
   },
   {
    "duration": 16,
    "start_time": "2023-04-01T12:31:57.264Z"
   },
   {
    "duration": 31,
    "start_time": "2023-04-01T12:31:57.284Z"
   },
   {
    "duration": 3,
    "start_time": "2023-04-01T12:31:57.316Z"
   },
   {
    "duration": 8,
    "start_time": "2023-04-01T12:31:57.320Z"
   },
   {
    "duration": 3,
    "start_time": "2023-04-01T12:31:57.329Z"
   },
   {
    "duration": 8,
    "start_time": "2023-04-01T12:31:57.334Z"
   },
   {
    "duration": 4,
    "start_time": "2023-04-01T12:31:57.345Z"
   },
   {
    "duration": 51,
    "start_time": "2023-04-01T12:31:57.350Z"
   },
   {
    "duration": 8,
    "start_time": "2023-04-01T12:31:57.402Z"
   },
   {
    "duration": 6,
    "start_time": "2023-04-01T12:31:57.411Z"
   },
   {
    "duration": 12,
    "start_time": "2023-04-01T12:31:57.419Z"
   },
   {
    "duration": 51,
    "start_time": "2023-04-01T12:31:57.432Z"
   },
   {
    "duration": 17,
    "start_time": "2023-04-01T12:31:57.485Z"
   },
   {
    "duration": 3,
    "start_time": "2023-04-01T12:31:57.504Z"
   },
   {
    "duration": 11,
    "start_time": "2023-04-01T12:31:57.508Z"
   },
   {
    "duration": 5,
    "start_time": "2023-04-01T12:31:57.520Z"
   },
   {
    "duration": 3,
    "start_time": "2023-04-01T12:31:57.526Z"
   },
   {
    "duration": 13,
    "start_time": "2023-04-01T12:31:57.530Z"
   },
   {
    "duration": 51,
    "start_time": "2023-04-01T12:31:57.544Z"
   },
   {
    "duration": 26,
    "start_time": "2023-04-01T12:31:57.596Z"
   },
   {
    "duration": 74,
    "start_time": "2023-04-01T12:31:57.623Z"
   },
   {
    "duration": 0,
    "start_time": "2023-04-01T12:31:57.699Z"
   },
   {
    "duration": 18,
    "start_time": "2023-04-01T12:32:08.863Z"
   },
   {
    "duration": 48,
    "start_time": "2023-04-01T12:32:24.338Z"
   },
   {
    "duration": 14,
    "start_time": "2023-04-01T12:33:46.511Z"
   },
   {
    "duration": 16,
    "start_time": "2023-04-01T12:34:04.282Z"
   },
   {
    "duration": 26,
    "start_time": "2023-04-01T12:34:25.115Z"
   },
   {
    "duration": 27,
    "start_time": "2023-04-01T12:35:06.103Z"
   },
   {
    "duration": 53,
    "start_time": "2023-04-01T19:43:12.067Z"
   },
   {
    "duration": 734,
    "start_time": "2023-04-01T19:43:22.407Z"
   },
   {
    "duration": 22,
    "start_time": "2023-04-01T19:43:23.143Z"
   },
   {
    "duration": 14,
    "start_time": "2023-04-01T19:43:23.166Z"
   },
   {
    "duration": 9,
    "start_time": "2023-04-01T19:43:23.181Z"
   },
   {
    "duration": 47,
    "start_time": "2023-04-01T19:43:23.192Z"
   },
   {
    "duration": 4,
    "start_time": "2023-04-01T19:43:23.240Z"
   },
   {
    "duration": 15,
    "start_time": "2023-04-01T19:43:23.245Z"
   },
   {
    "duration": 5,
    "start_time": "2023-04-01T19:43:23.262Z"
   },
   {
    "duration": 13,
    "start_time": "2023-04-01T19:43:23.268Z"
   },
   {
    "duration": 27,
    "start_time": "2023-04-01T19:43:23.284Z"
   },
   {
    "duration": 36,
    "start_time": "2023-04-01T19:43:23.313Z"
   },
   {
    "duration": 9,
    "start_time": "2023-04-01T19:43:23.351Z"
   },
   {
    "duration": 12,
    "start_time": "2023-04-01T19:43:23.361Z"
   },
   {
    "duration": 14,
    "start_time": "2023-04-01T19:43:23.374Z"
   },
   {
    "duration": 23,
    "start_time": "2023-04-01T19:43:23.389Z"
   },
   {
    "duration": 28,
    "start_time": "2023-04-01T19:43:23.414Z"
   },
   {
    "duration": 3,
    "start_time": "2023-04-01T19:43:23.444Z"
   },
   {
    "duration": 13,
    "start_time": "2023-04-01T19:43:23.449Z"
   },
   {
    "duration": 9,
    "start_time": "2023-04-01T19:43:23.464Z"
   },
   {
    "duration": 6,
    "start_time": "2023-04-01T19:43:23.474Z"
   },
   {
    "duration": 15,
    "start_time": "2023-04-01T19:43:23.481Z"
   },
   {
    "duration": 43,
    "start_time": "2023-04-01T19:43:23.498Z"
   },
   {
    "duration": 29,
    "start_time": "2023-04-01T19:43:23.543Z"
   },
   {
    "duration": 30,
    "start_time": "2023-04-01T19:43:23.574Z"
   },
   {
    "duration": 96,
    "start_time": "2023-04-01T19:43:23.606Z"
   },
   {
    "duration": 32,
    "start_time": "2023-04-01T19:45:50.984Z"
   },
   {
    "duration": 32,
    "start_time": "2023-04-01T19:47:12.408Z"
   },
   {
    "duration": 613,
    "start_time": "2023-04-02T08:27:07.217Z"
   },
   {
    "duration": 36,
    "start_time": "2023-04-02T08:27:07.832Z"
   },
   {
    "duration": 15,
    "start_time": "2023-04-02T08:27:07.870Z"
   },
   {
    "duration": 14,
    "start_time": "2023-04-02T08:27:07.887Z"
   },
   {
    "duration": 58,
    "start_time": "2023-04-02T08:27:07.903Z"
   },
   {
    "duration": 4,
    "start_time": "2023-04-02T08:27:07.970Z"
   },
   {
    "duration": 12,
    "start_time": "2023-04-02T08:27:07.976Z"
   },
   {
    "duration": 4,
    "start_time": "2023-04-02T08:27:07.990Z"
   },
   {
    "duration": 7,
    "start_time": "2023-04-02T08:27:07.995Z"
   },
   {
    "duration": 5,
    "start_time": "2023-04-02T08:27:08.004Z"
   },
   {
    "duration": 47,
    "start_time": "2023-04-02T08:27:08.010Z"
   },
   {
    "duration": 18,
    "start_time": "2023-04-02T08:27:08.058Z"
   },
   {
    "duration": 3,
    "start_time": "2023-04-02T08:27:08.078Z"
   },
   {
    "duration": 11,
    "start_time": "2023-04-02T08:27:08.082Z"
   },
   {
    "duration": 18,
    "start_time": "2023-04-02T08:27:08.094Z"
   },
   {
    "duration": 52,
    "start_time": "2023-04-02T08:27:08.113Z"
   },
   {
    "duration": 4,
    "start_time": "2023-04-02T08:27:08.170Z"
   },
   {
    "duration": 10,
    "start_time": "2023-04-02T08:27:08.175Z"
   },
   {
    "duration": 8,
    "start_time": "2023-04-02T08:27:08.186Z"
   },
   {
    "duration": 3,
    "start_time": "2023-04-02T08:27:08.196Z"
   },
   {
    "duration": 12,
    "start_time": "2023-04-02T08:27:08.200Z"
   },
   {
    "duration": 52,
    "start_time": "2023-04-02T08:27:08.214Z"
   },
   {
    "duration": 28,
    "start_time": "2023-04-02T08:27:08.270Z"
   },
   {
    "duration": 27,
    "start_time": "2023-04-02T08:27:08.300Z"
   },
   {
    "duration": 46,
    "start_time": "2023-04-02T08:27:08.328Z"
   },
   {
    "duration": 550,
    "start_time": "2023-04-02T08:27:38.239Z"
   },
   {
    "duration": 22,
    "start_time": "2023-04-02T08:27:38.791Z"
   },
   {
    "duration": 14,
    "start_time": "2023-04-02T08:27:38.814Z"
   },
   {
    "duration": 59,
    "start_time": "2023-04-02T08:27:38.829Z"
   },
   {
    "duration": 38,
    "start_time": "2023-04-02T08:27:38.890Z"
   },
   {
    "duration": 4,
    "start_time": "2023-04-02T08:27:38.929Z"
   },
   {
    "duration": 39,
    "start_time": "2023-04-02T08:27:38.934Z"
   },
   {
    "duration": 8,
    "start_time": "2023-04-02T08:27:38.978Z"
   },
   {
    "duration": 10,
    "start_time": "2023-04-02T08:27:38.988Z"
   },
   {
    "duration": 8,
    "start_time": "2023-04-02T08:27:39.000Z"
   },
   {
    "duration": 53,
    "start_time": "2023-04-02T08:27:39.009Z"
   },
   {
    "duration": 18,
    "start_time": "2023-04-02T08:27:39.063Z"
   },
   {
    "duration": 4,
    "start_time": "2023-04-02T08:27:39.087Z"
   },
   {
    "duration": 29,
    "start_time": "2023-04-02T08:27:39.095Z"
   },
   {
    "duration": 52,
    "start_time": "2023-04-02T08:27:39.126Z"
   },
   {
    "duration": 25,
    "start_time": "2023-04-02T08:27:39.186Z"
   },
   {
    "duration": 4,
    "start_time": "2023-04-02T08:27:39.213Z"
   },
   {
    "duration": 14,
    "start_time": "2023-04-02T08:27:39.219Z"
   },
   {
    "duration": 31,
    "start_time": "2023-04-02T08:27:39.234Z"
   },
   {
    "duration": 5,
    "start_time": "2023-04-02T08:27:39.274Z"
   },
   {
    "duration": 10,
    "start_time": "2023-04-02T08:27:39.287Z"
   },
   {
    "duration": 29,
    "start_time": "2023-04-02T08:27:39.299Z"
   },
   {
    "duration": 53,
    "start_time": "2023-04-02T08:27:39.330Z"
   },
   {
    "duration": 45,
    "start_time": "2023-04-02T08:27:39.385Z"
   },
   {
    "duration": 41,
    "start_time": "2023-04-02T08:27:39.432Z"
   },
   {
    "duration": 485,
    "start_time": "2023-04-02T08:41:42.225Z"
   },
   {
    "duration": 19,
    "start_time": "2023-04-02T08:41:42.712Z"
   },
   {
    "duration": 28,
    "start_time": "2023-04-02T08:41:42.733Z"
   },
   {
    "duration": 9,
    "start_time": "2023-04-02T08:41:42.763Z"
   },
   {
    "duration": 37,
    "start_time": "2023-04-02T08:41:42.773Z"
   },
   {
    "duration": 3,
    "start_time": "2023-04-02T08:41:42.811Z"
   },
   {
    "duration": 8,
    "start_time": "2023-04-02T08:41:42.816Z"
   },
   {
    "duration": 4,
    "start_time": "2023-04-02T08:41:42.825Z"
   },
   {
    "duration": 26,
    "start_time": "2023-04-02T08:41:42.831Z"
   },
   {
    "duration": 4,
    "start_time": "2023-04-02T08:41:42.864Z"
   },
   {
    "duration": 32,
    "start_time": "2023-04-02T08:41:42.870Z"
   },
   {
    "duration": 10,
    "start_time": "2023-04-02T08:41:42.903Z"
   },
   {
    "duration": 3,
    "start_time": "2023-04-02T08:41:42.915Z"
   },
   {
    "duration": 26,
    "start_time": "2023-04-02T08:41:42.919Z"
   },
   {
    "duration": 32,
    "start_time": "2023-04-02T08:41:42.946Z"
   },
   {
    "duration": 16,
    "start_time": "2023-04-02T08:41:42.980Z"
   },
   {
    "duration": 3,
    "start_time": "2023-04-02T08:41:42.998Z"
   },
   {
    "duration": 13,
    "start_time": "2023-04-02T08:41:43.002Z"
   },
   {
    "duration": 6,
    "start_time": "2023-04-02T08:41:43.016Z"
   },
   {
    "duration": 4,
    "start_time": "2023-04-02T08:41:43.023Z"
   },
   {
    "duration": 29,
    "start_time": "2023-04-02T08:41:43.028Z"
   },
   {
    "duration": 30,
    "start_time": "2023-04-02T08:41:43.066Z"
   },
   {
    "duration": 27,
    "start_time": "2023-04-02T08:41:43.098Z"
   },
   {
    "duration": 49,
    "start_time": "2023-04-02T08:41:43.126Z"
   },
   {
    "duration": 31,
    "start_time": "2023-04-02T08:41:43.177Z"
   },
   {
    "duration": 502,
    "start_time": "2023-04-02T11:13:10.375Z"
   },
   {
    "duration": 23,
    "start_time": "2023-04-02T11:13:10.881Z"
   },
   {
    "duration": 13,
    "start_time": "2023-04-02T11:13:10.906Z"
   },
   {
    "duration": 10,
    "start_time": "2023-04-02T11:13:10.921Z"
   },
   {
    "duration": 53,
    "start_time": "2023-04-02T11:13:10.933Z"
   },
   {
    "duration": 4,
    "start_time": "2023-04-02T11:13:10.987Z"
   },
   {
    "duration": 9,
    "start_time": "2023-04-02T11:13:10.992Z"
   },
   {
    "duration": 4,
    "start_time": "2023-04-02T11:13:11.002Z"
   },
   {
    "duration": 7,
    "start_time": "2023-04-02T11:13:11.007Z"
   },
   {
    "duration": 4,
    "start_time": "2023-04-02T11:13:11.016Z"
   },
   {
    "duration": 68,
    "start_time": "2023-04-02T11:13:11.021Z"
   },
   {
    "duration": 11,
    "start_time": "2023-04-02T11:13:11.091Z"
   },
   {
    "duration": 3,
    "start_time": "2023-04-02T11:13:11.104Z"
   },
   {
    "duration": 12,
    "start_time": "2023-04-02T11:13:11.111Z"
   },
   {
    "duration": 52,
    "start_time": "2023-04-02T11:13:11.124Z"
   },
   {
    "duration": 23,
    "start_time": "2023-04-02T11:13:11.177Z"
   },
   {
    "duration": 3,
    "start_time": "2023-04-02T11:13:11.202Z"
   },
   {
    "duration": 18,
    "start_time": "2023-04-02T11:13:11.206Z"
   },
   {
    "duration": 6,
    "start_time": "2023-04-02T11:13:11.225Z"
   },
   {
    "duration": 22,
    "start_time": "2023-04-02T11:13:11.232Z"
   },
   {
    "duration": 19,
    "start_time": "2023-04-02T11:13:11.266Z"
   },
   {
    "duration": 29,
    "start_time": "2023-04-02T11:13:11.287Z"
   },
   {
    "duration": 36,
    "start_time": "2023-04-02T11:13:11.318Z"
   },
   {
    "duration": 49,
    "start_time": "2023-04-02T11:13:11.355Z"
   },
   {
    "duration": 30,
    "start_time": "2023-04-02T11:13:11.405Z"
   },
   {
    "duration": 504,
    "start_time": "2023-04-02T11:13:42.932Z"
   },
   {
    "duration": 49,
    "start_time": "2023-04-02T11:13:43.438Z"
   },
   {
    "duration": 14,
    "start_time": "2023-04-02T11:13:43.488Z"
   },
   {
    "duration": 9,
    "start_time": "2023-04-02T11:13:43.504Z"
   },
   {
    "duration": 46,
    "start_time": "2023-04-02T11:13:43.514Z"
   },
   {
    "duration": 6,
    "start_time": "2023-04-02T11:13:43.561Z"
   },
   {
    "duration": 26,
    "start_time": "2023-04-02T11:13:43.569Z"
   },
   {
    "duration": 5,
    "start_time": "2023-04-02T11:13:43.596Z"
   },
   {
    "duration": 6,
    "start_time": "2023-04-02T11:13:43.602Z"
   },
   {
    "duration": 6,
    "start_time": "2023-04-02T11:13:43.610Z"
   },
   {
    "duration": 55,
    "start_time": "2023-04-02T11:13:43.617Z"
   },
   {
    "duration": 10,
    "start_time": "2023-04-02T11:13:43.682Z"
   },
   {
    "duration": 3,
    "start_time": "2023-04-02T11:13:43.694Z"
   },
   {
    "duration": 14,
    "start_time": "2023-04-02T11:13:43.698Z"
   },
   {
    "duration": 60,
    "start_time": "2023-04-02T11:13:43.713Z"
   },
   {
    "duration": 18,
    "start_time": "2023-04-02T11:13:43.782Z"
   },
   {
    "duration": 3,
    "start_time": "2023-04-02T11:13:43.801Z"
   },
   {
    "duration": 12,
    "start_time": "2023-04-02T11:13:43.806Z"
   },
   {
    "duration": 8,
    "start_time": "2023-04-02T11:13:43.820Z"
   },
   {
    "duration": 4,
    "start_time": "2023-04-02T11:13:43.830Z"
   },
   {
    "duration": 50,
    "start_time": "2023-04-02T11:13:43.835Z"
   },
   {
    "duration": 29,
    "start_time": "2023-04-02T11:13:43.887Z"
   },
   {
    "duration": 44,
    "start_time": "2023-04-02T11:13:43.917Z"
   },
   {
    "duration": 30,
    "start_time": "2023-04-02T11:13:43.972Z"
   },
   {
    "duration": 28,
    "start_time": "2023-04-02T11:13:44.004Z"
   },
   {
    "duration": 557,
    "start_time": "2023-04-02T11:13:55.974Z"
   },
   {
    "duration": 37,
    "start_time": "2023-04-02T11:13:56.534Z"
   },
   {
    "duration": 18,
    "start_time": "2023-04-02T11:13:56.572Z"
   },
   {
    "duration": 11,
    "start_time": "2023-04-02T11:13:56.592Z"
   },
   {
    "duration": 49,
    "start_time": "2023-04-02T11:13:56.605Z"
   },
   {
    "duration": 2,
    "start_time": "2023-04-02T11:13:56.656Z"
   },
   {
    "duration": 17,
    "start_time": "2023-04-02T11:13:56.660Z"
   },
   {
    "duration": 11,
    "start_time": "2023-04-02T11:13:56.678Z"
   },
   {
    "duration": 8,
    "start_time": "2023-04-02T11:13:56.692Z"
   },
   {
    "duration": 5,
    "start_time": "2023-04-02T11:13:56.702Z"
   },
   {
    "duration": 72,
    "start_time": "2023-04-02T11:13:56.709Z"
   },
   {
    "duration": 15,
    "start_time": "2023-04-02T11:13:56.783Z"
   },
   {
    "duration": 6,
    "start_time": "2023-04-02T11:13:56.800Z"
   },
   {
    "duration": 12,
    "start_time": "2023-04-02T11:13:56.809Z"
   },
   {
    "duration": 35,
    "start_time": "2023-04-02T11:13:56.822Z"
   },
   {
    "duration": 30,
    "start_time": "2023-04-02T11:13:56.866Z"
   },
   {
    "duration": 4,
    "start_time": "2023-04-02T11:13:56.898Z"
   },
   {
    "duration": 11,
    "start_time": "2023-04-02T11:13:56.903Z"
   },
   {
    "duration": 7,
    "start_time": "2023-04-02T11:13:56.916Z"
   },
   {
    "duration": 4,
    "start_time": "2023-04-02T11:13:56.926Z"
   },
   {
    "duration": 33,
    "start_time": "2023-04-02T11:13:56.932Z"
   },
   {
    "duration": 41,
    "start_time": "2023-04-02T11:13:56.968Z"
   },
   {
    "duration": 54,
    "start_time": "2023-04-02T11:13:57.011Z"
   },
   {
    "duration": 36,
    "start_time": "2023-04-02T11:13:57.067Z"
   },
   {
    "duration": 31,
    "start_time": "2023-04-02T11:13:57.106Z"
   },
   {
    "duration": 541,
    "start_time": "2023-04-02T11:22:50.219Z"
   },
   {
    "duration": 36,
    "start_time": "2023-04-02T11:22:50.773Z"
   },
   {
    "duration": 17,
    "start_time": "2023-04-02T11:22:50.811Z"
   },
   {
    "duration": 18,
    "start_time": "2023-04-02T11:22:50.831Z"
   },
   {
    "duration": 82,
    "start_time": "2023-04-02T11:22:50.856Z"
   },
   {
    "duration": 16,
    "start_time": "2023-04-02T11:22:50.941Z"
   },
   {
    "duration": 57,
    "start_time": "2023-04-02T11:22:50.962Z"
   },
   {
    "duration": 15,
    "start_time": "2023-04-02T11:22:51.021Z"
   },
   {
    "duration": 89,
    "start_time": "2023-04-02T11:22:51.038Z"
   },
   {
    "duration": 61,
    "start_time": "2023-04-02T11:22:51.129Z"
   },
   {
    "duration": 90,
    "start_time": "2023-04-02T11:22:51.192Z"
   },
   {
    "duration": 30,
    "start_time": "2023-04-02T11:22:51.284Z"
   },
   {
    "duration": 8,
    "start_time": "2023-04-02T11:22:51.317Z"
   },
   {
    "duration": 24,
    "start_time": "2023-04-02T11:22:51.329Z"
   },
   {
    "duration": 75,
    "start_time": "2023-04-02T11:22:51.356Z"
   },
   {
    "duration": 44,
    "start_time": "2023-04-02T11:22:51.434Z"
   },
   {
    "duration": 23,
    "start_time": "2023-04-02T11:22:51.483Z"
   },
   {
    "duration": 16,
    "start_time": "2023-04-02T11:22:51.508Z"
   },
   {
    "duration": 14,
    "start_time": "2023-04-02T11:22:51.526Z"
   },
   {
    "duration": 39,
    "start_time": "2023-04-02T11:22:51.553Z"
   },
   {
    "duration": 16,
    "start_time": "2023-04-02T11:22:51.597Z"
   },
   {
    "duration": 53,
    "start_time": "2023-04-02T11:22:51.615Z"
   },
   {
    "duration": 94,
    "start_time": "2023-04-02T11:22:51.672Z"
   },
   {
    "duration": 82,
    "start_time": "2023-04-02T11:22:51.772Z"
   },
   {
    "duration": 60,
    "start_time": "2023-04-02T11:22:51.862Z"
   },
   {
    "duration": 32,
    "start_time": "2023-04-02T12:07:04.798Z"
   },
   {
    "duration": 31,
    "start_time": "2023-04-02T12:07:15.262Z"
   },
   {
    "duration": 27,
    "start_time": "2023-04-02T12:07:24.281Z"
   },
   {
    "duration": 568,
    "start_time": "2023-04-02T12:09:20.768Z"
   },
   {
    "duration": 38,
    "start_time": "2023-04-02T12:09:21.338Z"
   },
   {
    "duration": 19,
    "start_time": "2023-04-02T12:09:21.378Z"
   },
   {
    "duration": 14,
    "start_time": "2023-04-02T12:09:21.399Z"
   },
   {
    "duration": 81,
    "start_time": "2023-04-02T12:09:21.415Z"
   },
   {
    "duration": 4,
    "start_time": "2023-04-02T12:09:21.498Z"
   },
   {
    "duration": 13,
    "start_time": "2023-04-02T12:09:21.503Z"
   },
   {
    "duration": 5,
    "start_time": "2023-04-02T12:09:21.518Z"
   },
   {
    "duration": 36,
    "start_time": "2023-04-02T12:09:21.525Z"
   },
   {
    "duration": 6,
    "start_time": "2023-04-02T12:09:21.566Z"
   },
   {
    "duration": 52,
    "start_time": "2023-04-02T12:09:21.574Z"
   },
   {
    "duration": 27,
    "start_time": "2023-04-02T12:09:21.628Z"
   },
   {
    "duration": 5,
    "start_time": "2023-04-02T12:09:21.657Z"
   },
   {
    "duration": 18,
    "start_time": "2023-04-02T12:09:21.666Z"
   },
   {
    "duration": 27,
    "start_time": "2023-04-02T12:09:21.686Z"
   },
   {
    "duration": 50,
    "start_time": "2023-04-02T12:09:21.715Z"
   },
   {
    "duration": 4,
    "start_time": "2023-04-02T12:09:21.768Z"
   },
   {
    "duration": 17,
    "start_time": "2023-04-02T12:09:21.774Z"
   },
   {
    "duration": 8,
    "start_time": "2023-04-02T12:09:21.793Z"
   },
   {
    "duration": 4,
    "start_time": "2023-04-02T12:09:21.803Z"
   },
   {
    "duration": 36,
    "start_time": "2023-04-02T12:09:21.809Z"
   },
   {
    "duration": 48,
    "start_time": "2023-04-02T12:09:21.847Z"
   },
   {
    "duration": 63,
    "start_time": "2023-04-02T12:09:21.897Z"
   },
   {
    "duration": 44,
    "start_time": "2023-04-02T12:09:21.963Z"
   },
   {
    "duration": 45,
    "start_time": "2023-04-02T12:09:22.009Z"
   },
   {
    "duration": 466,
    "start_time": "2023-04-02T12:10:10.003Z"
   },
   {
    "duration": 29,
    "start_time": "2023-04-02T12:10:10.471Z"
   },
   {
    "duration": 52,
    "start_time": "2023-04-02T12:10:10.502Z"
   },
   {
    "duration": 15,
    "start_time": "2023-04-02T12:10:10.568Z"
   },
   {
    "duration": 64,
    "start_time": "2023-04-02T12:10:10.585Z"
   },
   {
    "duration": 5,
    "start_time": "2023-04-02T12:10:10.658Z"
   },
   {
    "duration": 15,
    "start_time": "2023-04-02T12:10:10.664Z"
   },
   {
    "duration": 11,
    "start_time": "2023-04-02T12:10:10.681Z"
   },
   {
    "duration": 14,
    "start_time": "2023-04-02T12:10:10.693Z"
   },
   {
    "duration": 4,
    "start_time": "2023-04-02T12:10:10.710Z"
   },
   {
    "duration": 66,
    "start_time": "2023-04-02T12:10:10.716Z"
   },
   {
    "duration": 14,
    "start_time": "2023-04-02T12:10:10.784Z"
   },
   {
    "duration": 6,
    "start_time": "2023-04-02T12:10:10.799Z"
   },
   {
    "duration": 13,
    "start_time": "2023-04-02T12:10:10.807Z"
   },
   {
    "duration": 44,
    "start_time": "2023-04-02T12:10:10.822Z"
   },
   {
    "duration": 26,
    "start_time": "2023-04-02T12:10:10.868Z"
   },
   {
    "duration": 4,
    "start_time": "2023-04-02T12:10:10.896Z"
   },
   {
    "duration": 11,
    "start_time": "2023-04-02T12:10:10.902Z"
   },
   {
    "duration": 7,
    "start_time": "2023-04-02T12:10:10.914Z"
   },
   {
    "duration": 13,
    "start_time": "2023-04-02T12:10:10.945Z"
   },
   {
    "duration": 16,
    "start_time": "2023-04-02T12:10:10.960Z"
   },
   {
    "duration": 40,
    "start_time": "2023-04-02T12:10:10.978Z"
   },
   {
    "duration": 45,
    "start_time": "2023-04-02T12:10:11.020Z"
   },
   {
    "duration": 29,
    "start_time": "2023-04-02T12:10:11.067Z"
   },
   {
    "duration": 64,
    "start_time": "2023-04-02T12:10:11.098Z"
   },
   {
    "duration": 509,
    "start_time": "2023-04-02T12:10:35.393Z"
   },
   {
    "duration": 30,
    "start_time": "2023-04-02T12:10:35.904Z"
   },
   {
    "duration": 27,
    "start_time": "2023-04-02T12:10:35.935Z"
   },
   {
    "duration": 11,
    "start_time": "2023-04-02T12:10:35.963Z"
   },
   {
    "duration": 34,
    "start_time": "2023-04-02T12:10:35.975Z"
   },
   {
    "duration": 4,
    "start_time": "2023-04-02T12:10:36.010Z"
   },
   {
    "duration": 30,
    "start_time": "2023-04-02T12:10:36.015Z"
   },
   {
    "duration": 18,
    "start_time": "2023-04-02T12:10:36.046Z"
   },
   {
    "duration": 11,
    "start_time": "2023-04-02T12:10:36.066Z"
   },
   {
    "duration": 5,
    "start_time": "2023-04-02T12:10:36.078Z"
   },
   {
    "duration": 32,
    "start_time": "2023-04-02T12:10:36.084Z"
   },
   {
    "duration": 9,
    "start_time": "2023-04-02T12:10:36.118Z"
   },
   {
    "duration": 25,
    "start_time": "2023-04-02T12:10:36.128Z"
   },
   {
    "duration": 18,
    "start_time": "2023-04-02T12:10:36.156Z"
   },
   {
    "duration": 29,
    "start_time": "2023-04-02T12:10:36.175Z"
   },
   {
    "duration": 18,
    "start_time": "2023-04-02T12:10:36.206Z"
   },
   {
    "duration": 3,
    "start_time": "2023-04-02T12:10:36.226Z"
   },
   {
    "duration": 15,
    "start_time": "2023-04-02T12:10:36.246Z"
   },
   {
    "duration": 30,
    "start_time": "2023-04-02T12:10:36.263Z"
   },
   {
    "duration": 7,
    "start_time": "2023-04-02T12:10:36.295Z"
   },
   {
    "duration": 14,
    "start_time": "2023-04-02T12:10:36.304Z"
   },
   {
    "duration": 49,
    "start_time": "2023-04-02T12:10:36.320Z"
   },
   {
    "duration": 29,
    "start_time": "2023-04-02T12:10:36.371Z"
   },
   {
    "duration": 59,
    "start_time": "2023-04-02T12:10:36.401Z"
   },
   {
    "duration": 28,
    "start_time": "2023-04-02T12:10:36.462Z"
   },
   {
    "duration": 45,
    "start_time": "2023-04-02T12:19:09.878Z"
   },
   {
    "duration": 98,
    "start_time": "2023-04-02T12:19:21.513Z"
   },
   {
    "duration": 454,
    "start_time": "2023-04-02T12:19:39.456Z"
   },
   {
    "duration": 23,
    "start_time": "2023-04-02T12:19:39.912Z"
   },
   {
    "duration": 18,
    "start_time": "2023-04-02T12:19:39.936Z"
   },
   {
    "duration": 10,
    "start_time": "2023-04-02T12:19:39.956Z"
   },
   {
    "duration": 29,
    "start_time": "2023-04-02T12:19:39.967Z"
   },
   {
    "duration": 3,
    "start_time": "2023-04-02T12:19:39.998Z"
   },
   {
    "duration": 8,
    "start_time": "2023-04-02T12:19:40.003Z"
   },
   {
    "duration": 33,
    "start_time": "2023-04-02T12:19:40.012Z"
   },
   {
    "duration": 9,
    "start_time": "2023-04-02T12:19:40.046Z"
   },
   {
    "duration": 5,
    "start_time": "2023-04-02T12:19:40.058Z"
   },
   {
    "duration": 29,
    "start_time": "2023-04-02T12:19:40.065Z"
   },
   {
    "duration": 9,
    "start_time": "2023-04-02T12:19:40.096Z"
   },
   {
    "duration": 3,
    "start_time": "2023-04-02T12:19:40.107Z"
   },
   {
    "duration": 44,
    "start_time": "2023-04-02T12:19:40.111Z"
   },
   {
    "duration": 18,
    "start_time": "2023-04-02T12:19:40.157Z"
   },
   {
    "duration": 16,
    "start_time": "2023-04-02T12:19:40.177Z"
   },
   {
    "duration": 3,
    "start_time": "2023-04-02T12:19:40.194Z"
   },
   {
    "duration": 10,
    "start_time": "2023-04-02T12:19:40.199Z"
   },
   {
    "duration": 7,
    "start_time": "2023-04-02T12:19:40.210Z"
   },
   {
    "duration": 22,
    "start_time": "2023-04-02T12:19:40.218Z"
   },
   {
    "duration": 15,
    "start_time": "2023-04-02T12:19:40.241Z"
   },
   {
    "duration": 124,
    "start_time": "2023-04-02T12:19:40.257Z"
   },
   {
    "duration": 0,
    "start_time": "2023-04-02T12:19:40.383Z"
   },
   {
    "duration": 0,
    "start_time": "2023-04-02T12:19:40.385Z"
   },
   {
    "duration": 0,
    "start_time": "2023-04-02T12:19:40.386Z"
   },
   {
    "duration": 760,
    "start_time": "2023-04-02T12:22:09.660Z"
   },
   {
    "duration": 797,
    "start_time": "2023-04-02T12:24:16.256Z"
   },
   {
    "duration": 814,
    "start_time": "2023-04-02T12:25:17.924Z"
   },
   {
    "duration": 34,
    "start_time": "2023-04-02T12:26:14.472Z"
   },
   {
    "duration": 673,
    "start_time": "2023-04-02T12:27:43.273Z"
   },
   {
    "duration": 742,
    "start_time": "2023-04-02T12:28:30.075Z"
   },
   {
    "duration": 721,
    "start_time": "2023-04-02T12:30:23.847Z"
   },
   {
    "duration": 45,
    "start_time": "2023-04-02T12:32:29.387Z"
   },
   {
    "duration": 44,
    "start_time": "2023-04-02T12:32:40.092Z"
   },
   {
    "duration": 55,
    "start_time": "2023-04-02T12:33:21.036Z"
   },
   {
    "duration": 79,
    "start_time": "2023-04-02T12:36:17.579Z"
   },
   {
    "duration": 60,
    "start_time": "2023-04-02T12:38:47.824Z"
   },
   {
    "duration": 59,
    "start_time": "2023-04-02T12:49:53.004Z"
   },
   {
    "duration": 32,
    "start_time": "2023-04-02T12:51:35.804Z"
   },
   {
    "duration": 27,
    "start_time": "2023-04-02T12:52:04.559Z"
   },
   {
    "duration": 34,
    "start_time": "2023-04-02T12:54:58.186Z"
   },
   {
    "duration": 408,
    "start_time": "2023-04-02T13:01:58.093Z"
   },
   {
    "duration": 22,
    "start_time": "2023-04-02T13:01:58.503Z"
   },
   {
    "duration": 17,
    "start_time": "2023-04-02T13:01:58.526Z"
   },
   {
    "duration": 12,
    "start_time": "2023-04-02T13:01:58.545Z"
   },
   {
    "duration": 29,
    "start_time": "2023-04-02T13:01:58.558Z"
   },
   {
    "duration": 3,
    "start_time": "2023-04-02T13:01:58.589Z"
   },
   {
    "duration": 10,
    "start_time": "2023-04-02T13:01:58.593Z"
   },
   {
    "duration": 4,
    "start_time": "2023-04-02T13:01:58.604Z"
   },
   {
    "duration": 30,
    "start_time": "2023-04-02T13:01:58.610Z"
   },
   {
    "duration": 4,
    "start_time": "2023-04-02T13:01:58.641Z"
   },
   {
    "duration": 31,
    "start_time": "2023-04-02T13:01:58.647Z"
   },
   {
    "duration": 8,
    "start_time": "2023-04-02T13:01:58.680Z"
   },
   {
    "duration": 4,
    "start_time": "2023-04-02T13:01:58.689Z"
   },
   {
    "duration": 10,
    "start_time": "2023-04-02T13:01:58.695Z"
   },
   {
    "duration": 48,
    "start_time": "2023-04-02T13:01:58.707Z"
   },
   {
    "duration": 16,
    "start_time": "2023-04-02T13:01:58.756Z"
   },
   {
    "duration": 3,
    "start_time": "2023-04-02T13:01:58.773Z"
   },
   {
    "duration": 20,
    "start_time": "2023-04-02T13:01:58.777Z"
   },
   {
    "duration": 8,
    "start_time": "2023-04-02T13:01:58.798Z"
   },
   {
    "duration": 5,
    "start_time": "2023-04-02T13:01:58.807Z"
   },
   {
    "duration": 10,
    "start_time": "2023-04-02T13:01:58.813Z"
   },
   {
    "duration": 69,
    "start_time": "2023-04-02T13:01:58.825Z"
   },
   {
    "duration": 29,
    "start_time": "2023-04-02T13:01:58.896Z"
   },
   {
    "duration": 39,
    "start_time": "2023-04-02T13:01:58.926Z"
   },
   {
    "duration": 29,
    "start_time": "2023-04-02T13:01:58.966Z"
   },
   {
    "duration": 48,
    "start_time": "2023-04-02T13:01:58.996Z"
   },
   {
    "duration": 461,
    "start_time": "2023-04-02T13:02:19.123Z"
   },
   {
    "duration": 21,
    "start_time": "2023-04-02T13:02:19.586Z"
   },
   {
    "duration": 13,
    "start_time": "2023-04-02T13:02:19.608Z"
   },
   {
    "duration": 21,
    "start_time": "2023-04-02T13:02:19.622Z"
   },
   {
    "duration": 30,
    "start_time": "2023-04-02T13:02:19.645Z"
   },
   {
    "duration": 3,
    "start_time": "2023-04-02T13:02:19.676Z"
   },
   {
    "duration": 11,
    "start_time": "2023-04-02T13:02:19.680Z"
   },
   {
    "duration": 4,
    "start_time": "2023-04-02T13:02:19.692Z"
   },
   {
    "duration": 8,
    "start_time": "2023-04-02T13:02:19.697Z"
   },
   {
    "duration": 3,
    "start_time": "2023-04-02T13:02:19.707Z"
   },
   {
    "duration": 54,
    "start_time": "2023-04-02T13:02:19.712Z"
   },
   {
    "duration": 8,
    "start_time": "2023-04-02T13:02:19.768Z"
   },
   {
    "duration": 4,
    "start_time": "2023-04-02T13:02:19.777Z"
   },
   {
    "duration": 12,
    "start_time": "2023-04-02T13:02:19.782Z"
   },
   {
    "duration": 44,
    "start_time": "2023-04-02T13:02:19.796Z"
   },
   {
    "duration": 18,
    "start_time": "2023-04-02T13:02:19.842Z"
   },
   {
    "duration": 5,
    "start_time": "2023-04-02T13:02:19.862Z"
   },
   {
    "duration": 12,
    "start_time": "2023-04-02T13:02:19.869Z"
   },
   {
    "duration": 5,
    "start_time": "2023-04-02T13:02:19.883Z"
   },
   {
    "duration": 3,
    "start_time": "2023-04-02T13:02:19.890Z"
   },
   {
    "duration": 11,
    "start_time": "2023-04-02T13:02:19.894Z"
   },
   {
    "duration": 89,
    "start_time": "2023-04-02T13:02:19.907Z"
   },
   {
    "duration": 44,
    "start_time": "2023-04-02T13:02:19.998Z"
   },
   {
    "duration": 33,
    "start_time": "2023-04-02T13:02:20.044Z"
   },
   {
    "duration": 32,
    "start_time": "2023-04-02T13:02:20.079Z"
   },
   {
    "duration": 476,
    "start_time": "2023-04-02T13:05:18.707Z"
   },
   {
    "duration": 21,
    "start_time": "2023-04-02T13:05:19.185Z"
   },
   {
    "duration": 23,
    "start_time": "2023-04-02T13:05:19.207Z"
   },
   {
    "duration": 12,
    "start_time": "2023-04-02T13:05:19.231Z"
   },
   {
    "duration": 28,
    "start_time": "2023-04-02T13:05:19.244Z"
   },
   {
    "duration": 3,
    "start_time": "2023-04-02T13:05:19.274Z"
   },
   {
    "duration": 22,
    "start_time": "2023-04-02T13:05:19.278Z"
   },
   {
    "duration": 4,
    "start_time": "2023-04-02T13:05:19.301Z"
   },
   {
    "duration": 20,
    "start_time": "2023-04-02T13:05:19.306Z"
   },
   {
    "duration": 4,
    "start_time": "2023-04-02T13:05:19.328Z"
   },
   {
    "duration": 45,
    "start_time": "2023-04-02T13:05:19.333Z"
   },
   {
    "duration": 8,
    "start_time": "2023-04-02T13:05:19.380Z"
   },
   {
    "duration": 11,
    "start_time": "2023-04-02T13:05:19.389Z"
   },
   {
    "duration": 17,
    "start_time": "2023-04-02T13:05:19.401Z"
   },
   {
    "duration": 22,
    "start_time": "2023-04-02T13:05:19.419Z"
   },
   {
    "duration": 15,
    "start_time": "2023-04-02T13:05:19.442Z"
   },
   {
    "duration": 7,
    "start_time": "2023-04-02T13:05:19.459Z"
   },
   {
    "duration": 21,
    "start_time": "2023-04-02T13:05:19.467Z"
   },
   {
    "duration": 9,
    "start_time": "2023-04-02T13:05:19.489Z"
   },
   {
    "duration": 9,
    "start_time": "2023-04-02T13:05:19.499Z"
   },
   {
    "duration": 24,
    "start_time": "2023-04-02T13:05:19.509Z"
   },
   {
    "duration": 60,
    "start_time": "2023-04-02T13:05:19.535Z"
   },
   {
    "duration": 29,
    "start_time": "2023-04-02T13:05:19.596Z"
   },
   {
    "duration": 37,
    "start_time": "2023-04-02T13:05:19.626Z"
   },
   {
    "duration": 31,
    "start_time": "2023-04-02T13:05:19.664Z"
   }
  ],
  "colab": {
   "provenance": []
  },
  "kernelspec": {
   "display_name": "Python 3 (ipykernel)",
   "language": "python",
   "name": "python3"
  },
  "language_info": {
   "codemirror_mode": {
    "name": "ipython",
    "version": 3
   },
   "file_extension": ".py",
   "mimetype": "text/x-python",
   "name": "python",
   "nbconvert_exporter": "python",
   "pygments_lexer": "ipython3",
   "version": "3.10.9"
  },
  "toc": {
   "base_numbering": 1,
   "nav_menu": {},
   "number_sections": true,
   "sideBar": true,
   "skip_h1_title": true,
   "title_cell": "Table of Contents",
   "title_sidebar": "Contents",
   "toc_cell": false,
   "toc_position": {},
   "toc_section_display": true,
   "toc_window_display": false
  }
 },
 "nbformat": 4,
 "nbformat_minor": 5
}
