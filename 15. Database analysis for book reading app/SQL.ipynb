{
 "cells": [
  {
   "cell_type": "markdown",
   "metadata": {
    "id": "lDmksGGdWQv6"
   },
   "source": [
    "# Анализ базы данных для стартапа сервис для чтения книг по подписке"
   ]
  },
  {
   "cell_type": "markdown",
   "metadata": {
    "id": "O2rj5ZXjWBoI"
   },
   "source": [
    "**Цель проекта:** анализ базы данных для дальнейшего формирования ценностного предложения для нового продукта.\n"
   ]
  },
  {
   "cell_type": "code",
   "execution_count": 1,
   "metadata": {
    "id": "UjEDtaN_W0wQ"
   },
   "outputs": [],
   "source": [
    "import pandas as pd\n",
    "import sqlalchemy as sa\n"
   ]
  },
  {
   "cell_type": "code",
   "execution_count": 2,
   "metadata": {
    "id": "5cuHTRf8AOCu"
   },
   "outputs": [],
   "source": [
    "db_config = {\n",
    "'user': 'praktikum_student',\n",
    "'pwd': 'Sdf4$2;d-d30pp',\n",
    "'host': 'rc1b-wcoijxj3yxfsf3fs.mdb.yandexcloud.net',\n",
    "'port': 6432,\n",
    "'db': 'data-analyst-final-project-db'\n",
    "}\n",
    "connection_string = 'postgresql://{user}:{pwd}@{host}:{port}/{db}'.format(**db_config)"
   ]
  },
  {
   "cell_type": "code",
   "execution_count": 3,
   "metadata": {
    "id": "rZJzkT78AY8E"
   },
   "outputs": [],
   "source": [
    "engine = sa.create_engine(connection_string, connect_args={'sslmode':'require'})\n"
   ]
  },
  {
   "cell_type": "code",
   "execution_count": 4,
   "metadata": {
    "id": "s27-xhJHA3tz"
   },
   "outputs": [],
   "source": [
    "def get_sql_data(query:str, engine:sa.engine.base.Engine=engine) -> pd.DataFrame:\n",
    "  with engine.connect() as con:\n",
    "    return pd.read_sql(sql=sa.text(query), con = con)"
   ]
  },
  {
   "cell_type": "markdown",
   "metadata": {
    "id": "Ipv6BOqVYXYu"
   },
   "source": [
    "## Исследование таблиц"
   ]
  },
  {
   "cell_type": "code",
   "execution_count": 5,
   "metadata": {
    "id": "WJWceRKRBSTm"
   },
   "outputs": [],
   "source": [
    "#изучим таблицу books\n",
    "query_books = '''SELECT * FROM books LIMIT 5'''"
   ]
  },
  {
   "cell_type": "code",
   "execution_count": 6,
   "metadata": {
    "colab": {
     "base_uri": "https://localhost:8080/",
     "height": 206
    },
    "id": "qmiTo3EJCQe0",
    "outputId": "2a67db62-d3ef-4367-ea17-6f00807c2c2c"
   },
   "outputs": [
    {
     "data": {
      "text/html": [
       "<div>\n",
       "<style scoped>\n",
       "    .dataframe tbody tr th:only-of-type {\n",
       "        vertical-align: middle;\n",
       "    }\n",
       "\n",
       "    .dataframe tbody tr th {\n",
       "        vertical-align: top;\n",
       "    }\n",
       "\n",
       "    .dataframe thead th {\n",
       "        text-align: right;\n",
       "    }\n",
       "</style>\n",
       "<table border=\"1\" class=\"dataframe\">\n",
       "  <thead>\n",
       "    <tr style=\"text-align: right;\">\n",
       "      <th></th>\n",
       "      <th>book_id</th>\n",
       "      <th>author_id</th>\n",
       "      <th>title</th>\n",
       "      <th>num_pages</th>\n",
       "      <th>publication_date</th>\n",
       "      <th>publisher_id</th>\n",
       "    </tr>\n",
       "  </thead>\n",
       "  <tbody>\n",
       "    <tr>\n",
       "      <th>0</th>\n",
       "      <td>1</td>\n",
       "      <td>546</td>\n",
       "      <td>'Salem's Lot</td>\n",
       "      <td>594</td>\n",
       "      <td>2005-11-01</td>\n",
       "      <td>93</td>\n",
       "    </tr>\n",
       "    <tr>\n",
       "      <th>1</th>\n",
       "      <td>2</td>\n",
       "      <td>465</td>\n",
       "      <td>1 000 Places to See Before You Die</td>\n",
       "      <td>992</td>\n",
       "      <td>2003-05-22</td>\n",
       "      <td>336</td>\n",
       "    </tr>\n",
       "    <tr>\n",
       "      <th>2</th>\n",
       "      <td>3</td>\n",
       "      <td>407</td>\n",
       "      <td>13 Little Blue Envelopes (Little Blue Envelope...</td>\n",
       "      <td>322</td>\n",
       "      <td>2010-12-21</td>\n",
       "      <td>135</td>\n",
       "    </tr>\n",
       "    <tr>\n",
       "      <th>3</th>\n",
       "      <td>4</td>\n",
       "      <td>82</td>\n",
       "      <td>1491: New Revelations of the Americas Before C...</td>\n",
       "      <td>541</td>\n",
       "      <td>2006-10-10</td>\n",
       "      <td>309</td>\n",
       "    </tr>\n",
       "    <tr>\n",
       "      <th>4</th>\n",
       "      <td>5</td>\n",
       "      <td>125</td>\n",
       "      <td>1776</td>\n",
       "      <td>386</td>\n",
       "      <td>2006-07-04</td>\n",
       "      <td>268</td>\n",
       "    </tr>\n",
       "  </tbody>\n",
       "</table>\n",
       "</div>"
      ],
      "text/plain": [
       "   book_id  author_id                                              title  \\\n",
       "0        1        546                                       'Salem's Lot   \n",
       "1        2        465                 1 000 Places to See Before You Die   \n",
       "2        3        407  13 Little Blue Envelopes (Little Blue Envelope...   \n",
       "3        4         82  1491: New Revelations of the Americas Before C...   \n",
       "4        5        125                                               1776   \n",
       "\n",
       "   num_pages publication_date  publisher_id  \n",
       "0        594       2005-11-01            93  \n",
       "1        992       2003-05-22           336  \n",
       "2        322       2010-12-21           135  \n",
       "3        541       2006-10-10           309  \n",
       "4        386       2006-07-04           268  "
      ]
     },
     "execution_count": 6,
     "metadata": {},
     "output_type": "execute_result"
    }
   ],
   "source": [
    "get_sql_data(query_books)"
   ]
  },
  {
   "cell_type": "code",
   "execution_count": 7,
   "metadata": {
    "colab": {
     "base_uri": "https://localhost:8080/"
    },
    "id": "arHhk4Q2CS3L",
    "outputId": "290ef67c-259f-4a83-d6e8-17b44f527143"
   },
   "outputs": [
    {
     "name": "stdout",
     "output_type": "stream",
     "text": [
      "<class 'pandas.core.frame.DataFrame'>\n",
      "RangeIndex: 1000 entries, 0 to 999\n",
      "Data columns (total 6 columns):\n",
      " #   Column            Non-Null Count  Dtype \n",
      "---  ------            --------------  ----- \n",
      " 0   book_id           1000 non-null   int64 \n",
      " 1   author_id         1000 non-null   int64 \n",
      " 2   title             1000 non-null   object\n",
      " 3   num_pages         1000 non-null   int64 \n",
      " 4   publication_date  1000 non-null   object\n",
      " 5   publisher_id      1000 non-null   int64 \n",
      "dtypes: int64(4), object(2)\n",
      "memory usage: 47.0+ KB\n",
      "None\n"
     ]
    }
   ],
   "source": [
    "query_t = ''' SELECT * FROM books '''\n",
    "test = get_sql_data(query_t)\n",
    "print(test.info())"
   ]
  },
  {
   "cell_type": "markdown",
   "metadata": {
    "id": "rpTmRxujY0iH"
   },
   "source": [
    "Таблица `books` содержит 6 колонок и 1000 строк. Пропущенных значений нет.\n",
    "Содежание колонок:\n",
    "* `book_id` — идентификатор книги;\n",
    "* `author_id` — идентификатор автора;\n",
    "* `title` — название книги;\n",
    "* `num_pages` — количество страниц;\n",
    "* `publication_date` — дата публикации книги;\n",
    "* `publisher_id` — идентификатор издателя.\n",
    "\n",
    "\n",
    "\n"
   ]
  },
  {
   "cell_type": "code",
   "execution_count": 8,
   "metadata": {
    "colab": {
     "base_uri": "https://localhost:8080/",
     "height": 206
    },
    "id": "9C7Eu3AHYC90",
    "outputId": "6f323556-271c-4514-cd00-2d1c3b1cd25c"
   },
   "outputs": [
    {
     "data": {
      "text/html": [
       "<div>\n",
       "<style scoped>\n",
       "    .dataframe tbody tr th:only-of-type {\n",
       "        vertical-align: middle;\n",
       "    }\n",
       "\n",
       "    .dataframe tbody tr th {\n",
       "        vertical-align: top;\n",
       "    }\n",
       "\n",
       "    .dataframe thead th {\n",
       "        text-align: right;\n",
       "    }\n",
       "</style>\n",
       "<table border=\"1\" class=\"dataframe\">\n",
       "  <thead>\n",
       "    <tr style=\"text-align: right;\">\n",
       "      <th></th>\n",
       "      <th>author_id</th>\n",
       "      <th>author</th>\n",
       "    </tr>\n",
       "  </thead>\n",
       "  <tbody>\n",
       "    <tr>\n",
       "      <th>0</th>\n",
       "      <td>1</td>\n",
       "      <td>A.S. Byatt</td>\n",
       "    </tr>\n",
       "    <tr>\n",
       "      <th>1</th>\n",
       "      <td>2</td>\n",
       "      <td>Aesop/Laura Harris/Laura Gibbs</td>\n",
       "    </tr>\n",
       "    <tr>\n",
       "      <th>2</th>\n",
       "      <td>3</td>\n",
       "      <td>Agatha Christie</td>\n",
       "    </tr>\n",
       "    <tr>\n",
       "      <th>3</th>\n",
       "      <td>4</td>\n",
       "      <td>Alan Brennert</td>\n",
       "    </tr>\n",
       "    <tr>\n",
       "      <th>4</th>\n",
       "      <td>5</td>\n",
       "      <td>Alan Moore/David   Lloyd</td>\n",
       "    </tr>\n",
       "  </tbody>\n",
       "</table>\n",
       "</div>"
      ],
      "text/plain": [
       "   author_id                          author\n",
       "0          1                      A.S. Byatt\n",
       "1          2  Aesop/Laura Harris/Laura Gibbs\n",
       "2          3                 Agatha Christie\n",
       "3          4                   Alan Brennert\n",
       "4          5        Alan Moore/David   Lloyd"
      ]
     },
     "execution_count": 8,
     "metadata": {},
     "output_type": "execute_result"
    }
   ],
   "source": [
    "#изучим таблицу authors\n",
    "\n",
    "query_authors = '''SELECT * FROM authors LIMIT 5'''\n",
    "get_sql_data(query_authors)"
   ]
  },
  {
   "cell_type": "code",
   "execution_count": 9,
   "metadata": {
    "colab": {
     "base_uri": "https://localhost:8080/"
    },
    "id": "S4EWWwVVZvJN",
    "outputId": "9f2057a2-ed5f-4e21-8414-ff55ecbca29c"
   },
   "outputs": [
    {
     "name": "stdout",
     "output_type": "stream",
     "text": [
      "<class 'pandas.core.frame.DataFrame'>\n",
      "RangeIndex: 636 entries, 0 to 635\n",
      "Data columns (total 2 columns):\n",
      " #   Column     Non-Null Count  Dtype \n",
      "---  ------     --------------  ----- \n",
      " 0   author_id  636 non-null    int64 \n",
      " 1   author     636 non-null    object\n",
      "dtypes: int64(1), object(1)\n",
      "memory usage: 10.1+ KB\n",
      "None\n"
     ]
    }
   ],
   "source": [
    "query_a = '''SELECT * FROM authors'''\n",
    "test_2 = get_sql_data(query_a)\n",
    "print(test_2.info())"
   ]
  },
  {
   "cell_type": "markdown",
   "metadata": {
    "id": "FlxEcTa-aE7O"
   },
   "source": [
    "Таблица `authors` содержит сведения об авторах, количество столбцов 2, количество строк - 636. Пропущенных значений нет. Содержание столбцов:\n",
    "* `author_id` — идентификатор автора;\n",
    "* `author` — имя автора"
   ]
  },
  {
   "cell_type": "code",
   "execution_count": 10,
   "metadata": {
    "colab": {
     "base_uri": "https://localhost:8080/",
     "height": 206
    },
    "id": "jEJIIQDUZ_Ik",
    "outputId": "1b545794-5b7f-4f2d-c1ff-8fa346befada"
   },
   "outputs": [
    {
     "data": {
      "text/html": [
       "<div>\n",
       "<style scoped>\n",
       "    .dataframe tbody tr th:only-of-type {\n",
       "        vertical-align: middle;\n",
       "    }\n",
       "\n",
       "    .dataframe tbody tr th {\n",
       "        vertical-align: top;\n",
       "    }\n",
       "\n",
       "    .dataframe thead th {\n",
       "        text-align: right;\n",
       "    }\n",
       "</style>\n",
       "<table border=\"1\" class=\"dataframe\">\n",
       "  <thead>\n",
       "    <tr style=\"text-align: right;\">\n",
       "      <th></th>\n",
       "      <th>publisher_id</th>\n",
       "      <th>publisher</th>\n",
       "    </tr>\n",
       "  </thead>\n",
       "  <tbody>\n",
       "    <tr>\n",
       "      <th>0</th>\n",
       "      <td>1</td>\n",
       "      <td>Ace</td>\n",
       "    </tr>\n",
       "    <tr>\n",
       "      <th>1</th>\n",
       "      <td>2</td>\n",
       "      <td>Ace Book</td>\n",
       "    </tr>\n",
       "    <tr>\n",
       "      <th>2</th>\n",
       "      <td>3</td>\n",
       "      <td>Ace Books</td>\n",
       "    </tr>\n",
       "    <tr>\n",
       "      <th>3</th>\n",
       "      <td>4</td>\n",
       "      <td>Ace Hardcover</td>\n",
       "    </tr>\n",
       "    <tr>\n",
       "      <th>4</th>\n",
       "      <td>5</td>\n",
       "      <td>Addison Wesley Publishing Company</td>\n",
       "    </tr>\n",
       "  </tbody>\n",
       "</table>\n",
       "</div>"
      ],
      "text/plain": [
       "   publisher_id                          publisher\n",
       "0             1                                Ace\n",
       "1             2                           Ace Book\n",
       "2             3                          Ace Books\n",
       "3             4                      Ace Hardcover\n",
       "4             5  Addison Wesley Publishing Company"
      ]
     },
     "execution_count": 10,
     "metadata": {},
     "output_type": "execute_result"
    }
   ],
   "source": [
    "#изучим таблицу publishers\n",
    "\n",
    "query_publ = '''SELECT * FROM publishers LIMIT 5'''\n",
    "get_sql_data(query_publ)"
   ]
  },
  {
   "cell_type": "code",
   "execution_count": 11,
   "metadata": {
    "colab": {
     "base_uri": "https://localhost:8080/"
    },
    "id": "bFjtSXjgavUd",
    "outputId": "4d656d30-1798-4cfa-ac67-9fd538e6b7d7"
   },
   "outputs": [
    {
     "name": "stdout",
     "output_type": "stream",
     "text": [
      "<class 'pandas.core.frame.DataFrame'>\n",
      "RangeIndex: 340 entries, 0 to 339\n",
      "Data columns (total 2 columns):\n",
      " #   Column        Non-Null Count  Dtype \n",
      "---  ------        --------------  ----- \n",
      " 0   publisher_id  340 non-null    int64 \n",
      " 1   publisher     340 non-null    object\n",
      "dtypes: int64(1), object(1)\n",
      "memory usage: 5.4+ KB\n"
     ]
    }
   ],
   "source": [
    "(get_sql_data('''SELECT * FROM publishers''')).info()"
   ]
  },
  {
   "cell_type": "markdown",
   "metadata": {
    "id": "tnjshnPYbDSO"
   },
   "source": [
    "Таблица `publishers` содержит сведения об издательствах. Количество столбцов - 2, количество строк - 340. Пропущенных значений нет. Содержание столбцов:\n",
    "* `publisher_id` — идентификатор издательства;\n",
    "* `publisher` — название издательства"
   ]
  },
  {
   "cell_type": "code",
   "execution_count": 12,
   "metadata": {
    "colab": {
     "base_uri": "https://localhost:8080/",
     "height": 206
    },
    "id": "mE26vUYLa96N",
    "outputId": "53dbbd52-fea8-42cd-d92d-b44685777564"
   },
   "outputs": [
    {
     "data": {
      "text/html": [
       "<div>\n",
       "<style scoped>\n",
       "    .dataframe tbody tr th:only-of-type {\n",
       "        vertical-align: middle;\n",
       "    }\n",
       "\n",
       "    .dataframe tbody tr th {\n",
       "        vertical-align: top;\n",
       "    }\n",
       "\n",
       "    .dataframe thead th {\n",
       "        text-align: right;\n",
       "    }\n",
       "</style>\n",
       "<table border=\"1\" class=\"dataframe\">\n",
       "  <thead>\n",
       "    <tr style=\"text-align: right;\">\n",
       "      <th></th>\n",
       "      <th>rating_id</th>\n",
       "      <th>book_id</th>\n",
       "      <th>username</th>\n",
       "      <th>rating</th>\n",
       "    </tr>\n",
       "  </thead>\n",
       "  <tbody>\n",
       "    <tr>\n",
       "      <th>0</th>\n",
       "      <td>1</td>\n",
       "      <td>1</td>\n",
       "      <td>ryanfranco</td>\n",
       "      <td>4</td>\n",
       "    </tr>\n",
       "    <tr>\n",
       "      <th>1</th>\n",
       "      <td>2</td>\n",
       "      <td>1</td>\n",
       "      <td>grantpatricia</td>\n",
       "      <td>2</td>\n",
       "    </tr>\n",
       "    <tr>\n",
       "      <th>2</th>\n",
       "      <td>3</td>\n",
       "      <td>1</td>\n",
       "      <td>brandtandrea</td>\n",
       "      <td>5</td>\n",
       "    </tr>\n",
       "    <tr>\n",
       "      <th>3</th>\n",
       "      <td>4</td>\n",
       "      <td>2</td>\n",
       "      <td>lorichen</td>\n",
       "      <td>3</td>\n",
       "    </tr>\n",
       "    <tr>\n",
       "      <th>4</th>\n",
       "      <td>5</td>\n",
       "      <td>2</td>\n",
       "      <td>mariokeller</td>\n",
       "      <td>2</td>\n",
       "    </tr>\n",
       "  </tbody>\n",
       "</table>\n",
       "</div>"
      ],
      "text/plain": [
       "   rating_id  book_id       username  rating\n",
       "0          1        1     ryanfranco       4\n",
       "1          2        1  grantpatricia       2\n",
       "2          3        1   brandtandrea       5\n",
       "3          4        2       lorichen       3\n",
       "4          5        2    mariokeller       2"
      ]
     },
     "execution_count": 12,
     "metadata": {},
     "output_type": "execute_result"
    }
   ],
   "source": [
    "#изучим таблицу ratings\n",
    "\n",
    "query_ratings = '''SELECT * FROM ratings LIMIT 5'''\n",
    "get_sql_data(query_ratings)"
   ]
  },
  {
   "cell_type": "code",
   "execution_count": 13,
   "metadata": {
    "colab": {
     "base_uri": "https://localhost:8080/"
    },
    "id": "oAhf4Skjm6_h",
    "outputId": "4f8e7e2e-efed-4421-cead-b46ab4c444f7"
   },
   "outputs": [
    {
     "name": "stdout",
     "output_type": "stream",
     "text": [
      "<class 'pandas.core.frame.DataFrame'>\n",
      "RangeIndex: 6456 entries, 0 to 6455\n",
      "Data columns (total 4 columns):\n",
      " #   Column     Non-Null Count  Dtype \n",
      "---  ------     --------------  ----- \n",
      " 0   rating_id  6456 non-null   int64 \n",
      " 1   book_id    6456 non-null   int64 \n",
      " 2   username   6456 non-null   object\n",
      " 3   rating     6456 non-null   int64 \n",
      "dtypes: int64(3), object(1)\n",
      "memory usage: 201.9+ KB\n"
     ]
    }
   ],
   "source": [
    "(get_sql_data('''SELECT * FROM ratings''')).info()"
   ]
  },
  {
   "cell_type": "markdown",
   "metadata": {
    "id": "zR5jd5fSnHvM"
   },
   "source": [
    "Таблица `ratings` содержит информацию о пользовательских оценках книг. Количество столбцов - 4, количество строк - 6456. Пропусков нет. Содержание столбцов:\n",
    "* `rating_id` — идентификатор оценки;\n",
    "* `book_id` — идентификатор книги;\n",
    "* `username` — имя пользователя, оставившего оценку;\n",
    "* `rating` — оценка книги."
   ]
  },
  {
   "cell_type": "code",
   "execution_count": 14,
   "metadata": {
    "colab": {
     "base_uri": "https://localhost:8080/",
     "height": 206
    },
    "id": "G94DTWQtnDqh",
    "outputId": "bba199ff-0763-4dae-d3ba-be91d0b51358"
   },
   "outputs": [
    {
     "data": {
      "text/html": [
       "<div>\n",
       "<style scoped>\n",
       "    .dataframe tbody tr th:only-of-type {\n",
       "        vertical-align: middle;\n",
       "    }\n",
       "\n",
       "    .dataframe tbody tr th {\n",
       "        vertical-align: top;\n",
       "    }\n",
       "\n",
       "    .dataframe thead th {\n",
       "        text-align: right;\n",
       "    }\n",
       "</style>\n",
       "<table border=\"1\" class=\"dataframe\">\n",
       "  <thead>\n",
       "    <tr style=\"text-align: right;\">\n",
       "      <th></th>\n",
       "      <th>review_id</th>\n",
       "      <th>book_id</th>\n",
       "      <th>username</th>\n",
       "      <th>text</th>\n",
       "    </tr>\n",
       "  </thead>\n",
       "  <tbody>\n",
       "    <tr>\n",
       "      <th>0</th>\n",
       "      <td>1</td>\n",
       "      <td>1</td>\n",
       "      <td>brandtandrea</td>\n",
       "      <td>Mention society tell send professor analysis. ...</td>\n",
       "    </tr>\n",
       "    <tr>\n",
       "      <th>1</th>\n",
       "      <td>2</td>\n",
       "      <td>1</td>\n",
       "      <td>ryanfranco</td>\n",
       "      <td>Foot glass pretty audience hit themselves. Amo...</td>\n",
       "    </tr>\n",
       "    <tr>\n",
       "      <th>2</th>\n",
       "      <td>3</td>\n",
       "      <td>2</td>\n",
       "      <td>lorichen</td>\n",
       "      <td>Listen treat keep worry. Miss husband tax but ...</td>\n",
       "    </tr>\n",
       "    <tr>\n",
       "      <th>3</th>\n",
       "      <td>4</td>\n",
       "      <td>3</td>\n",
       "      <td>johnsonamanda</td>\n",
       "      <td>Finally month interesting blue could nature cu...</td>\n",
       "    </tr>\n",
       "    <tr>\n",
       "      <th>4</th>\n",
       "      <td>5</td>\n",
       "      <td>3</td>\n",
       "      <td>scotttamara</td>\n",
       "      <td>Nation purpose heavy give wait song will. List...</td>\n",
       "    </tr>\n",
       "  </tbody>\n",
       "</table>\n",
       "</div>"
      ],
      "text/plain": [
       "   review_id  book_id       username  \\\n",
       "0          1        1   brandtandrea   \n",
       "1          2        1     ryanfranco   \n",
       "2          3        2       lorichen   \n",
       "3          4        3  johnsonamanda   \n",
       "4          5        3    scotttamara   \n",
       "\n",
       "                                                text  \n",
       "0  Mention society tell send professor analysis. ...  \n",
       "1  Foot glass pretty audience hit themselves. Amo...  \n",
       "2  Listen treat keep worry. Miss husband tax but ...  \n",
       "3  Finally month interesting blue could nature cu...  \n",
       "4  Nation purpose heavy give wait song will. List...  "
      ]
     },
     "execution_count": 14,
     "metadata": {},
     "output_type": "execute_result"
    }
   ],
   "source": [
    "#изучим таблицу reviews\n",
    "get_sql_data('''SELECT * FROM reviews LIMIT 5''')"
   ]
  },
  {
   "cell_type": "code",
   "execution_count": 15,
   "metadata": {
    "colab": {
     "base_uri": "https://localhost:8080/"
    },
    "id": "JQpcvx35nukC",
    "outputId": "e54102df-967c-49e3-ea93-0b70f86601a5"
   },
   "outputs": [
    {
     "name": "stdout",
     "output_type": "stream",
     "text": [
      "<class 'pandas.core.frame.DataFrame'>\n",
      "RangeIndex: 2793 entries, 0 to 2792\n",
      "Data columns (total 4 columns):\n",
      " #   Column     Non-Null Count  Dtype \n",
      "---  ------     --------------  ----- \n",
      " 0   review_id  2793 non-null   int64 \n",
      " 1   book_id    2793 non-null   int64 \n",
      " 2   username   2793 non-null   object\n",
      " 3   text       2793 non-null   object\n",
      "dtypes: int64(2), object(2)\n",
      "memory usage: 87.4+ KB\n"
     ]
    }
   ],
   "source": [
    "(get_sql_data('''SELECT * FROM reviews''')).info()"
   ]
  },
  {
   "cell_type": "markdown",
   "metadata": {
    "id": "HzMSQOn1n4br"
   },
   "source": [
    "Таблица `reviews` содержит информацию о  о пользовательских обзорах на книги. Количество столбцов - 4, количество строк - 2793, пропущенных значений нет. Содержание столбцов:\n",
    "* `review_id` — идентификатор обзора;\n",
    "* `book_id` — идентификатор книги;\n",
    "* `username` — имя пользователя, написавшего обзор;\n",
    "* `text` — текст обзора"
   ]
  },
  {
   "cell_type": "markdown",
   "metadata": {
    "id": "zO_dklc9oeNq"
   },
   "source": [
    "## Задание 1: Посчитайте, сколько книг вышло после 1 января 2000 года"
   ]
  },
  {
   "cell_type": "code",
   "execution_count": 16,
   "metadata": {
    "colab": {
     "base_uri": "https://localhost:8080/"
    },
    "id": "XMLzE3Aon3SZ",
    "outputId": "7314d44b-452f-44d2-e465-d3675f38fd52"
   },
   "outputs": [
    {
     "name": "stdout",
     "output_type": "stream",
     "text": [
      "Количество книг, выпущенных после 01.01.2000г., составляет 819 шт.\n"
     ]
    }
   ],
   "source": [
    "books_count = '''SELECT COUNT(DISTINCT book_id)\n",
    "                 FROM books\n",
    "                 WHERE publication_date > '2000-01-01'; '''\n",
    "books_count_ans = get_sql_data(books_count)\n",
    "print('Количество книг, выпущенных после 01.01.2000г., составляет {} шт.'.format(books_count_ans['count'][0]))"
   ]
  },
  {
   "cell_type": "markdown",
   "metadata": {
    "id": "ecLgF-yeuHwi"
   },
   "source": [
    "### Вывод\n",
    "После 1 января 2000 года вышло 819 книг."
   ]
  },
  {
   "cell_type": "markdown",
   "metadata": {
    "id": "7Fbvpxj2ubem"
   },
   "source": [
    "## Задание 2: Для каждой книги посчитайте количество обзоров и среднюю оценку"
   ]
  },
  {
   "cell_type": "code",
   "execution_count": 17,
   "metadata": {},
   "outputs": [
    {
     "data": {
      "text/html": [
       "<div>\n",
       "<style scoped>\n",
       "    .dataframe tbody tr th:only-of-type {\n",
       "        vertical-align: middle;\n",
       "    }\n",
       "\n",
       "    .dataframe tbody tr th {\n",
       "        vertical-align: top;\n",
       "    }\n",
       "\n",
       "    .dataframe thead th {\n",
       "        text-align: right;\n",
       "    }\n",
       "</style>\n",
       "<table border=\"1\" class=\"dataframe\">\n",
       "  <thead>\n",
       "    <tr style=\"text-align: right;\">\n",
       "      <th></th>\n",
       "      <th>book_id</th>\n",
       "      <th>title</th>\n",
       "      <th>review_amount</th>\n",
       "      <th>avg_rating</th>\n",
       "    </tr>\n",
       "  </thead>\n",
       "  <tbody>\n",
       "    <tr>\n",
       "      <th>0</th>\n",
       "      <td>1</td>\n",
       "      <td>'Salem's Lot</td>\n",
       "      <td>2</td>\n",
       "      <td>3.67</td>\n",
       "    </tr>\n",
       "    <tr>\n",
       "      <th>1</th>\n",
       "      <td>2</td>\n",
       "      <td>1 000 Places to See Before You Die</td>\n",
       "      <td>1</td>\n",
       "      <td>2.50</td>\n",
       "    </tr>\n",
       "    <tr>\n",
       "      <th>2</th>\n",
       "      <td>3</td>\n",
       "      <td>13 Little Blue Envelopes (Little Blue Envelope...</td>\n",
       "      <td>3</td>\n",
       "      <td>4.67</td>\n",
       "    </tr>\n",
       "    <tr>\n",
       "      <th>3</th>\n",
       "      <td>4</td>\n",
       "      <td>1491: New Revelations of the Americas Before C...</td>\n",
       "      <td>2</td>\n",
       "      <td>4.50</td>\n",
       "    </tr>\n",
       "    <tr>\n",
       "      <th>4</th>\n",
       "      <td>5</td>\n",
       "      <td>1776</td>\n",
       "      <td>4</td>\n",
       "      <td>4.00</td>\n",
       "    </tr>\n",
       "    <tr>\n",
       "      <th>...</th>\n",
       "      <td>...</td>\n",
       "      <td>...</td>\n",
       "      <td>...</td>\n",
       "      <td>...</td>\n",
       "    </tr>\n",
       "    <tr>\n",
       "      <th>995</th>\n",
       "      <td>996</td>\n",
       "      <td>Wyrd Sisters (Discworld  #6; Witches #2)</td>\n",
       "      <td>3</td>\n",
       "      <td>3.67</td>\n",
       "    </tr>\n",
       "    <tr>\n",
       "      <th>996</th>\n",
       "      <td>997</td>\n",
       "      <td>Xenocide (Ender's Saga  #3)</td>\n",
       "      <td>3</td>\n",
       "      <td>3.40</td>\n",
       "    </tr>\n",
       "    <tr>\n",
       "      <th>997</th>\n",
       "      <td>998</td>\n",
       "      <td>Year of Wonders</td>\n",
       "      <td>4</td>\n",
       "      <td>3.20</td>\n",
       "    </tr>\n",
       "    <tr>\n",
       "      <th>998</th>\n",
       "      <td>999</td>\n",
       "      <td>You Suck (A Love Story  #2)</td>\n",
       "      <td>2</td>\n",
       "      <td>4.50</td>\n",
       "    </tr>\n",
       "    <tr>\n",
       "      <th>999</th>\n",
       "      <td>1000</td>\n",
       "      <td>Zen and the Art of Motorcycle Maintenance: An ...</td>\n",
       "      <td>4</td>\n",
       "      <td>3.83</td>\n",
       "    </tr>\n",
       "  </tbody>\n",
       "</table>\n",
       "<p>1000 rows × 4 columns</p>\n",
       "</div>"
      ],
      "text/plain": [
       "     book_id                                              title  \\\n",
       "0          1                                       'Salem's Lot   \n",
       "1          2                 1 000 Places to See Before You Die   \n",
       "2          3  13 Little Blue Envelopes (Little Blue Envelope...   \n",
       "3          4  1491: New Revelations of the Americas Before C...   \n",
       "4          5                                               1776   \n",
       "..       ...                                                ...   \n",
       "995      996           Wyrd Sisters (Discworld  #6; Witches #2)   \n",
       "996      997                        Xenocide (Ender's Saga  #3)   \n",
       "997      998                                    Year of Wonders   \n",
       "998      999                        You Suck (A Love Story  #2)   \n",
       "999     1000  Zen and the Art of Motorcycle Maintenance: An ...   \n",
       "\n",
       "     review_amount  avg_rating  \n",
       "0                2        3.67  \n",
       "1                1        2.50  \n",
       "2                3        4.67  \n",
       "3                2        4.50  \n",
       "4                4        4.00  \n",
       "..             ...         ...  \n",
       "995              3        3.67  \n",
       "996              3        3.40  \n",
       "997              4        3.20  \n",
       "998              2        4.50  \n",
       "999              4        3.83  \n",
       "\n",
       "[1000 rows x 4 columns]"
      ]
     },
     "metadata": {},
     "output_type": "display_data"
    }
   ],
   "source": [
    "reviews_rating = '''WITH brev AS (SELECT b.book_id,\n",
    "                                         b.title,\n",
    "                                         COUNT(rev.review_id) AS review_amount\n",
    "                                FROM books AS b\n",
    "                                LEFT JOIN reviews AS rev ON b.book_id = rev.book_id\n",
    "                                GROUP BY b.book_id),\n",
    "                         br AS (SELECT b.book_id,\n",
    "                                      b.title,\n",
    "                                      AVG(r.rating) AS avg_rating\n",
    "                               FROM books AS b\n",
    "                               LEFT JOIN ratings AS r ON b.book_id = r.book_id\n",
    "                               GROUP BY b.book_id)\n",
    "                     SELECT brev.book_id,\n",
    "                            brev.title,\n",
    "                            brev.review_amount,\n",
    "                            ROUND(br.avg_rating, 2) AS avg_rating\n",
    "                     FROM brev\n",
    "                     INNER JOIN br ON brev.book_id = br.book_id\n",
    "                     GROUP BY brev.book_id, brev.title, brev.review_amount, br.avg_rating\n",
    "                     ORDER BY brev.book_id;'''\n",
    "data_reviews_ratings = get_sql_data(reviews_rating)\n",
    "display(data_reviews_ratings)"
   ]
  },
  {
   "cell_type": "markdown",
   "metadata": {
    "id": "s1GrM3_XtvZN"
   },
   "source": [
    "### Вывод\n",
    "\n",
    "Выше представлена таблица из всех 1000 книг, с ID, названием книги, количеством обзоров и среднюю оценку для каждой книги."
   ]
  },
  {
   "cell_type": "markdown",
   "metadata": {
    "id": "gavAT8bzuIqb"
   },
   "source": [
    "## Задание 3: Определите издательство, которое выпустило наибольшее число книг толще 50 страниц — так вы исключите из анализа брошюры"
   ]
  },
  {
   "cell_type": "code",
   "execution_count": 18,
   "metadata": {
    "colab": {
     "base_uri": "https://localhost:8080/"
    },
    "id": "me9OH6Dtp1rL",
    "outputId": "e0d0a331-303f-4be7-9158-3b4f97d4511c"
   },
   "outputs": [
    {
     "name": "stdout",
     "output_type": "stream",
     "text": [
      "   publisher_id      publisher  books_amount\n",
      "0           212  Penguin Books            42\n"
     ]
    }
   ],
   "source": [
    "publisher = '''WITH pb AS (SELECT publisher_id,\n",
    "                                  COUNT(book_id) AS books_amount\n",
    "                           FROM books\n",
    "                           WHERE num_pages > 50\n",
    "                           GROUP BY publisher_id\n",
    "                           ORDER BY books_amount DESC\n",
    "                           LIMIT 1)\n",
    "                SELECT pb.publisher_id,\n",
    "                       p.publisher,\n",
    "                       pb.books_amount\n",
    "                FROM pb\n",
    "                JOIN publishers AS p ON pb.publisher_id = p.publisher_id'''\n",
    "print(get_sql_data(publisher))"
   ]
  },
  {
   "cell_type": "markdown",
   "metadata": {
    "id": "foUrnS6JxiQs"
   },
   "source": [
    "### Вывод\n",
    "\n",
    "Наибольшее число книг, толщиной более 50 страниц, выпустило издательство Penguin Books (id 212). Количество выпущенных книг - 42."
   ]
  },
  {
   "cell_type": "markdown",
   "metadata": {
    "id": "T7gdHMOjx6z7"
   },
   "source": [
    "## Задание 4: Определите автора с самой высокой средней оценкой книг — учитывайте только книги с 50 и более оценками"
   ]
  },
  {
   "cell_type": "code",
   "execution_count": 19,
   "metadata": {},
   "outputs": [
    {
     "name": "stdout",
     "output_type": "stream",
     "text": [
      "                       author  avg_rating_author\n",
      "0  J.K. Rowling/Mary GrandPré              4.287\n"
     ]
    }
   ],
   "source": [
    "author_1 = '''WITH t1 AS (SELECT book_id,\n",
    "                                 COUNT(rating_id) OVER (PARTITION BY book_id) AS ratings_count,\n",
    "                                 rating\n",
    "                          FROM ratings),\n",
    "              t2 AS (SELECT b.author_id,\n",
    "                            b.book_id,\n",
    "                            a.author\n",
    "                     FROM books AS b\n",
    "                     LEFT JOIN authors AS a ON b.author_id=a.author_id)\n",
    "              SELECT t2.author,\n",
    "                     ROUND(AVG(t1.rating), 3) AS avg_rating_author\n",
    "              FROM t1\n",
    "              LEFT JOIN t2 ON t1.book_id=t2.book_id\n",
    "              WHERE t1.ratings_count >= 50\n",
    "              GROUP BY t2.author\n",
    "              ORDER BY avg_rating_author DESC\n",
    "              Limit 1'''\n",
    "print(get_sql_data(author_1))"
   ]
  },
  {
   "cell_type": "markdown",
   "metadata": {
    "id": "6bzj581827z-"
   },
   "source": [
    "### Вывод\n",
    "\n",
    "Автор с самой высокой средней оценкой книг - J.K. Rowling/Mary GrandPre"
   ]
  },
  {
   "cell_type": "markdown",
   "metadata": {
    "id": "RS6lz9TN3Q6t"
   },
   "source": [
    "## Задание 5: Посчитайте среднее количество обзоров от пользователей, которые поставили больше 48 оценок"
   ]
  },
  {
   "cell_type": "code",
   "execution_count": 20,
   "metadata": {
    "colab": {
     "base_uri": "https://localhost:8080/"
    },
    "id": "wgGLyA4vzv7v",
    "outputId": "57ccbdf1-9ea6-4e3f-bf9a-b12f618b3918"
   },
   "outputs": [
    {
     "name": "stdout",
     "output_type": "stream",
     "text": [
      "Среднее количество обзоров от пользователей, которые поставили больше 48 оценок, составляет 24.0\n"
     ]
    }
   ],
   "source": [
    "reviews = '''WITH users AS (SELECT r.username,\n",
    "                                   COUNT(rev.review_id) AS reviews_amount\n",
    "                            FROM (SELECT username,\n",
    "                                         COUNT(rating_id)\n",
    "                                  FROM ratings\n",
    "                                  GROUP BY username\n",
    "                                  HAVING COUNT(rating_id) > 48) AS r\n",
    "                            LEFT JOIN reviews AS rev ON r.username = rev.username\n",
    "                            GROUP BY r.username)\n",
    "              SELECT AVG(reviews_amount)\n",
    "              FROM users;'''\n",
    "\n",
    "print('Среднее количество обзоров от пользователей, которые поставили больше 48 оценок, составляет {}'.format(get_sql_data(reviews)['avg'][0]))"
   ]
  },
  {
   "cell_type": "markdown",
   "metadata": {
    "id": "emNzN2cT-7NP"
   },
   "source": [
    "### Вывод\n",
    "\n",
    "Среднее количество обзоров от пользователей, которые поставили больше 48 оценок - **24**"
   ]
  },
  {
   "cell_type": "markdown",
   "metadata": {
    "id": "UoehY5UV_UDY"
   },
   "source": [
    "## Вывод\n",
    "\n",
    "Проведен анализ баз данных по поставленным задачам.\n",
    "Основные выводы:\n",
    "\n",
    "1. После 01.01.2000г. вышло **819 книг**;\n",
    "2. Для каждой книги рассчитаны количество обзоров и средняя оценка. Результаты сохранены в датасете **data_reviews_ratings**;\n",
    "3. Издательство, выпустившее наибольшее количество книг толщиной больше 50 страниц - **Penguin Books** (id 212, количество выпущенных книг 42);\n",
    "4. Автором с самой высокой средней оценкой книг является J**.K. Rowling/Mary GrandPre** (учитывались только книги с количеством оценок 50 и выше);\n",
    "5. Среднее количество обзоров от пользователей, которые поставили больше 48 оценок - **24**"
   ]
  },
  {
   "cell_type": "code",
   "execution_count": null,
   "metadata": {},
   "outputs": [],
   "source": []
  }
 ],
 "metadata": {
  "ExecuteTimeLog": [
   {
    "duration": 519,
    "start_time": "2023-09-14T23:51:32.436Z"
   },
   {
    "duration": 3,
    "start_time": "2023-09-14T23:51:32.958Z"
   },
   {
    "duration": 13128,
    "start_time": "2023-09-14T23:51:32.963Z"
   },
   {
    "duration": 4,
    "start_time": "2023-09-14T23:51:46.093Z"
   },
   {
    "duration": 31,
    "start_time": "2023-09-14T23:51:46.101Z"
   },
   {
    "duration": 368,
    "start_time": "2023-09-14T23:51:46.134Z"
   },
   {
    "duration": 87,
    "start_time": "2023-09-14T23:51:46.504Z"
   },
   {
    "duration": 59,
    "start_time": "2023-09-14T23:51:46.594Z"
   },
   {
    "duration": 70,
    "start_time": "2023-09-14T23:51:46.656Z"
   },
   {
    "duration": 60,
    "start_time": "2023-09-14T23:51:46.729Z"
   },
   {
    "duration": 67,
    "start_time": "2023-09-14T23:51:46.792Z"
   },
   {
    "duration": 61,
    "start_time": "2023-09-14T23:51:46.863Z"
   },
   {
    "duration": 82,
    "start_time": "2023-09-14T23:51:46.926Z"
   },
   {
    "duration": 54,
    "start_time": "2023-09-14T23:51:47.011Z"
   },
   {
    "duration": 71,
    "start_time": "2023-09-14T23:51:47.067Z"
   },
   {
    "duration": 50,
    "start_time": "2023-09-14T23:51:47.140Z"
   },
   {
    "duration": 98,
    "start_time": "2023-09-14T23:51:47.192Z"
   },
   {
    "duration": 54,
    "start_time": "2023-09-14T23:51:47.292Z"
   },
   {
    "duration": 57,
    "start_time": "2023-09-14T23:51:47.348Z"
   },
   {
    "duration": 52,
    "start_time": "2023-09-14T23:51:47.407Z"
   },
   {
    "duration": 53,
    "start_time": "2023-09-14T23:52:13.145Z"
   },
   {
    "duration": 51,
    "start_time": "2023-09-15T03:15:22.936Z"
   },
   {
    "duration": 595,
    "start_time": "2023-09-15T03:15:30.076Z"
   },
   {
    "duration": 3,
    "start_time": "2023-09-15T03:15:30.673Z"
   },
   {
    "duration": 12845,
    "start_time": "2023-09-15T03:15:30.678Z"
   },
   {
    "duration": 4,
    "start_time": "2023-09-15T03:15:43.525Z"
   },
   {
    "duration": 9,
    "start_time": "2023-09-15T03:15:43.532Z"
   },
   {
    "duration": 257,
    "start_time": "2023-09-15T03:15:43.543Z"
   },
   {
    "duration": 95,
    "start_time": "2023-09-15T03:15:43.802Z"
   },
   {
    "duration": 56,
    "start_time": "2023-09-15T03:15:43.898Z"
   },
   {
    "duration": 61,
    "start_time": "2023-09-15T03:15:43.956Z"
   },
   {
    "duration": 56,
    "start_time": "2023-09-15T03:15:44.019Z"
   },
   {
    "duration": 58,
    "start_time": "2023-09-15T03:15:44.076Z"
   },
   {
    "duration": 56,
    "start_time": "2023-09-15T03:15:44.136Z"
   },
   {
    "duration": 92,
    "start_time": "2023-09-15T03:15:44.193Z"
   },
   {
    "duration": 56,
    "start_time": "2023-09-15T03:15:44.288Z"
   },
   {
    "duration": 74,
    "start_time": "2023-09-15T03:15:44.346Z"
   },
   {
    "duration": 53,
    "start_time": "2023-09-15T03:15:44.422Z"
   },
   {
    "duration": 98,
    "start_time": "2023-09-15T03:15:44.478Z"
   },
   {
    "duration": 56,
    "start_time": "2023-09-15T03:15:44.578Z"
   },
   {
    "duration": 57,
    "start_time": "2023-09-15T03:15:44.636Z"
   },
   {
    "duration": 55,
    "start_time": "2023-09-15T03:15:44.695Z"
   },
   {
    "duration": 166,
    "start_time": "2023-09-15T03:34:55.131Z"
   },
   {
    "duration": 79,
    "start_time": "2023-09-15T03:35:18.507Z"
   },
   {
    "duration": 68,
    "start_time": "2023-09-15T03:36:56.455Z"
   },
   {
    "duration": 70,
    "start_time": "2023-09-15T03:41:02.904Z"
   },
   {
    "duration": 75,
    "start_time": "2023-09-15T03:41:16.650Z"
   },
   {
    "duration": 79,
    "start_time": "2023-09-15T03:41:39.138Z"
   },
   {
    "duration": 82,
    "start_time": "2023-09-15T03:42:25.288Z"
   },
   {
    "duration": 57,
    "start_time": "2023-09-15T03:42:33.817Z"
   },
   {
    "duration": 79,
    "start_time": "2023-09-15T03:43:30.999Z"
   },
   {
    "duration": 59,
    "start_time": "2023-09-15T03:43:48.562Z"
   },
   {
    "duration": 65,
    "start_time": "2023-09-15T03:44:11.046Z"
   },
   {
    "duration": 73,
    "start_time": "2023-09-15T03:44:19.080Z"
   },
   {
    "duration": 59,
    "start_time": "2023-09-15T03:44:26.529Z"
   },
   {
    "duration": 68,
    "start_time": "2023-09-15T03:45:41.890Z"
   },
   {
    "duration": 68,
    "start_time": "2023-09-15T03:46:15.163Z"
   },
   {
    "duration": 99,
    "start_time": "2023-09-15T03:46:35.533Z"
   },
   {
    "duration": 142,
    "start_time": "2023-09-15T03:47:07.075Z"
   },
   {
    "duration": 68,
    "start_time": "2023-09-15T03:53:49.170Z"
   },
   {
    "duration": 66,
    "start_time": "2023-09-15T03:54:17.781Z"
   },
   {
    "duration": 67,
    "start_time": "2023-09-15T03:54:31.956Z"
   },
   {
    "duration": 66,
    "start_time": "2023-09-15T03:54:37.766Z"
   },
   {
    "duration": 67,
    "start_time": "2023-09-15T03:54:54.959Z"
   },
   {
    "duration": 61,
    "start_time": "2023-09-15T03:55:07.492Z"
   },
   {
    "duration": 68,
    "start_time": "2023-09-15T03:55:34.772Z"
   },
   {
    "duration": 67,
    "start_time": "2023-09-15T03:55:41.886Z"
   },
   {
    "duration": 61,
    "start_time": "2023-09-15T03:55:56.237Z"
   },
   {
    "duration": 60,
    "start_time": "2023-09-15T03:56:47.748Z"
   },
   {
    "duration": 57,
    "start_time": "2023-09-15T03:57:17.431Z"
   },
   {
    "duration": 70,
    "start_time": "2023-09-15T03:59:43.004Z"
   },
   {
    "duration": 92,
    "start_time": "2023-09-15T03:59:52.435Z"
   },
   {
    "duration": 68,
    "start_time": "2023-09-15T04:00:20.531Z"
   },
   {
    "duration": 89,
    "start_time": "2023-09-15T04:00:36.582Z"
   },
   {
    "duration": 63,
    "start_time": "2023-09-15T04:02:22.716Z"
   },
   {
    "duration": 69,
    "start_time": "2023-09-15T04:04:30.362Z"
   },
   {
    "duration": 87,
    "start_time": "2023-09-15T04:07:37.853Z"
   },
   {
    "duration": 92,
    "start_time": "2023-09-15T04:07:49.658Z"
   },
   {
    "duration": 92,
    "start_time": "2023-09-15T04:08:43.410Z"
   },
   {
    "duration": 90,
    "start_time": "2023-09-15T04:09:35.791Z"
   },
   {
    "duration": 678,
    "start_time": "2023-09-15T04:10:52.807Z"
   },
   {
    "duration": 4,
    "start_time": "2023-09-15T04:10:53.488Z"
   },
   {
    "duration": 11803,
    "start_time": "2023-09-15T04:10:53.494Z"
   },
   {
    "duration": 5,
    "start_time": "2023-09-15T04:11:05.300Z"
   },
   {
    "duration": 34,
    "start_time": "2023-09-15T04:11:05.307Z"
   },
   {
    "duration": 257,
    "start_time": "2023-09-15T04:11:05.343Z"
   },
   {
    "duration": 83,
    "start_time": "2023-09-15T04:11:05.602Z"
   },
   {
    "duration": 57,
    "start_time": "2023-09-15T04:11:05.688Z"
   },
   {
    "duration": 64,
    "start_time": "2023-09-15T04:11:05.748Z"
   },
   {
    "duration": 58,
    "start_time": "2023-09-15T04:11:05.815Z"
   },
   {
    "duration": 106,
    "start_time": "2023-09-15T04:11:05.875Z"
   },
   {
    "duration": 81,
    "start_time": "2023-09-15T04:11:05.984Z"
   },
   {
    "duration": 102,
    "start_time": "2023-09-15T04:11:06.067Z"
   },
   {
    "duration": 54,
    "start_time": "2023-09-15T04:11:06.171Z"
   },
   {
    "duration": 72,
    "start_time": "2023-09-15T04:11:06.227Z"
   },
   {
    "duration": 51,
    "start_time": "2023-09-15T04:11:06.301Z"
   },
   {
    "duration": 69,
    "start_time": "2023-09-15T04:11:06.354Z"
   },
   {
    "duration": 54,
    "start_time": "2023-09-15T04:11:06.425Z"
   },
   {
    "duration": 59,
    "start_time": "2023-09-15T04:11:06.481Z"
   },
   {
    "duration": 54,
    "start_time": "2023-09-15T04:11:06.542Z"
   },
   {
    "duration": 60,
    "start_time": "2023-09-15T04:11:56.424Z"
   },
   {
    "duration": 605,
    "start_time": "2023-09-15T04:12:24.123Z"
   },
   {
    "duration": 3,
    "start_time": "2023-09-15T04:12:24.730Z"
   },
   {
    "duration": 10868,
    "start_time": "2023-09-15T04:12:24.735Z"
   },
   {
    "duration": 3,
    "start_time": "2023-09-15T04:12:35.605Z"
   },
   {
    "duration": 24,
    "start_time": "2023-09-15T04:12:35.611Z"
   },
   {
    "duration": 256,
    "start_time": "2023-09-15T04:12:35.638Z"
   },
   {
    "duration": 83,
    "start_time": "2023-09-15T04:12:35.896Z"
   },
   {
    "duration": 63,
    "start_time": "2023-09-15T04:12:35.981Z"
   },
   {
    "duration": 65,
    "start_time": "2023-09-15T04:12:36.046Z"
   },
   {
    "duration": 58,
    "start_time": "2023-09-15T04:12:36.115Z"
   },
   {
    "duration": 58,
    "start_time": "2023-09-15T04:12:36.176Z"
   },
   {
    "duration": 60,
    "start_time": "2023-09-15T04:12:36.236Z"
   },
   {
    "duration": 104,
    "start_time": "2023-09-15T04:12:36.298Z"
   },
   {
    "duration": 56,
    "start_time": "2023-09-15T04:12:36.403Z"
   },
   {
    "duration": 75,
    "start_time": "2023-09-15T04:12:36.461Z"
   },
   {
    "duration": 53,
    "start_time": "2023-09-15T04:12:36.537Z"
   },
   {
    "duration": 78,
    "start_time": "2023-09-15T04:12:36.592Z"
   },
   {
    "duration": 56,
    "start_time": "2023-09-15T04:12:36.672Z"
   },
   {
    "duration": 60,
    "start_time": "2023-09-15T04:12:36.730Z"
   },
   {
    "duration": 54,
    "start_time": "2023-09-15T04:12:36.792Z"
   }
  ],
  "colab": {
   "provenance": []
  },
  "kernelspec": {
   "display_name": "Python 3 (ipykernel)",
   "language": "python",
   "name": "python3"
  },
  "language_info": {
   "codemirror_mode": {
    "name": "ipython",
    "version": 3
   },
   "file_extension": ".py",
   "mimetype": "text/x-python",
   "name": "python",
   "nbconvert_exporter": "python",
   "pygments_lexer": "ipython3",
   "version": "3.10.9"
  },
  "toc": {
   "base_numbering": 1,
   "nav_menu": {},
   "number_sections": true,
   "sideBar": true,
   "skip_h1_title": true,
   "title_cell": "Table of Contents",
   "title_sidebar": "Contents",
   "toc_cell": false,
   "toc_position": {},
   "toc_section_display": true,
   "toc_window_display": false
  }
 },
 "nbformat": 4,
 "nbformat_minor": 1
}
