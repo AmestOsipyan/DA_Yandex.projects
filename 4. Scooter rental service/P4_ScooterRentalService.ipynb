{
 "cells": [
  {
   "cell_type": "markdown",
   "id": "bdd2297e",
   "metadata": {},
   "source": [
    "# Анализ сервиса аренды самокатов GoFast"
   ]
  },
  {
   "cell_type": "markdown",
   "id": "dbff28b2",
   "metadata": {},
   "source": [
    "**Краткое описание**\n",
    "\n",
    "**Цели и задачи.** У нас в распоряжении находятся данные (`users_go.csv`, `rides_go.csv`, `subscriptions_go.csv`) сервиса аренды самокатов GoFast о некоторых пользователях из нескольких городов, а также об их поездках. Мы проанализируем данные и проверим некоторые гипотезы, которые могут помочь бизнесу вырасти.\n",
    "\n",
    "Чтобы совершать поездки по городу, пользователи сервиса GoFast пользуются мобильным приложением. Сервисом можно пользоваться:\n",
    "\n",
    "*БЕЗ ПОДПИСКИ*\n",
    " - абонентская плата отсутствует;\n",
    " - стоимость одной минуты поездки — 8 рублей;\n",
    " - стоимость старта (начала поездки) — 50 рублей;\n",
    "\n",
    "*С ПОДПИСКОЙ Ultra*\n",
    " - абонентская плата — 199 рублей в месяц;\n",
    " - стоимость одной минуты поездки — 6 рублей;\n",
    " - стоимость старта — бесплатно.\n",
    "\n",
    "*ДАННЫЕ*\n",
    " - `users_go.csv` - содержит  информацию о пользователях, их поездках и подписках\n",
    " - `rides_go.csv` - содержит детальную информацию о поездках\n",
    " - `subscriptions_go.csv` - содержит детальную информацию по типам подписок\n",
    "\n",
    "**План работы.** Данный анализ будет проведен поэтапно. Основные шаги:\n",
    " 1. Загрузка данных и изучение общей информации\n",
    " 2. Предобработка данных\n",
    " 3. Исследовательский анализ данных\n",
    " 4. Объединение данных\n",
    " 5. Подсчёт выручки\n",
    " 6. Проверка гипотез"
   ]
  },
  {
   "cell_type": "markdown",
   "id": "76182036",
   "metadata": {
    "toc": true
   },
   "source": [
    "<h1>Содержание<span class=\"tocSkip\"></span></h1>\n",
    "<div class=\"toc\"><ul class=\"toc-item\"><li><span><a href=\"#Шаг-1.-Загрузка-данных\" data-toc-modified-id=\"Шаг-1.-Загрузка-данных-1\"><span class=\"toc-item-num\">1&nbsp;&nbsp;</span>Шаг 1. Загрузка данных</a></span><ul class=\"toc-item\"><li><span><a href=\"#Вывод\" data-toc-modified-id=\"Вывод-1.1\"><span class=\"toc-item-num\">1.1&nbsp;&nbsp;</span>Вывод</a></span></li></ul></li><li><span><a href=\"#Шаг-2.-Предобработка-данных\" data-toc-modified-id=\"Шаг-2.-Предобработка-данных-2\"><span class=\"toc-item-num\">2&nbsp;&nbsp;</span>Шаг 2. Предобработка данных</a></span><ul class=\"toc-item\"><li><span><a href=\"#Внесем-изменения-в-датафрейм-rides\" data-toc-modified-id=\"Внесем-изменения-в-датафрейм-rides-2.1\"><span class=\"toc-item-num\">2.1&nbsp;&nbsp;</span>Внесем изменения в датафрейм <code>rides</code></a></span></li><li><span><a href=\"#Проверим-наличие-пропущенных-значений-в-датафреймах\" data-toc-modified-id=\"Проверим-наличие-пропущенных-значений-в-датафреймах-2.2\"><span class=\"toc-item-num\">2.2&nbsp;&nbsp;</span>Проверим наличие пропущенных значений в датафреймах</a></span></li><li><span><a href=\"#Проверим-наличие-явных-дубликатов-в-датафреймах-и-удалим-их,-в-случае-выявления\" data-toc-modified-id=\"Проверим-наличие-явных-дубликатов-в-датафреймах-и-удалим-их,-в-случае-выявления-2.3\"><span class=\"toc-item-num\">2.3&nbsp;&nbsp;</span>Проверим наличие явных дубликатов в датафреймах и удалим их, в случае выявления</a></span></li><li><span><a href=\"#Вывод\" data-toc-modified-id=\"Вывод-2.4\"><span class=\"toc-item-num\">2.4&nbsp;&nbsp;</span>Вывод</a></span></li></ul></li><li><span><a href=\"#Шаг-3.-Исследовательский-анализ-данных\" data-toc-modified-id=\"Шаг-3.-Исследовательский-анализ-данных-3\"><span class=\"toc-item-num\">3&nbsp;&nbsp;</span>Шаг 3. Исследовательский анализ данных</a></span><ul class=\"toc-item\"><li><span><a href=\"#Рассмотрим-частоту-встречаемости-городов\" data-toc-modified-id=\"Рассмотрим-частоту-встречаемости-городов-3.1\"><span class=\"toc-item-num\">3.1&nbsp;&nbsp;</span>Рассмотрим частоту встречаемости городов</a></span></li><li><span><a href=\"#Рассмотрим-соотношение-пользователей-с-подпиской-и-без-подписки\" data-toc-modified-id=\"Рассмотрим-соотношение-пользователей-с-подпиской-и-без-подписки-3.2\"><span class=\"toc-item-num\">3.2&nbsp;&nbsp;</span>Рассмотрим соотношение пользователей с подпиской и без подписки</a></span></li><li><span><a href=\"#Рассмотрим-расстояния,-которые-пользователи-преодолевают-за-одну-поездку\" data-toc-modified-id=\"Рассмотрим-расстояния,-которые-пользователи-преодолевают-за-одну-поездку-3.3\"><span class=\"toc-item-num\">3.3&nbsp;&nbsp;</span>Рассмотрим расстояния, которые пользователи преодолевают за одну поездку</a></span></li><li><span><a href=\"#Рассмотрим-продолжительности-поездок\" data-toc-modified-id=\"Рассмотрим-продолжительности-поездок-3.4\"><span class=\"toc-item-num\">3.4&nbsp;&nbsp;</span>Рассмотрим продолжительности поездок</a></span></li><li><span><a href=\"#Вывод.-По-полученным-данным-можно-сделать-следующий-общий-вывод-о-пользователях-сервиса:\" data-toc-modified-id=\"Вывод.-По-полученным-данным-можно-сделать-следующий-общий-вывод-о-пользователях-сервиса:-3.5\"><span class=\"toc-item-num\">3.5&nbsp;&nbsp;</span>Вывод. По полученным данным можно сделать следующий общий вывод о пользователях сервиса:</a></span></li></ul></li><li><span><a href=\"#Шаг-4.-Объединение-данных\" data-toc-modified-id=\"Шаг-4.-Объединение-данных-4\"><span class=\"toc-item-num\">4&nbsp;&nbsp;</span>Шаг 4. Объединение данных</a></span><ul class=\"toc-item\"><li><span><a href=\"#Объединяем-данные-о-пользователях,-поездках-и-подписках-в-один-датафрейм\" data-toc-modified-id=\"Объединяем-данные-о-пользователях,-поездках-и-подписках-в-один-датафрейм-4.1\"><span class=\"toc-item-num\">4.1&nbsp;&nbsp;</span>Объединяем данные о пользователях, поездках и подписках в один датафрейм</a></span></li><li><span><a href=\"#Создаем-ещё-два-датафрейма-из-датафрейма,-созданного-на-этапе-4.1\" data-toc-modified-id=\"Создаем-ещё-два-датафрейма-из-датафрейма,-созданного-на-этапе-4.1-4.2\"><span class=\"toc-item-num\">4.2&nbsp;&nbsp;</span>Создаем ещё два датафрейма из датафрейма, созданного на этапе 4.1</a></span></li><li><span><a href=\"#Визуализируем-информацию-о-расстоянии-и-времени-поездок-для-пользователей-категорий-free-и-ultra\" data-toc-modified-id=\"Визуализируем-информацию-о-расстоянии-и-времени-поездок-для-пользователей-категорий-free-и-ultra-4.3\"><span class=\"toc-item-num\">4.3&nbsp;&nbsp;</span>Визуализируем информацию о расстоянии и времени поездок для пользователей категорий free и ultra</a></span></li></ul></li><li><span><a href=\"#Шаг-5.-Подсчёт-выручки\" data-toc-modified-id=\"Шаг-5.-Подсчёт-выручки-5\"><span class=\"toc-item-num\">5&nbsp;&nbsp;</span>Шаг 5. Подсчёт выручки</a></span><ul class=\"toc-item\"><li><span><a href=\"#Создаем-общий-датафрейм-с-агрегированными-данными-о-поездках.\" data-toc-modified-id=\"Создаем-общий-датафрейм-с-агрегированными-данными-о-поездках.-5.1\"><span class=\"toc-item-num\">5.1&nbsp;&nbsp;</span>Создаем общий датафрейм с агрегированными данными о поездках.</a></span></li><li><span><a href=\"#Определяем-помесячную-выручку-от-каждого-пользователя\" data-toc-modified-id=\"Определяем-помесячную-выручку-от-каждого-пользователя-5.2\"><span class=\"toc-item-num\">5.2&nbsp;&nbsp;</span>Определяем помесячную выручку от каждого пользователя</a></span></li><li><span><a href=\"#Вывод\" data-toc-modified-id=\"Вывод-5.3\"><span class=\"toc-item-num\">5.3&nbsp;&nbsp;</span>Вывод</a></span></li></ul></li><li><span><a href=\"#Шаг-6.-Проверка-гипотез\" data-toc-modified-id=\"Шаг-6.-Проверка-гипотез-6\"><span class=\"toc-item-num\">6&nbsp;&nbsp;</span>Шаг 6. Проверка гипотез</a></span><ul class=\"toc-item\"><li><span><a href=\"#Гипотеза-№1\" data-toc-modified-id=\"Гипотеза-№1-6.1\"><span class=\"toc-item-num\">6.1&nbsp;&nbsp;</span>Гипотеза №1</a></span><ul class=\"toc-item\"><li><span><a href=\"#Вывод\" data-toc-modified-id=\"Вывод-6.1.1\"><span class=\"toc-item-num\">6.1.1&nbsp;&nbsp;</span>Вывод</a></span></li></ul></li><li><span><a href=\"#Гипотеза-№2\" data-toc-modified-id=\"Гипотеза-№2-6.2\"><span class=\"toc-item-num\">6.2&nbsp;&nbsp;</span>Гипотеза №2</a></span><ul class=\"toc-item\"><li><span><a href=\"#Вывод\" data-toc-modified-id=\"Вывод-6.2.1\"><span class=\"toc-item-num\">6.2.1&nbsp;&nbsp;</span>Вывод</a></span></li></ul></li><li><span><a href=\"#Гипотезу-№3\" data-toc-modified-id=\"Гипотезу-№3-6.3\"><span class=\"toc-item-num\">6.3&nbsp;&nbsp;</span>Гипотезу №3</a></span><ul class=\"toc-item\"><li><span><a href=\"#Вывод\" data-toc-modified-id=\"Вывод-6.3.1\"><span class=\"toc-item-num\">6.3.1&nbsp;&nbsp;</span>Вывод</a></span></li></ul></li><li><span><a href=\"#Ответим-на-вопрос\" data-toc-modified-id=\"Ответим-на-вопрос-6.4\"><span class=\"toc-item-num\">6.4&nbsp;&nbsp;</span>Ответим на вопрос</a></span><ul class=\"toc-item\"><li><span><a href=\"#Ответ:\" data-toc-modified-id=\"Ответ:-6.4.1\"><span class=\"toc-item-num\">6.4.1&nbsp;&nbsp;</span>Ответ:</a></span></li></ul></li></ul></li><li><span><a href=\"#Итоговый-вывод\" data-toc-modified-id=\"Итоговый-вывод-7\"><span class=\"toc-item-num\">7&nbsp;&nbsp;</span>Итоговый вывод</a></span></li></ul></div>"
   ]
  },
  {
   "cell_type": "code",
   "execution_count": 1,
   "id": "72576667",
   "metadata": {},
   "outputs": [],
   "source": [
    "import pandas as pd\n",
    "import numpy as np\n",
    "from math import factorial\n",
    "import matplotlib.pyplot as plt\n",
    "from scipy import stats as st"
   ]
  },
  {
   "cell_type": "markdown",
   "id": "c42cbe00",
   "metadata": {},
   "source": [
    "#### Шаг 1. Загрузка данных"
   ]
  },
  {
   "cell_type": "code",
   "execution_count": 2,
   "id": "eff9f206",
   "metadata": {},
   "outputs": [
    {
     "name": "stdout",
     "output_type": "stream",
     "text": [
      "<class 'pandas.core.frame.DataFrame'>\n",
      "RangeIndex: 1565 entries, 0 to 1564\n",
      "Data columns (total 5 columns):\n",
      " #   Column             Non-Null Count  Dtype \n",
      "---  ------             --------------  ----- \n",
      " 0   user_id            1565 non-null   int64 \n",
      " 1   name               1565 non-null   object\n",
      " 2   age                1565 non-null   int64 \n",
      " 3   city               1565 non-null   object\n",
      " 4   subscription_type  1565 non-null   object\n",
      "dtypes: int64(2), object(3)\n",
      "memory usage: 61.3+ KB\n"
     ]
    },
    {
     "data": {
      "text/html": [
       "<div>\n",
       "<style scoped>\n",
       "    .dataframe tbody tr th:only-of-type {\n",
       "        vertical-align: middle;\n",
       "    }\n",
       "\n",
       "    .dataframe tbody tr th {\n",
       "        vertical-align: top;\n",
       "    }\n",
       "\n",
       "    .dataframe thead th {\n",
       "        text-align: right;\n",
       "    }\n",
       "</style>\n",
       "<table border=\"1\" class=\"dataframe\">\n",
       "  <thead>\n",
       "    <tr style=\"text-align: right;\">\n",
       "      <th></th>\n",
       "      <th>user_id</th>\n",
       "      <th>name</th>\n",
       "      <th>age</th>\n",
       "      <th>city</th>\n",
       "      <th>subscription_type</th>\n",
       "    </tr>\n",
       "  </thead>\n",
       "  <tbody>\n",
       "    <tr>\n",
       "      <th>0</th>\n",
       "      <td>1</td>\n",
       "      <td>Кира</td>\n",
       "      <td>22</td>\n",
       "      <td>Тюмень</td>\n",
       "      <td>ultra</td>\n",
       "    </tr>\n",
       "    <tr>\n",
       "      <th>1</th>\n",
       "      <td>2</td>\n",
       "      <td>Станислав</td>\n",
       "      <td>31</td>\n",
       "      <td>Омск</td>\n",
       "      <td>ultra</td>\n",
       "    </tr>\n",
       "    <tr>\n",
       "      <th>2</th>\n",
       "      <td>3</td>\n",
       "      <td>Алексей</td>\n",
       "      <td>20</td>\n",
       "      <td>Москва</td>\n",
       "      <td>ultra</td>\n",
       "    </tr>\n",
       "    <tr>\n",
       "      <th>3</th>\n",
       "      <td>4</td>\n",
       "      <td>Константин</td>\n",
       "      <td>26</td>\n",
       "      <td>Ростов-на-Дону</td>\n",
       "      <td>ultra</td>\n",
       "    </tr>\n",
       "    <tr>\n",
       "      <th>4</th>\n",
       "      <td>5</td>\n",
       "      <td>Адель</td>\n",
       "      <td>28</td>\n",
       "      <td>Омск</td>\n",
       "      <td>ultra</td>\n",
       "    </tr>\n",
       "  </tbody>\n",
       "</table>\n",
       "</div>"
      ],
      "text/plain": [
       "   user_id        name  age            city subscription_type\n",
       "0        1        Кира   22          Тюмень             ultra\n",
       "1        2   Станислав   31            Омск             ultra\n",
       "2        3     Алексей   20          Москва             ultra\n",
       "3        4  Константин   26  Ростов-на-Дону             ultra\n",
       "4        5       Адель   28            Омск             ultra"
      ]
     },
     "execution_count": 2,
     "metadata": {},
     "output_type": "execute_result"
    }
   ],
   "source": [
    "users = pd.read_csv('c:/users/user/Desktop/datasets/users_go.csv')\n",
    "rides = pd.read_csv('c:/users/user/Desktop/datasets/rides_go.csv')\n",
    "subscriptions = pd.read_csv('c:/users/user/Desktop/datasets/subscriptions_go.csv')\n",
    "users.info()\n",
    "users.head()\n"
   ]
  },
  {
   "cell_type": "code",
   "execution_count": 3,
   "id": "0e65fcc2",
   "metadata": {},
   "outputs": [
    {
     "name": "stdout",
     "output_type": "stream",
     "text": [
      "<class 'pandas.core.frame.DataFrame'>\n",
      "RangeIndex: 18068 entries, 0 to 18067\n",
      "Data columns (total 4 columns):\n",
      " #   Column    Non-Null Count  Dtype  \n",
      "---  ------    --------------  -----  \n",
      " 0   user_id   18068 non-null  int64  \n",
      " 1   distance  18068 non-null  float64\n",
      " 2   duration  18068 non-null  float64\n",
      " 3   date      18068 non-null  object \n",
      "dtypes: float64(2), int64(1), object(1)\n",
      "memory usage: 564.8+ KB\n"
     ]
    },
    {
     "data": {
      "text/html": [
       "<div>\n",
       "<style scoped>\n",
       "    .dataframe tbody tr th:only-of-type {\n",
       "        vertical-align: middle;\n",
       "    }\n",
       "\n",
       "    .dataframe tbody tr th {\n",
       "        vertical-align: top;\n",
       "    }\n",
       "\n",
       "    .dataframe thead th {\n",
       "        text-align: right;\n",
       "    }\n",
       "</style>\n",
       "<table border=\"1\" class=\"dataframe\">\n",
       "  <thead>\n",
       "    <tr style=\"text-align: right;\">\n",
       "      <th></th>\n",
       "      <th>user_id</th>\n",
       "      <th>distance</th>\n",
       "      <th>duration</th>\n",
       "      <th>date</th>\n",
       "    </tr>\n",
       "  </thead>\n",
       "  <tbody>\n",
       "    <tr>\n",
       "      <th>0</th>\n",
       "      <td>1</td>\n",
       "      <td>4409.919140</td>\n",
       "      <td>25.599769</td>\n",
       "      <td>2021-01-01</td>\n",
       "    </tr>\n",
       "    <tr>\n",
       "      <th>1</th>\n",
       "      <td>1</td>\n",
       "      <td>2617.592153</td>\n",
       "      <td>15.816871</td>\n",
       "      <td>2021-01-18</td>\n",
       "    </tr>\n",
       "    <tr>\n",
       "      <th>2</th>\n",
       "      <td>1</td>\n",
       "      <td>754.159807</td>\n",
       "      <td>6.232113</td>\n",
       "      <td>2021-04-20</td>\n",
       "    </tr>\n",
       "    <tr>\n",
       "      <th>3</th>\n",
       "      <td>1</td>\n",
       "      <td>2694.783254</td>\n",
       "      <td>18.511000</td>\n",
       "      <td>2021-08-11</td>\n",
       "    </tr>\n",
       "    <tr>\n",
       "      <th>4</th>\n",
       "      <td>1</td>\n",
       "      <td>4028.687306</td>\n",
       "      <td>26.265803</td>\n",
       "      <td>2021-08-28</td>\n",
       "    </tr>\n",
       "  </tbody>\n",
       "</table>\n",
       "</div>"
      ],
      "text/plain": [
       "   user_id     distance   duration        date\n",
       "0        1  4409.919140  25.599769  2021-01-01\n",
       "1        1  2617.592153  15.816871  2021-01-18\n",
       "2        1   754.159807   6.232113  2021-04-20\n",
       "3        1  2694.783254  18.511000  2021-08-11\n",
       "4        1  4028.687306  26.265803  2021-08-28"
      ]
     },
     "execution_count": 3,
     "metadata": {},
     "output_type": "execute_result"
    }
   ],
   "source": [
    "rides.info()\n",
    "rides.head()"
   ]
  },
  {
   "cell_type": "code",
   "execution_count": 4,
   "id": "09403140",
   "metadata": {},
   "outputs": [
    {
     "name": "stdout",
     "output_type": "stream",
     "text": [
      "<class 'pandas.core.frame.DataFrame'>\n",
      "RangeIndex: 2 entries, 0 to 1\n",
      "Data columns (total 4 columns):\n",
      " #   Column             Non-Null Count  Dtype \n",
      "---  ------             --------------  ----- \n",
      " 0   subscription_type  2 non-null      object\n",
      " 1   minute_price       2 non-null      int64 \n",
      " 2   start_ride_price   2 non-null      int64 \n",
      " 3   subscription_fee   2 non-null      int64 \n",
      "dtypes: int64(3), object(1)\n",
      "memory usage: 192.0+ bytes\n"
     ]
    },
    {
     "data": {
      "text/html": [
       "<div>\n",
       "<style scoped>\n",
       "    .dataframe tbody tr th:only-of-type {\n",
       "        vertical-align: middle;\n",
       "    }\n",
       "\n",
       "    .dataframe tbody tr th {\n",
       "        vertical-align: top;\n",
       "    }\n",
       "\n",
       "    .dataframe thead th {\n",
       "        text-align: right;\n",
       "    }\n",
       "</style>\n",
       "<table border=\"1\" class=\"dataframe\">\n",
       "  <thead>\n",
       "    <tr style=\"text-align: right;\">\n",
       "      <th></th>\n",
       "      <th>subscription_type</th>\n",
       "      <th>minute_price</th>\n",
       "      <th>start_ride_price</th>\n",
       "      <th>subscription_fee</th>\n",
       "    </tr>\n",
       "  </thead>\n",
       "  <tbody>\n",
       "    <tr>\n",
       "      <th>0</th>\n",
       "      <td>free</td>\n",
       "      <td>8</td>\n",
       "      <td>50</td>\n",
       "      <td>0</td>\n",
       "    </tr>\n",
       "    <tr>\n",
       "      <th>1</th>\n",
       "      <td>ultra</td>\n",
       "      <td>6</td>\n",
       "      <td>0</td>\n",
       "      <td>199</td>\n",
       "    </tr>\n",
       "  </tbody>\n",
       "</table>\n",
       "</div>"
      ],
      "text/plain": [
       "  subscription_type  minute_price  start_ride_price  subscription_fee\n",
       "0              free             8                50                 0\n",
       "1             ultra             6                 0               199"
      ]
     },
     "execution_count": 4,
     "metadata": {},
     "output_type": "execute_result"
    }
   ],
   "source": [
    "subscriptions.info()\n",
    "subscriptions.head()"
   ]
  },
  {
   "cell_type": "markdown",
   "id": "9deddddd",
   "metadata": {},
   "source": [
    "##### Вывод\n",
    "\n",
    "Мы загрузили и получили данные из 3-х источников:\n",
    "1. `users_go.csv` - данные о пользователях. Содержит столбцы `user_id`(идентификационный номер пользователя), `name`(имя пользователя), `age`(возраст), `city`(город), `subscription_type`(тип подписки). Данный датафрейм мы обозначили как `users`.\n",
    "2. `rides_go.csv` - данные о поездках. Содержит столбцы `user_id`, `distance` (расстояние, которое пользователь проехал в текущей сессии в метрах), `duration` (продолжительность сессии (в минутах) — время с того момента, как пользователь нажал кнопку «Начать поездку» до момента, как он нажал кнопку «Завершить поездку»), `date`(дата совершения поездки). Данный датафрейм мы обозначили как `rides`\n",
    "3. subscriptions_go.csv - данные о подписках. Содержит столбцы `subscription_type` (тип подписки), `minute_price` (стоимость одной минуты поездки по данной подписке), `start_ride_price` (стоимость начала поездки), `subscription_fee` (стоимость ежемесячного платежа). Данный датафрейм мы обозначили как `subscriptions`.\n",
    "\n",
    "Общая информация изучена. Перейдем к предобработке данных."
   ]
  },
  {
   "cell_type": "markdown",
   "id": "e95ebca7",
   "metadata": {},
   "source": [
    "#### Шаг 2. Предобработка данных"
   ]
  },
  {
   "cell_type": "markdown",
   "id": "bf37dd7b",
   "metadata": {},
   "source": [
    "##### Внесем изменения в датафрейм `rides` \n",
    " - приведем столбец с `date` к типу даты Pandas  \n",
    " - добавим столбец с номером месяца на основе столбца `date` \n",
    " - округлим значения в столбцах `duartion` и `distance`"
   ]
  },
  {
   "cell_type": "code",
   "execution_count": 5,
   "id": "af6d202c",
   "metadata": {},
   "outputs": [
    {
     "name": "stdout",
     "output_type": "stream",
     "text": [
      "<class 'pandas.core.frame.DataFrame'>\n",
      "RangeIndex: 18068 entries, 0 to 18067\n",
      "Data columns (total 5 columns):\n",
      " #   Column    Non-Null Count  Dtype         \n",
      "---  ------    --------------  -----         \n",
      " 0   user_id   18068 non-null  int64         \n",
      " 1   distance  18068 non-null  float64       \n",
      " 2   duration  18068 non-null  float64       \n",
      " 3   date      18068 non-null  datetime64[ns]\n",
      " 4   month     18068 non-null  int64         \n",
      "dtypes: datetime64[ns](1), float64(2), int64(2)\n",
      "memory usage: 705.9 KB\n"
     ]
    },
    {
     "data": {
      "text/html": [
       "<div>\n",
       "<style scoped>\n",
       "    .dataframe tbody tr th:only-of-type {\n",
       "        vertical-align: middle;\n",
       "    }\n",
       "\n",
       "    .dataframe tbody tr th {\n",
       "        vertical-align: top;\n",
       "    }\n",
       "\n",
       "    .dataframe thead th {\n",
       "        text-align: right;\n",
       "    }\n",
       "</style>\n",
       "<table border=\"1\" class=\"dataframe\">\n",
       "  <thead>\n",
       "    <tr style=\"text-align: right;\">\n",
       "      <th></th>\n",
       "      <th>user_id</th>\n",
       "      <th>distance</th>\n",
       "      <th>duration</th>\n",
       "      <th>date</th>\n",
       "      <th>month</th>\n",
       "    </tr>\n",
       "  </thead>\n",
       "  <tbody>\n",
       "    <tr>\n",
       "      <th>0</th>\n",
       "      <td>1</td>\n",
       "      <td>4410.0</td>\n",
       "      <td>26.0</td>\n",
       "      <td>2021-01-01</td>\n",
       "      <td>1</td>\n",
       "    </tr>\n",
       "    <tr>\n",
       "      <th>1</th>\n",
       "      <td>1</td>\n",
       "      <td>2618.0</td>\n",
       "      <td>16.0</td>\n",
       "      <td>2021-01-18</td>\n",
       "      <td>1</td>\n",
       "    </tr>\n",
       "    <tr>\n",
       "      <th>2</th>\n",
       "      <td>1</td>\n",
       "      <td>754.0</td>\n",
       "      <td>6.0</td>\n",
       "      <td>2021-04-20</td>\n",
       "      <td>4</td>\n",
       "    </tr>\n",
       "    <tr>\n",
       "      <th>3</th>\n",
       "      <td>1</td>\n",
       "      <td>2695.0</td>\n",
       "      <td>19.0</td>\n",
       "      <td>2021-08-11</td>\n",
       "      <td>8</td>\n",
       "    </tr>\n",
       "    <tr>\n",
       "      <th>4</th>\n",
       "      <td>1</td>\n",
       "      <td>4029.0</td>\n",
       "      <td>26.0</td>\n",
       "      <td>2021-08-28</td>\n",
       "      <td>8</td>\n",
       "    </tr>\n",
       "  </tbody>\n",
       "</table>\n",
       "</div>"
      ],
      "text/plain": [
       "   user_id  distance  duration       date  month\n",
       "0        1    4410.0      26.0 2021-01-01      1\n",
       "1        1    2618.0      16.0 2021-01-18      1\n",
       "2        1     754.0       6.0 2021-04-20      4\n",
       "3        1    2695.0      19.0 2021-08-11      8\n",
       "4        1    4029.0      26.0 2021-08-28      8"
      ]
     },
     "execution_count": 5,
     "metadata": {},
     "output_type": "execute_result"
    }
   ],
   "source": [
    "rides['date'] = pd.to_datetime(rides['date'], format='%Y-%m-%d')\n",
    "rides['month'] = pd.DatetimeIndex(rides['date']).month\n",
    "rides['duration'] = np.round(rides['duration'],0)\n",
    "rides['distance'] = np.round(rides['distance'], 0)\n",
    "\n",
    "rides.info()\n",
    "rides.head()"
   ]
  },
  {
   "cell_type": "markdown",
   "id": "6a5e363c",
   "metadata": {},
   "source": [
    "##### Проверим наличие пропущенных значений в датафреймах"
   ]
  },
  {
   "cell_type": "code",
   "execution_count": 6,
   "id": "5b435468",
   "metadata": {},
   "outputs": [
    {
     "data": {
      "text/plain": [
       "subscription_type    0\n",
       "minute_price         0\n",
       "start_ride_price     0\n",
       "subscription_fee     0\n",
       "dtype: int64"
      ]
     },
     "execution_count": 6,
     "metadata": {},
     "output_type": "execute_result"
    }
   ],
   "source": [
    "users.isna().sum()\n",
    "rides.isna().sum()\n",
    "subscriptions.isna().sum()"
   ]
  },
  {
   "cell_type": "markdown",
   "id": "cfee9188",
   "metadata": {},
   "source": [
    "Пропущенных значений не обнаружено"
   ]
  },
  {
   "cell_type": "markdown",
   "id": "80d9d387",
   "metadata": {},
   "source": [
    "##### Проверим наличие явных дубликатов в датафреймах и удалим их, в случае выявления"
   ]
  },
  {
   "cell_type": "code",
   "execution_count": 7,
   "id": "54a7b1e0",
   "metadata": {},
   "outputs": [
    {
     "data": {
      "text/plain": [
       "31"
      ]
     },
     "execution_count": 7,
     "metadata": {},
     "output_type": "execute_result"
    }
   ],
   "source": [
    "users.duplicated().sum()"
   ]
  },
  {
   "cell_type": "code",
   "execution_count": 8,
   "id": "6809ae29",
   "metadata": {},
   "outputs": [
    {
     "data": {
      "text/plain": [
       "0"
      ]
     },
     "execution_count": 8,
     "metadata": {},
     "output_type": "execute_result"
    }
   ],
   "source": [
    "rides.duplicated().sum()"
   ]
  },
  {
   "cell_type": "code",
   "execution_count": 9,
   "id": "f1bdcb71",
   "metadata": {},
   "outputs": [
    {
     "data": {
      "text/plain": [
       "0"
      ]
     },
     "execution_count": 9,
     "metadata": {},
     "output_type": "execute_result"
    }
   ],
   "source": [
    "subscriptions.duplicated().sum()"
   ]
  },
  {
   "cell_type": "code",
   "execution_count": 10,
   "id": "f9b82be2",
   "metadata": {},
   "outputs": [],
   "source": [
    "users = users.drop_duplicates().reset_index()"
   ]
  },
  {
   "cell_type": "code",
   "execution_count": 11,
   "id": "e006cf8a",
   "metadata": {},
   "outputs": [
    {
     "data": {
      "text/plain": [
       "0"
      ]
     },
     "execution_count": 11,
     "metadata": {},
     "output_type": "execute_result"
    }
   ],
   "source": [
    "users.duplicated().sum()"
   ]
  },
  {
   "cell_type": "markdown",
   "id": "f6bd083c",
   "metadata": {},
   "source": [
    "##### Вывод\n",
    "В результате предообработки данных во всех 3-х датафреймах мы внесли **изменения в датафрейм `rides`**,  а именно:\n",
    "1. столбец `date` привели в типу даты Pandas\n",
    "2. добавили новый столбец `month`, где на основе данных из столбца `date` указан номер месяца \n",
    "3. значения в столбцах `duration` и `distance` округлили в сторону ближайших целых значений (0 значений после запятой)\n",
    "\n",
    "Далее мы проверили количество пропущенных значений во всех 3-х датафреймах. **Пропущенных значений не выявлено.**\n",
    "\n",
    "Проверили датафреймы на наличие явных дубликатов. **Дубликаты (31)** были выявлены только в **датафреме `users`**. Выявленные **явные дубликаты были удалены, индексация датафрейма обновлена.**"
   ]
  },
  {
   "cell_type": "code",
   "execution_count": 12,
   "id": "e0bd000b",
   "metadata": {},
   "outputs": [
    {
     "data": {
      "text/plain": [
       "0"
      ]
     },
     "execution_count": 12,
     "metadata": {},
     "output_type": "execute_result"
    }
   ],
   "source": [
    "# Код ревьюера\n",
    "users.duplicated().sum()"
   ]
  },
  {
   "cell_type": "markdown",
   "id": "212593c7",
   "metadata": {},
   "source": [
    "#### Шаг 3. Исследовательский анализ данных\n",
    "Опишем и визуализируем общую информацию о пользователях и поездках"
   ]
  },
  {
   "cell_type": "markdown",
   "id": "bb13ca1a",
   "metadata": {},
   "source": [
    "##### Рассмотрим частоту встречаемости городов"
   ]
  },
  {
   "cell_type": "code",
   "execution_count": 13,
   "id": "7b762d63",
   "metadata": {},
   "outputs": [
    {
     "data": {
      "image/png": "[encoded data removed]",
      "text/plain": [
       "<Figure size 1000x500 with 1 Axes>"
      ]
     },
     "metadata": {},
     "output_type": "display_data"
    }
   ],
   "source": [
    "users.groupby('city')['user_id'].count().sort_values().plot(kind='barh', figsize=(10, 5), color='blue', grid=True)\n",
    "plt.xlabel('Частота', fontsize = 20, color = 'grey')\n",
    "plt.ylabel('Города', fontsize = 20, color = 'grey')\n",
    "plt.title('Частота встречаемости городов' + \"\\n\", fontsize = 25, color = 'blue')\n",
    "plt.show()"
   ]
  },
  {
   "cell_type": "markdown",
   "id": "f2fdd7fe",
   "metadata": {},
   "source": [
    "По гистограмме мы видим, что Сервис работает в 8 городах России, включая Москву. Самое большое количество пользователей в г. Пятигорске (220), самое меньшее - в Москве(170). "
   ]
  },
  {
   "cell_type": "markdown",
   "id": "562261d2",
   "metadata": {},
   "source": [
    "##### Рассмотрим соотношение пользователей с подпиской и без подписки"
   ]
  },
  {
   "cell_type": "code",
   "execution_count": 14,
   "id": "ecbe4142",
   "metadata": {},
   "outputs": [
    {
     "data": {
      "image/png": "[encoded data removed]",
      "text/plain": [
       "<Figure size 2000x500 with 1 Axes>"
      ]
     },
     "metadata": {},
     "output_type": "display_data"
    }
   ],
   "source": [
    "users['subscription_type'].value_counts().plot(kind = 'pie', figsize = (20, 5), colors=['pink', 'blue'],\n",
    "                                               autopct='%.1f', fontsize=15)\n",
    "plt.ylabel('Тип подписки', fontsize = 20, color = 'grey')\n",
    "plt.title('Соотношение пользователей с подпиской и без подписки' + \"\\n\", fontsize=25, color='blue')\n",
    "\n",
    "plt.show()"
   ]
  },
  {
   "cell_type": "markdown",
   "id": "f9363b8f",
   "metadata": {},
   "source": [
    "Круговая диаграмма показывает, что большая часть пользователей предпочитает пользоваться тарифом Free (без подписки) - 54.4% от общего числа пользователей."
   ]
  },
  {
   "cell_type": "code",
   "execution_count": 15,
   "id": "d01dce8f",
   "metadata": {},
   "outputs": [
    {
     "data": {
      "image/png": "[encoded data removed]",
      "text/plain": [
       "<Figure size 1500x700 with 1 Axes>"
      ]
     },
     "metadata": {},
     "output_type": "display_data"
    }
   ],
   "source": [
    "users['age'].plot(kind='hist', bins=100, figsize=(15, 7), color='orange', grid=True)\n",
    "\n",
    "plt.ylabel('Частота', fontsize = 20, color = 'grey')\n",
    "plt.xlabel('Возраст пользователей', fontsize = 20, color = 'grey')\n",
    "plt.title('Распределение возрастов пользователей' + \"\\n\", fontsize = 25, color='blue')\n",
    "plt.show()"
   ]
  },
  {
   "cell_type": "code",
   "execution_count": 16,
   "id": "fdc8b583",
   "metadata": {},
   "outputs": [
    {
     "data": {
      "text/plain": [
       "count    1534.000000\n",
       "mean       24.903520\n",
       "std         4.572367\n",
       "min        12.000000\n",
       "25%        22.000000\n",
       "50%        25.000000\n",
       "75%        28.000000\n",
       "max        43.000000\n",
       "Name: age, dtype: float64"
      ]
     },
     "execution_count": 16,
     "metadata": {},
     "output_type": "execute_result"
    }
   ],
   "source": [
    "users['age'].describe()"
   ]
  },
  {
   "cell_type": "code",
   "execution_count": 17,
   "id": "4f87b300",
   "metadata": {},
   "outputs": [
    {
     "data": {
      "text/plain": [
       "25.0"
      ]
     },
     "execution_count": 17,
     "metadata": {},
     "output_type": "execute_result"
    }
   ],
   "source": [
    "users['age'].median()"
   ]
  },
  {
   "cell_type": "markdown",
   "id": "283a9800",
   "metadata": {},
   "source": [
    "Согласно гистограмме распределения всех возрастов пользователей, возраст пользователей сервиса - от 12 до 43 лет. Средний возраст (который является также медианой) - 25 лет. Чаще всего сервисом пользуются именно 25 летние. Самыми активными пользователями можно назвать группу пользователей в возрасте от 20 до 30 лет. "
   ]
  },
  {
   "cell_type": "markdown",
   "id": "d8aee672",
   "metadata": {},
   "source": [
    "##### Рассмотрим расстояния, которые пользователи преодолевают за одну поездку"
   ]
  },
  {
   "cell_type": "code",
   "execution_count": 18,
   "id": "bdb05aa5",
   "metadata": {},
   "outputs": [
    {
     "data": {
      "image/png": "[encoded data removed]",
      "text/plain": [
       "<Figure size 1500x700 with 1 Axes>"
      ]
     },
     "metadata": {},
     "output_type": "display_data"
    },
    {
     "data": {
      "text/plain": [
       "count    18068.000000\n",
       "mean      3070.659010\n",
       "std       1116.832209\n",
       "min          1.000000\n",
       "25%       2543.000000\n",
       "50%       3134.000000\n",
       "75%       3776.000000\n",
       "max       7211.000000\n",
       "Name: distance, dtype: float64"
      ]
     },
     "execution_count": 18,
     "metadata": {},
     "output_type": "execute_result"
    }
   ],
   "source": [
    "rides['distance'].plot(kind='hist', grid=True, figsize=(15,7), bins=1000,\n",
    "                                                        fontsize=15, color='green')\n",
    "plt.ylabel('Частота', fontsize = 20, color = 'grey')\n",
    "plt.xlabel('Расстояния', fontsize = 20, color = 'grey')\n",
    "plt.title('Расстояние, которое пользователь преодолел за одну поездку' + \"\\n\", fontsize = 25, color='blue')\n",
    "plt.show()\n",
    "\n",
    "rides['distance'].describe()"
   ]
  },
  {
   "cell_type": "markdown",
   "id": "8f69089b",
   "metadata": {},
   "source": [
    "По гистограмме и полученным мы видим, что **Среднее значение расстояния - 3070 метров**. Гистограмма распределния расстояний похожа на нормальное распределение. Большее количество \"расстояний\" лежат в диапазоне **от 2100 до 4600 метров.** Небольшие выборсы замечаются в диапазоне от 0 до 1000 метров. В данном диапазоне наблюдается некая активность позльзователей, превышающая данные в диапазоне от 1000 до 2000 метров."
   ]
  },
  {
   "cell_type": "markdown",
   "id": "2b8dfa9e",
   "metadata": {},
   "source": [
    "##### Рассмотрим продолжительности поездок"
   ]
  },
  {
   "cell_type": "code",
   "execution_count": 19,
   "id": "c3d8ee6d",
   "metadata": {},
   "outputs": [
    {
     "data": {
      "image/png": "[encoded data removed]",
      "text/plain": [
       "<Figure size 1700x500 with 1 Axes>"
      ]
     },
     "metadata": {},
     "output_type": "display_data"
    },
    {
     "data": {
      "text/plain": [
       "count    18068.000000\n",
       "mean        17.803852\n",
       "std          6.104153\n",
       "min          0.000000\n",
       "25%         14.000000\n",
       "50%         18.000000\n",
       "75%         22.000000\n",
       "max         41.000000\n",
       "Name: duration, dtype: float64"
      ]
     },
     "execution_count": 19,
     "metadata": {},
     "output_type": "execute_result"
    }
   ],
   "source": [
    "rides['duration'].plot(kind='hist', grid=True, figsize=(17,5), bins=100, fontsize=15, color='red')\n",
    "plt.ylabel('Частота', fontsize = 20, color = 'grey')\n",
    "plt.xlabel('Продолжительность поездок', fontsize = 20, color = 'grey')\n",
    "plt.title('Продолжительность поездок' + \"\\n\", fontsize = 25, color='blue')\n",
    "plt.show()\n",
    "\n",
    "rides['duration'].describe()"
   ]
  },
  {
   "cell_type": "markdown",
   "id": "ad6d5e66",
   "metadata": {},
   "source": [
    "По гистограмме распределения продолжительности 1 поездки мы видим среднее значение и оно же, самое частое значение продолжительности поездки - 18 мин. Большее количество значений продолжительности 1 поездки лежат в интервале от 10 до 26 минут."
   ]
  },
  {
   "cell_type": "markdown",
   "id": "534a32de",
   "metadata": {},
   "source": [
    "##### Вывод. По полученным данным можно сделать следующий общий вывод о пользователях сервиса:\n",
    "1. Сервис работает в 8 городах России, включая Москву. Самое большое количество пользователей в г. Пятигорске (220), самое меньшее в Москве(170).\n",
    "2. Большая часть пользователей предпочитает пользоваться тарифом Free (без подписки) - 54.4% от общего числа пользователей.\n",
    "3. Возраст пользователей сервиса - от 12 до 43 лет. Средний возраст (который является также медианой) - 25 лет. Чаще всего сервисом пользуются именно 25 летние. Самыми активными пользователями можно назвать группу пользователей в возрасте от 20 до 30 лет. \n",
    "4. **Среднее значение расстояния, которое пользователь преодолел за одну поездку, - 3070 метров**. Гистограмма распределния расстояний похожа на нормальное распределение. Большее количество \"расстояний\" лежат в диапазоне **от 2100 до 4600 метров.** Небольшие выборсы замечаются в диапазоне от 0 до 1000 метров. В данном диапазоне наблюдается некая активность позльзователей, превышающая данные в диапазоне от 1000 до 2000 метров.\n",
    "5. По гистограмме распределения продолжительности 1 поездки мы видим среднее значение и оно же, самое частое значение продолжительности поездки - 18 мин. Большее количество значений продолжительности 1 поездки лежат в интервале от 10 до 26 минут.\n",
    "6. **Среднее расстояние**, которое преодалевает пользователь за одну поездку - **порядка 3км.**, **средняя продолжительность 1 поездки - 18мин.**"
   ]
  },
  {
   "cell_type": "markdown",
   "id": "4ef51331",
   "metadata": {},
   "source": [
    "#### Шаг 4. Объединение данных"
   ]
  },
  {
   "cell_type": "markdown",
   "id": "91ce8f33",
   "metadata": {},
   "source": [
    "##### Объединяем данные о пользователях, поездках и подписках в один датафрейм"
   ]
  },
  {
   "cell_type": "code",
   "execution_count": 20,
   "id": "6bf288b5",
   "metadata": {},
   "outputs": [
    {
     "data": {
      "text/html": [
       "<div>\n",
       "<style scoped>\n",
       "    .dataframe tbody tr th:only-of-type {\n",
       "        vertical-align: middle;\n",
       "    }\n",
       "\n",
       "    .dataframe tbody tr th {\n",
       "        vertical-align: top;\n",
       "    }\n",
       "\n",
       "    .dataframe thead th {\n",
       "        text-align: right;\n",
       "    }\n",
       "</style>\n",
       "<table border=\"1\" class=\"dataframe\">\n",
       "  <thead>\n",
       "    <tr style=\"text-align: right;\">\n",
       "      <th></th>\n",
       "      <th>index</th>\n",
       "      <th>user_id</th>\n",
       "      <th>name</th>\n",
       "      <th>age</th>\n",
       "      <th>city</th>\n",
       "      <th>subscription_type</th>\n",
       "      <th>distance</th>\n",
       "      <th>duration</th>\n",
       "      <th>date</th>\n",
       "      <th>month</th>\n",
       "    </tr>\n",
       "  </thead>\n",
       "  <tbody>\n",
       "    <tr>\n",
       "      <th>0</th>\n",
       "      <td>0</td>\n",
       "      <td>1</td>\n",
       "      <td>Кира</td>\n",
       "      <td>22</td>\n",
       "      <td>Тюмень</td>\n",
       "      <td>ultra</td>\n",
       "      <td>4410.0</td>\n",
       "      <td>26.0</td>\n",
       "      <td>2021-01-01</td>\n",
       "      <td>1</td>\n",
       "    </tr>\n",
       "    <tr>\n",
       "      <th>1</th>\n",
       "      <td>0</td>\n",
       "      <td>1</td>\n",
       "      <td>Кира</td>\n",
       "      <td>22</td>\n",
       "      <td>Тюмень</td>\n",
       "      <td>ultra</td>\n",
       "      <td>2618.0</td>\n",
       "      <td>16.0</td>\n",
       "      <td>2021-01-18</td>\n",
       "      <td>1</td>\n",
       "    </tr>\n",
       "    <tr>\n",
       "      <th>2</th>\n",
       "      <td>0</td>\n",
       "      <td>1</td>\n",
       "      <td>Кира</td>\n",
       "      <td>22</td>\n",
       "      <td>Тюмень</td>\n",
       "      <td>ultra</td>\n",
       "      <td>754.0</td>\n",
       "      <td>6.0</td>\n",
       "      <td>2021-04-20</td>\n",
       "      <td>4</td>\n",
       "    </tr>\n",
       "    <tr>\n",
       "      <th>3</th>\n",
       "      <td>0</td>\n",
       "      <td>1</td>\n",
       "      <td>Кира</td>\n",
       "      <td>22</td>\n",
       "      <td>Тюмень</td>\n",
       "      <td>ultra</td>\n",
       "      <td>2695.0</td>\n",
       "      <td>19.0</td>\n",
       "      <td>2021-08-11</td>\n",
       "      <td>8</td>\n",
       "    </tr>\n",
       "    <tr>\n",
       "      <th>4</th>\n",
       "      <td>0</td>\n",
       "      <td>1</td>\n",
       "      <td>Кира</td>\n",
       "      <td>22</td>\n",
       "      <td>Тюмень</td>\n",
       "      <td>ultra</td>\n",
       "      <td>4029.0</td>\n",
       "      <td>26.0</td>\n",
       "      <td>2021-08-28</td>\n",
       "      <td>8</td>\n",
       "    </tr>\n",
       "    <tr>\n",
       "      <th>...</th>\n",
       "      <td>...</td>\n",
       "      <td>...</td>\n",
       "      <td>...</td>\n",
       "      <td>...</td>\n",
       "      <td>...</td>\n",
       "      <td>...</td>\n",
       "      <td>...</td>\n",
       "      <td>...</td>\n",
       "      <td>...</td>\n",
       "      <td>...</td>\n",
       "    </tr>\n",
       "    <tr>\n",
       "      <th>18063</th>\n",
       "      <td>1533</td>\n",
       "      <td>1534</td>\n",
       "      <td>Альберт</td>\n",
       "      <td>25</td>\n",
       "      <td>Краснодар</td>\n",
       "      <td>free</td>\n",
       "      <td>3781.0</td>\n",
       "      <td>20.0</td>\n",
       "      <td>2021-11-04</td>\n",
       "      <td>11</td>\n",
       "    </tr>\n",
       "    <tr>\n",
       "      <th>18064</th>\n",
       "      <td>1533</td>\n",
       "      <td>1534</td>\n",
       "      <td>Альберт</td>\n",
       "      <td>25</td>\n",
       "      <td>Краснодар</td>\n",
       "      <td>free</td>\n",
       "      <td>2840.0</td>\n",
       "      <td>21.0</td>\n",
       "      <td>2021-11-16</td>\n",
       "      <td>11</td>\n",
       "    </tr>\n",
       "    <tr>\n",
       "      <th>18065</th>\n",
       "      <td>1533</td>\n",
       "      <td>1534</td>\n",
       "      <td>Альберт</td>\n",
       "      <td>25</td>\n",
       "      <td>Краснодар</td>\n",
       "      <td>free</td>\n",
       "      <td>3826.0</td>\n",
       "      <td>18.0</td>\n",
       "      <td>2021-11-18</td>\n",
       "      <td>11</td>\n",
       "    </tr>\n",
       "    <tr>\n",
       "      <th>18066</th>\n",
       "      <td>1533</td>\n",
       "      <td>1534</td>\n",
       "      <td>Альберт</td>\n",
       "      <td>25</td>\n",
       "      <td>Краснодар</td>\n",
       "      <td>free</td>\n",
       "      <td>2902.0</td>\n",
       "      <td>17.0</td>\n",
       "      <td>2021-11-27</td>\n",
       "      <td>11</td>\n",
       "    </tr>\n",
       "    <tr>\n",
       "      <th>18067</th>\n",
       "      <td>1533</td>\n",
       "      <td>1534</td>\n",
       "      <td>Альберт</td>\n",
       "      <td>25</td>\n",
       "      <td>Краснодар</td>\n",
       "      <td>free</td>\n",
       "      <td>2372.0</td>\n",
       "      <td>16.0</td>\n",
       "      <td>2021-12-29</td>\n",
       "      <td>12</td>\n",
       "    </tr>\n",
       "  </tbody>\n",
       "</table>\n",
       "<p>18068 rows × 10 columns</p>\n",
       "</div>"
      ],
      "text/plain": [
       "       index  user_id     name  age       city subscription_type  distance  \\\n",
       "0          0        1     Кира   22     Тюмень             ultra    4410.0   \n",
       "1          0        1     Кира   22     Тюмень             ultra    2618.0   \n",
       "2          0        1     Кира   22     Тюмень             ultra     754.0   \n",
       "3          0        1     Кира   22     Тюмень             ultra    2695.0   \n",
       "4          0        1     Кира   22     Тюмень             ultra    4029.0   \n",
       "...      ...      ...      ...  ...        ...               ...       ...   \n",
       "18063   1533     1534  Альберт   25  Краснодар              free    3781.0   \n",
       "18064   1533     1534  Альберт   25  Краснодар              free    2840.0   \n",
       "18065   1533     1534  Альберт   25  Краснодар              free    3826.0   \n",
       "18066   1533     1534  Альберт   25  Краснодар              free    2902.0   \n",
       "18067   1533     1534  Альберт   25  Краснодар              free    2372.0   \n",
       "\n",
       "       duration       date  month  \n",
       "0          26.0 2021-01-01      1  \n",
       "1          16.0 2021-01-18      1  \n",
       "2           6.0 2021-04-20      4  \n",
       "3          19.0 2021-08-11      8  \n",
       "4          26.0 2021-08-28      8  \n",
       "...         ...        ...    ...  \n",
       "18063      20.0 2021-11-04     11  \n",
       "18064      21.0 2021-11-16     11  \n",
       "18065      18.0 2021-11-18     11  \n",
       "18066      17.0 2021-11-27     11  \n",
       "18067      16.0 2021-12-29     12  \n",
       "\n",
       "[18068 rows x 10 columns]"
      ]
     },
     "metadata": {},
     "output_type": "display_data"
    }
   ],
   "source": [
    "general_data = users.merge(rides, on='user_id', how='outer')\n",
    "display(general_data)"
   ]
  },
  {
   "cell_type": "code",
   "execution_count": 21,
   "id": "0890140e",
   "metadata": {},
   "outputs": [
    {
     "name": "stdout",
     "output_type": "stream",
     "text": [
      "<class 'pandas.core.frame.DataFrame'>\n",
      "Int64Index: 18068 entries, 0 to 18067\n",
      "Data columns (total 13 columns):\n",
      " #   Column             Non-Null Count  Dtype         \n",
      "---  ------             --------------  -----         \n",
      " 0   index              18068 non-null  int64         \n",
      " 1   user_id            18068 non-null  int64         \n",
      " 2   name               18068 non-null  object        \n",
      " 3   age                18068 non-null  int64         \n",
      " 4   city               18068 non-null  object        \n",
      " 5   subscription_type  18068 non-null  object        \n",
      " 6   distance           18068 non-null  float64       \n",
      " 7   duration           18068 non-null  float64       \n",
      " 8   date               18068 non-null  datetime64[ns]\n",
      " 9   month              18068 non-null  int64         \n",
      " 10  minute_price       18068 non-null  int64         \n",
      " 11  start_ride_price   18068 non-null  int64         \n",
      " 12  subscription_fee   18068 non-null  int64         \n",
      "dtypes: datetime64[ns](1), float64(2), int64(7), object(3)\n",
      "memory usage: 1.9+ MB\n"
     ]
    }
   ],
   "source": [
    "general_data = general_data.merge(subscriptions, on='subscription_type', how='left')\n",
    "general_data.info()"
   ]
  },
  {
   "cell_type": "code",
   "execution_count": 22,
   "id": "8fc31a8b",
   "metadata": {},
   "outputs": [
    {
     "data": {
      "text/html": [
       "<div>\n",
       "<style scoped>\n",
       "    .dataframe tbody tr th:only-of-type {\n",
       "        vertical-align: middle;\n",
       "    }\n",
       "\n",
       "    .dataframe tbody tr th {\n",
       "        vertical-align: top;\n",
       "    }\n",
       "\n",
       "    .dataframe thead th {\n",
       "        text-align: right;\n",
       "    }\n",
       "</style>\n",
       "<table border=\"1\" class=\"dataframe\">\n",
       "  <thead>\n",
       "    <tr style=\"text-align: right;\">\n",
       "      <th></th>\n",
       "      <th>index</th>\n",
       "      <th>user_id</th>\n",
       "      <th>name</th>\n",
       "      <th>age</th>\n",
       "      <th>city</th>\n",
       "      <th>subscription_type</th>\n",
       "      <th>distance</th>\n",
       "      <th>duration</th>\n",
       "      <th>date</th>\n",
       "      <th>month</th>\n",
       "      <th>minute_price</th>\n",
       "      <th>start_ride_price</th>\n",
       "      <th>subscription_fee</th>\n",
       "    </tr>\n",
       "  </thead>\n",
       "  <tbody>\n",
       "    <tr>\n",
       "      <th>0</th>\n",
       "      <td>0</td>\n",
       "      <td>1</td>\n",
       "      <td>Кира</td>\n",
       "      <td>22</td>\n",
       "      <td>Тюмень</td>\n",
       "      <td>ultra</td>\n",
       "      <td>4410.0</td>\n",
       "      <td>26.0</td>\n",
       "      <td>2021-01-01</td>\n",
       "      <td>1</td>\n",
       "      <td>6</td>\n",
       "      <td>0</td>\n",
       "      <td>199</td>\n",
       "    </tr>\n",
       "    <tr>\n",
       "      <th>1</th>\n",
       "      <td>0</td>\n",
       "      <td>1</td>\n",
       "      <td>Кира</td>\n",
       "      <td>22</td>\n",
       "      <td>Тюмень</td>\n",
       "      <td>ultra</td>\n",
       "      <td>2618.0</td>\n",
       "      <td>16.0</td>\n",
       "      <td>2021-01-18</td>\n",
       "      <td>1</td>\n",
       "      <td>6</td>\n",
       "      <td>0</td>\n",
       "      <td>199</td>\n",
       "    </tr>\n",
       "    <tr>\n",
       "      <th>2</th>\n",
       "      <td>0</td>\n",
       "      <td>1</td>\n",
       "      <td>Кира</td>\n",
       "      <td>22</td>\n",
       "      <td>Тюмень</td>\n",
       "      <td>ultra</td>\n",
       "      <td>754.0</td>\n",
       "      <td>6.0</td>\n",
       "      <td>2021-04-20</td>\n",
       "      <td>4</td>\n",
       "      <td>6</td>\n",
       "      <td>0</td>\n",
       "      <td>199</td>\n",
       "    </tr>\n",
       "    <tr>\n",
       "      <th>3</th>\n",
       "      <td>0</td>\n",
       "      <td>1</td>\n",
       "      <td>Кира</td>\n",
       "      <td>22</td>\n",
       "      <td>Тюмень</td>\n",
       "      <td>ultra</td>\n",
       "      <td>2695.0</td>\n",
       "      <td>19.0</td>\n",
       "      <td>2021-08-11</td>\n",
       "      <td>8</td>\n",
       "      <td>6</td>\n",
       "      <td>0</td>\n",
       "      <td>199</td>\n",
       "    </tr>\n",
       "    <tr>\n",
       "      <th>4</th>\n",
       "      <td>0</td>\n",
       "      <td>1</td>\n",
       "      <td>Кира</td>\n",
       "      <td>22</td>\n",
       "      <td>Тюмень</td>\n",
       "      <td>ultra</td>\n",
       "      <td>4029.0</td>\n",
       "      <td>26.0</td>\n",
       "      <td>2021-08-28</td>\n",
       "      <td>8</td>\n",
       "      <td>6</td>\n",
       "      <td>0</td>\n",
       "      <td>199</td>\n",
       "    </tr>\n",
       "  </tbody>\n",
       "</table>\n",
       "</div>"
      ],
      "text/plain": [
       "   index  user_id  name  age    city subscription_type  distance  duration  \\\n",
       "0      0        1  Кира   22  Тюмень             ultra    4410.0      26.0   \n",
       "1      0        1  Кира   22  Тюмень             ultra    2618.0      16.0   \n",
       "2      0        1  Кира   22  Тюмень             ultra     754.0       6.0   \n",
       "3      0        1  Кира   22  Тюмень             ultra    2695.0      19.0   \n",
       "4      0        1  Кира   22  Тюмень             ultra    4029.0      26.0   \n",
       "\n",
       "        date  month  minute_price  start_ride_price  subscription_fee  \n",
       "0 2021-01-01      1             6                 0               199  \n",
       "1 2021-01-18      1             6                 0               199  \n",
       "2 2021-04-20      4             6                 0               199  \n",
       "3 2021-08-11      8             6                 0               199  \n",
       "4 2021-08-28      8             6                 0               199  "
      ]
     },
     "execution_count": 22,
     "metadata": {},
     "output_type": "execute_result"
    }
   ],
   "source": [
    "general_data.head()"
   ]
  },
  {
   "cell_type": "markdown",
   "id": "fd4dc193",
   "metadata": {},
   "source": [
    "##### Создаем ещё два датафрейма из датафрейма, созданного на этапе 4.1"
   ]
  },
  {
   "cell_type": "code",
   "execution_count": 23,
   "id": "03992eac",
   "metadata": {},
   "outputs": [
    {
     "data": {
      "text/html": [
       "<div>\n",
       "<style scoped>\n",
       "    .dataframe tbody tr th:only-of-type {\n",
       "        vertical-align: middle;\n",
       "    }\n",
       "\n",
       "    .dataframe tbody tr th {\n",
       "        vertical-align: top;\n",
       "    }\n",
       "\n",
       "    .dataframe thead th {\n",
       "        text-align: right;\n",
       "    }\n",
       "</style>\n",
       "<table border=\"1\" class=\"dataframe\">\n",
       "  <thead>\n",
       "    <tr style=\"text-align: right;\">\n",
       "      <th></th>\n",
       "      <th>index</th>\n",
       "      <th>user_id</th>\n",
       "      <th>name</th>\n",
       "      <th>age</th>\n",
       "      <th>city</th>\n",
       "      <th>subscription_type</th>\n",
       "      <th>distance</th>\n",
       "      <th>duration</th>\n",
       "      <th>date</th>\n",
       "      <th>month</th>\n",
       "      <th>minute_price</th>\n",
       "      <th>start_ride_price</th>\n",
       "      <th>subscription_fee</th>\n",
       "    </tr>\n",
       "  </thead>\n",
       "  <tbody>\n",
       "    <tr>\n",
       "      <th>6500</th>\n",
       "      <td>699</td>\n",
       "      <td>700</td>\n",
       "      <td>Айдар</td>\n",
       "      <td>22</td>\n",
       "      <td>Омск</td>\n",
       "      <td>free</td>\n",
       "      <td>2516.0</td>\n",
       "      <td>15.0</td>\n",
       "      <td>2021-01-02</td>\n",
       "      <td>1</td>\n",
       "      <td>8</td>\n",
       "      <td>50</td>\n",
       "      <td>0</td>\n",
       "    </tr>\n",
       "    <tr>\n",
       "      <th>6501</th>\n",
       "      <td>699</td>\n",
       "      <td>700</td>\n",
       "      <td>Айдар</td>\n",
       "      <td>22</td>\n",
       "      <td>Омск</td>\n",
       "      <td>free</td>\n",
       "      <td>847.0</td>\n",
       "      <td>16.0</td>\n",
       "      <td>2021-02-01</td>\n",
       "      <td>2</td>\n",
       "      <td>8</td>\n",
       "      <td>50</td>\n",
       "      <td>0</td>\n",
       "    </tr>\n",
       "    <tr>\n",
       "      <th>6502</th>\n",
       "      <td>699</td>\n",
       "      <td>700</td>\n",
       "      <td>Айдар</td>\n",
       "      <td>22</td>\n",
       "      <td>Омск</td>\n",
       "      <td>free</td>\n",
       "      <td>4004.0</td>\n",
       "      <td>20.0</td>\n",
       "      <td>2021-02-04</td>\n",
       "      <td>2</td>\n",
       "      <td>8</td>\n",
       "      <td>50</td>\n",
       "      <td>0</td>\n",
       "    </tr>\n",
       "    <tr>\n",
       "      <th>6503</th>\n",
       "      <td>699</td>\n",
       "      <td>700</td>\n",
       "      <td>Айдар</td>\n",
       "      <td>22</td>\n",
       "      <td>Омск</td>\n",
       "      <td>free</td>\n",
       "      <td>1206.0</td>\n",
       "      <td>10.0</td>\n",
       "      <td>2021-02-10</td>\n",
       "      <td>2</td>\n",
       "      <td>8</td>\n",
       "      <td>50</td>\n",
       "      <td>0</td>\n",
       "    </tr>\n",
       "    <tr>\n",
       "      <th>6504</th>\n",
       "      <td>699</td>\n",
       "      <td>700</td>\n",
       "      <td>Айдар</td>\n",
       "      <td>22</td>\n",
       "      <td>Омск</td>\n",
       "      <td>free</td>\n",
       "      <td>3047.0</td>\n",
       "      <td>17.0</td>\n",
       "      <td>2021-02-14</td>\n",
       "      <td>2</td>\n",
       "      <td>8</td>\n",
       "      <td>50</td>\n",
       "      <td>0</td>\n",
       "    </tr>\n",
       "  </tbody>\n",
       "</table>\n",
       "</div>"
      ],
      "text/plain": [
       "      index  user_id   name  age  city subscription_type  distance  duration  \\\n",
       "6500    699      700  Айдар   22  Омск              free    2516.0      15.0   \n",
       "6501    699      700  Айдар   22  Омск              free     847.0      16.0   \n",
       "6502    699      700  Айдар   22  Омск              free    4004.0      20.0   \n",
       "6503    699      700  Айдар   22  Омск              free    1206.0      10.0   \n",
       "6504    699      700  Айдар   22  Омск              free    3047.0      17.0   \n",
       "\n",
       "           date  month  minute_price  start_ride_price  subscription_fee  \n",
       "6500 2021-01-02      1             8                50                 0  \n",
       "6501 2021-02-01      2             8                50                 0  \n",
       "6502 2021-02-04      2             8                50                 0  \n",
       "6503 2021-02-10      2             8                50                 0  \n",
       "6504 2021-02-14      2             8                50                 0  "
      ]
     },
     "metadata": {},
     "output_type": "display_data"
    },
    {
     "data": {
      "text/html": [
       "<div>\n",
       "<style scoped>\n",
       "    .dataframe tbody tr th:only-of-type {\n",
       "        vertical-align: middle;\n",
       "    }\n",
       "\n",
       "    .dataframe tbody tr th {\n",
       "        vertical-align: top;\n",
       "    }\n",
       "\n",
       "    .dataframe thead th {\n",
       "        text-align: right;\n",
       "    }\n",
       "</style>\n",
       "<table border=\"1\" class=\"dataframe\">\n",
       "  <thead>\n",
       "    <tr style=\"text-align: right;\">\n",
       "      <th></th>\n",
       "      <th>index</th>\n",
       "      <th>user_id</th>\n",
       "      <th>name</th>\n",
       "      <th>age</th>\n",
       "      <th>city</th>\n",
       "      <th>subscription_type</th>\n",
       "      <th>distance</th>\n",
       "      <th>duration</th>\n",
       "      <th>date</th>\n",
       "      <th>month</th>\n",
       "      <th>minute_price</th>\n",
       "      <th>start_ride_price</th>\n",
       "      <th>subscription_fee</th>\n",
       "    </tr>\n",
       "  </thead>\n",
       "  <tbody>\n",
       "    <tr>\n",
       "      <th>0</th>\n",
       "      <td>0</td>\n",
       "      <td>1</td>\n",
       "      <td>Кира</td>\n",
       "      <td>22</td>\n",
       "      <td>Тюмень</td>\n",
       "      <td>ultra</td>\n",
       "      <td>4410.0</td>\n",
       "      <td>26.0</td>\n",
       "      <td>2021-01-01</td>\n",
       "      <td>1</td>\n",
       "      <td>6</td>\n",
       "      <td>0</td>\n",
       "      <td>199</td>\n",
       "    </tr>\n",
       "    <tr>\n",
       "      <th>1</th>\n",
       "      <td>0</td>\n",
       "      <td>1</td>\n",
       "      <td>Кира</td>\n",
       "      <td>22</td>\n",
       "      <td>Тюмень</td>\n",
       "      <td>ultra</td>\n",
       "      <td>2618.0</td>\n",
       "      <td>16.0</td>\n",
       "      <td>2021-01-18</td>\n",
       "      <td>1</td>\n",
       "      <td>6</td>\n",
       "      <td>0</td>\n",
       "      <td>199</td>\n",
       "    </tr>\n",
       "    <tr>\n",
       "      <th>2</th>\n",
       "      <td>0</td>\n",
       "      <td>1</td>\n",
       "      <td>Кира</td>\n",
       "      <td>22</td>\n",
       "      <td>Тюмень</td>\n",
       "      <td>ultra</td>\n",
       "      <td>754.0</td>\n",
       "      <td>6.0</td>\n",
       "      <td>2021-04-20</td>\n",
       "      <td>4</td>\n",
       "      <td>6</td>\n",
       "      <td>0</td>\n",
       "      <td>199</td>\n",
       "    </tr>\n",
       "    <tr>\n",
       "      <th>3</th>\n",
       "      <td>0</td>\n",
       "      <td>1</td>\n",
       "      <td>Кира</td>\n",
       "      <td>22</td>\n",
       "      <td>Тюмень</td>\n",
       "      <td>ultra</td>\n",
       "      <td>2695.0</td>\n",
       "      <td>19.0</td>\n",
       "      <td>2021-08-11</td>\n",
       "      <td>8</td>\n",
       "      <td>6</td>\n",
       "      <td>0</td>\n",
       "      <td>199</td>\n",
       "    </tr>\n",
       "    <tr>\n",
       "      <th>4</th>\n",
       "      <td>0</td>\n",
       "      <td>1</td>\n",
       "      <td>Кира</td>\n",
       "      <td>22</td>\n",
       "      <td>Тюмень</td>\n",
       "      <td>ultra</td>\n",
       "      <td>4029.0</td>\n",
       "      <td>26.0</td>\n",
       "      <td>2021-08-28</td>\n",
       "      <td>8</td>\n",
       "      <td>6</td>\n",
       "      <td>0</td>\n",
       "      <td>199</td>\n",
       "    </tr>\n",
       "  </tbody>\n",
       "</table>\n",
       "</div>"
      ],
      "text/plain": [
       "   index  user_id  name  age    city subscription_type  distance  duration  \\\n",
       "0      0        1  Кира   22  Тюмень             ultra    4410.0      26.0   \n",
       "1      0        1  Кира   22  Тюмень             ultra    2618.0      16.0   \n",
       "2      0        1  Кира   22  Тюмень             ultra     754.0       6.0   \n",
       "3      0        1  Кира   22  Тюмень             ultra    2695.0      19.0   \n",
       "4      0        1  Кира   22  Тюмень             ultra    4029.0      26.0   \n",
       "\n",
       "        date  month  minute_price  start_ride_price  subscription_fee  \n",
       "0 2021-01-01      1             6                 0               199  \n",
       "1 2021-01-18      1             6                 0               199  \n",
       "2 2021-04-20      4             6                 0               199  \n",
       "3 2021-08-11      8             6                 0               199  \n",
       "4 2021-08-28      8             6                 0               199  "
      ]
     },
     "metadata": {},
     "output_type": "display_data"
    }
   ],
   "source": [
    "general_free = general_data.loc[general_data['subscription_type'] == 'free']\n",
    "general_ultra = general_data.loc[general_data['subscription_type'] == 'ultra']\n",
    "\n",
    "display(general_free.head())\n",
    "display(general_ultra.head())"
   ]
  },
  {
   "cell_type": "markdown",
   "id": "0d4b98c6",
   "metadata": {},
   "source": [
    "##### Визуализируем информацию о расстоянии и времени поездок для пользователей категорий free и ultra"
   ]
  },
  {
   "cell_type": "code",
   "execution_count": 24,
   "id": "061d097a",
   "metadata": {},
   "outputs": [
    {
     "data": {
      "image/png": "[encoded data removed]",
      "text/plain": [
       "<Figure size 2000x1000 with 1 Axes>"
      ]
     },
     "metadata": {},
     "output_type": "display_data"
    }
   ],
   "source": [
    "general_free['distance'].plot(kind='hist', bins=1000, grid=True, figsize=(20,10), fontsize=15, \n",
    "                              color='green', label='Free', legend=True)\n",
    "general_ultra['distance'].plot(kind='hist', bins=1000, grid=True, figsize=(20,10), fontsize=15, \n",
    "                              color='blue', label='Ultra', legend=True)\n",
    "plt.ylabel('Частота', fontsize = 20, color = 'grey')\n",
    "plt.xlabel('Расстояния', fontsize = 20, color = 'grey')\n",
    "plt.title('Расстояния, которое пользователи Free и Ultra преодолели за одну поездку' + \"\\n\", fontsize = 25, color='blue')\n",
    "plt.show()"
   ]
  },
  {
   "cell_type": "code",
   "execution_count": 25,
   "id": "f0a38948",
   "metadata": {},
   "outputs": [
    {
     "data": {
      "text/plain": [
       "count    11568.00000\n",
       "mean      3045.49490\n",
       "std       1246.17418\n",
       "min          1.00000\n",
       "25%       2367.00000\n",
       "50%       3115.00000\n",
       "75%       3906.00000\n",
       "max       7211.00000\n",
       "Name: distance, dtype: float64"
      ]
     },
     "execution_count": 25,
     "metadata": {},
     "output_type": "execute_result"
    }
   ],
   "source": [
    "general_free['distance'].describe()"
   ]
  },
  {
   "cell_type": "code",
   "execution_count": 26,
   "id": "f3a9eba4",
   "metadata": {},
   "outputs": [
    {
     "data": {
      "text/plain": [
       "count    6500.000000\n",
       "mean     3115.443385\n",
       "std       836.898137\n",
       "min       244.000000\n",
       "25%      2785.000000\n",
       "50%      3149.000000\n",
       "75%      3561.000000\n",
       "max      5700.000000\n",
       "Name: distance, dtype: float64"
      ]
     },
     "execution_count": 26,
     "metadata": {},
     "output_type": "execute_result"
    }
   ],
   "source": [
    "general_ultra['distance'].describe()"
   ]
  },
  {
   "cell_type": "markdown",
   "id": "79a24511",
   "metadata": {},
   "source": [
    "По полученным данным видно, что среднее расстояние, которое преодолевает пользователь с подпиской **Ultra (3115 метров), больше** того же показателя у пользователя с подпиской **Free (3045 метров)**. При этом у пользователей Ultra значения распределены в более узком диапазоне, что свидетельствует о меньшем стандартном отклоненнии значений от среднего. Это означаете, что большая часть значений у пользователей с подпиской **Ultra лежит в меньшем диапазоне: от 2500 до 3500 метров**, чем у пользователей с подпиской **Free: от 2000 до 4500 метров.** На данной гистограмме очевидна также разница в количестве пользователей с подписками Ultra и Free, что ранее было выявлено."
   ]
  },
  {
   "cell_type": "code",
   "execution_count": 27,
   "id": "a1810ea8",
   "metadata": {},
   "outputs": [
    {
     "data": {
      "image/png": "[encoded data removed]",
      "text/plain": [
       "<Figure size 2000x1000 with 1 Axes>"
      ]
     },
     "metadata": {},
     "output_type": "display_data"
    }
   ],
   "source": [
    "general_free['duration'].plot(kind='hist', bins=100, grid=True, figsize=(20,10), fontsize=15, \n",
    "                              color='green', label='Free', legend=True)\n",
    "general_ultra['duration'].plot(kind='hist', bins=100, grid=True, figsize=(20,10), fontsize=15, \n",
    "                              color='blue', label='Ultra', legend=True)\n",
    "plt.ylabel('Частота', fontsize = 20, color = 'grey')\n",
    "plt.xlabel('Продолжительность поездок', fontsize = 20, color = 'grey')\n",
    "plt.title('Продолжительность поездок Free и Ultra' + \"\\n\", fontsize = 25, color='blue')\n",
    "plt.show()"
   ]
  },
  {
   "cell_type": "code",
   "execution_count": 28,
   "id": "bdce85be",
   "metadata": {},
   "outputs": [
    {
     "data": {
      "text/plain": [
       "count    11568.000000\n",
       "mean        17.385028\n",
       "std          6.343957\n",
       "min          0.000000\n",
       "25%         13.000000\n",
       "50%         17.000000\n",
       "75%         22.000000\n",
       "max         35.000000\n",
       "Name: duration, dtype: float64"
      ]
     },
     "execution_count": 28,
     "metadata": {},
     "output_type": "execute_result"
    }
   ],
   "source": [
    "general_free['duration'].describe()"
   ]
  },
  {
   "cell_type": "code",
   "execution_count": 29,
   "id": "6b94df95",
   "metadata": {},
   "outputs": [
    {
     "data": {
      "text/plain": [
       "count    6500.000000\n",
       "mean       18.549231\n",
       "std         5.575445\n",
       "min         4.000000\n",
       "25%        15.000000\n",
       "50%        18.000000\n",
       "75%        22.000000\n",
       "max        41.000000\n",
       "Name: duration, dtype: float64"
      ]
     },
     "execution_count": 29,
     "metadata": {},
     "output_type": "execute_result"
    }
   ],
   "source": [
    "general_ultra['duration'].describe()"
   ]
  },
  {
   "cell_type": "markdown",
   "id": "e6e727da",
   "metadata": {},
   "source": [
    "По полученным данным видно, что среднняя продолжительность 1-ой поездки у пользователей с подпиской **Ultra (18.5 мин.), чуть больше** того же показателя у пользователей с подпиской **Free (17.4 мин.)**. Как и с распределениями расстояний, в данном случае у пользователей Ultra значения также распределены в более узком диапазоне, что свидетельствует о меньшем стандартном отклонении значений от среднего. Это означает, что большая часть значений у пользователей с подпиской **Ultra лежит в меньшем диапазоне: от 11 до 25 мин.**, чем у пользователей с подпиской **Free: от 8 до 27 мин.** На данной гистограмме очевидна также разница в количестве пользователей с подписками Ultra и Free, что ранее было выявлено."
   ]
  },
  {
   "cell_type": "markdown",
   "id": "402d620f",
   "metadata": {},
   "source": [
    "#### Шаг 5. Подсчёт выручки"
   ]
  },
  {
   "cell_type": "markdown",
   "id": "a8a42660",
   "metadata": {},
   "source": [
    "##### Создаем общий датафрейм с агрегированными данными о поездках.\n",
    "Находим суммарное расстояние, количество поездок и суммарное время для каждого пользователя за каждый месяц."
   ]
  },
  {
   "cell_type": "code",
   "execution_count": 30,
   "id": "53049e0a",
   "metadata": {
    "scrolled": true
   },
   "outputs": [
    {
     "data": {
      "text/html": [
       "<div>\n",
       "<style scoped>\n",
       "    .dataframe tbody tr th:only-of-type {\n",
       "        vertical-align: middle;\n",
       "    }\n",
       "\n",
       "    .dataframe tbody tr th {\n",
       "        vertical-align: top;\n",
       "    }\n",
       "\n",
       "    .dataframe thead th {\n",
       "        text-align: right;\n",
       "    }\n",
       "</style>\n",
       "<table border=\"1\" class=\"dataframe\">\n",
       "  <thead>\n",
       "    <tr style=\"text-align: right;\">\n",
       "      <th></th>\n",
       "      <th>user_id</th>\n",
       "      <th>month</th>\n",
       "      <th>subscription_type</th>\n",
       "      <th>total_distance</th>\n",
       "      <th>trips</th>\n",
       "      <th>total_duration</th>\n",
       "    </tr>\n",
       "  </thead>\n",
       "  <tbody>\n",
       "    <tr>\n",
       "      <th>0</th>\n",
       "      <td>1</td>\n",
       "      <td>1</td>\n",
       "      <td>ultra</td>\n",
       "      <td>7028.0</td>\n",
       "      <td>2</td>\n",
       "      <td>42.0</td>\n",
       "    </tr>\n",
       "    <tr>\n",
       "      <th>1</th>\n",
       "      <td>1</td>\n",
       "      <td>4</td>\n",
       "      <td>ultra</td>\n",
       "      <td>754.0</td>\n",
       "      <td>1</td>\n",
       "      <td>6.0</td>\n",
       "    </tr>\n",
       "    <tr>\n",
       "      <th>2</th>\n",
       "      <td>1</td>\n",
       "      <td>8</td>\n",
       "      <td>ultra</td>\n",
       "      <td>6724.0</td>\n",
       "      <td>2</td>\n",
       "      <td>45.0</td>\n",
       "    </tr>\n",
       "    <tr>\n",
       "      <th>3</th>\n",
       "      <td>1</td>\n",
       "      <td>10</td>\n",
       "      <td>ultra</td>\n",
       "      <td>5810.0</td>\n",
       "      <td>2</td>\n",
       "      <td>32.0</td>\n",
       "    </tr>\n",
       "    <tr>\n",
       "      <th>4</th>\n",
       "      <td>1</td>\n",
       "      <td>11</td>\n",
       "      <td>ultra</td>\n",
       "      <td>7004.0</td>\n",
       "      <td>3</td>\n",
       "      <td>53.0</td>\n",
       "    </tr>\n",
       "  </tbody>\n",
       "</table>\n",
       "</div>"
      ],
      "text/plain": [
       "   user_id  month subscription_type  total_distance  trips  total_duration\n",
       "0        1      1             ultra          7028.0      2            42.0\n",
       "1        1      4             ultra           754.0      1             6.0\n",
       "2        1      8             ultra          6724.0      2            45.0\n",
       "3        1     10             ultra          5810.0      2            32.0\n",
       "4        1     11             ultra          7004.0      3            53.0"
      ]
     },
     "metadata": {},
     "output_type": "display_data"
    }
   ],
   "source": [
    "general_agr = general_data.pivot_table(index = ['user_id', 'month', 'subscription_type'], \n",
    "    values = ['distance', 'duration'], aggfunc = {'distance' : 'sum', 'duration' : ['sum', 'count']}).reset_index()\n",
    "general_agr.columns = ['user_id', 'month', 'subscription_type', 'total_distance', 'trips', 'total_duration']\n",
    "display(general_agr.head())"
   ]
  },
  {
   "cell_type": "code",
   "execution_count": 31,
   "id": "2c225d76",
   "metadata": {},
   "outputs": [
    {
     "name": "stdout",
     "output_type": "stream",
     "text": [
      "<class 'pandas.core.frame.DataFrame'>\n",
      "RangeIndex: 11331 entries, 0 to 11330\n",
      "Data columns (total 6 columns):\n",
      " #   Column             Non-Null Count  Dtype  \n",
      "---  ------             --------------  -----  \n",
      " 0   user_id            11331 non-null  int64  \n",
      " 1   month              11331 non-null  int64  \n",
      " 2   subscription_type  11331 non-null  object \n",
      " 3   total_distance     11331 non-null  float64\n",
      " 4   trips              11331 non-null  int64  \n",
      " 5   total_duration     11331 non-null  float64\n",
      "dtypes: float64(2), int64(3), object(1)\n",
      "memory usage: 531.3+ KB\n"
     ]
    },
    {
     "data": {
      "text/html": [
       "<div>\n",
       "<style scoped>\n",
       "    .dataframe tbody tr th:only-of-type {\n",
       "        vertical-align: middle;\n",
       "    }\n",
       "\n",
       "    .dataframe tbody tr th {\n",
       "        vertical-align: top;\n",
       "    }\n",
       "\n",
       "    .dataframe thead th {\n",
       "        text-align: right;\n",
       "    }\n",
       "</style>\n",
       "<table border=\"1\" class=\"dataframe\">\n",
       "  <thead>\n",
       "    <tr style=\"text-align: right;\">\n",
       "      <th></th>\n",
       "      <th>index</th>\n",
       "      <th>user_id</th>\n",
       "      <th>month</th>\n",
       "      <th>subscription_type</th>\n",
       "      <th>total_distance</th>\n",
       "      <th>trips</th>\n",
       "      <th>total_duration</th>\n",
       "    </tr>\n",
       "  </thead>\n",
       "  <tbody>\n",
       "    <tr>\n",
       "      <th>0</th>\n",
       "      <td>0</td>\n",
       "      <td>1</td>\n",
       "      <td>1</td>\n",
       "      <td>ultra</td>\n",
       "      <td>7028.0</td>\n",
       "      <td>2</td>\n",
       "      <td>42.0</td>\n",
       "    </tr>\n",
       "    <tr>\n",
       "      <th>1</th>\n",
       "      <td>1</td>\n",
       "      <td>1</td>\n",
       "      <td>4</td>\n",
       "      <td>ultra</td>\n",
       "      <td>754.0</td>\n",
       "      <td>1</td>\n",
       "      <td>6.0</td>\n",
       "    </tr>\n",
       "    <tr>\n",
       "      <th>2</th>\n",
       "      <td>2</td>\n",
       "      <td>1</td>\n",
       "      <td>8</td>\n",
       "      <td>ultra</td>\n",
       "      <td>6724.0</td>\n",
       "      <td>2</td>\n",
       "      <td>45.0</td>\n",
       "    </tr>\n",
       "    <tr>\n",
       "      <th>3</th>\n",
       "      <td>3</td>\n",
       "      <td>1</td>\n",
       "      <td>10</td>\n",
       "      <td>ultra</td>\n",
       "      <td>5810.0</td>\n",
       "      <td>2</td>\n",
       "      <td>32.0</td>\n",
       "    </tr>\n",
       "    <tr>\n",
       "      <th>4</th>\n",
       "      <td>4</td>\n",
       "      <td>1</td>\n",
       "      <td>11</td>\n",
       "      <td>ultra</td>\n",
       "      <td>7004.0</td>\n",
       "      <td>3</td>\n",
       "      <td>53.0</td>\n",
       "    </tr>\n",
       "    <tr>\n",
       "      <th>...</th>\n",
       "      <td>...</td>\n",
       "      <td>...</td>\n",
       "      <td>...</td>\n",
       "      <td>...</td>\n",
       "      <td>...</td>\n",
       "      <td>...</td>\n",
       "      <td>...</td>\n",
       "    </tr>\n",
       "    <tr>\n",
       "      <th>11326</th>\n",
       "      <td>11326</td>\n",
       "      <td>1534</td>\n",
       "      <td>6</td>\n",
       "      <td>free</td>\n",
       "      <td>3409.0</td>\n",
       "      <td>2</td>\n",
       "      <td>24.0</td>\n",
       "    </tr>\n",
       "    <tr>\n",
       "      <th>11327</th>\n",
       "      <td>11327</td>\n",
       "      <td>1534</td>\n",
       "      <td>8</td>\n",
       "      <td>free</td>\n",
       "      <td>7623.0</td>\n",
       "      <td>2</td>\n",
       "      <td>47.0</td>\n",
       "    </tr>\n",
       "    <tr>\n",
       "      <th>11328</th>\n",
       "      <td>11328</td>\n",
       "      <td>1534</td>\n",
       "      <td>9</td>\n",
       "      <td>free</td>\n",
       "      <td>4928.0</td>\n",
       "      <td>1</td>\n",
       "      <td>23.0</td>\n",
       "    </tr>\n",
       "    <tr>\n",
       "      <th>11329</th>\n",
       "      <td>11329</td>\n",
       "      <td>1534</td>\n",
       "      <td>11</td>\n",
       "      <td>free</td>\n",
       "      <td>13349.0</td>\n",
       "      <td>4</td>\n",
       "      <td>76.0</td>\n",
       "    </tr>\n",
       "    <tr>\n",
       "      <th>11330</th>\n",
       "      <td>11330</td>\n",
       "      <td>1534</td>\n",
       "      <td>12</td>\n",
       "      <td>free</td>\n",
       "      <td>2372.0</td>\n",
       "      <td>1</td>\n",
       "      <td>16.0</td>\n",
       "    </tr>\n",
       "  </tbody>\n",
       "</table>\n",
       "<p>11331 rows × 7 columns</p>\n",
       "</div>"
      ],
      "text/plain": [
       "       index  user_id  month subscription_type  total_distance  trips  \\\n",
       "0          0        1      1             ultra          7028.0      2   \n",
       "1          1        1      4             ultra           754.0      1   \n",
       "2          2        1      8             ultra          6724.0      2   \n",
       "3          3        1     10             ultra          5810.0      2   \n",
       "4          4        1     11             ultra          7004.0      3   \n",
       "...      ...      ...    ...               ...             ...    ...   \n",
       "11326  11326     1534      6              free          3409.0      2   \n",
       "11327  11327     1534      8              free          7623.0      2   \n",
       "11328  11328     1534      9              free          4928.0      1   \n",
       "11329  11329     1534     11              free         13349.0      4   \n",
       "11330  11330     1534     12              free          2372.0      1   \n",
       "\n",
       "       total_duration  \n",
       "0                42.0  \n",
       "1                 6.0  \n",
       "2                45.0  \n",
       "3                32.0  \n",
       "4                53.0  \n",
       "...               ...  \n",
       "11326            24.0  \n",
       "11327            47.0  \n",
       "11328            23.0  \n",
       "11329            76.0  \n",
       "11330            16.0  \n",
       "\n",
       "[11331 rows x 7 columns]"
      ]
     },
     "execution_count": 31,
     "metadata": {},
     "output_type": "execute_result"
    }
   ],
   "source": [
    "general_agr['total_duration'] = general_agr['total_duration'].round()\n",
    "\n",
    "general_agr.info()\n",
    "\n",
    "general_agr.reset_index()"
   ]
  },
  {
   "cell_type": "markdown",
   "id": "76952e44",
   "metadata": {},
   "source": [
    "##### Определяем помесячную выручку от каждого пользователя\n",
    "В этот же датафрейм добавляем столбец с помесячной выручкой, которую принёс каждый пользователь"
   ]
  },
  {
   "cell_type": "code",
   "execution_count": 32,
   "id": "3cf971dc",
   "metadata": {},
   "outputs": [
    {
     "data": {
      "text/html": [
       "<div>\n",
       "<style scoped>\n",
       "    .dataframe tbody tr th:only-of-type {\n",
       "        vertical-align: middle;\n",
       "    }\n",
       "\n",
       "    .dataframe tbody tr th {\n",
       "        vertical-align: top;\n",
       "    }\n",
       "\n",
       "    .dataframe thead th {\n",
       "        text-align: right;\n",
       "    }\n",
       "</style>\n",
       "<table border=\"1\" class=\"dataframe\">\n",
       "  <thead>\n",
       "    <tr style=\"text-align: right;\">\n",
       "      <th></th>\n",
       "      <th>user_id</th>\n",
       "      <th>month</th>\n",
       "      <th>subscription_type</th>\n",
       "      <th>total_distance</th>\n",
       "      <th>trips</th>\n",
       "      <th>total_duration</th>\n",
       "      <th>revenue</th>\n",
       "    </tr>\n",
       "  </thead>\n",
       "  <tbody>\n",
       "    <tr>\n",
       "      <th>0</th>\n",
       "      <td>1</td>\n",
       "      <td>1</td>\n",
       "      <td>ultra</td>\n",
       "      <td>7028.0</td>\n",
       "      <td>2</td>\n",
       "      <td>42.0</td>\n",
       "      <td>451.0</td>\n",
       "    </tr>\n",
       "    <tr>\n",
       "      <th>1</th>\n",
       "      <td>1</td>\n",
       "      <td>4</td>\n",
       "      <td>ultra</td>\n",
       "      <td>754.0</td>\n",
       "      <td>1</td>\n",
       "      <td>6.0</td>\n",
       "      <td>235.0</td>\n",
       "    </tr>\n",
       "    <tr>\n",
       "      <th>2</th>\n",
       "      <td>1</td>\n",
       "      <td>8</td>\n",
       "      <td>ultra</td>\n",
       "      <td>6724.0</td>\n",
       "      <td>2</td>\n",
       "      <td>45.0</td>\n",
       "      <td>469.0</td>\n",
       "    </tr>\n",
       "    <tr>\n",
       "      <th>3</th>\n",
       "      <td>1</td>\n",
       "      <td>10</td>\n",
       "      <td>ultra</td>\n",
       "      <td>5810.0</td>\n",
       "      <td>2</td>\n",
       "      <td>32.0</td>\n",
       "      <td>391.0</td>\n",
       "    </tr>\n",
       "    <tr>\n",
       "      <th>4</th>\n",
       "      <td>1</td>\n",
       "      <td>11</td>\n",
       "      <td>ultra</td>\n",
       "      <td>7004.0</td>\n",
       "      <td>3</td>\n",
       "      <td>53.0</td>\n",
       "      <td>517.0</td>\n",
       "    </tr>\n",
       "  </tbody>\n",
       "</table>\n",
       "</div>"
      ],
      "text/plain": [
       "   user_id  month subscription_type  total_distance  trips  total_duration  \\\n",
       "0        1      1             ultra          7028.0      2            42.0   \n",
       "1        1      4             ultra           754.0      1             6.0   \n",
       "2        1      8             ultra          6724.0      2            45.0   \n",
       "3        1     10             ultra          5810.0      2            32.0   \n",
       "4        1     11             ultra          7004.0      3            53.0   \n",
       "\n",
       "   revenue  \n",
       "0    451.0  \n",
       "1    235.0  \n",
       "2    469.0  \n",
       "3    391.0  \n",
       "4    517.0  "
      ]
     },
     "metadata": {},
     "output_type": "display_data"
    }
   ],
   "source": [
    "def revenue(row):\n",
    "        if row['subscription_type'] == 'ultra':\n",
    "            return row['total_duration']*6 + 199\n",
    "        elif row['subscription_type'] == 'free':\n",
    "            return row['total_duration']*8 + row['trips']*50\n",
    "        \n",
    "general_agr['revenue'] = general_agr.apply(revenue, axis=1)\n",
    "\n",
    "display(general_agr.head())"
   ]
  },
  {
   "cell_type": "markdown",
   "id": "a9c7647e",
   "metadata": {},
   "source": [
    "##### Вывод\n",
    "В результате мы получили необходимый датафрейм для расчета выручки. Данные для этого датафреймы агрегированы из предыдущих датафреймов и содержат информацию о суммарном расстоянии, количестве поездок, суммарном времени и выручке относительно каждого пользователя за каждый месяц."
   ]
  },
  {
   "cell_type": "markdown",
   "id": "41545ac0",
   "metadata": {},
   "source": [
    "#### Шаг 6. Проверка гипотез"
   ]
  },
  {
   "cell_type": "markdown",
   "id": "4e27692a",
   "metadata": {},
   "source": [
    "#####  Гипотеза №1\n",
    "Важно понять, тратят ли пользователи с подпиской больше времени на поездки? Если да, то действительно ли пользователи с подпиской «выгоднее» для компании. Проверим гипотезу. Используем исходные данные о продолжительности каждой сессии — отдельно для подписчиков и тех, у кого нет подписки. Нулевая гипотеза: Пользователи с подпиской и без тратя одинаковое время на поездки. Альтернативная - пользователи с подпсикой тратят больше времени на поездки."
   ]
  },
  {
   "cell_type": "code",
   "execution_count": 33,
   "id": "8c6b537b",
   "metadata": {},
   "outputs": [
    {
     "name": "stdout",
     "output_type": "stream",
     "text": [
      "p-значение: 3.1600689435611813e-35\n",
      "Нулевая гипотеза отвергнута. Пользователи с подпиской тратят больше времени на поездки\n"
     ]
    }
   ],
   "source": [
    "ultra_duration = general_ultra['duration']\n",
    "free_duration = general_free['duration']\n",
    "\n",
    "alpha = 0.05\n",
    "\n",
    "\n",
    "results = st.ttest_ind(ultra_duration, free_duration, alternative='greater')\n",
    "\n",
    "print('p-значение:', results.pvalue)\n",
    "\n",
    "if results.pvalue < alpha:\n",
    "    print('Нулевая гипотеза отвергнута. Пользователи с подпиской тратят больше времени на поездки')\n",
    "else:\n",
    "    print('Нулевая гипотеза не отвергнута')"
   ]
  },
  {
   "cell_type": "markdown",
   "id": "d394e6bb",
   "metadata": {},
   "source": [
    "###### Вывод\n",
    "Гипотеза \"Пользователи с подпиской и без тратят одинаковое время на поездки\" отвергнута. Альтернативная гипотеза \"пользователи с подпсикой тратят больше времени на поездки\" не отвергнута."
   ]
  },
  {
   "cell_type": "markdown",
   "id": "6996398d",
   "metadata": {},
   "source": [
    "##### Гипотеза №2\n",
    "Расстояние одной поездки в 3130 метров— оптимальное с точки зрения износа самоката. Можно ли сказать, что расстояние, которое проезжают пользователи с подпиской за одну поездку, не превышает 3130 метров? Проверим гипотезу. Нулевая гипотеза - расстояние, которое проезжают пользователи с подпиской за одну поездку равно 3130 метров. Алтернитивная гипотеза - расстояние, которое проезжают пользователи с подпиской за одну поездку, меньше 3130 метров."
   ]
  },
  {
   "cell_type": "code",
   "execution_count": 34,
   "id": "0b813e36",
   "metadata": {},
   "outputs": [
    {
     "name": "stdout",
     "output_type": "stream",
     "text": [
      "p-значение: 0.0804350105302276\n",
      "Нулевая гипотеза не отвергнута\n"
     ]
    }
   ],
   "source": [
    "ultra_distance = general_ultra['distance']\n",
    "\n",
    "estimated_distance = 3130\n",
    "alpha = .05\n",
    "\n",
    "results = st.ttest_1samp(ultra_distance, estimated_distance, alternative='less')\n",
    "\n",
    "print('p-значение:', results.pvalue)\n",
    "\n",
    "if results.pvalue < alpha:\n",
    "    print('Нулевая гипотеза отвергнута. Расстояние, которое проезжают пользователи с подпиской за одну поездку, меньше 3130 метров')\n",
    "else:\n",
    "    print('Нулевая гипотеза не отвергнута')"
   ]
  },
  {
   "cell_type": "markdown",
   "id": "e525e59d",
   "metadata": {},
   "source": [
    "###### Вывод\n",
    "Гипотеза о том, что расстоение, которое проезжают пользователи с подпиской за одну поездку равно 3130 метров, не может быть отвергнута. "
   ]
  },
  {
   "cell_type": "markdown",
   "id": "23814e16",
   "metadata": {},
   "source": [
    "##### Гипотеза №3\n",
    "Гипотеза о том, будет ли помесячная выручка от пользователей с подпиской по месяцам выше, чем выручка от пользователей без подписки. Нулевая гипотеза - помесячная выручка от пользователей с подпиской по месяцам равно выручке от пользователей без подписки. Алтернативная - помесячная выручка от пользователей с подпиской по месяцам выше, чем выручка от пользователей без подписки"
   ]
  },
  {
   "cell_type": "code",
   "execution_count": 35,
   "id": "9044b42b",
   "metadata": {},
   "outputs": [
    {
     "name": "stdout",
     "output_type": "stream",
     "text": [
      "p-значение: 1.7274069878387966e-37\n",
      "Нулевая гипотеза отвергнута. Помесячная выручка от пользователей с подпиской по месяцам выше, чем выручка от пользователей без подписки\n"
     ]
    }
   ],
   "source": [
    "ultra_revenue = general_agr[general_agr['subscription_type'] == 'ultra']['revenue']\n",
    "free_revenue = general_agr[general_agr['subscription_type'] == 'free']['revenue']\n",
    "\n",
    "alpha = 0.05\n",
    "\n",
    "\n",
    "results = st.ttest_ind(ultra_revenue, free_revenue, alternative='greater')\n",
    "\n",
    "print('p-значение:', results.pvalue)\n",
    "\n",
    "if results.pvalue < alpha:\n",
    "    print('Нулевая гипотеза отвергнута. Помесячная выручка от пользователей с подпиской по месяцам выше, чем выручка от пользователей без подписки')\n",
    "else:\n",
    "    print('Нулевая гипотеза не отвергнута')"
   ]
  },
  {
   "cell_type": "markdown",
   "id": "f8460d08",
   "metadata": {},
   "source": [
    "###### Вывод\n",
    "Мы провели тест для нулевой гипотезы \"помесячная выручка от пользователей с подпиской по месяцам равно выручке от пользователей без подписки\": односторонний правый (альтернативная гипотеза - помесячная выручка от пользователей с подпиской по месяцам выше, чем выручка от пользователей без подписки). В результате проведенных тестов можно не отвергать альтернитивную гипотезу \"помесячная выручка от пользователей с подпиской по месяцам выше, чем выручка от пользователей без подписки\"."
   ]
  },
  {
   "cell_type": "markdown",
   "id": "d6d21de9",
   "metadata": {},
   "source": [
    "##### Ответим на вопрос\n",
    "Представьте такую ситуацию: техническая команда сервиса обновила сервера, с которыми взаимодействует мобильное приложение. Она надеется, что из-за этого количество обращений в техподдержку значимо снизилось. Некоторый файл содержит для каждого пользователя данные о количестве обращений до обновления и после него. Какой тест вам понадобился бы для проверки этой гипотезы"
   ]
  },
  {
   "cell_type": "markdown",
   "id": "13b5f260",
   "metadata": {},
   "source": [
    "###### Ответ: \n",
    "для этого нам понадобится проверить гипотезу о равенстве средних двух генеральных совокупностей для зависимых (парных) выборок в Python. Применяемый метод - scipy.stats.ttest_rel()."
   ]
  },
  {
   "cell_type": "markdown",
   "id": "61213c5e",
   "metadata": {},
   "source": [
    "#### Итоговый вывод"
   ]
  },
  {
   "cell_type": "markdown",
   "id": "9dc87871",
   "metadata": {},
   "source": [
    "**Краткий обзор проведенной работы**\n",
    "\n",
    "Мы провели анализ данных и проверили некоторые гипотезы для сервиса аренды самокатов GoFast.\n",
    "Результаты анализа могут быть применены для выявления новых возможностей роста бизнеса.\n",
    "\n",
    "В нашем распоряжении были данные из 3-х источников:\n",
    "- users_go.csv - данные о пользователях. Содержит столбцы user_id(идентификационный номер пользователя), name(имя пользователя), age(возраст), city(город), subscription_type(тип подписки). Данный датафрейм мы обозначили как users.\n",
    "- rides_go.csv - данные о поездках. Содержит столбцы user_id, distance (расстояние, которое пользователь проехал в текущей сессии в метрах), duration (продолжительность сессии (в минутах) — время с того момента, как пользователь нажал кнопку «Начать поездку» до момента, как он нажал кнопку «Завершить поездку»), date(дата совершения поездки). Данный датафрейм мы обозначили как rides\n",
    "- subscriptions_go.csv - данные о подписках. Содержит столбцы subscription_type (тип подписки), minute_price (стоимость одной минуты поездки по данной подписке), start_ride_price (стоимость начала поездки), subscription_fee (стоимость ежемесячного платежа). Данный датафрейм мы обозначили как subscriptions.\n",
    "\n",
    "В результате предообработки данных во всех 3-х датафреймах мы внесли **изменения в датафрейм `rides`**,  а именно:\n",
    "1. столбец `date` привели в типу даты Pandas\n",
    "2. добавили новый столбец `month`, где на основе данных из столбца `date` указан номер месяца \n",
    "3. значения в столбцах `duration` и `distance` округлили в сторону ближайших целых значений (0 значений после запятой)\n",
    "\n",
    "Далее мы проверили количество пропущенных значений во всех 3-х датафреймах. **Пропущенных значений не выявлено.**\n",
    "\n",
    "Проверили датафреймы на наличие явных дубликатов. **Дубликаты (31)** были выявлены только в **датафреме `users`**. Выявленные **явные дубликаты были удалены, индексация датафрейма обновлена.**\n",
    "\n",
    "Провели **исследовательский анализ**. Описали и визуализировали следующие данные:\n",
    "- частота встречаемости городов;\n",
    "- соотношение пользователей с подпиской и без подписки;\n",
    "- возраст пользователей;\n",
    "- расстояние, которое пользователь преодолел за одну поездку;\n",
    "- продолжительность поездок.\n",
    "\n",
    "Сделали **специальный датафрейм для расчета выручки**. Данные для этого датафреймы агрегированы из предыдущих датафреймов и содержат информацию о суммарном расстоянии, количестве поездок, суммарном времени и выручке относительно каждого пользователя за каждый месяц.\n",
    "\n",
    "Проверили 3 гипотезы, которые позволят понимать, нужно ли стремиться увеличивать количество пользователей с подпиской. \n",
    "\n",
    "\n",
    "**Главные выводы**\n",
    "\n",
    "Общие сведения о пользователях сервиса:\n",
    "1. Сервис работает в 8 городах России, включая Москву. Самое большое количество пользователей в г. Пятигорске (220), самое меньшее в Москве(170).\n",
    "2. Большая часть пользователей предпочитает пользоваться тарифом **Free (без подписки) - 54.4%** от общего числа пользователей.\n",
    "3. **Возраст пользователей сервиса - от 12 до 43 лет**. **Средний возраст** (который является также медианой) - **25 лет.** Чаще всего сервисом пользуются именно 25 летние. **Самыми активными** пользователями можно назвать группу пользователей в возрасте **от 20 до 30 лет.** \n",
    "4. **Среднее расстояние**, которое преодалевает пользователь за одну поездку - **порядка 3км.**, **средняя продолжительность 1 поездки - 18мин.**\n",
    "5. **Cреднее расстояние**, которое преодолевает пользователь с подпиской **Ultra (3115 метров), больше** того же показателя у пользователя с подпиской **Free (3045 метров)**.  Большая часть значений у пользователей с подпиской Ultra лежит в меньшем диапазоне: от 2500 до 3500 метров, чем у пользователей с подпиской Free: от 2000 до 4500 метров. \n",
    "6. **Среднняя продолжительность** 1-ой поездки у пользователей с подпиской **Ultra (18.5 мин.), чуть больше** того же показателя у пользователей с подпиской **Free (17.4 мин.).** Большая часть значений у пользователей с подпиской Ultra лежит в меньшем диапазоне: от 11 до 25 мин., чем у пользователей с подпиской Free: от 8 до 27 мин. \n",
    "\n",
    "Мы провели проверку 3-х гипотез, в результате которых пришли к выводу, что **не отвергаем** следующие 3 гипотезы:\n",
    "1. Пользователи с подпиской тратят больше времени на поездки\n",
    "2. Расстояние, которое проезжают пользователи с подпиской за одну поездку, равно 3130 метров\n",
    "3. Помесячная выручка от пользователей с подпиской по месяцам выше, чем выручка от пользователей без подписки\n",
    "\n",
    "\n",
    "**Рекомендации**\n",
    "\n",
    "Рекомендуем провести дополнительный анализ показателей выручки у пользователей с подпиской и без подписки, проанализированность сезонность спроса на сервис по месяцам у пользвателей с подпиской и без, проанализировать количество пользователей с подпиской и без по городам и по возрасту пользователей. В случае проведения дополнительных акций по привлечению новых пользователй с подпиской, рекомендуем провести анализ затрат на акции и  планируемой выручки от прогнозируемого количества пользователей с подпиской. \n",
    "Рекомендуем продакт-менеджерам рассмотреть возможность дополнительных видов подписок."
   ]
  },
  {
   "cell_type": "code",
   "execution_count": null,
   "id": "aaa74fbc",
   "metadata": {},
   "outputs": [],
   "source": []
  }
 ],
 "metadata": {
  "ExecuteTimeLog": [
   {
    "duration": 46,
    "start_time": "2023-04-29T16:58:11.531Z"
   },
   {
    "duration": 1245,
    "start_time": "2023-04-29T16:58:26.009Z"
   },
   {
    "duration": 314,
    "start_time": "2023-04-29T16:58:27.257Z"
   },
   {
    "duration": 90,
    "start_time": "2023-04-29T16:59:15.569Z"
   },
   {
    "duration": 78,
    "start_time": "2023-04-29T16:59:44.149Z"
   },
   {
    "duration": 17,
    "start_time": "2023-04-29T17:00:19.989Z"
   },
   {
    "duration": 14,
    "start_time": "2023-04-29T17:00:48.746Z"
   },
   {
    "duration": 49,
    "start_time": "2023-04-29T17:06:48.446Z"
   },
   {
    "duration": 97,
    "start_time": "2023-04-29T17:07:31.489Z"
   },
   {
    "duration": 1042,
    "start_time": "2023-04-29T17:07:40.310Z"
   },
   {
    "duration": 83,
    "start_time": "2023-04-29T17:07:41.355Z"
   },
   {
    "duration": 17,
    "start_time": "2023-04-29T17:07:41.441Z"
   },
   {
    "duration": 16,
    "start_time": "2023-04-29T17:07:41.460Z"
   },
   {
    "duration": 96,
    "start_time": "2023-04-29T17:07:41.478Z"
   },
   {
    "duration": 9,
    "start_time": "2023-04-29T17:07:45.928Z"
   },
   {
    "duration": 11,
    "start_time": "2023-04-29T17:08:03.490Z"
   },
   {
    "duration": 16,
    "start_time": "2023-04-29T17:10:29.037Z"
   },
   {
    "duration": 27,
    "start_time": "2023-04-29T17:10:57.912Z"
   },
   {
    "duration": 9,
    "start_time": "2023-04-29T17:13:03.563Z"
   },
   {
    "duration": 9,
    "start_time": "2023-04-29T17:13:40.699Z"
   },
   {
    "duration": 11,
    "start_time": "2023-04-29T17:15:10.547Z"
   },
   {
    "duration": 22,
    "start_time": "2023-04-29T17:31:17.252Z"
   },
   {
    "duration": 1098,
    "start_time": "2023-04-29T17:31:32.765Z"
   },
   {
    "duration": 93,
    "start_time": "2023-04-29T17:31:33.865Z"
   },
   {
    "duration": 18,
    "start_time": "2023-04-29T17:31:33.959Z"
   },
   {
    "duration": 15,
    "start_time": "2023-04-29T17:31:33.980Z"
   },
   {
    "duration": 27,
    "start_time": "2023-04-29T17:31:33.996Z"
   },
   {
    "duration": 8,
    "start_time": "2023-04-29T17:31:34.025Z"
   },
   {
    "duration": 10,
    "start_time": "2023-04-29T17:31:34.035Z"
   },
   {
    "duration": 140,
    "start_time": "2023-04-29T17:31:34.047Z"
   },
   {
    "duration": 275,
    "start_time": "2023-04-29T17:32:05.710Z"
   },
   {
    "duration": 274,
    "start_time": "2023-04-29T17:32:32.860Z"
   },
   {
    "duration": 202,
    "start_time": "2023-04-29T17:33:02.410Z"
   },
   {
    "duration": 275,
    "start_time": "2023-04-29T17:33:21.017Z"
   },
   {
    "duration": 143,
    "start_time": "2023-04-29T17:36:21.315Z"
   },
   {
    "duration": 15,
    "start_time": "2023-04-29T17:38:37.415Z"
   },
   {
    "duration": 141,
    "start_time": "2023-04-29T17:39:09.812Z"
   },
   {
    "duration": 212,
    "start_time": "2023-04-29T17:39:56.923Z"
   },
   {
    "duration": 127,
    "start_time": "2023-04-29T17:40:09.829Z"
   },
   {
    "duration": 136,
    "start_time": "2023-04-29T17:42:29.029Z"
   },
   {
    "duration": 153,
    "start_time": "2023-04-29T17:42:50.617Z"
   },
   {
    "duration": 156,
    "start_time": "2023-04-29T17:43:05.921Z"
   },
   {
    "duration": 5,
    "start_time": "2023-04-29T17:44:40.447Z"
   },
   {
    "duration": 13,
    "start_time": "2023-04-29T17:46:55.404Z"
   },
   {
    "duration": 10,
    "start_time": "2023-04-29T17:47:04.512Z"
   },
   {
    "duration": 5,
    "start_time": "2023-04-29T17:58:06.346Z"
   },
   {
    "duration": 12,
    "start_time": "2023-04-29T17:58:18.432Z"
   },
   {
    "duration": 25,
    "start_time": "2023-04-29T18:00:41.190Z"
   },
   {
    "duration": 195,
    "start_time": "2023-04-29T18:01:10.253Z"
   },
   {
    "duration": 200,
    "start_time": "2023-04-29T18:01:46.293Z"
   },
   {
    "duration": 205,
    "start_time": "2023-04-29T18:02:17.405Z"
   },
   {
    "duration": 171,
    "start_time": "2023-04-29T18:02:58.800Z"
   },
   {
    "duration": 255,
    "start_time": "2023-04-29T18:03:24.841Z"
   },
   {
    "duration": 391,
    "start_time": "2023-04-29T18:03:44.396Z"
   },
   {
    "duration": 163,
    "start_time": "2023-04-29T18:03:58.266Z"
   },
   {
    "duration": 195,
    "start_time": "2023-04-29T18:04:45.298Z"
   },
   {
    "duration": 10,
    "start_time": "2023-04-29T18:13:53.822Z"
   },
   {
    "duration": 16,
    "start_time": "2023-04-29T18:14:40.370Z"
   },
   {
    "duration": 10,
    "start_time": "2023-04-29T18:15:33.350Z"
   },
   {
    "duration": 425,
    "start_time": "2023-04-29T18:17:48.592Z"
   },
   {
    "duration": 290,
    "start_time": "2023-04-29T18:21:05.389Z"
   },
   {
    "duration": 484,
    "start_time": "2023-04-29T18:21:18.500Z"
   },
   {
    "duration": 508,
    "start_time": "2023-04-29T18:21:36.358Z"
   },
   {
    "duration": 414,
    "start_time": "2023-04-29T18:23:09.373Z"
   },
   {
    "duration": 405,
    "start_time": "2023-04-29T18:24:37.247Z"
   },
   {
    "duration": 652,
    "start_time": "2023-04-29T18:25:22.353Z"
   },
   {
    "duration": 560,
    "start_time": "2023-04-29T18:25:35.950Z"
   },
   {
    "duration": 30,
    "start_time": "2023-04-29T18:28:45.676Z"
   },
   {
    "duration": 1108,
    "start_time": "2023-04-29T18:29:04.055Z"
   },
   {
    "duration": 85,
    "start_time": "2023-04-29T18:29:05.165Z"
   },
   {
    "duration": 16,
    "start_time": "2023-04-29T18:29:05.252Z"
   },
   {
    "duration": 13,
    "start_time": "2023-04-29T18:29:05.269Z"
   },
   {
    "duration": 26,
    "start_time": "2023-04-29T18:29:05.284Z"
   },
   {
    "duration": 8,
    "start_time": "2023-04-29T18:29:05.311Z"
   },
   {
    "duration": 20,
    "start_time": "2023-04-29T18:29:05.320Z"
   },
   {
    "duration": 284,
    "start_time": "2023-04-29T18:29:05.342Z"
   },
   {
    "duration": 167,
    "start_time": "2023-04-29T18:29:05.628Z"
   },
   {
    "duration": 198,
    "start_time": "2023-04-29T18:29:05.797Z"
   },
   {
    "duration": 469,
    "start_time": "2023-04-29T18:29:05.997Z"
   },
   {
    "duration": 573,
    "start_time": "2023-04-29T18:29:06.468Z"
   },
   {
    "duration": 97,
    "start_time": "2023-04-29T18:48:38.240Z"
   },
   {
    "duration": 27,
    "start_time": "2023-04-29T18:48:50.462Z"
   },
   {
    "duration": 12,
    "start_time": "2023-04-29T18:50:04.548Z"
   },
   {
    "duration": 26,
    "start_time": "2023-04-29T18:50:14.367Z"
   },
   {
    "duration": 26,
    "start_time": "2023-04-29T18:50:57.609Z"
   },
   {
    "duration": 21,
    "start_time": "2023-04-29T18:53:45.451Z"
   },
   {
    "duration": 26,
    "start_time": "2023-04-29T18:54:08.177Z"
   },
   {
    "duration": 27,
    "start_time": "2023-04-29T18:54:48.183Z"
   },
   {
    "duration": 23,
    "start_time": "2023-04-29T18:55:07.652Z"
   },
   {
    "duration": 28,
    "start_time": "2023-04-29T18:55:10.577Z"
   },
   {
    "duration": 1127,
    "start_time": "2023-04-29T18:55:17.978Z"
   },
   {
    "duration": 87,
    "start_time": "2023-04-29T18:55:19.107Z"
   },
   {
    "duration": 22,
    "start_time": "2023-04-29T18:55:19.197Z"
   },
   {
    "duration": 19,
    "start_time": "2023-04-29T18:55:19.221Z"
   },
   {
    "duration": 56,
    "start_time": "2023-04-29T18:55:19.242Z"
   },
   {
    "duration": 8,
    "start_time": "2023-04-29T18:55:19.301Z"
   },
   {
    "duration": 13,
    "start_time": "2023-04-29T18:55:19.310Z"
   },
   {
    "duration": 315,
    "start_time": "2023-04-29T18:55:19.325Z"
   },
   {
    "duration": 176,
    "start_time": "2023-04-29T18:55:19.642Z"
   },
   {
    "duration": 213,
    "start_time": "2023-04-29T18:55:19.821Z"
   },
   {
    "duration": 483,
    "start_time": "2023-04-29T18:55:20.036Z"
   },
   {
    "duration": 581,
    "start_time": "2023-04-29T18:55:20.521Z"
   },
   {
    "duration": 26,
    "start_time": "2023-04-29T18:55:21.103Z"
   },
   {
    "duration": 21,
    "start_time": "2023-04-29T18:55:21.131Z"
   },
   {
    "duration": 34,
    "start_time": "2023-04-29T18:55:45.054Z"
   },
   {
    "duration": 37,
    "start_time": "2023-04-29T18:55:59.987Z"
   },
   {
    "duration": 41,
    "start_time": "2023-04-29T18:56:30.557Z"
   },
   {
    "duration": 1119,
    "start_time": "2023-04-29T18:57:19.098Z"
   },
   {
    "duration": 85,
    "start_time": "2023-04-29T18:57:20.219Z"
   },
   {
    "duration": 18,
    "start_time": "2023-04-29T18:57:20.306Z"
   },
   {
    "duration": 15,
    "start_time": "2023-04-29T18:57:20.326Z"
   },
   {
    "duration": 31,
    "start_time": "2023-04-29T18:57:20.342Z"
   },
   {
    "duration": 24,
    "start_time": "2023-04-29T18:57:20.375Z"
   },
   {
    "duration": 16,
    "start_time": "2023-04-29T18:57:20.400Z"
   },
   {
    "duration": 310,
    "start_time": "2023-04-29T18:57:20.417Z"
   },
   {
    "duration": 175,
    "start_time": "2023-04-29T18:57:20.728Z"
   },
   {
    "duration": 204,
    "start_time": "2023-04-29T18:57:20.905Z"
   },
   {
    "duration": 519,
    "start_time": "2023-04-29T18:57:21.112Z"
   },
   {
    "duration": 692,
    "start_time": "2023-04-29T18:57:21.632Z"
   },
   {
    "duration": 34,
    "start_time": "2023-04-29T18:57:22.326Z"
   },
   {
    "duration": 56,
    "start_time": "2023-04-29T18:57:22.362Z"
   },
   {
    "duration": 35,
    "start_time": "2023-04-29T18:57:37.745Z"
   },
   {
    "duration": 23,
    "start_time": "2023-04-29T18:57:57.887Z"
   },
   {
    "duration": 1058,
    "start_time": "2023-04-29T18:58:03.306Z"
   },
   {
    "duration": 86,
    "start_time": "2023-04-29T18:58:04.366Z"
   },
   {
    "duration": 19,
    "start_time": "2023-04-29T18:58:04.454Z"
   },
   {
    "duration": 16,
    "start_time": "2023-04-29T18:58:04.475Z"
   },
   {
    "duration": 26,
    "start_time": "2023-04-29T18:58:04.493Z"
   },
   {
    "duration": 8,
    "start_time": "2023-04-29T18:58:04.521Z"
   },
   {
    "duration": 10,
    "start_time": "2023-04-29T18:58:04.531Z"
   },
   {
    "duration": 334,
    "start_time": "2023-04-29T18:58:04.543Z"
   },
   {
    "duration": 173,
    "start_time": "2023-04-29T18:58:04.879Z"
   },
   {
    "duration": 209,
    "start_time": "2023-04-29T18:58:05.054Z"
   },
   {
    "duration": 489,
    "start_time": "2023-04-29T18:58:05.265Z"
   },
   {
    "duration": 589,
    "start_time": "2023-04-29T18:58:05.756Z"
   },
   {
    "duration": 27,
    "start_time": "2023-04-29T18:58:06.347Z"
   },
   {
    "duration": 22,
    "start_time": "2023-04-29T18:58:06.394Z"
   },
   {
    "duration": 49,
    "start_time": "2023-04-29T19:09:40.814Z"
   },
   {
    "duration": 1100,
    "start_time": "2023-04-29T19:10:09.058Z"
   },
   {
    "duration": 88,
    "start_time": "2023-04-29T19:10:10.160Z"
   },
   {
    "duration": 17,
    "start_time": "2023-04-29T19:10:10.249Z"
   },
   {
    "duration": 14,
    "start_time": "2023-04-29T19:10:10.268Z"
   },
   {
    "duration": 26,
    "start_time": "2023-04-29T19:10:10.284Z"
   },
   {
    "duration": 8,
    "start_time": "2023-04-29T19:10:10.312Z"
   },
   {
    "duration": 11,
    "start_time": "2023-04-29T19:10:10.322Z"
   },
   {
    "duration": 302,
    "start_time": "2023-04-29T19:10:10.335Z"
   },
   {
    "duration": 166,
    "start_time": "2023-04-29T19:10:10.638Z"
   },
   {
    "duration": 192,
    "start_time": "2023-04-29T19:10:10.806Z"
   },
   {
    "duration": 466,
    "start_time": "2023-04-29T19:10:11.000Z"
   },
   {
    "duration": 604,
    "start_time": "2023-04-29T19:10:11.468Z"
   },
   {
    "duration": 39,
    "start_time": "2023-04-29T19:10:12.074Z"
   },
   {
    "duration": 24,
    "start_time": "2023-04-29T19:10:12.115Z"
   },
   {
    "duration": 47,
    "start_time": "2023-04-29T19:10:12.141Z"
   },
   {
    "duration": 47,
    "start_time": "2023-04-29T19:11:57.792Z"
   },
   {
    "duration": 23,
    "start_time": "2023-04-29T19:14:07.950Z"
   },
   {
    "duration": 6,
    "start_time": "2023-04-29T19:14:33.584Z"
   },
   {
    "duration": 8,
    "start_time": "2023-04-29T19:14:58.238Z"
   },
   {
    "duration": 29,
    "start_time": "2023-04-29T19:15:25.081Z"
   },
   {
    "duration": 497,
    "start_time": "2023-04-29T19:23:24.100Z"
   },
   {
    "duration": 431,
    "start_time": "2023-04-29T19:24:06.944Z"
   },
   {
    "duration": 577,
    "start_time": "2023-04-29T19:25:40.350Z"
   },
   {
    "duration": 592,
    "start_time": "2023-04-29T19:26:21.334Z"
   },
   {
    "duration": 1158,
    "start_time": "2023-04-29T20:04:54.372Z"
   },
   {
    "duration": 97,
    "start_time": "2023-04-29T20:04:55.532Z"
   },
   {
    "duration": 19,
    "start_time": "2023-04-29T20:04:55.630Z"
   },
   {
    "duration": 18,
    "start_time": "2023-04-29T20:04:55.651Z"
   },
   {
    "duration": 46,
    "start_time": "2023-04-29T20:04:55.671Z"
   },
   {
    "duration": 7,
    "start_time": "2023-04-29T20:04:55.719Z"
   },
   {
    "duration": 12,
    "start_time": "2023-04-29T20:04:55.729Z"
   },
   {
    "duration": 330,
    "start_time": "2023-04-29T20:04:55.743Z"
   },
   {
    "duration": 207,
    "start_time": "2023-04-29T20:04:56.075Z"
   },
   {
    "duration": 226,
    "start_time": "2023-04-29T20:04:56.285Z"
   },
   {
    "duration": 557,
    "start_time": "2023-04-29T20:04:56.514Z"
   },
   {
    "duration": 675,
    "start_time": "2023-04-29T20:04:57.073Z"
   },
   {
    "duration": 26,
    "start_time": "2023-04-29T20:04:57.749Z"
   },
   {
    "duration": 47,
    "start_time": "2023-04-29T20:04:57.777Z"
   },
   {
    "duration": 31,
    "start_time": "2023-04-29T20:04:57.826Z"
   },
   {
    "duration": 559,
    "start_time": "2023-04-29T20:04:57.858Z"
   },
   {
    "duration": 453,
    "start_time": "2023-04-29T20:04:58.419Z"
   },
   {
    "duration": 630,
    "start_time": "2023-04-29T20:04:58.874Z"
   },
   {
    "duration": 633,
    "start_time": "2023-04-29T20:04:59.506Z"
   },
   {
    "duration": 124,
    "start_time": "2023-04-29T20:05:00.141Z"
   },
   {
    "duration": 46,
    "start_time": "2023-04-29T20:07:41.226Z"
   },
   {
    "duration": 9,
    "start_time": "2023-04-29T20:24:36.739Z"
   },
   {
    "duration": 49,
    "start_time": "2023-04-29T20:25:17.126Z"
   },
   {
    "duration": 61,
    "start_time": "2023-04-29T20:25:40.752Z"
   },
   {
    "duration": 28,
    "start_time": "2023-04-29T20:26:35.022Z"
   },
   {
    "duration": 207,
    "start_time": "2023-04-30T07:11:03.076Z"
   },
   {
    "duration": 2140,
    "start_time": "2023-04-30T07:11:12.580Z"
   },
   {
    "duration": 696,
    "start_time": "2023-04-30T07:11:14.723Z"
   },
   {
    "duration": 85,
    "start_time": "2023-04-30T07:11:15.425Z"
   },
   {
    "duration": 94,
    "start_time": "2023-04-30T07:11:15.533Z"
   },
   {
    "duration": 114,
    "start_time": "2023-04-30T07:11:15.645Z"
   },
   {
    "duration": 49,
    "start_time": "2023-04-30T07:11:15.771Z"
   },
   {
    "duration": 47,
    "start_time": "2023-04-30T07:11:15.836Z"
   },
   {
    "duration": 612,
    "start_time": "2023-04-30T07:11:15.899Z"
   },
   {
    "duration": 357,
    "start_time": "2023-04-30T07:11:16.517Z"
   },
   {
    "duration": 419,
    "start_time": "2023-04-30T07:11:16.888Z"
   },
   {
    "duration": 854,
    "start_time": "2023-04-30T07:11:17.324Z"
   },
   {
    "duration": 1119,
    "start_time": "2023-04-30T07:11:18.190Z"
   },
   {
    "duration": 95,
    "start_time": "2023-04-30T07:11:19.319Z"
   },
   {
    "duration": 56,
    "start_time": "2023-04-30T07:11:19.427Z"
   },
   {
    "duration": 56,
    "start_time": "2023-04-30T07:11:19.487Z"
   },
   {
    "duration": 95,
    "start_time": "2023-04-30T07:11:19.552Z"
   },
   {
    "duration": 895,
    "start_time": "2023-04-30T07:11:19.652Z"
   },
   {
    "duration": 655,
    "start_time": "2023-04-30T07:11:20.552Z"
   },
   {
    "duration": 914,
    "start_time": "2023-04-30T07:11:21.211Z"
   },
   {
    "duration": 896,
    "start_time": "2023-04-30T07:11:22.131Z"
   },
   {
    "duration": 47,
    "start_time": "2023-04-30T07:11:23.033Z"
   },
   {
    "duration": 84,
    "start_time": "2023-04-30T07:20:31.832Z"
   },
   {
    "duration": 900,
    "start_time": "2023-04-30T07:23:28.664Z"
   },
   {
    "duration": 52,
    "start_time": "2023-04-30T07:24:02.948Z"
   },
   {
    "duration": 177,
    "start_time": "2023-04-30T07:49:46.962Z"
   },
   {
    "duration": 1579,
    "start_time": "2023-04-30T07:51:03.944Z"
   },
   {
    "duration": 173,
    "start_time": "2023-04-30T07:51:05.525Z"
   },
   {
    "duration": 36,
    "start_time": "2023-04-30T07:51:05.702Z"
   },
   {
    "duration": 26,
    "start_time": "2023-04-30T07:51:05.741Z"
   },
   {
    "duration": 40,
    "start_time": "2023-04-30T07:51:05.769Z"
   },
   {
    "duration": 21,
    "start_time": "2023-04-30T07:51:05.811Z"
   },
   {
    "duration": 19,
    "start_time": "2023-04-30T07:51:05.835Z"
   },
   {
    "duration": 414,
    "start_time": "2023-04-30T07:51:05.861Z"
   },
   {
    "duration": 269,
    "start_time": "2023-04-30T07:51:06.280Z"
   },
   {
    "duration": 305,
    "start_time": "2023-04-30T07:51:06.555Z"
   },
   {
    "duration": 640,
    "start_time": "2023-04-30T07:51:06.867Z"
   },
   {
    "duration": 982,
    "start_time": "2023-04-30T07:51:07.509Z"
   },
   {
    "duration": 51,
    "start_time": "2023-04-30T07:51:08.493Z"
   },
   {
    "duration": 33,
    "start_time": "2023-04-30T07:51:08.547Z"
   },
   {
    "duration": 29,
    "start_time": "2023-04-30T07:51:08.582Z"
   },
   {
    "duration": 61,
    "start_time": "2023-04-30T07:51:08.615Z"
   },
   {
    "duration": 778,
    "start_time": "2023-04-30T07:51:08.678Z"
   },
   {
    "duration": 647,
    "start_time": "2023-04-30T07:51:09.461Z"
   },
   {
    "duration": 858,
    "start_time": "2023-04-30T07:51:10.113Z"
   },
   {
    "duration": 854,
    "start_time": "2023-04-30T07:51:10.973Z"
   },
   {
    "duration": 50,
    "start_time": "2023-04-30T07:51:11.834Z"
   },
   {
    "duration": 303,
    "start_time": "2023-04-30T07:51:11.886Z"
   },
   {
    "duration": 408,
    "start_time": "2023-04-30T08:05:41.333Z"
   },
   {
    "duration": 188,
    "start_time": "2023-04-30T08:06:01.805Z"
   },
   {
    "duration": 1576,
    "start_time": "2023-04-30T08:06:11.788Z"
   },
   {
    "duration": 203,
    "start_time": "2023-04-30T08:06:13.372Z"
   },
   {
    "duration": 42,
    "start_time": "2023-04-30T08:06:13.581Z"
   },
   {
    "duration": 41,
    "start_time": "2023-04-30T08:06:13.629Z"
   },
   {
    "duration": 89,
    "start_time": "2023-04-30T08:06:13.678Z"
   },
   {
    "duration": 23,
    "start_time": "2023-04-30T08:06:13.772Z"
   },
   {
    "duration": 32,
    "start_time": "2023-04-30T08:06:13.804Z"
   },
   {
    "duration": 422,
    "start_time": "2023-04-30T08:06:13.844Z"
   },
   {
    "duration": 232,
    "start_time": "2023-04-30T08:06:14.274Z"
   },
   {
    "duration": 292,
    "start_time": "2023-04-30T08:06:14.513Z"
   },
   {
    "duration": 752,
    "start_time": "2023-04-30T08:06:14.816Z"
   },
   {
    "duration": 947,
    "start_time": "2023-04-30T08:06:15.574Z"
   },
   {
    "duration": 45,
    "start_time": "2023-04-30T08:06:16.528Z"
   },
   {
    "duration": 40,
    "start_time": "2023-04-30T08:06:16.583Z"
   },
   {
    "duration": 28,
    "start_time": "2023-04-30T08:06:16.629Z"
   },
   {
    "duration": 56,
    "start_time": "2023-04-30T08:06:16.664Z"
   },
   {
    "duration": 779,
    "start_time": "2023-04-30T08:06:16.726Z"
   },
   {
    "duration": 635,
    "start_time": "2023-04-30T08:06:17.513Z"
   },
   {
    "duration": 997,
    "start_time": "2023-04-30T08:06:18.157Z"
   },
   {
    "duration": 930,
    "start_time": "2023-04-30T08:06:19.159Z"
   },
   {
    "duration": 56,
    "start_time": "2023-04-30T08:06:20.093Z"
   },
   {
    "duration": 373,
    "start_time": "2023-04-30T08:06:20.155Z"
   },
   {
    "duration": 320,
    "start_time": "2023-04-30T08:08:33.420Z"
   },
   {
    "duration": 282,
    "start_time": "2023-04-30T08:09:41.489Z"
   },
   {
    "duration": 1830,
    "start_time": "2023-04-30T08:09:57.503Z"
   },
   {
    "duration": 165,
    "start_time": "2023-04-30T08:09:59.335Z"
   },
   {
    "duration": 36,
    "start_time": "2023-04-30T08:09:59.507Z"
   },
   {
    "duration": 65,
    "start_time": "2023-04-30T08:09:59.555Z"
   },
   {
    "duration": 82,
    "start_time": "2023-04-30T08:09:59.635Z"
   },
   {
    "duration": 32,
    "start_time": "2023-04-30T08:09:59.723Z"
   },
   {
    "duration": 40,
    "start_time": "2023-04-30T08:09:59.763Z"
   },
   {
    "duration": 516,
    "start_time": "2023-04-30T08:09:59.808Z"
   },
   {
    "duration": 244,
    "start_time": "2023-04-30T08:10:00.326Z"
   },
   {
    "duration": 294,
    "start_time": "2023-04-30T08:10:00.575Z"
   },
   {
    "duration": 689,
    "start_time": "2023-04-30T08:10:00.874Z"
   },
   {
    "duration": 1041,
    "start_time": "2023-04-30T08:10:01.573Z"
   },
   {
    "duration": 71,
    "start_time": "2023-04-30T08:10:02.616Z"
   },
   {
    "duration": 77,
    "start_time": "2023-04-30T08:10:02.711Z"
   },
   {
    "duration": 47,
    "start_time": "2023-04-30T08:10:02.801Z"
   },
   {
    "duration": 122,
    "start_time": "2023-04-30T08:10:02.862Z"
   },
   {
    "duration": 1016,
    "start_time": "2023-04-30T08:10:02.985Z"
   },
   {
    "duration": 697,
    "start_time": "2023-04-30T08:10:04.007Z"
   },
   {
    "duration": 1160,
    "start_time": "2023-04-30T08:10:04.711Z"
   },
   {
    "duration": 1033,
    "start_time": "2023-04-30T08:10:05.886Z"
   },
   {
    "duration": 42,
    "start_time": "2023-04-30T08:10:06.923Z"
   },
   {
    "duration": 306,
    "start_time": "2023-04-30T08:10:06.973Z"
   },
   {
    "duration": 6,
    "start_time": "2023-04-30T08:15:04.403Z"
   },
   {
    "duration": 19,
    "start_time": "2023-04-30T08:24:12.822Z"
   },
   {
    "duration": 9,
    "start_time": "2023-04-30T08:26:50.044Z"
   },
   {
    "duration": 14,
    "start_time": "2023-04-30T08:27:10.937Z"
   },
   {
    "duration": 16,
    "start_time": "2023-04-30T08:27:51.780Z"
   },
   {
    "duration": 9,
    "start_time": "2023-04-30T08:28:01.678Z"
   },
   {
    "duration": 21,
    "start_time": "2023-04-30T08:28:15.622Z"
   },
   {
    "duration": 13,
    "start_time": "2023-04-30T08:28:21.777Z"
   },
   {
    "duration": 1445,
    "start_time": "2023-04-30T09:49:34.452Z"
   },
   {
    "duration": 161,
    "start_time": "2023-04-30T09:49:35.899Z"
   },
   {
    "duration": 24,
    "start_time": "2023-04-30T09:49:36.062Z"
   },
   {
    "duration": 20,
    "start_time": "2023-04-30T09:49:36.089Z"
   },
   {
    "duration": 37,
    "start_time": "2023-04-30T09:49:36.117Z"
   },
   {
    "duration": 9,
    "start_time": "2023-04-30T09:49:36.156Z"
   },
   {
    "duration": 25,
    "start_time": "2023-04-30T09:49:36.167Z"
   },
   {
    "duration": 409,
    "start_time": "2023-04-30T09:49:36.195Z"
   },
   {
    "duration": 246,
    "start_time": "2023-04-30T09:49:36.606Z"
   },
   {
    "duration": 254,
    "start_time": "2023-04-30T09:49:36.862Z"
   },
   {
    "duration": 634,
    "start_time": "2023-04-30T09:49:37.118Z"
   },
   {
    "duration": 830,
    "start_time": "2023-04-30T09:49:37.754Z"
   },
   {
    "duration": 36,
    "start_time": "2023-04-30T09:49:38.587Z"
   },
   {
    "duration": 47,
    "start_time": "2023-04-30T09:49:38.625Z"
   },
   {
    "duration": 17,
    "start_time": "2023-04-30T09:49:38.675Z"
   },
   {
    "duration": 98,
    "start_time": "2023-04-30T09:49:38.694Z"
   },
   {
    "duration": 772,
    "start_time": "2023-04-30T09:49:38.799Z"
   },
   {
    "duration": 632,
    "start_time": "2023-04-30T09:49:39.576Z"
   },
   {
    "duration": 845,
    "start_time": "2023-04-30T09:49:40.210Z"
   },
   {
    "duration": 790,
    "start_time": "2023-04-30T09:49:41.060Z"
   },
   {
    "duration": 39,
    "start_time": "2023-04-30T09:49:41.855Z"
   },
   {
    "duration": 100,
    "start_time": "2023-04-30T09:49:41.898Z"
   },
   {
    "duration": 0,
    "start_time": "2023-04-30T09:49:41.999Z"
   },
   {
    "duration": 0,
    "start_time": "2023-04-30T09:49:42.001Z"
   },
   {
    "duration": 0,
    "start_time": "2023-04-30T09:49:42.003Z"
   },
   {
    "duration": 0,
    "start_time": "2023-04-30T09:49:42.005Z"
   },
   {
    "duration": 285,
    "start_time": "2023-04-30T09:49:56.078Z"
   },
   {
    "duration": 24,
    "start_time": "2023-04-30T09:51:15.338Z"
   },
   {
    "duration": 47,
    "start_time": "2023-04-30T09:51:23.438Z"
   },
   {
    "duration": 40,
    "start_time": "2023-04-30T09:51:34.947Z"
   },
   {
    "duration": 1410,
    "start_time": "2023-04-30T09:51:50.997Z"
   },
   {
    "duration": 143,
    "start_time": "2023-04-30T09:51:52.415Z"
   },
   {
    "duration": 22,
    "start_time": "2023-04-30T09:51:52.560Z"
   },
   {
    "duration": 24,
    "start_time": "2023-04-30T09:51:52.584Z"
   },
   {
    "duration": 69,
    "start_time": "2023-04-30T09:51:52.610Z"
   },
   {
    "duration": 13,
    "start_time": "2023-04-30T09:51:52.681Z"
   },
   {
    "duration": 16,
    "start_time": "2023-04-30T09:51:52.696Z"
   },
   {
    "duration": 489,
    "start_time": "2023-04-30T09:51:52.721Z"
   },
   {
    "duration": 270,
    "start_time": "2023-04-30T09:51:53.212Z"
   },
   {
    "duration": 311,
    "start_time": "2023-04-30T09:51:53.484Z"
   },
   {
    "duration": 688,
    "start_time": "2023-04-30T09:51:53.798Z"
   },
   {
    "duration": 896,
    "start_time": "2023-04-30T09:51:54.488Z"
   },
   {
    "duration": 32,
    "start_time": "2023-04-30T09:51:55.394Z"
   },
   {
    "duration": 33,
    "start_time": "2023-04-30T09:51:55.429Z"
   },
   {
    "duration": 22,
    "start_time": "2023-04-30T09:51:55.463Z"
   },
   {
    "duration": 57,
    "start_time": "2023-04-30T09:51:55.486Z"
   },
   {
    "duration": 686,
    "start_time": "2023-04-30T09:51:55.545Z"
   },
   {
    "duration": 576,
    "start_time": "2023-04-30T09:51:56.232Z"
   },
   {
    "duration": 860,
    "start_time": "2023-04-30T09:51:56.817Z"
   },
   {
    "duration": 912,
    "start_time": "2023-04-30T09:51:57.679Z"
   },
   {
    "duration": 61,
    "start_time": "2023-04-30T09:51:58.598Z"
   },
   {
    "duration": 165,
    "start_time": "2023-04-30T09:51:58.662Z"
   },
   {
    "duration": 0,
    "start_time": "2023-04-30T09:51:58.830Z"
   },
   {
    "duration": 0,
    "start_time": "2023-04-30T09:51:58.831Z"
   },
   {
    "duration": 0,
    "start_time": "2023-04-30T09:51:58.832Z"
   },
   {
    "duration": 0,
    "start_time": "2023-04-30T09:51:58.832Z"
   },
   {
    "duration": 77,
    "start_time": "2023-04-30T09:52:50.321Z"
   },
   {
    "duration": 94,
    "start_time": "2023-04-30T09:53:12.868Z"
   },
   {
    "duration": 61,
    "start_time": "2023-04-30T09:58:14.901Z"
   },
   {
    "duration": 52,
    "start_time": "2023-04-30T10:02:01.395Z"
   },
   {
    "duration": 30,
    "start_time": "2023-04-30T10:02:33.901Z"
   },
   {
    "duration": 1518,
    "start_time": "2023-04-30T10:02:45.849Z"
   },
   {
    "duration": 157,
    "start_time": "2023-04-30T10:02:47.369Z"
   },
   {
    "duration": 38,
    "start_time": "2023-04-30T10:02:47.532Z"
   },
   {
    "duration": 30,
    "start_time": "2023-04-30T10:02:47.577Z"
   },
   {
    "duration": 38,
    "start_time": "2023-04-30T10:02:47.612Z"
   },
   {
    "duration": 14,
    "start_time": "2023-04-30T10:02:47.655Z"
   },
   {
    "duration": 20,
    "start_time": "2023-04-30T10:02:47.675Z"
   },
   {
    "duration": 399,
    "start_time": "2023-04-30T10:02:47.700Z"
   },
   {
    "duration": 266,
    "start_time": "2023-04-30T10:02:48.102Z"
   },
   {
    "duration": 273,
    "start_time": "2023-04-30T10:02:48.374Z"
   },
   {
    "duration": 742,
    "start_time": "2023-04-30T10:02:48.653Z"
   },
   {
    "duration": 1071,
    "start_time": "2023-04-30T10:02:49.399Z"
   },
   {
    "duration": 59,
    "start_time": "2023-04-30T10:02:50.472Z"
   },
   {
    "duration": 51,
    "start_time": "2023-04-30T10:02:50.539Z"
   },
   {
    "duration": 36,
    "start_time": "2023-04-30T10:02:50.605Z"
   },
   {
    "duration": 136,
    "start_time": "2023-04-30T10:02:50.654Z"
   },
   {
    "duration": 892,
    "start_time": "2023-04-30T10:02:50.796Z"
   },
   {
    "duration": 842,
    "start_time": "2023-04-30T10:02:51.694Z"
   },
   {
    "duration": 1030,
    "start_time": "2023-04-30T10:02:52.543Z"
   },
   {
    "duration": 929,
    "start_time": "2023-04-30T10:02:53.578Z"
   },
   {
    "duration": 76,
    "start_time": "2023-04-30T10:02:54.511Z"
   },
   {
    "duration": 210,
    "start_time": "2023-04-30T10:02:54.595Z"
   },
   {
    "duration": 0,
    "start_time": "2023-04-30T10:02:54.808Z"
   },
   {
    "duration": 0,
    "start_time": "2023-04-30T10:02:54.809Z"
   },
   {
    "duration": 0,
    "start_time": "2023-04-30T10:02:54.810Z"
   },
   {
    "duration": 0,
    "start_time": "2023-04-30T10:02:54.811Z"
   },
   {
    "duration": 52,
    "start_time": "2023-04-30T10:05:54.094Z"
   },
   {
    "duration": 32,
    "start_time": "2023-04-30T10:08:15.894Z"
   },
   {
    "duration": 343,
    "start_time": "2023-04-30T10:09:21.762Z"
   },
   {
    "duration": 344,
    "start_time": "2023-04-30T10:09:57.751Z"
   },
   {
    "duration": 297,
    "start_time": "2023-04-30T10:10:46.796Z"
   },
   {
    "duration": 20,
    "start_time": "2023-04-30T10:11:22.100Z"
   },
   {
    "duration": 26,
    "start_time": "2023-04-30T10:12:07.765Z"
   },
   {
    "duration": 1493,
    "start_time": "2023-04-30T10:12:15.507Z"
   },
   {
    "duration": 53,
    "start_time": "2023-04-30T10:12:37.707Z"
   },
   {
    "duration": 32,
    "start_time": "2023-04-30T10:13:02.950Z"
   },
   {
    "duration": 389,
    "start_time": "2023-04-30T10:13:15.503Z"
   },
   {
    "duration": 1409,
    "start_time": "2023-04-30T10:14:15.999Z"
   },
   {
    "duration": 138,
    "start_time": "2023-04-30T10:14:17.411Z"
   },
   {
    "duration": 34,
    "start_time": "2023-04-30T10:14:17.554Z"
   },
   {
    "duration": 16,
    "start_time": "2023-04-30T10:14:17.591Z"
   },
   {
    "duration": 45,
    "start_time": "2023-04-30T10:14:17.609Z"
   },
   {
    "duration": 22,
    "start_time": "2023-04-30T10:14:17.656Z"
   },
   {
    "duration": 19,
    "start_time": "2023-04-30T10:14:17.679Z"
   },
   {
    "duration": 360,
    "start_time": "2023-04-30T10:14:17.700Z"
   },
   {
    "duration": 243,
    "start_time": "2023-04-30T10:14:18.064Z"
   },
   {
    "duration": 269,
    "start_time": "2023-04-30T10:14:18.321Z"
   },
   {
    "duration": 733,
    "start_time": "2023-04-30T10:14:18.592Z"
   },
   {
    "duration": 976,
    "start_time": "2023-04-30T10:14:19.330Z"
   },
   {
    "duration": 61,
    "start_time": "2023-04-30T10:14:20.308Z"
   },
   {
    "duration": 36,
    "start_time": "2023-04-30T10:14:20.374Z"
   },
   {
    "duration": 19,
    "start_time": "2023-04-30T10:14:20.412Z"
   },
   {
    "duration": 50,
    "start_time": "2023-04-30T10:14:20.433Z"
   },
   {
    "duration": 692,
    "start_time": "2023-04-30T10:14:20.488Z"
   },
   {
    "duration": 613,
    "start_time": "2023-04-30T10:14:21.189Z"
   },
   {
    "duration": 880,
    "start_time": "2023-04-30T10:14:21.804Z"
   },
   {
    "duration": 871,
    "start_time": "2023-04-30T10:14:22.687Z"
   },
   {
    "duration": 93,
    "start_time": "2023-04-30T10:14:23.560Z"
   },
   {
    "duration": 25,
    "start_time": "2023-04-30T10:14:23.668Z"
   },
   {
    "duration": 513,
    "start_time": "2023-04-30T10:14:23.695Z"
   },
   {
    "duration": 0,
    "start_time": "2023-04-30T10:14:24.211Z"
   },
   {
    "duration": 0,
    "start_time": "2023-04-30T10:14:24.212Z"
   },
   {
    "duration": 0,
    "start_time": "2023-04-30T10:14:24.213Z"
   },
   {
    "duration": 0,
    "start_time": "2023-04-30T10:14:24.214Z"
   },
   {
    "duration": 1435,
    "start_time": "2023-04-30T10:15:40.038Z"
   },
   {
    "duration": 151,
    "start_time": "2023-04-30T10:15:41.481Z"
   },
   {
    "duration": 45,
    "start_time": "2023-04-30T10:15:41.637Z"
   },
   {
    "duration": 15,
    "start_time": "2023-04-30T10:15:41.684Z"
   },
   {
    "duration": 54,
    "start_time": "2023-04-30T10:15:41.702Z"
   },
   {
    "duration": 12,
    "start_time": "2023-04-30T10:15:41.758Z"
   },
   {
    "duration": 17,
    "start_time": "2023-04-30T10:15:41.774Z"
   },
   {
    "duration": 453,
    "start_time": "2023-04-30T10:15:41.793Z"
   },
   {
    "duration": 270,
    "start_time": "2023-04-30T10:15:42.250Z"
   },
   {
    "duration": 324,
    "start_time": "2023-04-30T10:15:42.530Z"
   },
   {
    "duration": 671,
    "start_time": "2023-04-30T10:15:42.857Z"
   },
   {
    "duration": 893,
    "start_time": "2023-04-30T10:15:43.530Z"
   },
   {
    "duration": 66,
    "start_time": "2023-04-30T10:15:44.424Z"
   },
   {
    "duration": 42,
    "start_time": "2023-04-30T10:15:44.494Z"
   },
   {
    "duration": 24,
    "start_time": "2023-04-30T10:15:44.538Z"
   },
   {
    "duration": 62,
    "start_time": "2023-04-30T10:15:44.564Z"
   },
   {
    "duration": 753,
    "start_time": "2023-04-30T10:15:44.631Z"
   },
   {
    "duration": 654,
    "start_time": "2023-04-30T10:15:45.389Z"
   },
   {
    "duration": 819,
    "start_time": "2023-04-30T10:15:46.048Z"
   },
   {
    "duration": 806,
    "start_time": "2023-04-30T10:15:46.873Z"
   },
   {
    "duration": 47,
    "start_time": "2023-04-30T10:15:47.684Z"
   },
   {
    "duration": 21,
    "start_time": "2023-04-30T10:15:47.736Z"
   },
   {
    "duration": 1509,
    "start_time": "2023-04-30T10:17:41.200Z"
   },
   {
    "duration": 574,
    "start_time": "2023-04-30T10:17:42.711Z"
   },
   {
    "duration": 19,
    "start_time": "2023-04-30T10:17:43.287Z"
   },
   {
    "duration": 38,
    "start_time": "2023-04-30T10:17:43.309Z"
   },
   {
    "duration": 43,
    "start_time": "2023-04-30T10:17:43.352Z"
   },
   {
    "duration": 13,
    "start_time": "2023-04-30T10:17:43.397Z"
   },
   {
    "duration": 22,
    "start_time": "2023-04-30T10:17:43.419Z"
   },
   {
    "duration": 424,
    "start_time": "2023-04-30T10:17:43.443Z"
   },
   {
    "duration": 233,
    "start_time": "2023-04-30T10:17:43.869Z"
   },
   {
    "duration": 250,
    "start_time": "2023-04-30T10:17:44.104Z"
   },
   {
    "duration": 694,
    "start_time": "2023-04-30T10:17:44.358Z"
   },
   {
    "duration": 815,
    "start_time": "2023-04-30T10:17:45.054Z"
   },
   {
    "duration": 51,
    "start_time": "2023-04-30T10:17:45.871Z"
   },
   {
    "duration": 36,
    "start_time": "2023-04-30T10:17:45.932Z"
   },
   {
    "duration": 25,
    "start_time": "2023-04-30T10:17:45.972Z"
   },
   {
    "duration": 44,
    "start_time": "2023-04-30T10:17:45.999Z"
   },
   {
    "duration": 672,
    "start_time": "2023-04-30T10:17:46.057Z"
   },
   {
    "duration": 584,
    "start_time": "2023-04-30T10:17:46.731Z"
   },
   {
    "duration": 859,
    "start_time": "2023-04-30T10:17:47.324Z"
   },
   {
    "duration": 844,
    "start_time": "2023-04-30T10:17:48.189Z"
   },
   {
    "duration": 87,
    "start_time": "2023-04-30T10:17:49.039Z"
   },
   {
    "duration": 21,
    "start_time": "2023-04-30T10:17:49.133Z"
   },
   {
    "duration": 0,
    "start_time": "2023-04-30T10:18:05.305Z"
   },
   {
    "duration": 0,
    "start_time": "2023-04-30T10:18:05.306Z"
   },
   {
    "duration": 0,
    "start_time": "2023-04-30T10:18:05.308Z"
   },
   {
    "duration": 0,
    "start_time": "2023-04-30T10:18:05.309Z"
   },
   {
    "duration": 0,
    "start_time": "2023-04-30T10:18:05.310Z"
   },
   {
    "duration": 87,
    "start_time": "2023-04-30T10:18:28.206Z"
   },
   {
    "duration": 1492,
    "start_time": "2023-04-30T10:18:35.272Z"
   },
   {
    "duration": 579,
    "start_time": "2023-04-30T10:18:36.766Z"
   },
   {
    "duration": 32,
    "start_time": "2023-04-30T10:18:37.354Z"
   },
   {
    "duration": 41,
    "start_time": "2023-04-30T10:18:37.390Z"
   },
   {
    "duration": 54,
    "start_time": "2023-04-30T10:18:37.442Z"
   },
   {
    "duration": 15,
    "start_time": "2023-04-30T10:18:37.498Z"
   },
   {
    "duration": 32,
    "start_time": "2023-04-30T10:18:37.523Z"
   },
   {
    "duration": 427,
    "start_time": "2023-04-30T10:18:37.557Z"
   },
   {
    "duration": 229,
    "start_time": "2023-04-30T10:18:37.989Z"
   },
   {
    "duration": 264,
    "start_time": "2023-04-30T10:18:38.227Z"
   },
   {
    "duration": 673,
    "start_time": "2023-04-30T10:18:38.493Z"
   },
   {
    "duration": 968,
    "start_time": "2023-04-30T10:18:39.168Z"
   },
   {
    "duration": 41,
    "start_time": "2023-04-30T10:18:40.140Z"
   },
   {
    "duration": 32,
    "start_time": "2023-04-30T10:18:40.184Z"
   },
   {
    "duration": 20,
    "start_time": "2023-04-30T10:18:40.218Z"
   },
   {
    "duration": 48,
    "start_time": "2023-04-30T10:18:40.240Z"
   },
   {
    "duration": 736,
    "start_time": "2023-04-30T10:18:40.293Z"
   },
   {
    "duration": 688,
    "start_time": "2023-04-30T10:18:41.035Z"
   },
   {
    "duration": 794,
    "start_time": "2023-04-30T10:18:41.727Z"
   },
   {
    "duration": 854,
    "start_time": "2023-04-30T10:18:42.524Z"
   },
   {
    "duration": 80,
    "start_time": "2023-04-30T10:18:43.380Z"
   },
   {
    "duration": 26,
    "start_time": "2023-04-30T10:18:43.464Z"
   },
   {
    "duration": 0,
    "start_time": "2023-04-30T10:18:59.685Z"
   },
   {
    "duration": 0,
    "start_time": "2023-04-30T10:18:59.686Z"
   },
   {
    "duration": 0,
    "start_time": "2023-04-30T10:18:59.688Z"
   },
   {
    "duration": 0,
    "start_time": "2023-04-30T10:18:59.689Z"
   },
   {
    "duration": 0,
    "start_time": "2023-04-30T10:18:59.690Z"
   },
   {
    "duration": 1367,
    "start_time": "2023-04-30T10:19:28.035Z"
   },
   {
    "duration": 159,
    "start_time": "2023-04-30T10:19:29.405Z"
   },
   {
    "duration": 30,
    "start_time": "2023-04-30T10:19:29.566Z"
   },
   {
    "duration": 31,
    "start_time": "2023-04-30T10:19:29.599Z"
   },
   {
    "duration": 54,
    "start_time": "2023-04-30T10:19:29.648Z"
   },
   {
    "duration": 16,
    "start_time": "2023-04-30T10:19:29.704Z"
   },
   {
    "duration": 24,
    "start_time": "2023-04-30T10:19:29.722Z"
   },
   {
    "duration": 419,
    "start_time": "2023-04-30T10:19:29.751Z"
   },
   {
    "duration": 251,
    "start_time": "2023-04-30T10:19:30.172Z"
   },
   {
    "duration": 266,
    "start_time": "2023-04-30T10:19:30.424Z"
   },
   {
    "duration": 608,
    "start_time": "2023-04-30T10:19:30.692Z"
   },
   {
    "duration": 770,
    "start_time": "2023-04-30T10:19:31.302Z"
   },
   {
    "duration": 41,
    "start_time": "2023-04-30T10:19:32.074Z"
   },
   {
    "duration": 36,
    "start_time": "2023-04-30T10:19:32.122Z"
   },
   {
    "duration": 17,
    "start_time": "2023-04-30T10:19:32.160Z"
   },
   {
    "duration": 52,
    "start_time": "2023-04-30T10:19:32.180Z"
   },
   {
    "duration": 649,
    "start_time": "2023-04-30T10:19:32.234Z"
   },
   {
    "duration": 604,
    "start_time": "2023-04-30T10:19:32.885Z"
   },
   {
    "duration": 831,
    "start_time": "2023-04-30T10:19:33.490Z"
   },
   {
    "duration": 842,
    "start_time": "2023-04-30T10:19:34.322Z"
   },
   {
    "duration": 62,
    "start_time": "2023-04-30T10:19:35.173Z"
   },
   {
    "duration": 26,
    "start_time": "2023-04-30T10:19:35.245Z"
   },
   {
    "duration": 0,
    "start_time": "2023-04-30T10:19:52.863Z"
   },
   {
    "duration": 0,
    "start_time": "2023-04-30T10:19:52.865Z"
   },
   {
    "duration": 0,
    "start_time": "2023-04-30T10:19:52.871Z"
   },
   {
    "duration": 0,
    "start_time": "2023-04-30T10:19:52.873Z"
   },
   {
    "duration": 0,
    "start_time": "2023-04-30T10:19:52.874Z"
   },
   {
    "duration": 1247,
    "start_time": "2023-04-30T10:27:56.872Z"
   },
   {
    "duration": 122,
    "start_time": "2023-04-30T10:27:58.121Z"
   },
   {
    "duration": 25,
    "start_time": "2023-04-30T10:27:58.246Z"
   },
   {
    "duration": 18,
    "start_time": "2023-04-30T10:27:58.273Z"
   },
   {
    "duration": 56,
    "start_time": "2023-04-30T10:27:58.293Z"
   },
   {
    "duration": 11,
    "start_time": "2023-04-30T10:27:58.352Z"
   },
   {
    "duration": 23,
    "start_time": "2023-04-30T10:27:58.366Z"
   },
   {
    "duration": 358,
    "start_time": "2023-04-30T10:27:58.391Z"
   },
   {
    "duration": 263,
    "start_time": "2023-04-30T10:27:58.752Z"
   },
   {
    "duration": 330,
    "start_time": "2023-04-30T10:27:59.022Z"
   },
   {
    "duration": 575,
    "start_time": "2023-04-30T10:27:59.359Z"
   },
   {
    "duration": 723,
    "start_time": "2023-04-30T10:27:59.936Z"
   },
   {
    "duration": 58,
    "start_time": "2023-04-30T10:28:00.661Z"
   },
   {
    "duration": 32,
    "start_time": "2023-04-30T10:28:00.724Z"
   },
   {
    "duration": 20,
    "start_time": "2023-04-30T10:28:00.764Z"
   },
   {
    "duration": 64,
    "start_time": "2023-04-30T10:28:00.787Z"
   },
   {
    "duration": 627,
    "start_time": "2023-04-30T10:28:00.858Z"
   },
   {
    "duration": 508,
    "start_time": "2023-04-30T10:28:01.486Z"
   },
   {
    "duration": 727,
    "start_time": "2023-04-30T10:28:01.996Z"
   },
   {
    "duration": 735,
    "start_time": "2023-04-30T10:28:02.725Z"
   },
   {
    "duration": 79,
    "start_time": "2023-04-30T10:28:03.462Z"
   },
   {
    "duration": 20,
    "start_time": "2023-04-30T10:28:03.549Z"
   },
   {
    "duration": 0,
    "start_time": "2023-04-30T10:28:17.606Z"
   },
   {
    "duration": 0,
    "start_time": "2023-04-30T10:28:17.607Z"
   },
   {
    "duration": 0,
    "start_time": "2023-04-30T10:28:17.608Z"
   },
   {
    "duration": 0,
    "start_time": "2023-04-30T10:28:17.609Z"
   },
   {
    "duration": 0,
    "start_time": "2023-04-30T10:28:17.610Z"
   },
   {
    "duration": 9,
    "start_time": "2023-04-30T10:28:19.849Z"
   },
   {
    "duration": 6,
    "start_time": "2023-04-30T10:28:22.704Z"
   },
   {
    "duration": 8,
    "start_time": "2023-04-30T10:28:25.785Z"
   },
   {
    "duration": 7,
    "start_time": "2023-04-30T10:28:28.765Z"
   },
   {
    "duration": 86,
    "start_time": "2023-04-30T10:29:03.804Z"
   },
   {
    "duration": 1231,
    "start_time": "2023-04-30T10:29:10.764Z"
   },
   {
    "duration": 426,
    "start_time": "2023-04-30T10:29:11.997Z"
   },
   {
    "duration": 32,
    "start_time": "2023-04-30T10:29:12.428Z"
   },
   {
    "duration": 31,
    "start_time": "2023-04-30T10:29:12.466Z"
   },
   {
    "duration": 55,
    "start_time": "2023-04-30T10:29:12.500Z"
   },
   {
    "duration": 15,
    "start_time": "2023-04-30T10:29:12.558Z"
   },
   {
    "duration": 17,
    "start_time": "2023-04-30T10:29:13.903Z"
   },
   {
    "duration": 412,
    "start_time": "2023-04-30T10:29:13.923Z"
   },
   {
    "duration": 222,
    "start_time": "2023-04-30T10:29:14.346Z"
   },
   {
    "duration": 262,
    "start_time": "2023-04-30T10:29:14.571Z"
   },
   {
    "duration": 627,
    "start_time": "2023-04-30T10:29:14.836Z"
   },
   {
    "duration": 757,
    "start_time": "2023-04-30T10:29:15.465Z"
   },
   {
    "duration": 45,
    "start_time": "2023-04-30T10:29:16.226Z"
   },
   {
    "duration": 31,
    "start_time": "2023-04-30T10:29:16.273Z"
   },
   {
    "duration": 30,
    "start_time": "2023-04-30T10:29:16.306Z"
   },
   {
    "duration": 50,
    "start_time": "2023-04-30T10:29:16.338Z"
   },
   {
    "duration": 705,
    "start_time": "2023-04-30T10:29:16.392Z"
   },
   {
    "duration": 628,
    "start_time": "2023-04-30T10:29:17.099Z"
   },
   {
    "duration": 735,
    "start_time": "2023-04-30T10:29:17.738Z"
   },
   {
    "duration": 780,
    "start_time": "2023-04-30T10:29:18.475Z"
   },
   {
    "duration": 73,
    "start_time": "2023-04-30T10:29:19.256Z"
   },
   {
    "duration": 40,
    "start_time": "2023-04-30T10:29:19.332Z"
   },
   {
    "duration": 0,
    "start_time": "2023-04-30T10:29:34.133Z"
   },
   {
    "duration": 0,
    "start_time": "2023-04-30T10:29:34.135Z"
   },
   {
    "duration": 0,
    "start_time": "2023-04-30T10:29:34.136Z"
   },
   {
    "duration": 0,
    "start_time": "2023-04-30T10:29:34.137Z"
   },
   {
    "duration": 0,
    "start_time": "2023-04-30T10:29:34.138Z"
   },
   {
    "duration": 9,
    "start_time": "2023-04-30T10:29:34.752Z"
   },
   {
    "duration": 13,
    "start_time": "2023-04-30T10:29:39.919Z"
   },
   {
    "duration": 11,
    "start_time": "2023-04-30T10:29:42.759Z"
   },
   {
    "duration": 7,
    "start_time": "2023-04-30T10:29:47.964Z"
   },
   {
    "duration": 81,
    "start_time": "2023-04-30T10:35:19.228Z"
   },
   {
    "duration": 79,
    "start_time": "2023-04-30T10:35:51.112Z"
   },
   {
    "duration": 1332,
    "start_time": "2023-04-30T10:35:58.055Z"
   },
   {
    "duration": 420,
    "start_time": "2023-04-30T10:35:59.390Z"
   },
   {
    "duration": 31,
    "start_time": "2023-04-30T10:35:59.812Z"
   },
   {
    "duration": 22,
    "start_time": "2023-04-30T10:35:59.845Z"
   },
   {
    "duration": 56,
    "start_time": "2023-04-30T10:35:59.870Z"
   },
   {
    "duration": 15,
    "start_time": "2023-04-30T10:35:59.928Z"
   },
   {
    "duration": 20,
    "start_time": "2023-04-30T10:35:59.945Z"
   },
   {
    "duration": 356,
    "start_time": "2023-04-30T10:35:59.967Z"
   },
   {
    "duration": 224,
    "start_time": "2023-04-30T10:36:00.327Z"
   },
   {
    "duration": 276,
    "start_time": "2023-04-30T10:36:00.552Z"
   },
   {
    "duration": 593,
    "start_time": "2023-04-30T10:36:00.830Z"
   },
   {
    "duration": 802,
    "start_time": "2023-04-30T10:36:01.425Z"
   },
   {
    "duration": 37,
    "start_time": "2023-04-30T10:36:02.230Z"
   },
   {
    "duration": 22,
    "start_time": "2023-04-30T10:36:02.269Z"
   },
   {
    "duration": 41,
    "start_time": "2023-04-30T10:36:02.315Z"
   },
   {
    "duration": 41,
    "start_time": "2023-04-30T10:36:02.359Z"
   },
   {
    "duration": 637,
    "start_time": "2023-04-30T10:36:02.402Z"
   },
   {
    "duration": 545,
    "start_time": "2023-04-30T10:36:03.041Z"
   },
   {
    "duration": 771,
    "start_time": "2023-04-30T10:36:03.588Z"
   },
   {
    "duration": 732,
    "start_time": "2023-04-30T10:36:04.364Z"
   },
   {
    "duration": 64,
    "start_time": "2023-04-30T10:36:05.097Z"
   },
   {
    "duration": 17,
    "start_time": "2023-04-30T10:36:05.163Z"
   },
   {
    "duration": 0,
    "start_time": "2023-04-30T10:36:19.345Z"
   },
   {
    "duration": 0,
    "start_time": "2023-04-30T10:36:19.347Z"
   },
   {
    "duration": 0,
    "start_time": "2023-04-30T10:36:19.348Z"
   },
   {
    "duration": 0,
    "start_time": "2023-04-30T10:36:19.349Z"
   },
   {
    "duration": 0,
    "start_time": "2023-04-30T10:36:19.351Z"
   },
   {
    "duration": 9,
    "start_time": "2023-04-30T10:36:21.833Z"
   },
   {
    "duration": 8,
    "start_time": "2023-04-30T10:36:28.352Z"
   },
   {
    "duration": 6,
    "start_time": "2023-04-30T10:36:31.142Z"
   },
   {
    "duration": 6,
    "start_time": "2023-04-30T10:36:35.241Z"
   },
   {
    "duration": 62,
    "start_time": "2023-04-30T10:36:49.751Z"
   },
   {
    "duration": 24,
    "start_time": "2023-04-30T10:38:03.905Z"
   },
   {
    "duration": 6,
    "start_time": "2023-04-30T10:38:06.283Z"
   },
   {
    "duration": 1233,
    "start_time": "2023-04-30T10:38:11.554Z"
   },
   {
    "duration": 375,
    "start_time": "2023-04-30T10:38:12.790Z"
   },
   {
    "duration": 24,
    "start_time": "2023-04-30T10:38:13.167Z"
   },
   {
    "duration": 17,
    "start_time": "2023-04-30T10:38:13.192Z"
   },
   {
    "duration": 45,
    "start_time": "2023-04-30T10:38:13.212Z"
   },
   {
    "duration": 10,
    "start_time": "2023-04-30T10:38:13.259Z"
   },
   {
    "duration": 12,
    "start_time": "2023-04-30T10:38:13.271Z"
   },
   {
    "duration": 362,
    "start_time": "2023-04-30T10:38:13.284Z"
   },
   {
    "duration": 217,
    "start_time": "2023-04-30T10:38:13.649Z"
   },
   {
    "duration": 246,
    "start_time": "2023-04-30T10:38:13.871Z"
   },
   {
    "duration": 548,
    "start_time": "2023-04-30T10:38:14.119Z"
   },
   {
    "duration": 763,
    "start_time": "2023-04-30T10:38:14.669Z"
   },
   {
    "duration": 36,
    "start_time": "2023-04-30T10:38:15.433Z"
   },
   {
    "duration": 32,
    "start_time": "2023-04-30T10:38:15.473Z"
   },
   {
    "duration": 22,
    "start_time": "2023-04-30T10:38:15.507Z"
   },
   {
    "duration": 46,
    "start_time": "2023-04-30T10:38:15.531Z"
   },
   {
    "duration": 606,
    "start_time": "2023-04-30T10:38:15.579Z"
   },
   {
    "duration": 513,
    "start_time": "2023-04-30T10:38:16.188Z"
   },
   {
    "duration": 669,
    "start_time": "2023-04-30T10:38:16.718Z"
   },
   {
    "duration": 684,
    "start_time": "2023-04-30T10:38:17.389Z"
   },
   {
    "duration": 62,
    "start_time": "2023-04-30T10:38:18.075Z"
   },
   {
    "duration": 15,
    "start_time": "2023-04-30T10:38:18.139Z"
   },
   {
    "duration": 20,
    "start_time": "2023-04-30T10:38:18.155Z"
   },
   {
    "duration": 16,
    "start_time": "2023-04-30T10:38:18.177Z"
   },
   {
    "duration": 19,
    "start_time": "2023-04-30T10:38:18.195Z"
   },
   {
    "duration": 25,
    "start_time": "2023-04-30T10:38:18.219Z"
   },
   {
    "duration": 20,
    "start_time": "2023-04-30T10:38:18.247Z"
   },
   {
    "duration": 51,
    "start_time": "2023-04-30T10:40:57.048Z"
   },
   {
    "duration": 56,
    "start_time": "2023-04-30T10:41:07.526Z"
   },
   {
    "duration": 46,
    "start_time": "2023-04-30T10:41:17.536Z"
   },
   {
    "duration": 37,
    "start_time": "2023-04-30T10:41:30.997Z"
   },
   {
    "duration": 46,
    "start_time": "2023-04-30T10:41:41.398Z"
   },
   {
    "duration": 1827,
    "start_time": "2023-04-30T10:42:34.639Z"
   },
   {
    "duration": 683,
    "start_time": "2023-04-30T10:43:33.740Z"
   },
   {
    "duration": 649,
    "start_time": "2023-04-30T10:43:40.341Z"
   },
   {
    "duration": 31,
    "start_time": "2023-04-30T10:44:03.976Z"
   },
   {
    "duration": 40,
    "start_time": "2023-04-30T10:44:08.066Z"
   },
   {
    "duration": 320,
    "start_time": "2023-04-30T10:44:36.187Z"
   },
   {
    "duration": 355,
    "start_time": "2023-04-30T10:44:42.685Z"
   },
   {
    "duration": 300,
    "start_time": "2023-04-30T10:54:51.710Z"
   },
   {
    "duration": 215,
    "start_time": "2023-04-30T10:54:57.161Z"
   },
   {
    "duration": 75,
    "start_time": "2023-04-30T10:56:34.003Z"
   },
   {
    "duration": 19,
    "start_time": "2023-04-30T10:56:58.444Z"
   },
   {
    "duration": 22,
    "start_time": "2023-04-30T10:57:03.801Z"
   },
   {
    "duration": 24,
    "start_time": "2023-04-30T10:57:13.048Z"
   },
   {
    "duration": 18,
    "start_time": "2023-04-30T10:57:15.329Z"
   },
   {
    "duration": 25,
    "start_time": "2023-04-30T10:59:05.852Z"
   },
   {
    "duration": 20,
    "start_time": "2023-04-30T10:59:19.552Z"
   },
   {
    "duration": 1128,
    "start_time": "2023-04-30T11:04:17.127Z"
   },
   {
    "duration": 1004,
    "start_time": "2023-04-30T11:04:20.708Z"
   },
   {
    "duration": 48,
    "start_time": "2023-04-30T11:04:47.131Z"
   },
   {
    "duration": 44,
    "start_time": "2023-04-30T11:04:56.525Z"
   },
   {
    "duration": 985,
    "start_time": "2023-04-30T11:05:11.543Z"
   },
   {
    "duration": 1267,
    "start_time": "2023-04-30T11:12:37.416Z"
   },
   {
    "duration": 1100,
    "start_time": "2023-04-30T11:12:41.680Z"
   },
   {
    "duration": 58,
    "start_time": "2023-04-30T11:13:24.332Z"
   },
   {
    "duration": 7,
    "start_time": "2023-04-30T11:13:31.689Z"
   },
   {
    "duration": 1162,
    "start_time": "2023-04-30T11:13:37.040Z"
   },
   {
    "duration": 366,
    "start_time": "2023-04-30T11:13:38.205Z"
   },
   {
    "duration": 18,
    "start_time": "2023-04-30T11:13:38.572Z"
   },
   {
    "duration": 37,
    "start_time": "2023-04-30T11:13:38.592Z"
   },
   {
    "duration": 29,
    "start_time": "2023-04-30T11:13:38.636Z"
   },
   {
    "duration": 12,
    "start_time": "2023-04-30T11:13:38.667Z"
   },
   {
    "duration": 40,
    "start_time": "2023-04-30T11:13:38.681Z"
   },
   {
    "duration": 375,
    "start_time": "2023-04-30T11:13:38.723Z"
   },
   {
    "duration": 242,
    "start_time": "2023-04-30T11:13:39.102Z"
   },
   {
    "duration": 225,
    "start_time": "2023-04-30T11:13:39.346Z"
   },
   {
    "duration": 558,
    "start_time": "2023-04-30T11:13:39.573Z"
   },
   {
    "duration": 697,
    "start_time": "2023-04-30T11:13:40.136Z"
   },
   {
    "duration": 31,
    "start_time": "2023-04-30T11:13:40.835Z"
   },
   {
    "duration": 50,
    "start_time": "2023-04-30T11:13:40.869Z"
   },
   {
    "duration": 24,
    "start_time": "2023-04-30T11:13:40.924Z"
   },
   {
    "duration": 41,
    "start_time": "2023-04-30T11:13:40.949Z"
   },
   {
    "duration": 545,
    "start_time": "2023-04-30T11:13:40.992Z"
   },
   {
    "duration": 478,
    "start_time": "2023-04-30T11:13:41.541Z"
   },
   {
    "duration": 662,
    "start_time": "2023-04-30T11:13:42.025Z"
   },
   {
    "duration": 709,
    "start_time": "2023-04-30T11:13:42.689Z"
   },
   {
    "duration": 51,
    "start_time": "2023-04-30T11:13:43.413Z"
   },
   {
    "duration": 13,
    "start_time": "2023-04-30T11:13:43.466Z"
   },
   {
    "duration": 379,
    "start_time": "2023-04-30T11:13:43.480Z"
   },
   {
    "duration": 0,
    "start_time": "2023-04-30T11:13:43.861Z"
   },
   {
    "duration": 0,
    "start_time": "2023-04-30T11:13:43.863Z"
   },
   {
    "duration": 0,
    "start_time": "2023-04-30T11:13:43.864Z"
   },
   {
    "duration": 0,
    "start_time": "2023-04-30T11:13:43.866Z"
   },
   {
    "duration": 35,
    "start_time": "2023-04-30T11:13:59.306Z"
   },
   {
    "duration": 24,
    "start_time": "2023-04-30T11:14:06.156Z"
   },
   {
    "duration": 1724,
    "start_time": "2023-04-30T11:14:38.377Z"
   },
   {
    "duration": 38,
    "start_time": "2023-04-30T11:15:30.356Z"
   },
   {
    "duration": 1513,
    "start_time": "2023-04-30T11:15:47.159Z"
   },
   {
    "duration": 23,
    "start_time": "2023-04-30T11:16:26.945Z"
   },
   {
    "duration": 34,
    "start_time": "2023-04-30T11:16:32.697Z"
   },
   {
    "duration": 108,
    "start_time": "2023-04-30T11:34:17.949Z"
   },
   {
    "duration": 127,
    "start_time": "2023-04-30T11:34:23.208Z"
   },
   {
    "duration": 127,
    "start_time": "2023-04-30T11:34:46.394Z"
   },
   {
    "duration": 136,
    "start_time": "2023-04-30T11:34:51.940Z"
   },
   {
    "duration": 1283,
    "start_time": "2023-04-30T11:49:05.236Z"
   },
   {
    "duration": 142,
    "start_time": "2023-04-30T11:49:06.527Z"
   },
   {
    "duration": 18,
    "start_time": "2023-04-30T11:49:06.671Z"
   },
   {
    "duration": 17,
    "start_time": "2023-04-30T11:49:06.691Z"
   },
   {
    "duration": 63,
    "start_time": "2023-04-30T11:49:06.710Z"
   },
   {
    "duration": 9,
    "start_time": "2023-04-30T11:49:06.775Z"
   },
   {
    "duration": 12,
    "start_time": "2023-04-30T11:49:06.785Z"
   },
   {
    "duration": 350,
    "start_time": "2023-04-30T11:49:06.798Z"
   },
   {
    "duration": 220,
    "start_time": "2023-04-30T11:49:07.152Z"
   },
   {
    "duration": 249,
    "start_time": "2023-04-30T11:49:07.377Z"
   },
   {
    "duration": 565,
    "start_time": "2023-04-30T11:49:07.628Z"
   },
   {
    "duration": 799,
    "start_time": "2023-04-30T11:49:08.194Z"
   },
   {
    "duration": 61,
    "start_time": "2023-04-30T11:49:08.995Z"
   },
   {
    "duration": 52,
    "start_time": "2023-04-30T11:49:09.065Z"
   },
   {
    "duration": 25,
    "start_time": "2023-04-30T11:49:09.120Z"
   },
   {
    "duration": 55,
    "start_time": "2023-04-30T11:49:09.148Z"
   },
   {
    "duration": 707,
    "start_time": "2023-04-30T11:49:09.205Z"
   },
   {
    "duration": 558,
    "start_time": "2023-04-30T11:49:09.914Z"
   },
   {
    "duration": 790,
    "start_time": "2023-04-30T11:49:10.473Z"
   },
   {
    "duration": 754,
    "start_time": "2023-04-30T11:49:11.270Z"
   },
   {
    "duration": 64,
    "start_time": "2023-04-30T11:49:12.027Z"
   },
   {
    "duration": 26,
    "start_time": "2023-04-30T11:49:12.093Z"
   },
   {
    "duration": 187,
    "start_time": "2023-04-30T11:49:12.121Z"
   },
   {
    "duration": 20,
    "start_time": "2023-04-30T11:49:12.310Z"
   },
   {
    "duration": 8,
    "start_time": "2023-04-30T11:49:12.334Z"
   },
   {
    "duration": 10,
    "start_time": "2023-04-30T11:49:12.344Z"
   },
   {
    "duration": 9,
    "start_time": "2023-04-30T11:49:12.356Z"
   },
   {
    "duration": 1040,
    "start_time": "2023-04-30T11:56:43.944Z"
   },
   {
    "duration": 11,
    "start_time": "2023-04-30T11:57:18.940Z"
   },
   {
    "duration": 7,
    "start_time": "2023-04-30T11:57:54.753Z"
   },
   {
    "duration": 14,
    "start_time": "2023-04-30T11:58:41.757Z"
   },
   {
    "duration": 112,
    "start_time": "2023-04-30T11:59:14.884Z"
   },
   {
    "duration": 16,
    "start_time": "2023-04-30T11:59:26.638Z"
   },
   {
    "duration": 13,
    "start_time": "2023-04-30T12:00:16.165Z"
   },
   {
    "duration": 3,
    "start_time": "2023-04-30T12:17:24.103Z"
   },
   {
    "duration": 304,
    "start_time": "2023-04-30T12:18:03.841Z"
   },
   {
    "duration": 281,
    "start_time": "2023-04-30T12:19:43.110Z"
   },
   {
    "duration": 2008,
    "start_time": "2023-04-30T12:20:00.616Z"
   },
   {
    "duration": 805,
    "start_time": "2023-04-30T12:20:16.422Z"
   },
   {
    "duration": 1004,
    "start_time": "2023-04-30T12:22:06.039Z"
   },
   {
    "duration": 834,
    "start_time": "2023-04-30T12:22:29.052Z"
   },
   {
    "duration": 955,
    "start_time": "2023-04-30T12:23:19.978Z"
   },
   {
    "duration": 11,
    "start_time": "2023-04-30T12:29:32.690Z"
   },
   {
    "duration": 1192,
    "start_time": "2023-04-30T12:29:53.638Z"
   },
   {
    "duration": 96,
    "start_time": "2023-04-30T12:29:54.832Z"
   },
   {
    "duration": 17,
    "start_time": "2023-04-30T12:29:54.930Z"
   },
   {
    "duration": 16,
    "start_time": "2023-04-30T12:29:54.949Z"
   },
   {
    "duration": 60,
    "start_time": "2023-04-30T12:29:54.968Z"
   },
   {
    "duration": 11,
    "start_time": "2023-04-30T12:29:55.031Z"
   },
   {
    "duration": 13,
    "start_time": "2023-04-30T12:29:55.044Z"
   },
   {
    "duration": 322,
    "start_time": "2023-04-30T12:29:55.059Z"
   },
   {
    "duration": 196,
    "start_time": "2023-04-30T12:29:55.383Z"
   },
   {
    "duration": 211,
    "start_time": "2023-04-30T12:29:55.580Z"
   },
   {
    "duration": 484,
    "start_time": "2023-04-30T12:29:55.793Z"
   },
   {
    "duration": 658,
    "start_time": "2023-04-30T12:29:56.278Z"
   },
   {
    "duration": 25,
    "start_time": "2023-04-30T12:29:56.938Z"
   },
   {
    "duration": 21,
    "start_time": "2023-04-30T12:29:56.966Z"
   },
   {
    "duration": 45,
    "start_time": "2023-04-30T12:29:56.988Z"
   },
   {
    "duration": 32,
    "start_time": "2023-04-30T12:29:57.035Z"
   },
   {
    "duration": 558,
    "start_time": "2023-04-30T12:29:57.069Z"
   },
   {
    "duration": 440,
    "start_time": "2023-04-30T12:29:57.628Z"
   },
   {
    "duration": 630,
    "start_time": "2023-04-30T12:29:58.070Z"
   },
   {
    "duration": 696,
    "start_time": "2023-04-30T12:29:58.719Z"
   },
   {
    "duration": 41,
    "start_time": "2023-04-30T12:29:59.417Z"
   },
   {
    "duration": 22,
    "start_time": "2023-04-30T12:29:59.460Z"
   },
   {
    "duration": 180,
    "start_time": "2023-04-30T12:29:59.484Z"
   },
   {
    "duration": 6,
    "start_time": "2023-04-30T12:29:59.666Z"
   },
   {
    "duration": 7,
    "start_time": "2023-04-30T12:29:59.673Z"
   },
   {
    "duration": 8,
    "start_time": "2023-04-30T12:29:59.681Z"
   },
   {
    "duration": 6,
    "start_time": "2023-04-30T12:29:59.690Z"
   },
   {
    "duration": 14,
    "start_time": "2023-04-30T12:29:59.716Z"
   },
   {
    "duration": 18,
    "start_time": "2023-04-30T12:29:59.732Z"
   },
   {
    "duration": 18,
    "start_time": "2023-04-30T12:29:59.752Z"
   },
   {
    "duration": 127,
    "start_time": "2023-04-30T12:29:59.772Z"
   },
   {
    "duration": 10,
    "start_time": "2023-04-30T12:31:58.485Z"
   },
   {
    "duration": 884,
    "start_time": "2023-04-30T12:33:55.964Z"
   },
   {
    "duration": 897,
    "start_time": "2023-04-30T12:34:48.482Z"
   },
   {
    "duration": 922,
    "start_time": "2023-04-30T12:34:56.026Z"
   },
   {
    "duration": 840,
    "start_time": "2023-04-30T12:35:00.628Z"
   },
   {
    "duration": 957,
    "start_time": "2023-04-30T12:35:23.125Z"
   },
   {
    "duration": 766,
    "start_time": "2023-04-30T12:35:35.841Z"
   },
   {
    "duration": 951,
    "start_time": "2023-04-30T12:35:54.317Z"
   },
   {
    "duration": 802,
    "start_time": "2023-04-30T12:36:22.475Z"
   },
   {
    "duration": 921,
    "start_time": "2023-04-30T12:36:43.763Z"
   },
   {
    "duration": 936,
    "start_time": "2023-04-30T12:36:55.837Z"
   },
   {
    "duration": 786,
    "start_time": "2023-04-30T12:37:01.531Z"
   },
   {
    "duration": 871,
    "start_time": "2023-04-30T12:37:11.226Z"
   },
   {
    "duration": 1636,
    "start_time": "2023-04-30T12:37:44.847Z"
   },
   {
    "duration": 1608,
    "start_time": "2023-04-30T12:38:04.629Z"
   },
   {
    "duration": 1626,
    "start_time": "2023-04-30T12:38:16.973Z"
   },
   {
    "duration": 1880,
    "start_time": "2023-04-30T12:38:29.594Z"
   },
   {
    "duration": 1720,
    "start_time": "2023-04-30T12:38:50.529Z"
   },
   {
    "duration": 1798,
    "start_time": "2023-04-30T12:38:58.863Z"
   },
   {
    "duration": 1774,
    "start_time": "2023-04-30T12:40:55.722Z"
   },
   {
    "duration": 1771,
    "start_time": "2023-04-30T12:41:05.849Z"
   },
   {
    "duration": 1741,
    "start_time": "2023-04-30T12:41:16.329Z"
   },
   {
    "duration": 1814,
    "start_time": "2023-04-30T12:41:39.646Z"
   },
   {
    "duration": 1720,
    "start_time": "2023-04-30T12:42:04.327Z"
   },
   {
    "duration": 1754,
    "start_time": "2023-05-01T08:35:19.581Z"
   },
   {
    "duration": 146,
    "start_time": "2023-05-01T08:35:21.337Z"
   },
   {
    "duration": 55,
    "start_time": "2023-05-01T08:35:21.494Z"
   },
   {
    "duration": 20,
    "start_time": "2023-05-01T08:35:21.554Z"
   },
   {
    "duration": 51,
    "start_time": "2023-05-01T08:35:21.575Z"
   },
   {
    "duration": 20,
    "start_time": "2023-05-01T08:35:21.628Z"
   },
   {
    "duration": 22,
    "start_time": "2023-05-01T08:35:21.650Z"
   },
   {
    "duration": 432,
    "start_time": "2023-05-01T08:35:21.674Z"
   },
   {
    "duration": 244,
    "start_time": "2023-05-01T08:35:22.111Z"
   },
   {
    "duration": 295,
    "start_time": "2023-05-01T08:35:22.364Z"
   },
   {
    "duration": 659,
    "start_time": "2023-05-01T08:35:22.665Z"
   },
   {
    "duration": 923,
    "start_time": "2023-05-01T08:35:23.325Z"
   },
   {
    "duration": 60,
    "start_time": "2023-05-01T08:35:24.254Z"
   },
   {
    "duration": 42,
    "start_time": "2023-05-01T08:35:24.322Z"
   },
   {
    "duration": 23,
    "start_time": "2023-05-01T08:35:24.371Z"
   },
   {
    "duration": 53,
    "start_time": "2023-05-01T08:35:24.400Z"
   },
   {
    "duration": 796,
    "start_time": "2023-05-01T08:35:24.458Z"
   },
   {
    "duration": 651,
    "start_time": "2023-05-01T08:35:25.259Z"
   },
   {
    "duration": 937,
    "start_time": "2023-05-01T08:35:25.917Z"
   },
   {
    "duration": 960,
    "start_time": "2023-05-01T08:35:26.859Z"
   },
   {
    "duration": 71,
    "start_time": "2023-05-01T08:35:27.827Z"
   },
   {
    "duration": 49,
    "start_time": "2023-05-01T08:35:27.905Z"
   },
   {
    "duration": 361,
    "start_time": "2023-05-01T08:35:27.962Z"
   },
   {
    "duration": 21,
    "start_time": "2023-05-01T08:35:28.330Z"
   },
   {
    "duration": 15,
    "start_time": "2023-05-01T08:35:28.358Z"
   },
   {
    "duration": 18,
    "start_time": "2023-05-01T08:35:28.379Z"
   },
   {
    "duration": 16,
    "start_time": "2023-05-01T08:35:28.404Z"
   },
   {
    "duration": 30,
    "start_time": "2023-05-01T08:35:28.432Z"
   },
   {
    "duration": 20,
    "start_time": "2023-05-01T08:35:28.470Z"
   },
   {
    "duration": 28,
    "start_time": "2023-05-01T08:35:28.497Z"
   },
   {
    "duration": 29,
    "start_time": "2023-05-01T08:41:27.314Z"
   },
   {
    "duration": 6,
    "start_time": "2023-05-01T08:48:05.538Z"
   },
   {
    "duration": 1755,
    "start_time": "2023-05-01T08:48:52.716Z"
   },
   {
    "duration": 213,
    "start_time": "2023-05-01T08:48:54.473Z"
   },
   {
    "duration": 47,
    "start_time": "2023-05-01T08:48:54.688Z"
   },
   {
    "duration": 41,
    "start_time": "2023-05-01T08:48:54.738Z"
   },
   {
    "duration": 85,
    "start_time": "2023-05-01T08:48:54.782Z"
   },
   {
    "duration": 25,
    "start_time": "2023-05-01T08:48:54.869Z"
   },
   {
    "duration": 34,
    "start_time": "2023-05-01T08:48:54.897Z"
   },
   {
    "duration": 19,
    "start_time": "2023-05-01T08:48:54.933Z"
   },
   {
    "duration": 551,
    "start_time": "2023-05-01T08:48:54.955Z"
   },
   {
    "duration": 256,
    "start_time": "2023-05-01T08:48:55.510Z"
   },
   {
    "duration": 277,
    "start_time": "2023-05-01T08:48:55.770Z"
   },
   {
    "duration": 643,
    "start_time": "2023-05-01T08:48:56.052Z"
   },
   {
    "duration": 936,
    "start_time": "2023-05-01T08:48:56.701Z"
   },
   {
    "duration": 55,
    "start_time": "2023-05-01T08:48:57.643Z"
   },
   {
    "duration": 37,
    "start_time": "2023-05-01T08:48:57.700Z"
   },
   {
    "duration": 28,
    "start_time": "2023-05-01T08:48:57.742Z"
   },
   {
    "duration": 52,
    "start_time": "2023-05-01T08:48:57.775Z"
   },
   {
    "duration": 11,
    "start_time": "2023-05-01T08:48:57.833Z"
   },
   {
    "duration": 770,
    "start_time": "2023-05-01T08:48:57.849Z"
   },
   {
    "duration": 656,
    "start_time": "2023-05-01T08:48:58.625Z"
   },
   {
    "duration": 883,
    "start_time": "2023-05-01T08:48:59.286Z"
   },
   {
    "duration": 1150,
    "start_time": "2023-05-01T08:49:00.173Z"
   },
   {
    "duration": 86,
    "start_time": "2023-05-01T08:49:01.326Z"
   },
   {
    "duration": 47,
    "start_time": "2023-05-01T08:49:01.418Z"
   },
   {
    "duration": 250,
    "start_time": "2023-05-01T08:49:01.471Z"
   },
   {
    "duration": 15,
    "start_time": "2023-05-01T08:49:01.730Z"
   },
   {
    "duration": 25,
    "start_time": "2023-05-01T08:49:01.755Z"
   },
   {
    "duration": 17,
    "start_time": "2023-05-01T08:49:01.794Z"
   },
   {
    "duration": 67,
    "start_time": "2023-05-01T08:49:01.820Z"
   },
   {
    "duration": 80,
    "start_time": "2023-05-01T08:49:01.899Z"
   },
   {
    "duration": 42,
    "start_time": "2023-05-01T08:49:01.996Z"
   },
   {
    "duration": 38,
    "start_time": "2023-05-01T08:49:02.040Z"
   },
   {
    "duration": 19,
    "start_time": "2023-05-01T08:50:16.992Z"
   },
   {
    "duration": 12,
    "start_time": "2023-05-01T08:51:49.445Z"
   },
   {
    "duration": 215,
    "start_time": "2023-05-01T08:53:00.136Z"
   },
   {
    "duration": 252,
    "start_time": "2023-05-01T08:53:06.084Z"
   },
   {
    "duration": 1827,
    "start_time": "2023-05-01T08:53:24.892Z"
   },
   {
    "duration": 306,
    "start_time": "2023-05-01T08:53:26.737Z"
   },
   {
    "duration": 83,
    "start_time": "2023-05-01T08:53:27.060Z"
   },
   {
    "duration": 34,
    "start_time": "2023-05-01T08:53:27.153Z"
   },
   {
    "duration": 89,
    "start_time": "2023-05-01T08:53:27.194Z"
   },
   {
    "duration": 45,
    "start_time": "2023-05-01T08:53:27.298Z"
   },
   {
    "duration": 40,
    "start_time": "2023-05-01T08:53:27.350Z"
   },
   {
    "duration": 19,
    "start_time": "2023-05-01T08:53:27.396Z"
   },
   {
    "duration": 520,
    "start_time": "2023-05-01T08:53:27.419Z"
   },
   {
    "duration": 365,
    "start_time": "2023-05-01T08:53:27.951Z"
   },
   {
    "duration": 293,
    "start_time": "2023-05-01T08:53:28.321Z"
   },
   {
    "duration": 914,
    "start_time": "2023-05-01T08:53:28.621Z"
   },
   {
    "duration": 1026,
    "start_time": "2023-05-01T08:53:29.559Z"
   },
   {
    "duration": 88,
    "start_time": "2023-05-01T08:53:30.599Z"
   },
   {
    "duration": 64,
    "start_time": "2023-05-01T08:53:30.692Z"
   },
   {
    "duration": 20,
    "start_time": "2023-05-01T08:53:30.762Z"
   },
   {
    "duration": 92,
    "start_time": "2023-05-01T08:53:30.789Z"
   },
   {
    "duration": 92,
    "start_time": "2023-05-01T08:53:30.883Z"
   },
   {
    "duration": 6,
    "start_time": "2023-05-01T08:53:30.977Z"
   },
   {
    "duration": 796,
    "start_time": "2023-05-01T08:53:30.984Z"
   },
   {
    "duration": 753,
    "start_time": "2023-05-01T08:53:31.783Z"
   },
   {
    "duration": 1169,
    "start_time": "2023-05-01T08:53:32.542Z"
   },
   {
    "duration": 963,
    "start_time": "2023-05-01T08:53:33.717Z"
   },
   {
    "duration": 66,
    "start_time": "2023-05-01T08:53:34.686Z"
   },
   {
    "duration": 53,
    "start_time": "2023-05-01T08:53:34.761Z"
   },
   {
    "duration": 261,
    "start_time": "2023-05-01T08:53:34.823Z"
   },
   {
    "duration": 10,
    "start_time": "2023-05-01T08:53:35.090Z"
   },
   {
    "duration": 9,
    "start_time": "2023-05-01T08:53:35.106Z"
   },
   {
    "duration": 17,
    "start_time": "2023-05-01T08:53:35.121Z"
   },
   {
    "duration": 11,
    "start_time": "2023-05-01T08:53:35.144Z"
   },
   {
    "duration": 18,
    "start_time": "2023-05-01T08:53:35.162Z"
   },
   {
    "duration": 16,
    "start_time": "2023-05-01T08:53:35.186Z"
   },
   {
    "duration": 17,
    "start_time": "2023-05-01T08:53:35.209Z"
   },
   {
    "duration": 209,
    "start_time": "2023-05-01T08:57:59.079Z"
   },
   {
    "duration": 11,
    "start_time": "2023-05-01T08:59:47.042Z"
   },
   {
    "duration": 15,
    "start_time": "2023-05-01T09:01:47.036Z"
   },
   {
    "duration": 11,
    "start_time": "2023-05-01T09:02:44.512Z"
   },
   {
    "duration": 231,
    "start_time": "2023-05-01T09:03:23.989Z"
   },
   {
    "duration": 15,
    "start_time": "2023-05-01T09:03:30.933Z"
   },
   {
    "duration": 16,
    "start_time": "2023-05-01T09:04:35.311Z"
   },
   {
    "duration": 8,
    "start_time": "2023-05-01T09:04:41.407Z"
   },
   {
    "duration": 19,
    "start_time": "2023-05-01T09:05:24.196Z"
   },
   {
    "duration": 1336,
    "start_time": "2023-05-01T10:18:32.353Z"
   },
   {
    "duration": 305,
    "start_time": "2023-05-01T10:18:33.692Z"
   },
   {
    "duration": 19,
    "start_time": "2023-05-01T10:18:33.999Z"
   },
   {
    "duration": 15,
    "start_time": "2023-05-01T10:18:34.020Z"
   },
   {
    "duration": 30,
    "start_time": "2023-05-01T10:18:34.038Z"
   },
   {
    "duration": 8,
    "start_time": "2023-05-01T10:18:34.070Z"
   },
   {
    "duration": 40,
    "start_time": "2023-05-01T10:18:34.080Z"
   },
   {
    "duration": 11,
    "start_time": "2023-05-01T10:18:34.123Z"
   },
   {
    "duration": 320,
    "start_time": "2023-05-01T10:18:34.136Z"
   },
   {
    "duration": 196,
    "start_time": "2023-05-01T10:18:34.458Z"
   },
   {
    "duration": 224,
    "start_time": "2023-05-01T10:18:34.657Z"
   },
   {
    "duration": 561,
    "start_time": "2023-05-01T10:18:34.883Z"
   },
   {
    "duration": 624,
    "start_time": "2023-05-01T10:18:35.447Z"
   },
   {
    "duration": 47,
    "start_time": "2023-05-01T10:18:36.074Z"
   },
   {
    "duration": 33,
    "start_time": "2023-05-01T10:18:36.123Z"
   },
   {
    "duration": 11,
    "start_time": "2023-05-01T10:18:36.158Z"
   },
   {
    "duration": 48,
    "start_time": "2023-05-01T10:18:36.171Z"
   },
   {
    "duration": 36,
    "start_time": "2023-05-01T10:18:36.221Z"
   },
   {
    "duration": 5,
    "start_time": "2023-05-01T10:18:36.260Z"
   },
   {
    "duration": 558,
    "start_time": "2023-05-01T10:18:36.267Z"
   },
   {
    "duration": 460,
    "start_time": "2023-05-01T10:18:36.827Z"
   },
   {
    "duration": 655,
    "start_time": "2023-05-01T10:18:37.289Z"
   },
   {
    "duration": 599,
    "start_time": "2023-05-01T10:18:37.947Z"
   },
   {
    "duration": 37,
    "start_time": "2023-05-01T10:18:38.548Z"
   },
   {
    "duration": 43,
    "start_time": "2023-05-01T10:18:38.587Z"
   },
   {
    "duration": 5,
    "start_time": "2023-05-01T10:18:38.631Z"
   },
   {
    "duration": 189,
    "start_time": "2023-05-01T10:18:38.637Z"
   },
   {
    "duration": 7,
    "start_time": "2023-05-01T10:18:38.830Z"
   },
   {
    "duration": 9,
    "start_time": "2023-05-01T10:18:38.839Z"
   },
   {
    "duration": 8,
    "start_time": "2023-05-01T10:18:38.850Z"
   },
   {
    "duration": 7,
    "start_time": "2023-05-01T10:18:38.861Z"
   },
   {
    "duration": 16,
    "start_time": "2023-05-01T10:18:38.870Z"
   },
   {
    "duration": 14,
    "start_time": "2023-05-01T10:18:38.911Z"
   },
   {
    "duration": 10,
    "start_time": "2023-05-01T10:18:38.927Z"
   },
   {
    "duration": 9,
    "start_time": "2023-05-01T11:20:38.428Z"
   },
   {
    "duration": 8,
    "start_time": "2023-05-01T11:20:48.160Z"
   },
   {
    "duration": 5,
    "start_time": "2023-05-01T11:21:01.792Z"
   },
   {
    "duration": 6,
    "start_time": "2023-05-01T11:25:09.377Z"
   },
   {
    "duration": 10,
    "start_time": "2023-05-01T11:25:24.263Z"
   },
   {
    "duration": 1230,
    "start_time": "2023-05-01T11:41:18.507Z"
   },
   {
    "duration": 110,
    "start_time": "2023-05-01T11:41:19.739Z"
   },
   {
    "duration": 17,
    "start_time": "2023-05-01T11:41:19.851Z"
   },
   {
    "duration": 19,
    "start_time": "2023-05-01T11:41:19.869Z"
   },
   {
    "duration": 38,
    "start_time": "2023-05-01T11:41:19.890Z"
   },
   {
    "duration": 12,
    "start_time": "2023-05-01T11:41:19.930Z"
   },
   {
    "duration": 9,
    "start_time": "2023-05-01T11:41:19.944Z"
   },
   {
    "duration": 10,
    "start_time": "2023-05-01T11:41:19.955Z"
   },
   {
    "duration": 6,
    "start_time": "2023-05-01T11:41:19.967Z"
   },
   {
    "duration": 44,
    "start_time": "2023-05-01T11:41:19.975Z"
   },
   {
    "duration": 8,
    "start_time": "2023-05-01T11:41:20.024Z"
   },
   {
    "duration": 20,
    "start_time": "2023-05-01T11:41:20.034Z"
   },
   {
    "duration": 296,
    "start_time": "2023-05-01T11:41:20.056Z"
   },
   {
    "duration": 193,
    "start_time": "2023-05-01T11:41:20.357Z"
   },
   {
    "duration": 225,
    "start_time": "2023-05-01T11:41:20.552Z"
   },
   {
    "duration": 549,
    "start_time": "2023-05-01T11:41:20.779Z"
   },
   {
    "duration": 651,
    "start_time": "2023-05-01T11:41:21.330Z"
   },
   {
    "duration": 50,
    "start_time": "2023-05-01T11:41:21.982Z"
   },
   {
    "duration": 22,
    "start_time": "2023-05-01T11:41:22.034Z"
   },
   {
    "duration": 9,
    "start_time": "2023-05-01T11:41:22.058Z"
   },
   {
    "duration": 15,
    "start_time": "2023-05-01T11:41:22.069Z"
   },
   {
    "duration": 76,
    "start_time": "2023-05-01T11:41:22.086Z"
   },
   {
    "duration": 5,
    "start_time": "2023-05-01T11:41:22.164Z"
   },
   {
    "duration": 572,
    "start_time": "2023-05-01T11:41:22.171Z"
   },
   {
    "duration": 501,
    "start_time": "2023-05-01T11:41:22.745Z"
   },
   {
    "duration": 689,
    "start_time": "2023-05-01T11:41:23.248Z"
   },
   {
    "duration": 634,
    "start_time": "2023-05-01T11:41:23.938Z"
   },
   {
    "duration": 56,
    "start_time": "2023-05-01T11:41:24.574Z"
   },
   {
    "duration": 23,
    "start_time": "2023-05-01T11:41:24.634Z"
   },
   {
    "duration": 6,
    "start_time": "2023-05-01T11:41:24.659Z"
   },
   {
    "duration": 181,
    "start_time": "2023-05-01T11:41:24.666Z"
   },
   {
    "duration": 8,
    "start_time": "2023-05-01T11:41:24.849Z"
   },
   {
    "duration": 6,
    "start_time": "2023-05-01T11:41:24.858Z"
   },
   {
    "duration": 14,
    "start_time": "2023-05-01T11:41:24.866Z"
   },
   {
    "duration": 40,
    "start_time": "2023-05-01T11:41:24.882Z"
   },
   {
    "duration": 13,
    "start_time": "2023-05-01T11:41:24.927Z"
   },
   {
    "duration": 12,
    "start_time": "2023-05-01T11:41:24.942Z"
   },
   {
    "duration": 24,
    "start_time": "2023-05-01T11:41:24.956Z"
   },
   {
    "duration": 483,
    "start_time": "2023-05-01T11:51:07.240Z"
   },
   {
    "duration": 313,
    "start_time": "2023-05-01T11:51:33.423Z"
   },
   {
    "duration": 352,
    "start_time": "2023-05-01T11:52:27.814Z"
   },
   {
    "duration": 246,
    "start_time": "2023-05-01T11:58:50.329Z"
   },
   {
    "duration": 192,
    "start_time": "2023-05-01T11:59:22.784Z"
   },
   {
    "duration": 121,
    "start_time": "2023-05-01T12:00:01.801Z"
   },
   {
    "duration": 296,
    "start_time": "2023-05-01T12:07:02.372Z"
   },
   {
    "duration": 315,
    "start_time": "2023-05-01T12:08:07.330Z"
   },
   {
    "duration": 351,
    "start_time": "2023-05-01T12:08:13.089Z"
   },
   {
    "duration": 394,
    "start_time": "2023-05-01T12:08:24.583Z"
   },
   {
    "duration": 326,
    "start_time": "2023-05-01T12:08:37.287Z"
   },
   {
    "duration": 5,
    "start_time": "2023-05-01T12:09:46.828Z"
   },
   {
    "duration": 11,
    "start_time": "2023-05-01T12:09:52.393Z"
   },
   {
    "duration": 8,
    "start_time": "2023-05-01T12:10:10.087Z"
   },
   {
    "duration": 9,
    "start_time": "2023-05-01T12:10:16.385Z"
   },
   {
    "duration": 4,
    "start_time": "2023-05-01T12:10:30.083Z"
   },
   {
    "duration": 6,
    "start_time": "2023-05-01T12:10:58.892Z"
   },
   {
    "duration": 1182,
    "start_time": "2023-05-01T12:18:44.226Z"
   },
   {
    "duration": 92,
    "start_time": "2023-05-01T12:18:45.410Z"
   },
   {
    "duration": 27,
    "start_time": "2023-05-01T12:18:45.504Z"
   },
   {
    "duration": 16,
    "start_time": "2023-05-01T12:18:45.534Z"
   },
   {
    "duration": 34,
    "start_time": "2023-05-01T12:18:45.552Z"
   },
   {
    "duration": 9,
    "start_time": "2023-05-01T12:18:45.587Z"
   },
   {
    "duration": 14,
    "start_time": "2023-05-01T12:18:45.613Z"
   },
   {
    "duration": 9,
    "start_time": "2023-05-01T12:18:45.629Z"
   },
   {
    "duration": 5,
    "start_time": "2023-05-01T12:18:45.640Z"
   },
   {
    "duration": 7,
    "start_time": "2023-05-01T12:18:45.647Z"
   },
   {
    "duration": 7,
    "start_time": "2023-05-01T12:18:45.656Z"
   },
   {
    "duration": 8,
    "start_time": "2023-05-01T12:18:45.665Z"
   },
   {
    "duration": 314,
    "start_time": "2023-05-01T12:18:45.713Z"
   },
   {
    "duration": 126,
    "start_time": "2023-05-01T12:18:46.030Z"
   },
   {
    "duration": 329,
    "start_time": "2023-05-01T12:18:46.158Z"
   },
   {
    "duration": 9,
    "start_time": "2023-05-01T12:18:46.488Z"
   },
   {
    "duration": 29,
    "start_time": "2023-05-01T12:18:46.499Z"
   },
   {
    "duration": 485,
    "start_time": "2023-05-01T12:18:46.530Z"
   },
   {
    "duration": 665,
    "start_time": "2023-05-01T12:18:47.017Z"
   },
   {
    "duration": 43,
    "start_time": "2023-05-01T12:18:47.684Z"
   },
   {
    "duration": 22,
    "start_time": "2023-05-01T12:18:47.729Z"
   },
   {
    "duration": 7,
    "start_time": "2023-05-01T12:18:47.753Z"
   },
   {
    "duration": 14,
    "start_time": "2023-05-01T12:18:47.763Z"
   },
   {
    "duration": 148,
    "start_time": "2023-05-01T12:18:47.779Z"
   },
   {
    "duration": 5,
    "start_time": "2023-05-01T12:18:47.929Z"
   },
   {
    "duration": 461,
    "start_time": "2023-05-01T12:18:47.935Z"
   },
   {
    "duration": 454,
    "start_time": "2023-05-01T12:18:48.397Z"
   },
   {
    "duration": 743,
    "start_time": "2023-05-01T12:18:48.854Z"
   },
   {
    "duration": 664,
    "start_time": "2023-05-01T12:18:49.598Z"
   },
   {
    "duration": 64,
    "start_time": "2023-05-01T12:18:50.264Z"
   },
   {
    "duration": 25,
    "start_time": "2023-05-01T12:18:50.329Z"
   },
   {
    "duration": 5,
    "start_time": "2023-05-01T12:18:50.356Z"
   },
   {
    "duration": 161,
    "start_time": "2023-05-01T12:18:50.362Z"
   },
   {
    "duration": 8,
    "start_time": "2023-05-01T12:18:50.524Z"
   },
   {
    "duration": 6,
    "start_time": "2023-05-01T12:18:50.534Z"
   },
   {
    "duration": 6,
    "start_time": "2023-05-01T12:18:50.542Z"
   },
   {
    "duration": 15,
    "start_time": "2023-05-01T12:18:50.549Z"
   },
   {
    "duration": 15,
    "start_time": "2023-05-01T12:18:50.567Z"
   },
   {
    "duration": 42,
    "start_time": "2023-05-01T12:18:50.584Z"
   },
   {
    "duration": 13,
    "start_time": "2023-05-01T12:18:50.628Z"
   },
   {
    "duration": 66,
    "start_time": "2023-05-01T12:21:21.092Z"
   },
   {
    "duration": 228,
    "start_time": "2023-05-01T12:21:30.347Z"
   },
   {
    "duration": 78,
    "start_time": "2023-05-01T12:22:14.550Z"
   },
   {
    "duration": 294,
    "start_time": "2023-05-01T12:22:23.607Z"
   },
   {
    "duration": 174,
    "start_time": "2023-05-01T12:22:34.029Z"
   },
   {
    "duration": 298,
    "start_time": "2023-05-01T12:22:47.375Z"
   },
   {
    "duration": 414,
    "start_time": "2023-05-01T12:23:34.009Z"
   },
   {
    "duration": 206,
    "start_time": "2023-05-01T12:23:54.219Z"
   },
   {
    "duration": 20,
    "start_time": "2023-05-01T12:26:53.307Z"
   },
   {
    "duration": 96,
    "start_time": "2023-05-01T12:33:11.925Z"
   },
   {
    "duration": 332,
    "start_time": "2023-05-01T12:33:18.165Z"
   },
   {
    "duration": 1614,
    "start_time": "2023-05-01T12:33:26.064Z"
   },
   {
    "duration": 1018,
    "start_time": "2023-05-01T12:33:34.836Z"
   },
   {
    "duration": 355,
    "start_time": "2023-05-01T12:33:54.096Z"
   },
   {
    "duration": 840,
    "start_time": "2023-05-01T12:34:01.035Z"
   },
   {
    "duration": 1830,
    "start_time": "2023-05-01T12:36:08.418Z"
   },
   {
    "duration": 1597,
    "start_time": "2023-05-01T12:42:39.095Z"
   },
   {
    "duration": 435,
    "start_time": "2023-05-01T12:42:47.800Z"
   },
   {
    "duration": 809,
    "start_time": "2023-05-01T12:42:55.392Z"
   },
   {
    "duration": 253,
    "start_time": "2023-05-01T12:42:59.449Z"
   },
   {
    "duration": 314,
    "start_time": "2023-05-01T12:43:10.840Z"
   },
   {
    "duration": 5,
    "start_time": "2023-05-01T12:49:54.696Z"
   },
   {
    "duration": 28,
    "start_time": "2023-05-01T12:51:11.403Z"
   },
   {
    "duration": 145,
    "start_time": "2023-05-01T12:52:10.853Z"
   },
   {
    "duration": 1236,
    "start_time": "2023-05-01T13:22:52.529Z"
   },
   {
    "duration": 95,
    "start_time": "2023-05-01T13:22:53.768Z"
   },
   {
    "duration": 24,
    "start_time": "2023-05-01T13:22:53.865Z"
   },
   {
    "duration": 28,
    "start_time": "2023-05-01T13:22:53.891Z"
   },
   {
    "duration": 29,
    "start_time": "2023-05-01T13:22:53.922Z"
   },
   {
    "duration": 9,
    "start_time": "2023-05-01T13:22:53.953Z"
   },
   {
    "duration": 7,
    "start_time": "2023-05-01T13:22:53.963Z"
   },
   {
    "duration": 42,
    "start_time": "2023-05-01T13:22:53.971Z"
   },
   {
    "duration": 12,
    "start_time": "2023-05-01T13:22:54.018Z"
   },
   {
    "duration": 7,
    "start_time": "2023-05-01T13:22:54.032Z"
   },
   {
    "duration": 6,
    "start_time": "2023-05-01T13:22:54.042Z"
   },
   {
    "duration": 7,
    "start_time": "2023-05-01T13:22:54.050Z"
   },
   {
    "duration": 327,
    "start_time": "2023-05-01T13:22:54.058Z"
   },
   {
    "duration": 140,
    "start_time": "2023-05-01T13:22:54.389Z"
   },
   {
    "duration": 353,
    "start_time": "2023-05-01T13:22:54.530Z"
   },
   {
    "duration": 9,
    "start_time": "2023-05-01T13:22:54.886Z"
   },
   {
    "duration": 27,
    "start_time": "2023-05-01T13:22:54.896Z"
   },
   {
    "duration": 1739,
    "start_time": "2023-05-01T13:22:54.924Z"
   },
   {
    "duration": 339,
    "start_time": "2023-05-01T13:22:56.664Z"
   },
   {
    "duration": 36,
    "start_time": "2023-05-01T13:22:57.005Z"
   },
   {
    "duration": 26,
    "start_time": "2023-05-01T13:22:57.043Z"
   },
   {
    "duration": 10,
    "start_time": "2023-05-01T13:22:57.071Z"
   },
   {
    "duration": 21,
    "start_time": "2023-05-01T13:22:57.111Z"
   },
   {
    "duration": 39,
    "start_time": "2023-05-01T13:22:57.134Z"
   },
   {
    "duration": 7,
    "start_time": "2023-05-01T13:22:57.174Z"
   },
   {
    "duration": 682,
    "start_time": "2023-05-01T13:22:57.183Z"
   },
   {
    "duration": 495,
    "start_time": "2023-05-01T13:22:57.867Z"
   },
   {
    "duration": 688,
    "start_time": "2023-05-01T13:22:58.364Z"
   },
   {
    "duration": 689,
    "start_time": "2023-05-01T13:22:59.055Z"
   },
   {
    "duration": 37,
    "start_time": "2023-05-01T13:22:59.745Z"
   },
   {
    "duration": 52,
    "start_time": "2023-05-01T13:22:59.783Z"
   },
   {
    "duration": 5,
    "start_time": "2023-05-01T13:22:59.836Z"
   },
   {
    "duration": 181,
    "start_time": "2023-05-01T13:22:59.843Z"
   },
   {
    "duration": 8,
    "start_time": "2023-05-01T13:23:00.026Z"
   },
   {
    "duration": 36,
    "start_time": "2023-05-01T13:23:00.036Z"
   },
   {
    "duration": 14,
    "start_time": "2023-05-01T13:23:00.074Z"
   },
   {
    "duration": 25,
    "start_time": "2023-05-01T13:23:00.090Z"
   },
   {
    "duration": 49,
    "start_time": "2023-05-01T13:23:00.116Z"
   },
   {
    "duration": 28,
    "start_time": "2023-05-01T13:23:00.167Z"
   },
   {
    "duration": 41,
    "start_time": "2023-05-01T13:23:00.197Z"
   },
   {
    "duration": 6,
    "start_time": "2023-05-01T13:27:08.333Z"
   },
   {
    "duration": 435,
    "start_time": "2023-05-01T13:31:49.487Z"
   },
   {
    "duration": 3433,
    "start_time": "2023-05-01T13:32:43.139Z"
   },
   {
    "duration": 3733,
    "start_time": "2023-05-01T13:33:07.032Z"
   },
   {
    "duration": 64,
    "start_time": "2023-05-01T13:34:02.183Z"
   },
   {
    "duration": 4804,
    "start_time": "2023-05-01T13:34:12.847Z"
   },
   {
    "duration": 4959,
    "start_time": "2023-05-01T13:34:37.436Z"
   },
   {
    "duration": 14,
    "start_time": "2023-05-01T13:35:11.638Z"
   },
   {
    "duration": 20,
    "start_time": "2023-05-01T13:35:31.707Z"
   },
   {
    "duration": 127,
    "start_time": "2023-05-01T13:40:05.650Z"
   },
   {
    "duration": 120,
    "start_time": "2023-05-01T13:40:34.736Z"
   },
   {
    "duration": 156,
    "start_time": "2023-05-01T13:40:59.025Z"
   },
   {
    "duration": 388,
    "start_time": "2023-05-01T13:41:19.495Z"
   },
   {
    "duration": 126,
    "start_time": "2023-05-01T13:41:40.155Z"
   },
   {
    "duration": 155,
    "start_time": "2023-05-01T13:41:53.701Z"
   },
   {
    "duration": 129,
    "start_time": "2023-05-01T13:42:10.132Z"
   },
   {
    "duration": 136,
    "start_time": "2023-05-01T13:42:26.390Z"
   },
   {
    "duration": 1163,
    "start_time": "2023-05-01T13:44:10.922Z"
   },
   {
    "duration": 589,
    "start_time": "2023-05-01T13:44:23.697Z"
   },
   {
    "duration": 10,
    "start_time": "2023-05-01T13:45:11.003Z"
   },
   {
    "duration": 9,
    "start_time": "2023-05-01T13:45:32.152Z"
   },
   {
    "duration": 3849,
    "start_time": "2023-05-01T13:47:49.456Z"
   },
   {
    "duration": 1114,
    "start_time": "2023-05-02T10:45:50.753Z"
   },
   {
    "duration": 84,
    "start_time": "2023-05-02T10:45:51.869Z"
   },
   {
    "duration": 17,
    "start_time": "2023-05-02T10:45:51.954Z"
   },
   {
    "duration": 42,
    "start_time": "2023-05-02T10:45:51.972Z"
   },
   {
    "duration": 41,
    "start_time": "2023-05-02T10:45:52.016Z"
   },
   {
    "duration": 10,
    "start_time": "2023-05-02T10:45:52.059Z"
   },
   {
    "duration": 31,
    "start_time": "2023-05-02T10:45:52.071Z"
   },
   {
    "duration": 31,
    "start_time": "2023-05-02T10:45:52.104Z"
   },
   {
    "duration": 14,
    "start_time": "2023-05-02T10:45:52.136Z"
   },
   {
    "duration": 24,
    "start_time": "2023-05-02T10:45:52.151Z"
   },
   {
    "duration": 24,
    "start_time": "2023-05-02T10:45:52.176Z"
   },
   {
    "duration": 41,
    "start_time": "2023-05-02T10:45:52.202Z"
   },
   {
    "duration": 290,
    "start_time": "2023-05-02T10:45:52.244Z"
   },
   {
    "duration": 112,
    "start_time": "2023-05-02T10:45:52.537Z"
   },
   {
    "duration": 277,
    "start_time": "2023-05-02T10:45:52.651Z"
   },
   {
    "duration": 9,
    "start_time": "2023-05-02T10:45:52.930Z"
   },
   {
    "duration": 20,
    "start_time": "2023-05-02T10:45:52.949Z"
   },
   {
    "duration": 1273,
    "start_time": "2023-05-02T10:45:52.971Z"
   },
   {
    "duration": 262,
    "start_time": "2023-05-02T10:45:54.249Z"
   },
   {
    "duration": 24,
    "start_time": "2023-05-02T10:45:54.513Z"
   },
   {
    "duration": 18,
    "start_time": "2023-05-02T10:45:54.549Z"
   },
   {
    "duration": 7,
    "start_time": "2023-05-02T10:45:54.568Z"
   },
   {
    "duration": 17,
    "start_time": "2023-05-02T10:45:54.576Z"
   },
   {
    "duration": 35,
    "start_time": "2023-05-02T10:45:54.594Z"
   },
   {
    "duration": 5,
    "start_time": "2023-05-02T10:45:54.648Z"
   },
   {
    "duration": 3084,
    "start_time": "2023-05-02T10:45:54.655Z"
   },
   {
    "duration": 9,
    "start_time": "2023-05-02T10:45:57.740Z"
   },
   {
    "duration": 7,
    "start_time": "2023-05-02T10:45:57.750Z"
   },
   {
    "duration": 504,
    "start_time": "2023-05-02T10:45:57.758Z"
   },
   {
    "duration": 10,
    "start_time": "2023-05-02T10:45:58.264Z"
   },
   {
    "duration": 9,
    "start_time": "2023-05-02T10:45:58.276Z"
   },
   {
    "duration": 63,
    "start_time": "2023-05-02T10:45:58.287Z"
   },
   {
    "duration": 27,
    "start_time": "2023-05-02T10:45:58.352Z"
   },
   {
    "duration": 6,
    "start_time": "2023-05-02T10:45:58.381Z"
   },
   {
    "duration": 188,
    "start_time": "2023-05-02T10:45:58.388Z"
   },
   {
    "duration": 5,
    "start_time": "2023-05-02T10:45:58.577Z"
   },
   {
    "duration": 8,
    "start_time": "2023-05-02T10:45:58.583Z"
   },
   {
    "duration": 15,
    "start_time": "2023-05-02T10:45:58.593Z"
   },
   {
    "duration": 1003,
    "start_time": "2023-05-02T11:32:57.389Z"
   },
   {
    "duration": 80,
    "start_time": "2023-05-02T11:32:58.394Z"
   },
   {
    "duration": 15,
    "start_time": "2023-05-02T11:32:58.476Z"
   },
   {
    "duration": 27,
    "start_time": "2023-05-02T11:32:58.493Z"
   },
   {
    "duration": 21,
    "start_time": "2023-05-02T11:32:58.522Z"
   },
   {
    "duration": 9,
    "start_time": "2023-05-02T11:32:58.544Z"
   },
   {
    "duration": 44,
    "start_time": "2023-05-02T11:32:58.554Z"
   },
   {
    "duration": 14,
    "start_time": "2023-05-02T11:32:58.600Z"
   },
   {
    "duration": 8,
    "start_time": "2023-05-02T11:32:58.616Z"
   },
   {
    "duration": 17,
    "start_time": "2023-05-02T11:32:58.627Z"
   },
   {
    "duration": 21,
    "start_time": "2023-05-02T11:32:58.645Z"
   },
   {
    "duration": 18,
    "start_time": "2023-05-02T11:32:58.667Z"
   },
   {
    "duration": 251,
    "start_time": "2023-05-02T11:32:58.686Z"
   },
   {
    "duration": 110,
    "start_time": "2023-05-02T11:32:58.939Z"
   },
   {
    "duration": 276,
    "start_time": "2023-05-02T11:32:59.051Z"
   },
   {
    "duration": 7,
    "start_time": "2023-05-02T11:32:59.328Z"
   },
   {
    "duration": 13,
    "start_time": "2023-05-02T11:32:59.336Z"
   },
   {
    "duration": 1273,
    "start_time": "2023-05-02T11:32:59.351Z"
   },
   {
    "duration": 292,
    "start_time": "2023-05-02T11:33:00.625Z"
   },
   {
    "duration": 32,
    "start_time": "2023-05-02T11:33:00.918Z"
   },
   {
    "duration": 19,
    "start_time": "2023-05-02T11:33:00.951Z"
   },
   {
    "duration": 25,
    "start_time": "2023-05-02T11:33:00.971Z"
   },
   {
    "duration": 50,
    "start_time": "2023-05-02T11:33:00.997Z"
   },
   {
    "duration": 53,
    "start_time": "2023-05-02T11:33:01.049Z"
   },
   {
    "duration": 16,
    "start_time": "2023-05-02T11:33:01.103Z"
   },
   {
    "duration": 3095,
    "start_time": "2023-05-02T11:33:01.121Z"
   },
   {
    "duration": 7,
    "start_time": "2023-05-02T11:33:04.218Z"
   },
   {
    "duration": 21,
    "start_time": "2023-05-02T11:33:04.228Z"
   },
   {
    "duration": 499,
    "start_time": "2023-05-02T11:33:04.251Z"
   },
   {
    "duration": 10,
    "start_time": "2023-05-02T11:33:04.752Z"
   },
   {
    "duration": 23,
    "start_time": "2023-05-02T11:33:04.764Z"
   },
   {
    "duration": 78,
    "start_time": "2023-05-02T11:33:04.788Z"
   },
   {
    "duration": 30,
    "start_time": "2023-05-02T11:33:04.868Z"
   },
   {
    "duration": 7,
    "start_time": "2023-05-02T11:33:04.900Z"
   },
   {
    "duration": 219,
    "start_time": "2023-05-02T11:33:04.909Z"
   },
   {
    "duration": 6,
    "start_time": "2023-05-02T11:33:05.130Z"
   },
   {
    "duration": 14,
    "start_time": "2023-05-02T11:33:05.137Z"
   },
   {
    "duration": 20,
    "start_time": "2023-05-02T11:33:05.153Z"
   },
   {
    "duration": 20,
    "start_time": "2023-05-02T11:33:05.175Z"
   },
   {
    "duration": 105,
    "start_time": "2023-05-02T11:33:32.526Z"
   }
  ],
  "kernelspec": {
   "display_name": "Python 3 (ipykernel)",
   "language": "python",
   "name": "python3"
  },
  "language_info": {
   "codemirror_mode": {
    "name": "ipython",
    "version": 3
   },
   "file_extension": ".py",
   "mimetype": "text/x-python",
   "name": "python",
   "nbconvert_exporter": "python",
   "pygments_lexer": "ipython3",
   "version": "3.9.16"
  },
  "toc": {
   "base_numbering": 1,
   "nav_menu": {
    "height": "397px",
    "width": "790px"
   },
   "number_sections": true,
   "sideBar": true,
   "skip_h1_title": true,
   "title_cell": "Содержание",
   "title_sidebar": "Содержание",
   "toc_cell": true,
   "toc_position": {},
   "toc_section_display": true,
   "toc_window_display": true
  }
 },
 "nbformat": 4,
 "nbformat_minor": 5
}
