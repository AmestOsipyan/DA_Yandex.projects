{
 "cells": [
  {
   "cell_type": "markdown",
   "metadata": {
    "deletable": false,
    "editable": false,
    "id": "E0vqbgi9ay0H"
   },
   "source": [
    "# Яндекс.Музыка"
   ]
  },
  {
   "cell_type": "markdown",
   "metadata": {
    "id": "VUC88oWjTJw2"
   },
   "source": [
    "Сравнение Москвы и Петербурга окружено мифами. Например:\n",
    " * Москва — мегаполис, подчинённый жёсткому ритму рабочей недели;\n",
    " * Петербург — культурная столица, со своими вкусами.\n",
    "\n",
    "На данных Яндекс Музыки сравним поведение пользователей двух столиц.\n",
    "\n",
    "**Цель исследования** — проверить три гипотезы:\n",
    "1. Активность пользователей зависит от дня недели. Причём в Москве и Петербурге это проявляется по-разному.\n",
    "2. В понедельник утром в Москве преобладают одни жанры, а в Петербурге — другие. Так же и вечером пятницы преобладают разные жанры — в зависимости от города. \n",
    "3. Москва и Петербург предпочитают разные жанры музыки. В Москве чаще слушают поп-музыку, в Петербурге — русский рэп.\n",
    "\n",
    "**Ход исследования**\n",
    "\n",
    "Данные о поведении пользователей получаем из файла `yandex_music_project.csv`. О качестве данных ничего не известно. Поэтому перед проверкой гипотез понадобится обзор данных. \n",
    "\n",
    "Проверим данные на ошибки и оценим их влияние на исследование. Затем, на этапе предобработки поищем возможность исправить самые критичные ошибки данных.\n",
    " \n",
    "Таким образом, исследование пройдёт в три этапа:\n",
    " 1. Обзор данных.\n",
    " 2. Предобработка данных.\n",
    " 3. Проверка гипотез.\n",
    "\n"
   ]
  },
  {
   "cell_type": "markdown",
   "metadata": {
    "id": "Ml1hmfXC_Zcs"
   },
   "source": [
    "## Обзор данных\n",
    "\n",
    "Составим первое представление о данных Яндекс Музыки.\n",
    "\n",
    "\n"
   ]
  },
  {
   "cell_type": "code",
   "execution_count": 1,
   "metadata": {
    "deletable": false,
    "id": "AXN7PHPN_Zcs"
   },
   "outputs": [],
   "source": [
    "import pandas as pd"
   ]
  },
  {
   "cell_type": "markdown",
   "metadata": {
    "id": "SG23P8tt_Zcs",
    "tags": [
     "start_task"
    ]
   },
   "source": [
    "\n",
    "\n",
    "Прочитаем файл `yandex_music_project.csv` из папки `/datasets` и сохраним его в переменной `df`:"
   ]
  },
  {
   "cell_type": "code",
   "execution_count": 2,
   "metadata": {
    "deletable": false,
    "id": "fFVu7vqh_Zct"
   },
   "outputs": [],
   "source": [
    "df = pd.read_csv('c:/users/user/Desktop/datasets/yandex_music_project.csv')"
   ]
  },
  {
   "cell_type": "markdown",
   "metadata": {
    "id": "rDoOMd3uTqnZ",
    "tags": [
     "start_task"
    ]
   },
   "source": [
    "\n",
    "\n",
    "\n",
    "Выведим на экран первые десять строк таблицы:"
   ]
  },
  {
   "cell_type": "code",
   "execution_count": 3,
   "metadata": {
    "deletable": false,
    "id": "oWTVX3gW_Zct"
   },
   "outputs": [
    {
     "data": {
      "text/html": [
       "<div>\n",
       "<style scoped>\n",
       "    .dataframe tbody tr th:only-of-type {\n",
       "        vertical-align: middle;\n",
       "    }\n",
       "\n",
       "    .dataframe tbody tr th {\n",
       "        vertical-align: top;\n",
       "    }\n",
       "\n",
       "    .dataframe thead th {\n",
       "        text-align: right;\n",
       "    }\n",
       "</style>\n",
       "<table border=\"1\" class=\"dataframe\">\n",
       "  <thead>\n",
       "    <tr style=\"text-align: right;\">\n",
       "      <th></th>\n",
       "      <th>userID</th>\n",
       "      <th>Track</th>\n",
       "      <th>artist</th>\n",
       "      <th>genre</th>\n",
       "      <th>City</th>\n",
       "      <th>time</th>\n",
       "      <th>Day</th>\n",
       "    </tr>\n",
       "  </thead>\n",
       "  <tbody>\n",
       "    <tr>\n",
       "      <th>0</th>\n",
       "      <td>FFB692EC</td>\n",
       "      <td>Kamigata To Boots</td>\n",
       "      <td>The Mass Missile</td>\n",
       "      <td>rock</td>\n",
       "      <td>Saint-Petersburg</td>\n",
       "      <td>20:28:33</td>\n",
       "      <td>Wednesday</td>\n",
       "    </tr>\n",
       "    <tr>\n",
       "      <th>1</th>\n",
       "      <td>55204538</td>\n",
       "      <td>Delayed Because of Accident</td>\n",
       "      <td>Andreas Rönnberg</td>\n",
       "      <td>rock</td>\n",
       "      <td>Moscow</td>\n",
       "      <td>14:07:09</td>\n",
       "      <td>Friday</td>\n",
       "    </tr>\n",
       "    <tr>\n",
       "      <th>2</th>\n",
       "      <td>20EC38</td>\n",
       "      <td>Funiculì funiculà</td>\n",
       "      <td>Mario Lanza</td>\n",
       "      <td>pop</td>\n",
       "      <td>Saint-Petersburg</td>\n",
       "      <td>20:58:07</td>\n",
       "      <td>Wednesday</td>\n",
       "    </tr>\n",
       "    <tr>\n",
       "      <th>3</th>\n",
       "      <td>A3DD03C9</td>\n",
       "      <td>Dragons in the Sunset</td>\n",
       "      <td>Fire + Ice</td>\n",
       "      <td>folk</td>\n",
       "      <td>Saint-Petersburg</td>\n",
       "      <td>08:37:09</td>\n",
       "      <td>Monday</td>\n",
       "    </tr>\n",
       "    <tr>\n",
       "      <th>4</th>\n",
       "      <td>E2DC1FAE</td>\n",
       "      <td>Soul People</td>\n",
       "      <td>Space Echo</td>\n",
       "      <td>dance</td>\n",
       "      <td>Moscow</td>\n",
       "      <td>08:34:34</td>\n",
       "      <td>Monday</td>\n",
       "    </tr>\n",
       "    <tr>\n",
       "      <th>5</th>\n",
       "      <td>842029A1</td>\n",
       "      <td>Преданная</td>\n",
       "      <td>IMPERVTOR</td>\n",
       "      <td>rusrap</td>\n",
       "      <td>Saint-Petersburg</td>\n",
       "      <td>13:09:41</td>\n",
       "      <td>Friday</td>\n",
       "    </tr>\n",
       "    <tr>\n",
       "      <th>6</th>\n",
       "      <td>4CB90AA5</td>\n",
       "      <td>True</td>\n",
       "      <td>Roman Messer</td>\n",
       "      <td>dance</td>\n",
       "      <td>Moscow</td>\n",
       "      <td>13:00:07</td>\n",
       "      <td>Wednesday</td>\n",
       "    </tr>\n",
       "    <tr>\n",
       "      <th>7</th>\n",
       "      <td>F03E1C1F</td>\n",
       "      <td>Feeling This Way</td>\n",
       "      <td>Polina Griffith</td>\n",
       "      <td>dance</td>\n",
       "      <td>Moscow</td>\n",
       "      <td>20:47:49</td>\n",
       "      <td>Wednesday</td>\n",
       "    </tr>\n",
       "    <tr>\n",
       "      <th>8</th>\n",
       "      <td>8FA1D3BE</td>\n",
       "      <td>И вновь продолжается бой</td>\n",
       "      <td>NaN</td>\n",
       "      <td>ruspop</td>\n",
       "      <td>Moscow</td>\n",
       "      <td>09:17:40</td>\n",
       "      <td>Friday</td>\n",
       "    </tr>\n",
       "    <tr>\n",
       "      <th>9</th>\n",
       "      <td>E772D5C0</td>\n",
       "      <td>Pessimist</td>\n",
       "      <td>NaN</td>\n",
       "      <td>dance</td>\n",
       "      <td>Saint-Petersburg</td>\n",
       "      <td>21:20:49</td>\n",
       "      <td>Wednesday</td>\n",
       "    </tr>\n",
       "  </tbody>\n",
       "</table>\n",
       "</div>"
      ],
      "text/plain": [
       "     userID                        Track            artist   genre  \\\n",
       "0  FFB692EC            Kamigata To Boots  The Mass Missile    rock   \n",
       "1  55204538  Delayed Because of Accident  Andreas Rönnberg    rock   \n",
       "2    20EC38            Funiculì funiculà       Mario Lanza     pop   \n",
       "3  A3DD03C9        Dragons in the Sunset        Fire + Ice    folk   \n",
       "4  E2DC1FAE                  Soul People        Space Echo   dance   \n",
       "5  842029A1                    Преданная         IMPERVTOR  rusrap   \n",
       "6  4CB90AA5                         True      Roman Messer   dance   \n",
       "7  F03E1C1F             Feeling This Way   Polina Griffith   dance   \n",
       "8  8FA1D3BE     И вновь продолжается бой               NaN  ruspop   \n",
       "9  E772D5C0                    Pessimist               NaN   dance   \n",
       "\n",
       "             City        time        Day  \n",
       "0  Saint-Petersburg  20:28:33  Wednesday  \n",
       "1            Moscow  14:07:09     Friday  \n",
       "2  Saint-Petersburg  20:58:07  Wednesday  \n",
       "3  Saint-Petersburg  08:37:09     Monday  \n",
       "4            Moscow  08:34:34     Monday  \n",
       "5  Saint-Petersburg  13:09:41     Friday  \n",
       "6            Moscow  13:00:07  Wednesday  \n",
       "7            Moscow  20:47:49  Wednesday  \n",
       "8            Moscow  09:17:40     Friday  \n",
       "9  Saint-Petersburg  21:20:49  Wednesday  "
      ]
     },
     "execution_count": 3,
     "metadata": {},
     "output_type": "execute_result"
    }
   ],
   "source": [
    "df.head(10)"
   ]
  },
  {
   "cell_type": "markdown",
   "metadata": {
    "id": "EO73Kwic_Zct",
    "tags": [
     "start_task"
    ]
   },
   "source": [
    "\n",
    "\n",
    "\n",
    "Одной командой получаем общую информацию о таблице c помощью метода `info()`:"
   ]
  },
  {
   "cell_type": "code",
   "execution_count": 4,
   "metadata": {
    "deletable": false,
    "id": "DSf2kIb-_Zct"
   },
   "outputs": [
    {
     "name": "stdout",
     "output_type": "stream",
     "text": [
      "<class 'pandas.core.frame.DataFrame'>\n",
      "RangeIndex: 65079 entries, 0 to 65078\n",
      "Data columns (total 7 columns):\n",
      " #   Column    Non-Null Count  Dtype \n",
      "---  ------    --------------  ----- \n",
      " 0     userID  65079 non-null  object\n",
      " 1   Track     63848 non-null  object\n",
      " 2   artist    57876 non-null  object\n",
      " 3   genre     63881 non-null  object\n",
      " 4     City    65079 non-null  object\n",
      " 5   time      65079 non-null  object\n",
      " 6   Day       65079 non-null  object\n",
      "dtypes: object(7)\n",
      "memory usage: 3.5+ MB\n"
     ]
    }
   ],
   "source": [
    "df.info()"
   ]
  },
  {
   "cell_type": "markdown",
   "metadata": {
    "deletable": false,
    "editable": false,
    "id": "TaQ2Iwbr_Zct"
   },
   "source": [
    "Итак, в таблице семь столбцов. Тип данных во всех столбцах — `object`.\n",
    "\n",
    "Согласно документации к данным:\n",
    "* `userID` — идентификатор пользователя;\n",
    "* `Track` — название трека;  \n",
    "* `artist` — имя исполнителя;\n",
    "* `genre` — название жанра;\n",
    "* `City` — город пользователя;\n",
    "* `time` — время начала прослушивания;\n",
    "* `Day` — день недели.\n",
    "\n",
    "Количество значений в столбцах различается. Значит, в данных есть пропущенные значения."
   ]
  },
  {
   "cell_type": "markdown",
   "metadata": {
    "deletable": false,
    "editable": false,
    "id": "MCB6-dXG_Zct"
   },
   "source": [
    "**Выводы**\n",
    "\n",
    "В каждой строке таблицы — данные о прослушанном треке. Часть колонок описывает саму композицию: название, исполнителя и жанр. Остальные данные рассказывают о пользователе: из какого он города, когда он слушал музыку. \n",
    "\n",
    "Предварительно можно утверждать, что, данных достаточно для проверки гипотез. Но встречаются пропуски в данных, а в названиях колонок — расхождения с хорошим стилем.\n",
    "\n",
    "Чтобы двигаться дальше, нужно устранить проблемы в данных."
   ]
  },
  {
   "cell_type": "markdown",
   "metadata": {
    "id": "SjYF6Ub9_Zct"
   },
   "source": [
    "## Предобработка данных\n",
    "Исправим стиль в заголовках столбцов, исключим пропуски. Затем проверим данные на дубликаты."
   ]
  },
  {
   "cell_type": "markdown",
   "metadata": {
    "id": "dIaKXr29_Zct",
    "tags": [
     "start_task"
    ]
   },
   "source": [
    "### Стиль заголовков\n",
    "\n",
    "\n",
    "\n",
    "Выведим на экран названия столбцов:"
   ]
  },
  {
   "cell_type": "code",
   "execution_count": 5,
   "metadata": {
    "deletable": false,
    "id": "oKOTdF_Q_Zct"
   },
   "outputs": [
    {
     "data": {
      "text/plain": [
       "Index(['  userID', 'Track', 'artist', 'genre', '  City  ', 'time', 'Day'], dtype='object')"
      ]
     },
     "execution_count": 5,
     "metadata": {},
     "output_type": "execute_result"
    }
   ],
   "source": [
    "df.columns"
   ]
  },
  {
   "cell_type": "markdown",
   "metadata": {
    "id": "zj5534cv_Zct",
    "tags": [
     "start_task"
    ]
   },
   "source": [
    "\n",
    "\n",
    "\n",
    "Приведем названия в соответствие с хорошим стилем:\n",
    "* несколько слов в названии запишите в «змеином_регистре»,\n",
    "* все символы сделайте строчными,\n",
    "* устраните пробелы.\n",
    "\n",
    "Для этого переименуем колонки так:\n",
    "* `'  userID'` → `'user_id'`;\n",
    "* `'Track'` → `'track'`;\n",
    "* `'  City  '` → `'city'`;\n",
    "* `'Day'` → `'day'`."
   ]
  },
  {
   "cell_type": "code",
   "execution_count": 6,
   "metadata": {
    "deletable": false,
    "id": "ISlFqs5y_Zct"
   },
   "outputs": [],
   "source": [
    "df = df.rename(columns={'  userID': 'user_id', 'Track': 'track', '  City  ': 'city', 'Day': 'day'})"
   ]
  },
  {
   "cell_type": "markdown",
   "metadata": {
    "id": "1dqbh00J_Zct",
    "tags": [
     "start_task"
    ]
   },
   "source": [
    "\n",
    "\n",
    "\n",
    "Проверим результат. Для этого ещё раз выведим на экран названия столбцов:"
   ]
  },
  {
   "cell_type": "code",
   "execution_count": 7,
   "metadata": {
    "deletable": false,
    "id": "d4NOAmTW_Zct"
   },
   "outputs": [
    {
     "data": {
      "text/plain": [
       "Index(['user_id', 'track', 'artist', 'genre', 'city', 'time', 'day'], dtype='object')"
      ]
     },
     "execution_count": 7,
     "metadata": {},
     "output_type": "execute_result"
    }
   ],
   "source": [
    "df.columns"
   ]
  },
  {
   "cell_type": "markdown",
   "metadata": {
    "id": "5ISfbcfY_Zct",
    "tags": [
     "start_task"
    ]
   },
   "source": [
    "### Пропуски значений\n",
    "\n",
    "\n",
    "\n",
    "Сначала посчитаем, сколько в таблице пропущенных значений. Для этого достаточно двух методов `pandas`:"
   ]
  },
  {
   "cell_type": "code",
   "execution_count": 8,
   "metadata": {
    "deletable": false,
    "id": "RskX29qr_Zct"
   },
   "outputs": [
    {
     "name": "stdout",
     "output_type": "stream",
     "text": [
      "user_id       0\n",
      "track      1231\n",
      "artist     7203\n",
      "genre      1198\n",
      "city          0\n",
      "time          0\n",
      "day           0\n",
      "dtype: int64\n"
     ]
    }
   ],
   "source": [
    "print(df.isna().sum())"
   ]
  },
  {
   "cell_type": "markdown",
   "metadata": {
    "id": "qubhgnlO_Zct"
   },
   "source": [
    "Не все пропущенные значения влияют на исследование. Так в `track` и `artist` пропуски не важны для нашей работы. Достаточно заменить их явными обозначениями.\n",
    "\n",
    "Но пропуски в `genre` могут помешать сравнению музыкальных вкусов в Москве и Санкт-Петербурге. На практике было бы правильно установить причину пропусков и восстановить данные. Такой возможности нет в проекте. Придётся:\n",
    "* заполнить и эти пропуски явными обозначениями,\n",
    "* оценить, насколько они повредят расчётам. "
   ]
  },
  {
   "cell_type": "markdown",
   "metadata": {
    "id": "fSv2laPA_Zct",
    "tags": [
     "start_task"
    ]
   },
   "source": [
    "\n",
    "\n",
    "Заменим пропущенные значения в столбцах `track`, `artist` и `genre` на строку `'unknown'`. Для этого создаем список `columns_to_replace`, перебераем его элементы циклом `for` и для каждого столбца выполняем замену пропущенных значений:"
   ]
  },
  {
   "cell_type": "code",
   "execution_count": 9,
   "metadata": {
    "deletable": false,
    "id": "KplB5qWs_Zct"
   },
   "outputs": [],
   "source": [
    "columns_to_replace = ['track', 'artist', 'genre']\n",
    "for column in columns_to_replace:\n",
    "    df[column] = df[column].fillna('unknown')\n"
   ]
  },
  {
   "cell_type": "markdown",
   "metadata": {
    "id": "Ilsm-MZo_Zct",
    "tags": [
     "start_task"
    ]
   },
   "source": [
    "\n",
    "\n",
    "Убедимся, что в таблице не осталось пропусков. Для этого ещё раз посчитаем пропущенные значения."
   ]
  },
  {
   "cell_type": "code",
   "execution_count": 10,
   "metadata": {
    "deletable": false,
    "id": "Tq4nYRX4_Zct"
   },
   "outputs": [
    {
     "data": {
      "text/plain": [
       "user_id    0\n",
       "track      0\n",
       "artist     0\n",
       "genre      0\n",
       "city       0\n",
       "time       0\n",
       "day        0\n",
       "dtype: int64"
      ]
     },
     "execution_count": 10,
     "metadata": {},
     "output_type": "execute_result"
    }
   ],
   "source": [
    "df.isna().sum()"
   ]
  },
  {
   "cell_type": "markdown",
   "metadata": {
    "id": "BWKRtBJ3_Zct",
    "tags": [
     "start_task"
    ]
   },
   "source": [
    "### Дубликаты\n",
    "\n",
    "\n",
    "\n",
    "Посчитаем явные дубликаты в таблице одной командой:"
   ]
  },
  {
   "cell_type": "code",
   "execution_count": 11,
   "metadata": {
    "deletable": false,
    "id": "36eES_S0_Zct"
   },
   "outputs": [
    {
     "data": {
      "text/plain": [
       "3826"
      ]
     },
     "execution_count": 11,
     "metadata": {},
     "output_type": "execute_result"
    }
   ],
   "source": [
    "df.duplicated().sum()"
   ]
  },
  {
   "cell_type": "markdown",
   "metadata": {
    "id": "Ot25h6XR_Zct",
    "tags": [
     "start_task"
    ]
   },
   "source": [
    "\n",
    "\n",
    "Вызовим специальный метод `pandas`, чтобы удалить явные дубликаты:"
   ]
  },
  {
   "cell_type": "code",
   "execution_count": 12,
   "metadata": {
    "deletable": false,
    "id": "exFHq6tt_Zct"
   },
   "outputs": [
    {
     "data": {
      "text/html": [
       "<div>\n",
       "<style scoped>\n",
       "    .dataframe tbody tr th:only-of-type {\n",
       "        vertical-align: middle;\n",
       "    }\n",
       "\n",
       "    .dataframe tbody tr th {\n",
       "        vertical-align: top;\n",
       "    }\n",
       "\n",
       "    .dataframe thead th {\n",
       "        text-align: right;\n",
       "    }\n",
       "</style>\n",
       "<table border=\"1\" class=\"dataframe\">\n",
       "  <thead>\n",
       "    <tr style=\"text-align: right;\">\n",
       "      <th></th>\n",
       "      <th>user_id</th>\n",
       "      <th>track</th>\n",
       "      <th>artist</th>\n",
       "      <th>genre</th>\n",
       "      <th>city</th>\n",
       "      <th>time</th>\n",
       "      <th>day</th>\n",
       "    </tr>\n",
       "  </thead>\n",
       "  <tbody>\n",
       "    <tr>\n",
       "      <th>0</th>\n",
       "      <td>FFB692EC</td>\n",
       "      <td>Kamigata To Boots</td>\n",
       "      <td>The Mass Missile</td>\n",
       "      <td>rock</td>\n",
       "      <td>Saint-Petersburg</td>\n",
       "      <td>20:28:33</td>\n",
       "      <td>Wednesday</td>\n",
       "    </tr>\n",
       "    <tr>\n",
       "      <th>1</th>\n",
       "      <td>55204538</td>\n",
       "      <td>Delayed Because of Accident</td>\n",
       "      <td>Andreas Rönnberg</td>\n",
       "      <td>rock</td>\n",
       "      <td>Moscow</td>\n",
       "      <td>14:07:09</td>\n",
       "      <td>Friday</td>\n",
       "    </tr>\n",
       "    <tr>\n",
       "      <th>2</th>\n",
       "      <td>20EC38</td>\n",
       "      <td>Funiculì funiculà</td>\n",
       "      <td>Mario Lanza</td>\n",
       "      <td>pop</td>\n",
       "      <td>Saint-Petersburg</td>\n",
       "      <td>20:58:07</td>\n",
       "      <td>Wednesday</td>\n",
       "    </tr>\n",
       "    <tr>\n",
       "      <th>3</th>\n",
       "      <td>A3DD03C9</td>\n",
       "      <td>Dragons in the Sunset</td>\n",
       "      <td>Fire + Ice</td>\n",
       "      <td>folk</td>\n",
       "      <td>Saint-Petersburg</td>\n",
       "      <td>08:37:09</td>\n",
       "      <td>Monday</td>\n",
       "    </tr>\n",
       "    <tr>\n",
       "      <th>4</th>\n",
       "      <td>E2DC1FAE</td>\n",
       "      <td>Soul People</td>\n",
       "      <td>Space Echo</td>\n",
       "      <td>dance</td>\n",
       "      <td>Moscow</td>\n",
       "      <td>08:34:34</td>\n",
       "      <td>Monday</td>\n",
       "    </tr>\n",
       "    <tr>\n",
       "      <th>...</th>\n",
       "      <td>...</td>\n",
       "      <td>...</td>\n",
       "      <td>...</td>\n",
       "      <td>...</td>\n",
       "      <td>...</td>\n",
       "      <td>...</td>\n",
       "      <td>...</td>\n",
       "    </tr>\n",
       "    <tr>\n",
       "      <th>65074</th>\n",
       "      <td>729CBB09</td>\n",
       "      <td>My Name</td>\n",
       "      <td>McLean</td>\n",
       "      <td>rnb</td>\n",
       "      <td>Moscow</td>\n",
       "      <td>13:32:28</td>\n",
       "      <td>Wednesday</td>\n",
       "    </tr>\n",
       "    <tr>\n",
       "      <th>65075</th>\n",
       "      <td>D08D4A55</td>\n",
       "      <td>Maybe One Day (feat. Black Spade)</td>\n",
       "      <td>Blu &amp; Exile</td>\n",
       "      <td>hip</td>\n",
       "      <td>Saint-Petersburg</td>\n",
       "      <td>10:00:00</td>\n",
       "      <td>Monday</td>\n",
       "    </tr>\n",
       "    <tr>\n",
       "      <th>65076</th>\n",
       "      <td>C5E3A0D5</td>\n",
       "      <td>Jalopiina</td>\n",
       "      <td>unknown</td>\n",
       "      <td>industrial</td>\n",
       "      <td>Moscow</td>\n",
       "      <td>20:09:26</td>\n",
       "      <td>Friday</td>\n",
       "    </tr>\n",
       "    <tr>\n",
       "      <th>65077</th>\n",
       "      <td>321D0506</td>\n",
       "      <td>Freight Train</td>\n",
       "      <td>Chas McDevitt</td>\n",
       "      <td>rock</td>\n",
       "      <td>Moscow</td>\n",
       "      <td>21:43:59</td>\n",
       "      <td>Friday</td>\n",
       "    </tr>\n",
       "    <tr>\n",
       "      <th>65078</th>\n",
       "      <td>3A64EF84</td>\n",
       "      <td>Tell Me Sweet Little Lies</td>\n",
       "      <td>Monica Lopez</td>\n",
       "      <td>country</td>\n",
       "      <td>Moscow</td>\n",
       "      <td>21:59:46</td>\n",
       "      <td>Friday</td>\n",
       "    </tr>\n",
       "  </tbody>\n",
       "</table>\n",
       "<p>61253 rows × 7 columns</p>\n",
       "</div>"
      ],
      "text/plain": [
       "        user_id                              track            artist  \\\n",
       "0      FFB692EC                  Kamigata To Boots  The Mass Missile   \n",
       "1      55204538        Delayed Because of Accident  Andreas Rönnberg   \n",
       "2        20EC38                  Funiculì funiculà       Mario Lanza   \n",
       "3      A3DD03C9              Dragons in the Sunset        Fire + Ice   \n",
       "4      E2DC1FAE                        Soul People        Space Echo   \n",
       "...         ...                                ...               ...   \n",
       "65074  729CBB09                            My Name            McLean   \n",
       "65075  D08D4A55  Maybe One Day (feat. Black Spade)       Blu & Exile   \n",
       "65076  C5E3A0D5                          Jalopiina           unknown   \n",
       "65077  321D0506                      Freight Train     Chas McDevitt   \n",
       "65078  3A64EF84          Tell Me Sweet Little Lies      Monica Lopez   \n",
       "\n",
       "            genre              city      time        day  \n",
       "0            rock  Saint-Petersburg  20:28:33  Wednesday  \n",
       "1            rock            Moscow  14:07:09     Friday  \n",
       "2             pop  Saint-Petersburg  20:58:07  Wednesday  \n",
       "3            folk  Saint-Petersburg  08:37:09     Monday  \n",
       "4           dance            Moscow  08:34:34     Monday  \n",
       "...           ...               ...       ...        ...  \n",
       "65074         rnb            Moscow  13:32:28  Wednesday  \n",
       "65075         hip  Saint-Petersburg  10:00:00     Monday  \n",
       "65076  industrial            Moscow  20:09:26     Friday  \n",
       "65077        rock            Moscow  21:43:59     Friday  \n",
       "65078     country            Moscow  21:59:46     Friday  \n",
       "\n",
       "[61253 rows x 7 columns]"
      ]
     },
     "execution_count": 12,
     "metadata": {},
     "output_type": "execute_result"
    }
   ],
   "source": [
    "df = df.drop_duplicates()\n",
    "df\n"
   ]
  },
  {
   "cell_type": "markdown",
   "metadata": {
    "id": "Im2YwBEG_Zct",
    "tags": [
     "start_task"
    ]
   },
   "source": [
    "\n",
    "\n",
    "Ещё раз посчитаем явные дубликаты в таблице — убедимся, что полностью от них избавились:"
   ]
  },
  {
   "cell_type": "code",
   "execution_count": 13,
   "metadata": {
    "deletable": false,
    "id": "-8PuNWQ0_Zct"
   },
   "outputs": [
    {
     "data": {
      "text/plain": [
       "0"
      ]
     },
     "execution_count": 13,
     "metadata": {},
     "output_type": "execute_result"
    }
   ],
   "source": [
    "df.duplicated().sum()"
   ]
  },
  {
   "cell_type": "markdown",
   "metadata": {
    "id": "QlFBsxAr_Zct"
   },
   "source": [
    "Теперь избавимся от неявных дубликатов в колонке `genre`. Например, название одного и того же жанра может быть записано немного по-разному. Такие ошибки тоже повлияют на результат исследования."
   ]
  },
  {
   "cell_type": "markdown",
   "metadata": {
    "id": "eSjWwsOh_Zct",
    "tags": [
     "start_task"
    ]
   },
   "source": [
    "\n",
    "\n",
    "Выведим на экран список уникальных названий жанров, отсортированный в алфавитном порядке. Для этого:\n",
    "* извлечем нужный столбец датафрейма, \n",
    "* применим к нему метод сортировки,\n",
    "* для отсортированного столбца вызовим метод, который вернёт уникальные значения из столбца."
   ]
  },
  {
   "cell_type": "code",
   "execution_count": 14,
   "metadata": {
    "deletable": false,
    "id": "JIUcqzZN_Zct"
   },
   "outputs": [
    {
     "data": {
      "text/plain": [
       "array(['acid', 'acoustic', 'action', 'adult', 'africa', 'afrikaans',\n",
       "       'alternative', 'alternativepunk', 'ambient', 'americana',\n",
       "       'animated', 'anime', 'arabesk', 'arabic', 'arena',\n",
       "       'argentinetango', 'art', 'audiobook', 'author', 'avantgarde',\n",
       "       'axé', 'baile', 'balkan', 'beats', 'bigroom', 'black', 'bluegrass',\n",
       "       'blues', 'bollywood', 'bossa', 'brazilian', 'breakbeat', 'breaks',\n",
       "       'broadway', 'cantautori', 'cantopop', 'canzone', 'caribbean',\n",
       "       'caucasian', 'celtic', 'chamber', 'chanson', 'children', 'chill',\n",
       "       'chinese', 'choral', 'christian', 'christmas', 'classical',\n",
       "       'classicmetal', 'club', 'colombian', 'comedy', 'conjazz',\n",
       "       'contemporary', 'country', 'cuban', 'dance', 'dancehall',\n",
       "       'dancepop', 'dark', 'death', 'deep', 'deutschrock', 'deutschspr',\n",
       "       'dirty', 'disco', 'dnb', 'documentary', 'downbeat', 'downtempo',\n",
       "       'drum', 'dub', 'dubstep', 'eastern', 'easy', 'electronic',\n",
       "       'electropop', 'emo', 'entehno', 'epicmetal', 'estrada', 'ethnic',\n",
       "       'eurofolk', 'european', 'experimental', 'extrememetal', 'fado',\n",
       "       'fairytail', 'film', 'fitness', 'flamenco', 'folk', 'folklore',\n",
       "       'folkmetal', 'folkrock', 'folktronica', 'forró', 'frankreich',\n",
       "       'französisch', 'french', 'funk', 'future', 'gangsta', 'garage',\n",
       "       'german', 'ghazal', 'gitarre', 'glitch', 'gospel', 'gothic',\n",
       "       'grime', 'grunge', 'gypsy', 'handsup', \"hard'n'heavy\", 'hardcore',\n",
       "       'hardstyle', 'hardtechno', 'hip', 'hip-hop', 'hiphop',\n",
       "       'historisch', 'holiday', 'hop', 'horror', 'house', 'hymn', 'idm',\n",
       "       'independent', 'indian', 'indie', 'indipop', 'industrial',\n",
       "       'inspirational', 'instrumental', 'international', 'irish', 'jam',\n",
       "       'japanese', 'jazz', 'jewish', 'jpop', 'jungle', 'k-pop',\n",
       "       'karadeniz', 'karaoke', 'kayokyoku', 'korean', 'laiko', 'latin',\n",
       "       'latino', 'leftfield', 'local', 'lounge', 'loungeelectronic',\n",
       "       'lovers', 'malaysian', 'mandopop', 'marschmusik', 'meditative',\n",
       "       'mediterranean', 'melodic', 'metal', 'metalcore', 'mexican',\n",
       "       'middle', 'minimal', 'miscellaneous', 'modern', 'mood', 'mpb',\n",
       "       'muslim', 'native', 'neoklassik', 'neue', 'new', 'newage',\n",
       "       'newwave', 'nu', 'nujazz', 'numetal', 'oceania', 'old', 'opera',\n",
       "       'orchestral', 'other', 'piano', 'podcasts', 'pop', 'popdance',\n",
       "       'popelectronic', 'popeurodance', 'poprussian', 'post',\n",
       "       'posthardcore', 'postrock', 'power', 'progmetal', 'progressive',\n",
       "       'psychedelic', 'punjabi', 'punk', 'quebecois', 'ragga', 'ram',\n",
       "       'rancheras', 'rap', 'rave', 'reggae', 'reggaeton', 'regional',\n",
       "       'relax', 'religious', 'retro', 'rhythm', 'rnb', 'rnr', 'rock',\n",
       "       'rockabilly', 'rockalternative', 'rockindie', 'rockother',\n",
       "       'romance', 'roots', 'ruspop', 'rusrap', 'rusrock', 'russian',\n",
       "       'salsa', 'samba', 'scenic', 'schlager', 'self', 'sertanejo',\n",
       "       'shanson', 'shoegazing', 'showtunes', 'singer', 'ska', 'skarock',\n",
       "       'slow', 'smooth', 'soft', 'soul', 'soulful', 'sound', 'soundtrack',\n",
       "       'southern', 'specialty', 'speech', 'spiritual', 'sport',\n",
       "       'stonerrock', 'surf', 'swing', 'synthpop', 'synthrock',\n",
       "       'sängerportrait', 'tango', 'tanzorchester', 'taraftar', 'tatar',\n",
       "       'tech', 'techno', 'teen', 'thrash', 'top', 'traditional',\n",
       "       'tradjazz', 'trance', 'tribal', 'trip', 'triphop', 'tropical',\n",
       "       'türk', 'türkçe', 'ukrrock', 'unknown', 'urban', 'uzbek',\n",
       "       'variété', 'vi', 'videogame', 'vocal', 'western', 'world',\n",
       "       'worldbeat', 'ïîï', 'электроника'], dtype=object)"
      ]
     },
     "execution_count": 14,
     "metadata": {},
     "output_type": "execute_result"
    }
   ],
   "source": [
    "sorted_genre = df['genre'].sort_values()\n",
    "sorted_genre = sorted_genre.unique()\n",
    "sorted_genre"
   ]
  },
  {
   "cell_type": "markdown",
   "metadata": {
    "id": "qej-Qmuo_Zct",
    "tags": [
     "start_task"
    ]
   },
   "source": [
    "\n",
    "\n",
    "Просмотрим список и найдем неявные дубликаты названия `hiphop`. Это могут быть названия с ошибками или альтернативные названия того же жанра.\n",
    "\n",
    "Вы нашли следующие неявные дубликаты:\n",
    "* *hip*,\n",
    "* *hop*,\n",
    "* *hip-hop*.\n",
    "\n",
    "Чтобы очистить от них таблицу используем метод `replace()` с двумя аргументами: списком строк-дубликатов (включащий *hip*, *hop* и *hip-hop*) и строкой с правильным значением. Вам нужно исправить колонку `genre` в таблице `df`: заменим каждое значение из списка дубликатов на верное. Вместо `hip`, `hop` и `hip-hop` в таблице должно быть значение `hiphop`:"
   ]
  },
  {
   "cell_type": "code",
   "execution_count": 15,
   "metadata": {
    "deletable": false,
    "id": "ErNDkmns_Zct"
   },
   "outputs": [],
   "source": [
    "duplicates = ['hip', 'hop', 'hip-hop']\n",
    "name = 'hiphop'\n",
    "df['genre'] = df['genre'].replace(duplicates, name)"
   ]
  },
  {
   "cell_type": "markdown",
   "metadata": {
    "id": "zQKF16_RG15m",
    "tags": [
     "start_task"
    ]
   },
   "source": [
    "\n",
    "\n",
    "Проверим, что заменили неправильные названия:\n",
    "\n",
    "*   hip\n",
    "*   hop\n",
    "*   hip-hop\n",
    "\n",
    "Выведим отсортированный список уникальных значений столбца `genre`:"
   ]
  },
  {
   "cell_type": "code",
   "execution_count": 16,
   "metadata": {
    "deletable": false,
    "id": "wvixALnFG15m"
   },
   "outputs": [
    {
     "data": {
      "text/plain": [
       "array(['acid', 'acoustic', 'action', 'adult', 'africa', 'afrikaans',\n",
       "       'alternative', 'alternativepunk', 'ambient', 'americana',\n",
       "       'animated', 'anime', 'arabesk', 'arabic', 'arena',\n",
       "       'argentinetango', 'art', 'audiobook', 'author', 'avantgarde',\n",
       "       'axé', 'baile', 'balkan', 'beats', 'bigroom', 'black', 'bluegrass',\n",
       "       'blues', 'bollywood', 'bossa', 'brazilian', 'breakbeat', 'breaks',\n",
       "       'broadway', 'cantautori', 'cantopop', 'canzone', 'caribbean',\n",
       "       'caucasian', 'celtic', 'chamber', 'chanson', 'children', 'chill',\n",
       "       'chinese', 'choral', 'christian', 'christmas', 'classical',\n",
       "       'classicmetal', 'club', 'colombian', 'comedy', 'conjazz',\n",
       "       'contemporary', 'country', 'cuban', 'dance', 'dancehall',\n",
       "       'dancepop', 'dark', 'death', 'deep', 'deutschrock', 'deutschspr',\n",
       "       'dirty', 'disco', 'dnb', 'documentary', 'downbeat', 'downtempo',\n",
       "       'drum', 'dub', 'dubstep', 'eastern', 'easy', 'electronic',\n",
       "       'electropop', 'emo', 'entehno', 'epicmetal', 'estrada', 'ethnic',\n",
       "       'eurofolk', 'european', 'experimental', 'extrememetal', 'fado',\n",
       "       'fairytail', 'film', 'fitness', 'flamenco', 'folk', 'folklore',\n",
       "       'folkmetal', 'folkrock', 'folktronica', 'forró', 'frankreich',\n",
       "       'französisch', 'french', 'funk', 'future', 'gangsta', 'garage',\n",
       "       'german', 'ghazal', 'gitarre', 'glitch', 'gospel', 'gothic',\n",
       "       'grime', 'grunge', 'gypsy', 'handsup', \"hard'n'heavy\", 'hardcore',\n",
       "       'hardstyle', 'hardtechno', 'hiphop', 'historisch', 'holiday',\n",
       "       'horror', 'house', 'hymn', 'idm', 'independent', 'indian', 'indie',\n",
       "       'indipop', 'industrial', 'inspirational', 'instrumental',\n",
       "       'international', 'irish', 'jam', 'japanese', 'jazz', 'jewish',\n",
       "       'jpop', 'jungle', 'k-pop', 'karadeniz', 'karaoke', 'kayokyoku',\n",
       "       'korean', 'laiko', 'latin', 'latino', 'leftfield', 'local',\n",
       "       'lounge', 'loungeelectronic', 'lovers', 'malaysian', 'mandopop',\n",
       "       'marschmusik', 'meditative', 'mediterranean', 'melodic', 'metal',\n",
       "       'metalcore', 'mexican', 'middle', 'minimal', 'miscellaneous',\n",
       "       'modern', 'mood', 'mpb', 'muslim', 'native', 'neoklassik', 'neue',\n",
       "       'new', 'newage', 'newwave', 'nu', 'nujazz', 'numetal', 'oceania',\n",
       "       'old', 'opera', 'orchestral', 'other', 'piano', 'podcasts', 'pop',\n",
       "       'popdance', 'popelectronic', 'popeurodance', 'poprussian', 'post',\n",
       "       'posthardcore', 'postrock', 'power', 'progmetal', 'progressive',\n",
       "       'psychedelic', 'punjabi', 'punk', 'quebecois', 'ragga', 'ram',\n",
       "       'rancheras', 'rap', 'rave', 'reggae', 'reggaeton', 'regional',\n",
       "       'relax', 'religious', 'retro', 'rhythm', 'rnb', 'rnr', 'rock',\n",
       "       'rockabilly', 'rockalternative', 'rockindie', 'rockother',\n",
       "       'romance', 'roots', 'ruspop', 'rusrap', 'rusrock', 'russian',\n",
       "       'salsa', 'samba', 'scenic', 'schlager', 'self', 'sertanejo',\n",
       "       'shanson', 'shoegazing', 'showtunes', 'singer', 'ska', 'skarock',\n",
       "       'slow', 'smooth', 'soft', 'soul', 'soulful', 'sound', 'soundtrack',\n",
       "       'southern', 'specialty', 'speech', 'spiritual', 'sport',\n",
       "       'stonerrock', 'surf', 'swing', 'synthpop', 'synthrock',\n",
       "       'sängerportrait', 'tango', 'tanzorchester', 'taraftar', 'tatar',\n",
       "       'tech', 'techno', 'teen', 'thrash', 'top', 'traditional',\n",
       "       'tradjazz', 'trance', 'tribal', 'trip', 'triphop', 'tropical',\n",
       "       'türk', 'türkçe', 'ukrrock', 'unknown', 'urban', 'uzbek',\n",
       "       'variété', 'vi', 'videogame', 'vocal', 'western', 'world',\n",
       "       'worldbeat', 'ïîï', 'электроника'], dtype=object)"
      ]
     },
     "execution_count": 16,
     "metadata": {},
     "output_type": "execute_result"
    }
   ],
   "source": [
    "df['genre'].sort_values().unique()"
   ]
  },
  {
   "cell_type": "markdown",
   "metadata": {
    "id": "jz6a9-7HQUDd"
   },
   "source": [
    "**Выводы**\n",
    "\n",
    "Предобработка обнаружила три проблемы в данных:\n",
    "\n",
    "- нарушения в стиле заголовков,\n",
    "- пропущенные значения,\n",
    "- дубликаты — явные и неявные.\n",
    "\n",
    "Мы исправили заголовки, чтобы упростить работу с таблицей. Без дубликатов исследование станет более точным.\n",
    "\n",
    "Пропущенные значения мы заменили на `'unknown'`. Ещё предстоит увидеть, не повредят ли исследованию пропуски в колонке `genre`.\n",
    "\n",
    "Теперь можно перейти к проверке гипотез. "
   ]
  },
  {
   "cell_type": "markdown",
   "metadata": {
    "deletable": false,
    "editable": false,
    "id": "WttZHXH0SqKk"
   },
   "source": [
    "## Проверка гипотез"
   ]
  },
  {
   "cell_type": "markdown",
   "metadata": {
    "deletable": false,
    "editable": false,
    "id": "Im936VVi_Zcu"
   },
   "source": [
    "### Сравнение поведения пользователей двух столиц"
   ]
  },
  {
   "cell_type": "markdown",
   "metadata": {
    "id": "nwt_MuaL_Zcu"
   },
   "source": [
    "Первая гипотеза утверждает, что пользователи по-разному слушают музыку в Москве и Санкт-Петербурге. Проверим это предположение по данным о трёх днях недели — понедельнике, среде и пятнице. Для этого:\n",
    "\n",
    "* Разделим пользователей Москвы и Санкт-Петербурга\n",
    "* Сравним, сколько треков послушала каждая группа пользователей в понедельник, среду и пятницу.\n"
   ]
  },
  {
   "cell_type": "markdown",
   "metadata": {
    "id": "8Dw_YMmT_Zcu",
    "tags": [
     "start_task"
    ]
   },
   "source": [
    "\n",
    "\n",
    "Сначала выполним каждый из расчётов по отдельности. \n",
    "\n",
    "Оценим активность пользователей в каждом городе. Сгруппируем данные по городу и посчитаем прослушивания в каждой группе.\n",
    "\n"
   ]
  },
  {
   "cell_type": "code",
   "execution_count": 17,
   "metadata": {
    "deletable": false,
    "id": "0_Qs96oh_Zcu"
   },
   "outputs": [
    {
     "data": {
      "text/plain": [
       "city\n",
       "Moscow              42741\n",
       "Saint-Petersburg    18512\n",
       "Name: user_id, dtype: int64"
      ]
     },
     "execution_count": 17,
     "metadata": {},
     "output_type": "execute_result"
    }
   ],
   "source": [
    "df.groupby('city')['user_id'].count()"
   ]
  },
  {
   "cell_type": "markdown",
   "metadata": {
    "id": "dzli3w8o_Zcu",
    "tags": [
     "start_task"
    ]
   },
   "source": [
    "В Москве прослушиваний больше, чем в Петербурге. Из этого не следует, что московские пользователи чаще слушают музыку. Просто самих пользователей в Москве больше.\n",
    "\n",
    "\n",
    "\n",
    "Теперь сгруппируем данные по дню недели и подсчитаем прослушивания в понедельник, среду и пятницу. Учитываем, что в данных есть информация только о прослушиваниях только за эти дни.\n"
   ]
  },
  {
   "cell_type": "code",
   "execution_count": 18,
   "metadata": {
    "deletable": false,
    "id": "uZMKjiJz_Zcu"
   },
   "outputs": [
    {
     "data": {
      "text/plain": [
       "day\n",
       "Friday       21840\n",
       "Monday       21354\n",
       "Wednesday    18059\n",
       "Name: user_id, dtype: int64"
      ]
     },
     "execution_count": 18,
     "metadata": {},
     "output_type": "execute_result"
    }
   ],
   "source": [
    "df.groupby('day')['user_id'].count() "
   ]
  },
  {
   "cell_type": "markdown",
   "metadata": {
    "deletable": false,
    "editable": false,
    "id": "cC2tNrlL_Zcu"
   },
   "source": [
    "В среднем пользователи из двух городов менее активны по средам. Но картина может измениться, если рассмотреть каждый город в отдельности."
   ]
  },
  {
   "cell_type": "markdown",
   "metadata": {
    "id": "POzs8bGa_Zcu",
    "tags": [
     "start_task"
    ]
   },
   "source": [
    "\n",
    "\n",
    "\n",
    "Теперь напишем функцию, которая объединит два эти расчёта.\n",
    "\n",
    "Создаем функцию `number_tracks()`, которая посчитает прослушивания для заданного дня и города. Ей понадобятся два параметра:\n",
    "* день недели,\n",
    "* название города.\n",
    "\n",
    "В функции сохраним в переменную строки исходной таблицы, у которых значение:\n",
    "  * в колонке `day` равно параметру `day`,\n",
    "  * в колонке `city` равно параметру `city`.\n",
    "\n",
    "Для этого применим последовательную фильтрацию с логической индексацией\n",
    "\n",
    "Затем посчитаем значения в столбце `user_id` получившейся таблицы. Результат сохраним в новую переменную. Вернем эту переменную из функции."
   ]
  },
  {
   "cell_type": "code",
   "execution_count": 19,
   "metadata": {
    "deletable": false,
    "id": "Nz3GdQB1_Zcu"
   },
   "outputs": [],
   "source": [
    "def number_tracks(day, city):\n",
    "    track_list = df[df['day'] == day]\n",
    "    track_list = track_list[track_list['city'] == city]\n",
    "    track_list_count = track_list['user_id'].count()\n",
    "    return track_list_count\n"
   ]
  },
  {
   "cell_type": "markdown",
   "metadata": {
    "id": "ytf7xFrFJQ2r",
    "tags": [
     "start_task"
    ]
   },
   "source": [
    "\n",
    "\n",
    "Вызовим `number_tracks()` шесть раз, меняя значение параметров — так, чтобы получить данные для каждого города в каждый из трёх дней."
   ]
  },
  {
   "cell_type": "code",
   "execution_count": 20,
   "metadata": {
    "deletable": false,
    "id": "rJcRATNQ_Zcu"
   },
   "outputs": [
    {
     "data": {
      "text/plain": [
       "15740"
      ]
     },
     "execution_count": 20,
     "metadata": {},
     "output_type": "execute_result"
    }
   ],
   "source": [
    "number_tracks('Monday', 'Moscow')# количество прослушиваний в Москве по понедельникам"
   ]
  },
  {
   "cell_type": "code",
   "execution_count": 21,
   "metadata": {
    "deletable": false,
    "id": "hq_ncZ5T_Zcu"
   },
   "outputs": [
    {
     "data": {
      "text/plain": [
       "5614"
      ]
     },
     "execution_count": 21,
     "metadata": {},
     "output_type": "execute_result"
    }
   ],
   "source": [
    "number_tracks('Monday', 'Saint-Petersburg')# количество прослушиваний в Санкт-Петербурге по понедельникам"
   ]
  },
  {
   "cell_type": "code",
   "execution_count": 22,
   "metadata": {
    "deletable": false,
    "id": "_NTy2VPU_Zcu"
   },
   "outputs": [
    {
     "data": {
      "text/plain": [
       "11056"
      ]
     },
     "execution_count": 22,
     "metadata": {},
     "output_type": "execute_result"
    }
   ],
   "source": [
    "number_tracks('Wednesday', 'Moscow')# количество прослушиваний в Москве по средам"
   ]
  },
  {
   "cell_type": "code",
   "execution_count": 23,
   "metadata": {
    "deletable": false,
    "id": "j2y3TAwo_Zcu"
   },
   "outputs": [
    {
     "data": {
      "text/plain": [
       "7003"
      ]
     },
     "execution_count": 23,
     "metadata": {},
     "output_type": "execute_result"
    }
   ],
   "source": [
    "number_tracks('Wednesday', 'Saint-Petersburg')# количество прослушиваний в Санкт-Петербурге по средам"
   ]
  },
  {
   "cell_type": "code",
   "execution_count": 24,
   "metadata": {
    "deletable": false,
    "id": "vYDw5u_K_Zcu"
   },
   "outputs": [
    {
     "data": {
      "text/plain": [
       "15945"
      ]
     },
     "execution_count": 24,
     "metadata": {},
     "output_type": "execute_result"
    }
   ],
   "source": [
    "number_tracks('Friday', 'Moscow')# количество прослушиваний в Москве по пятницам"
   ]
  },
  {
   "cell_type": "code",
   "execution_count": 25,
   "metadata": {
    "deletable": false,
    "id": "8_yzFtW3_Zcu"
   },
   "outputs": [
    {
     "data": {
      "text/plain": [
       "5895"
      ]
     },
     "execution_count": 25,
     "metadata": {},
     "output_type": "execute_result"
    }
   ],
   "source": [
    "number_tracks('Friday', 'Saint-Petersburg')# количество прослушиваний в Санкт-Петербурге по пятницам"
   ]
  },
  {
   "cell_type": "markdown",
   "metadata": {
    "id": "7QXffbO-_Zcu",
    "tags": [
     "start_task"
    ]
   },
   "source": [
    "\n",
    "\n",
    "Создадим c помощью конструктора `pd.DataFrame` таблицу, где\n",
    "* названия колонок — `['city', 'monday', 'wednesday', 'friday']`;\n",
    "* данные — результаты, которые мы получили с помощью `number_tracks`."
   ]
  },
  {
   "cell_type": "code",
   "execution_count": 26,
   "metadata": {
    "deletable": false,
    "id": "APAcLpOr_Zcu"
   },
   "outputs": [
    {
     "data": {
      "text/html": [
       "<div>\n",
       "<style scoped>\n",
       "    .dataframe tbody tr th:only-of-type {\n",
       "        vertical-align: middle;\n",
       "    }\n",
       "\n",
       "    .dataframe tbody tr th {\n",
       "        vertical-align: top;\n",
       "    }\n",
       "\n",
       "    .dataframe thead th {\n",
       "        text-align: right;\n",
       "    }\n",
       "</style>\n",
       "<table border=\"1\" class=\"dataframe\">\n",
       "  <thead>\n",
       "    <tr style=\"text-align: right;\">\n",
       "      <th></th>\n",
       "      <th>city</th>\n",
       "      <th>monday</th>\n",
       "      <th>wednesday</th>\n",
       "      <th>friday</th>\n",
       "    </tr>\n",
       "  </thead>\n",
       "  <tbody>\n",
       "    <tr>\n",
       "      <th>0</th>\n",
       "      <td>Moscow</td>\n",
       "      <td>16715</td>\n",
       "      <td></td>\n",
       "      <td></td>\n",
       "    </tr>\n",
       "    <tr>\n",
       "      <th>1</th>\n",
       "      <td>Saint-Petersburg</td>\n",
       "      <td>5982</td>\n",
       "      <td></td>\n",
       "      <td></td>\n",
       "    </tr>\n",
       "    <tr>\n",
       "      <th>2</th>\n",
       "      <td>Moscow</td>\n",
       "      <td></td>\n",
       "      <td>11755</td>\n",
       "      <td></td>\n",
       "    </tr>\n",
       "    <tr>\n",
       "      <th>3</th>\n",
       "      <td>Saint-Petersburg</td>\n",
       "      <td></td>\n",
       "      <td>7478</td>\n",
       "      <td></td>\n",
       "    </tr>\n",
       "    <tr>\n",
       "      <th>4</th>\n",
       "      <td>Moscow</td>\n",
       "      <td></td>\n",
       "      <td></td>\n",
       "      <td>16890</td>\n",
       "    </tr>\n",
       "    <tr>\n",
       "      <th>5</th>\n",
       "      <td>Saint-Petersburg</td>\n",
       "      <td></td>\n",
       "      <td></td>\n",
       "      <td>6259</td>\n",
       "    </tr>\n",
       "  </tbody>\n",
       "</table>\n",
       "</div>"
      ],
      "text/plain": [
       "               city monday wednesday friday\n",
       "0            Moscow  16715                 \n",
       "1  Saint-Petersburg   5982                 \n",
       "2            Moscow            11755       \n",
       "3  Saint-Petersburg             7478       \n",
       "4            Moscow                   16890\n",
       "5  Saint-Petersburg                    6259"
      ]
     },
     "execution_count": 26,
     "metadata": {},
     "output_type": "execute_result"
    }
   ],
   "source": [
    "columns = ['city', 'monday', 'wednesday', 'friday']\n",
    "data = [['Moscow', 16715, '', ''], \n",
    "        ['Saint-Petersburg', 5982, '', ''], \n",
    "        ['Moscow', '', 11755, ''], \n",
    "        ['Saint-Petersburg', '', 7478, ''], \n",
    "        ['Moscow', '', '', 16890], \n",
    "        ['Saint-Petersburg', '', '', 6259]]\n",
    "pd.DataFrame(data=data, columns=columns)\n"
   ]
  },
  {
   "cell_type": "markdown",
   "metadata": {
    "id": "-EgPIHYu_Zcu"
   },
   "source": [
    "**Выводы**\n",
    "\n",
    "Данные показывают разницу поведения пользователей:\n",
    "\n",
    "- В Москве пик прослушиваний приходится на понедельник и пятницу, а в среду заметен спад.\n",
    "- В Петербурге, наоборот, больше слушают музыку по средам. Активность в понедельник и пятницу здесь почти в равной мере уступает среде.\n",
    "\n",
    "Значит, данные говорят в пользу первой гипотезы."
   ]
  },
  {
   "cell_type": "markdown",
   "metadata": {
    "deletable": false,
    "editable": false,
    "id": "atZAxtq4_Zcu"
   },
   "source": [
    "### Музыка в начале и в конце недели"
   ]
  },
  {
   "cell_type": "markdown",
   "metadata": {
    "deletable": false,
    "editable": false,
    "id": "eXrQqXFH_Zcu"
   },
   "source": [
    "Согласно второй гипотезе, утром в понедельник в Москве преобладают одни жанры, а в Петербурге — другие. Так же и вечером пятницы преобладают разные жанры — в зависимости от города."
   ]
  },
  {
   "cell_type": "markdown",
   "metadata": {
    "id": "S8UcW6Hw_Zcu",
    "tags": [
     "start_task"
    ]
   },
   "source": [
    "\n",
    "\n",
    "Сохраните таблицы с данными в две переменные:\n",
    "* по Москве — в `moscow_general`;\n",
    "* по Санкт-Петербургу — в `spb_general`."
   ]
  },
  {
   "cell_type": "code",
   "execution_count": 27,
   "metadata": {
    "deletable": false,
    "id": "qeaFfM_P_Zcu"
   },
   "outputs": [],
   "source": [
    "moscow_general = df[df['city'] == 'Moscow'] \n"
   ]
  },
  {
   "cell_type": "code",
   "execution_count": 28,
   "metadata": {
    "deletable": false,
    "id": "ORaVRKto_Zcu"
   },
   "outputs": [],
   "source": [
    "spb_general = df[df['city'] == 'Saint-Petersburg'] \n",
    "# получение таблицы spb_general из тех строк таблицы df,\n",
    "# для которых значение в столбце 'city' равно 'Saint-Petersburg'\n"
   ]
  },
  {
   "cell_type": "markdown",
   "metadata": {
    "deletable": false,
    "id": "MEJV-CX2_Zcu",
    "tags": [
     "start_task"
    ]
   },
   "source": [
    "\n",
    "\n",
    "Создаем функцию `genre_weekday()` с четырьмя параметрами:\n",
    "* таблица (датафрейм) с данными,\n",
    "* день недели,\n",
    "* начальная временная метка в формате 'hh:mm', \n",
    "* последняя временная метка в формате 'hh:mm'.\n",
    "\n",
    "Функция должна вернуть информацию о топ-10 жанров тех треков, которые прослушивали в указанный день, в промежутке между двумя отметками времени."
   ]
  },
  {
   "cell_type": "code",
   "execution_count": 29,
   "metadata": {
    "deletable": false,
    "id": "laJT9BYl_Zcu"
   },
   "outputs": [],
   "source": [
    "def genre_weekday(table, day, time1, time2):\n",
    "    genre_df = table[table['day'] == day]\n",
    "    genre_df = genre_df[genre_df['time'] > time1]\n",
    "    genre_df = genre_df[genre_df['time'] < time2]\n",
    "    genre_df_grouped = genre_df.groupby('genre')['user_id'].count()\n",
    "    genre_df_sorted = genre_df_grouped.sort_values(ascending=False)\n",
    "    return genre_df_sorted[:10]\n",
    "\n",
    "\n",
    "\n"
   ]
  },
  {
   "cell_type": "markdown",
   "metadata": {
    "id": "la2s2_PF_Zcu",
    "tags": [
     "start_task"
    ]
   },
   "source": [
    "\n",
    "\n",
    "\n",
    "Cравним результаты функции `genre_weekday()` для Москвы и Санкт-Петербурга в понедельник утром (с 7:00 до 11:00) и в пятницу вечером (с 17:00 до 23:00):"
   ]
  },
  {
   "cell_type": "code",
   "execution_count": 30,
   "metadata": {
    "deletable": false,
    "id": "yz7itPUQ_Zcu"
   },
   "outputs": [
    {
     "data": {
      "text/plain": [
       "genre\n",
       "pop            781\n",
       "dance          549\n",
       "electronic     480\n",
       "rock           474\n",
       "hiphop         286\n",
       "ruspop         186\n",
       "world          181\n",
       "rusrap         175\n",
       "alternative    164\n",
       "unknown        161\n",
       "Name: user_id, dtype: int64"
      ]
     },
     "execution_count": 30,
     "metadata": {},
     "output_type": "execute_result"
    }
   ],
   "source": [
    "genre_weekday(moscow_general, 'Monday', '07:00', '11:00')\n"
   ]
  },
  {
   "cell_type": "code",
   "execution_count": 31,
   "metadata": {
    "deletable": false,
    "id": "kwUcHPdy_Zcu"
   },
   "outputs": [
    {
     "data": {
      "text/plain": [
       "genre\n",
       "pop            218\n",
       "dance          182\n",
       "rock           162\n",
       "electronic     147\n",
       "hiphop          80\n",
       "ruspop          64\n",
       "alternative     58\n",
       "rusrap          55\n",
       "jazz            44\n",
       "classical       40\n",
       "Name: user_id, dtype: int64"
      ]
     },
     "execution_count": 31,
     "metadata": {},
     "output_type": "execute_result"
    }
   ],
   "source": [
    "genre_weekday(spb_general, 'Monday', '07:00', '11:00')\n"
   ]
  },
  {
   "cell_type": "code",
   "execution_count": 32,
   "metadata": {
    "deletable": false,
    "id": "EzXVRE1o_Zcu"
   },
   "outputs": [
    {
     "data": {
      "text/plain": [
       "genre\n",
       "pop            713\n",
       "rock           517\n",
       "dance          495\n",
       "electronic     482\n",
       "hiphop         273\n",
       "world          208\n",
       "ruspop         170\n",
       "alternative    163\n",
       "classical      163\n",
       "rusrap         142\n",
       "Name: user_id, dtype: int64"
      ]
     },
     "execution_count": 32,
     "metadata": {},
     "output_type": "execute_result"
    }
   ],
   "source": [
    "genre_weekday(moscow_general, 'Friday', '17:00', '23:00')\n",
    "  "
   ]
  },
  {
   "cell_type": "code",
   "execution_count": 33,
   "metadata": {
    "deletable": false,
    "id": "JZaEKu5v_Zcu"
   },
   "outputs": [
    {
     "data": {
      "text/plain": [
       "genre\n",
       "pop            256\n",
       "electronic     216\n",
       "rock           216\n",
       "dance          210\n",
       "hiphop          97\n",
       "alternative     63\n",
       "jazz            61\n",
       "classical       60\n",
       "rusrap          59\n",
       "world           54\n",
       "Name: user_id, dtype: int64"
      ]
     },
     "execution_count": 33,
     "metadata": {},
     "output_type": "execute_result"
    }
   ],
   "source": [
    "genre_weekday(spb_general, 'Friday', '17:00', '23:00')\n"
   ]
  },
  {
   "cell_type": "markdown",
   "metadata": {
    "deletable": false,
    "editable": false,
    "id": "wrCe4MNX_Zcu"
   },
   "source": [
    "**Выводы**\n",
    "\n",
    "Если сравнить топ-10 жанров в понедельник утром, можно сделать такие выводы:\n",
    "\n",
    "1. В Москве и Петербурге слушают похожую музыку. Единственное отличие — в московский рейтинг вошёл жанр “world”, а в петербургский — джаз и классика.\n",
    "\n",
    "2. В Москве пропущенных значений оказалось так много, что значение `'unknown'` заняло десятое место среди самых популярных жанров. Значит, пропущенные значения занимают существенную долю в данных и угрожают достоверности исследования.\n",
    "\n",
    "Вечер пятницы не меняет эту картину. Некоторые жанры поднимаются немного выше, другие спускаются, но в целом топ-10 остаётся тем же самым.\n",
    "\n",
    "Таким образом, вторая гипотеза подтвердилась лишь частично:\n",
    "* Пользователи слушают похожую музыку в начале недели и в конце.\n",
    "* Разница между Москвой и Петербургом не слишком выражена. В Москве чаще слушают русскую популярную музыку, в Петербурге — джаз.\n",
    "\n",
    "Однако пропуски в данных ставят под сомнение этот результат. В Москве их так много, что рейтинг топ-10 мог бы выглядеть иначе, если бы не утерянные  данные о жанрах."
   ]
  },
  {
   "cell_type": "markdown",
   "metadata": {
    "deletable": false,
    "editable": false,
    "id": "JolODAqr_Zcu"
   },
   "source": [
    "### Жанровые предпочтения в Москве и Петербурге\n",
    "\n",
    "Гипотеза: Петербург — столица рэпа, музыку этого жанра там слушают чаще, чем в Москве.  А Москва — город контрастов, в котором, тем не менее, преобладает поп-музыка."
   ]
  },
  {
   "cell_type": "markdown",
   "metadata": {
    "id": "DlegSvaT_Zcu",
    "tags": [
     "start_task"
    ]
   },
   "source": [
    "\n",
    "\n",
    "Сгруппируем таблицу `moscow_general` по жанру и посчитаем прослушивания треков каждого жанра методом `count()`. Затем отсортируем результат в порядке убывания и сохраним его в таблице `moscow_genres`."
   ]
  },
  {
   "cell_type": "code",
   "execution_count": 34,
   "metadata": {
    "deletable": false,
    "id": "r19lIPke_Zcu"
   },
   "outputs": [],
   "source": [
    "moscow_genres = moscow_general.groupby('genre')['genre'].count().sort_values(ascending=False)\n",
    "\n"
   ]
  },
  {
   "cell_type": "markdown",
   "metadata": {
    "id": "6kMuomxTiIr8",
    "tags": [
     "start_task"
    ]
   },
   "source": [
    "\n",
    "\n",
    "Выведим на экран первые десять строк `moscow_genres`:"
   ]
  },
  {
   "cell_type": "code",
   "execution_count": 35,
   "metadata": {
    "deletable": false,
    "id": "WhCSooF8_Zcv"
   },
   "outputs": [
    {
     "data": {
      "text/plain": [
       "genre\n",
       "pop            5892\n",
       "dance          4435\n",
       "rock           3965\n",
       "electronic     3786\n",
       "hiphop         2096\n",
       "classical      1616\n",
       "world          1432\n",
       "alternative    1379\n",
       "ruspop         1372\n",
       "rusrap         1161\n",
       "Name: genre, dtype: int64"
      ]
     },
     "execution_count": 35,
     "metadata": {},
     "output_type": "execute_result"
    }
   ],
   "source": [
    "moscow_genres[:10]\n"
   ]
  },
  {
   "cell_type": "markdown",
   "metadata": {
    "id": "cnPG2vnN_Zcv",
    "tags": [
     "start_task"
    ]
   },
   "source": [
    "\n",
    "\n",
    "Теперь повторим то же и для Петербурга.\n",
    "\n",
    "Сгруппируем таблицу `spb_general` по жанру. Посчитаем прослушивания треков каждого жанра. Результат отсортируем в порядке убывания и сохраним в таблице `spb_genres`:\n"
   ]
  },
  {
   "cell_type": "code",
   "execution_count": 36,
   "metadata": {
    "deletable": false,
    "id": "gluLIpE7_Zcv"
   },
   "outputs": [],
   "source": [
    "spb_genres = spb_general.groupby('genre')['genre'].count().sort_values(ascending=False)\n",
    "\n"
   ]
  },
  {
   "cell_type": "markdown",
   "metadata": {
    "id": "5Doha_ODgyQ8",
    "tags": [
     "start_task"
    ]
   },
   "source": [
    "\n",
    "\n",
    "Выведим на экран первые десять строк `spb_genres`:"
   ]
  },
  {
   "cell_type": "code",
   "execution_count": 37,
   "metadata": {
    "deletable": false,
    "id": "uaGJHjVU_Zcv"
   },
   "outputs": [
    {
     "data": {
      "text/plain": [
       "genre\n",
       "pop            2431\n",
       "dance          1932\n",
       "rock           1879\n",
       "electronic     1736\n",
       "hiphop          960\n",
       "alternative     649\n",
       "classical       646\n",
       "rusrap          564\n",
       "ruspop          538\n",
       "world           515\n",
       "Name: genre, dtype: int64"
      ]
     },
     "execution_count": 37,
     "metadata": {},
     "output_type": "execute_result"
    }
   ],
   "source": [
    "spb_genres[:10]\n"
   ]
  },
  {
   "cell_type": "markdown",
   "metadata": {
    "deletable": false,
    "editable": false,
    "id": "RY51YJYu_Zcv"
   },
   "source": [
    "**Выводы**"
   ]
  },
  {
   "cell_type": "markdown",
   "metadata": {
    "deletable": false,
    "editable": false,
    "id": "nVhnJEm__Zcv"
   },
   "source": [
    "Гипотеза частично подтвердилась:\n",
    "* Поп-музыка — самый популярный жанр в Москве, как и предполагала гипотеза. Более того, в топ-10 жанров встречается близкий жанр — русская популярная музыка.\n",
    "* Вопреки ожиданиям, рэп одинаково популярен в Москве и Петербурге. \n"
   ]
  },
  {
   "cell_type": "markdown",
   "metadata": {
    "deletable": false,
    "editable": false,
    "id": "ykKQ0N65_Zcv"
   },
   "source": [
    "## Итоги исследования"
   ]
  },
  {
   "cell_type": "markdown",
   "metadata": {
    "id": "tjUwbHb3_Zcv"
   },
   "source": [
    "Мы проверили три гипотезы и установили:\n",
    "\n",
    "1. День недели по-разному влияет на активность пользователей в Москве и Петербурге. \n",
    "\n",
    "Первая гипотеза полностью подтвердилась.\n",
    "\n",
    "2. Музыкальные предпочтения не сильно меняются в течение недели — будь то Москва или Петербург. Небольшие различия заметны в начале недели, по понедельникам:\n",
    "* в Москве слушают музыку жанра “world”,\n",
    "* в Петербурге — джаз и классику.\n",
    "\n",
    "Таким образом, вторая гипотеза подтвердилась лишь отчасти. Этот результат мог оказаться иным, если бы не пропуски в данных.\n",
    "\n",
    "3. Во вкусах пользователей Москвы и Петербурга больше общего чем различий. Вопреки ожиданиям, предпочтения жанров в Петербурге напоминают московские.\n",
    "\n",
    "Третья гипотеза не подтвердилась. Если различия в предпочтениях и существуют, на основной массе пользователей они незаметны.\n",
    "\n",
    "**На практике исследования содержат проверки статистических гипотез.**\n",
    "Из данных одного сервиса не всегда можно сделать вывод о всех жителях города.\n",
    "Проверки статистических гипотез покажут, насколько они достоверны, исходя из имеющихся данных. "
   ]
  },
  {
   "cell_type": "code",
   "execution_count": null,
   "metadata": {},
   "outputs": [],
   "source": []
  }
 ],
 "metadata": {
  "ExecuteTimeLog": [
   {
    "duration": 519,
    "start_time": "2023-03-15T12:19:07.553Z"
   },
   {
    "duration": 97,
    "start_time": "2023-03-15T12:20:18.901Z"
   },
   {
    "duration": 111,
    "start_time": "2023-03-15T12:20:43.503Z"
   },
   {
    "duration": 296,
    "start_time": "2023-03-15T12:21:46.640Z"
   },
   {
    "duration": 19,
    "start_time": "2023-03-15T12:22:14.078Z"
   },
   {
    "duration": 34,
    "start_time": "2023-03-15T12:22:58.623Z"
   },
   {
    "duration": 3,
    "start_time": "2023-03-15T12:42:38.906Z"
   },
   {
    "duration": 5,
    "start_time": "2023-03-15T12:44:12.750Z"
   },
   {
    "duration": 14,
    "start_time": "2023-03-15T12:47:52.969Z"
   },
   {
    "duration": 5,
    "start_time": "2023-03-15T12:48:07.143Z"
   },
   {
    "duration": 29,
    "start_time": "2023-03-15T12:51:24.789Z"
   },
   {
    "duration": 9,
    "start_time": "2023-03-15T13:08:08.411Z"
   },
   {
    "duration": 24,
    "start_time": "2023-03-15T13:08:30.802Z"
   },
   {
    "duration": 27,
    "start_time": "2023-03-15T13:09:19.702Z"
   },
   {
    "duration": 16,
    "start_time": "2023-03-15T13:09:55.221Z"
   },
   {
    "duration": 79,
    "start_time": "2023-03-15T13:10:02.605Z"
   },
   {
    "duration": 101,
    "start_time": "2023-03-15T13:12:11.026Z"
   },
   {
    "duration": 73,
    "start_time": "2023-03-15T13:12:28.192Z"
   },
   {
    "duration": 9,
    "start_time": "2023-03-15T13:13:33.914Z"
   },
   {
    "duration": 9,
    "start_time": "2023-03-15T13:18:03.285Z"
   },
   {
    "duration": 17,
    "start_time": "2023-03-15T13:18:14.699Z"
   },
   {
    "duration": 12,
    "start_time": "2023-03-15T13:19:07.685Z"
   },
   {
    "duration": 12,
    "start_time": "2023-03-15T13:20:29.879Z"
   },
   {
    "duration": 57,
    "start_time": "2023-03-15T13:21:26.685Z"
   },
   {
    "duration": 10,
    "start_time": "2023-03-15T13:22:34.646Z"
   },
   {
    "duration": 10,
    "start_time": "2023-03-15T13:23:22.434Z"
   },
   {
    "duration": 10,
    "start_time": "2023-03-15T13:23:31.684Z"
   },
   {
    "duration": 13,
    "start_time": "2023-03-15T13:24:08.193Z"
   },
   {
    "duration": 11,
    "start_time": "2023-03-15T13:24:43.844Z"
   },
   {
    "duration": 7,
    "start_time": "2023-03-15T13:26:02.393Z"
   },
   {
    "duration": 10,
    "start_time": "2023-03-15T13:26:25.538Z"
   },
   {
    "duration": 70,
    "start_time": "2023-03-15T13:30:18.915Z"
   },
   {
    "duration": 48,
    "start_time": "2023-03-15T15:48:13.954Z"
   },
   {
    "duration": 6,
    "start_time": "2023-03-15T15:49:29.446Z"
   },
   {
    "duration": 8,
    "start_time": "2023-03-15T15:50:47.753Z"
   },
   {
    "duration": 6,
    "start_time": "2023-03-15T15:51:23.002Z"
   },
   {
    "duration": 48,
    "start_time": "2023-03-15T15:51:51.696Z"
   },
   {
    "duration": 7,
    "start_time": "2023-03-15T15:53:35.692Z"
   },
   {
    "duration": 420,
    "start_time": "2023-03-15T15:56:27.392Z"
   },
   {
    "duration": 424,
    "start_time": "2023-03-15T15:56:27.814Z"
   },
   {
    "duration": 17,
    "start_time": "2023-03-15T15:56:28.240Z"
   },
   {
    "duration": 31,
    "start_time": "2023-03-15T15:56:28.259Z"
   },
   {
    "duration": 3,
    "start_time": "2023-03-15T15:56:28.292Z"
   },
   {
    "duration": 8,
    "start_time": "2023-03-15T15:56:28.297Z"
   },
   {
    "duration": 12,
    "start_time": "2023-03-15T15:56:28.306Z"
   },
   {
    "duration": 4,
    "start_time": "2023-03-15T15:56:28.340Z"
   },
   {
    "duration": 35,
    "start_time": "2023-03-15T15:56:28.346Z"
   },
   {
    "duration": 25,
    "start_time": "2023-03-15T15:56:28.383Z"
   },
   {
    "duration": 37,
    "start_time": "2023-03-15T15:56:28.409Z"
   },
   {
    "duration": 71,
    "start_time": "2023-03-15T15:56:28.447Z"
   },
   {
    "duration": 112,
    "start_time": "2023-03-15T15:56:28.519Z"
   },
   {
    "duration": 70,
    "start_time": "2023-03-15T15:56:28.640Z"
   },
   {
    "duration": 7,
    "start_time": "2023-03-15T15:56:28.712Z"
   },
   {
    "duration": 28,
    "start_time": "2023-03-15T15:56:28.721Z"
   },
   {
    "duration": 44,
    "start_time": "2023-03-15T15:56:28.750Z"
   },
   {
    "duration": 9,
    "start_time": "2023-03-15T15:56:28.796Z"
   },
   {
    "duration": 12,
    "start_time": "2023-03-15T15:56:28.807Z"
   },
   {
    "duration": 20,
    "start_time": "2023-03-15T15:56:28.821Z"
   },
   {
    "duration": 5,
    "start_time": "2023-03-15T15:56:28.842Z"
   },
   {
    "duration": 7,
    "start_time": "2023-03-15T15:56:28.849Z"
   },
   {
    "duration": 6,
    "start_time": "2023-03-15T15:56:28.857Z"
   },
   {
    "duration": 11,
    "start_time": "2023-03-15T15:56:28.864Z"
   },
   {
    "duration": 6,
    "start_time": "2023-03-15T15:56:28.877Z"
   },
   {
    "duration": 5,
    "start_time": "2023-03-15T15:56:28.885Z"
   },
   {
    "duration": 32,
    "start_time": "2023-03-15T15:56:28.892Z"
   },
   {
    "duration": 69,
    "start_time": "2023-03-15T15:56:28.925Z"
   },
   {
    "duration": 12,
    "start_time": "2023-03-15T15:56:28.995Z"
   },
   {
    "duration": 47,
    "start_time": "2023-03-15T15:56:29.008Z"
   },
   {
    "duration": 0,
    "start_time": "2023-03-15T15:56:29.056Z"
   },
   {
    "duration": 0,
    "start_time": "2023-03-15T15:56:29.058Z"
   },
   {
    "duration": 0,
    "start_time": "2023-03-15T15:56:29.058Z"
   },
   {
    "duration": 0,
    "start_time": "2023-03-15T15:56:29.060Z"
   },
   {
    "duration": 0,
    "start_time": "2023-03-15T15:56:29.061Z"
   },
   {
    "duration": 0,
    "start_time": "2023-03-15T15:56:29.062Z"
   },
   {
    "duration": 0,
    "start_time": "2023-03-15T15:56:29.063Z"
   },
   {
    "duration": 0,
    "start_time": "2023-03-15T15:56:29.064Z"
   },
   {
    "duration": 69,
    "start_time": "2023-03-15T15:57:04.019Z"
   },
   {
    "duration": 38,
    "start_time": "2023-03-15T15:57:10.602Z"
   },
   {
    "duration": 282,
    "start_time": "2023-03-15T15:59:23.314Z"
   },
   {
    "duration": 17,
    "start_time": "2023-03-15T15:59:47.595Z"
   },
   {
    "duration": 35,
    "start_time": "2023-03-15T16:01:54.699Z"
   },
   {
    "duration": 47,
    "start_time": "2023-03-15T16:21:13.726Z"
   },
   {
    "duration": 4,
    "start_time": "2023-03-15T16:21:51.810Z"
   },
   {
    "duration": 11,
    "start_time": "2023-03-15T16:24:03.418Z"
   },
   {
    "duration": 11,
    "start_time": "2023-03-15T16:24:54.297Z"
   },
   {
    "duration": 7,
    "start_time": "2023-03-15T16:26:02.837Z"
   },
   {
    "duration": 4,
    "start_time": "2023-03-15T16:28:58.188Z"
   },
   {
    "duration": 7,
    "start_time": "2023-03-15T16:29:03.591Z"
   },
   {
    "duration": 25,
    "start_time": "2023-03-15T16:29:17.082Z"
   },
   {
    "duration": 52,
    "start_time": "2023-03-15T16:33:30.337Z"
   },
   {
    "duration": 54,
    "start_time": "2023-03-15T16:34:09.482Z"
   },
   {
    "duration": 20,
    "start_time": "2023-03-15T16:34:17.276Z"
   },
   {
    "duration": 20,
    "start_time": "2023-03-15T16:35:25.579Z"
   },
   {
    "duration": 19,
    "start_time": "2023-03-15T16:35:59.151Z"
   },
   {
    "duration": 23,
    "start_time": "2023-03-15T16:36:31.653Z"
   },
   {
    "duration": 20,
    "start_time": "2023-03-15T16:37:44.778Z"
   },
   {
    "duration": 4,
    "start_time": "2023-03-15T16:42:53.004Z"
   },
   {
    "duration": 24,
    "start_time": "2023-03-15T16:42:59.748Z"
   },
   {
    "duration": 21,
    "start_time": "2023-03-15T16:43:02.885Z"
   },
   {
    "duration": 24,
    "start_time": "2023-03-15T16:43:05.958Z"
   },
   {
    "duration": 23,
    "start_time": "2023-03-15T16:43:09.116Z"
   },
   {
    "duration": 24,
    "start_time": "2023-03-15T16:43:12.174Z"
   },
   {
    "duration": 20,
    "start_time": "2023-03-15T16:43:15.508Z"
   },
   {
    "duration": 4,
    "start_time": "2023-03-15T16:45:10.522Z"
   },
   {
    "duration": 24,
    "start_time": "2023-03-15T16:45:16.141Z"
   },
   {
    "duration": 21,
    "start_time": "2023-03-15T16:45:21.009Z"
   },
   {
    "duration": 24,
    "start_time": "2023-03-15T16:45:24.518Z"
   },
   {
    "duration": 22,
    "start_time": "2023-03-15T16:45:28.853Z"
   },
   {
    "duration": 4,
    "start_time": "2023-03-15T16:46:39.190Z"
   },
   {
    "duration": 17,
    "start_time": "2023-03-15T16:46:43.540Z"
   },
   {
    "duration": 15,
    "start_time": "2023-03-15T16:46:46.446Z"
   },
   {
    "duration": 15,
    "start_time": "2023-03-15T16:46:49.545Z"
   },
   {
    "duration": 15,
    "start_time": "2023-03-15T16:46:52.672Z"
   },
   {
    "duration": 20,
    "start_time": "2023-03-15T16:46:54.996Z"
   },
   {
    "duration": 18,
    "start_time": "2023-03-15T16:46:58.063Z"
   },
   {
    "duration": 14,
    "start_time": "2023-03-15T16:50:13.419Z"
   },
   {
    "duration": 14,
    "start_time": "2023-03-15T16:52:50.880Z"
   },
   {
    "duration": 10,
    "start_time": "2023-03-15T16:57:07.432Z"
   },
   {
    "duration": 12,
    "start_time": "2023-03-15T16:57:25.955Z"
   },
   {
    "duration": 12,
    "start_time": "2023-03-15T16:58:29.297Z"
   },
   {
    "duration": 19,
    "start_time": "2023-03-15T17:00:39.056Z"
   },
   {
    "duration": 11,
    "start_time": "2023-03-15T17:02:29.706Z"
   },
   {
    "duration": 12,
    "start_time": "2023-03-15T17:04:33.182Z"
   },
   {
    "duration": 54,
    "start_time": "2023-03-16T17:32:45.845Z"
   },
   {
    "duration": 388,
    "start_time": "2023-03-16T17:33:04.344Z"
   },
   {
    "duration": 457,
    "start_time": "2023-03-16T17:33:04.734Z"
   },
   {
    "duration": 20,
    "start_time": "2023-03-16T17:33:05.193Z"
   },
   {
    "duration": 38,
    "start_time": "2023-03-16T17:33:05.216Z"
   },
   {
    "duration": 3,
    "start_time": "2023-03-16T17:33:05.255Z"
   },
   {
    "duration": 10,
    "start_time": "2023-03-16T17:33:05.260Z"
   },
   {
    "duration": 36,
    "start_time": "2023-03-16T17:33:05.272Z"
   },
   {
    "duration": 21,
    "start_time": "2023-03-16T17:33:05.311Z"
   },
   {
    "duration": 52,
    "start_time": "2023-03-16T17:33:05.334Z"
   },
   {
    "duration": 40,
    "start_time": "2023-03-16T17:33:05.389Z"
   },
   {
    "duration": 32,
    "start_time": "2023-03-16T17:33:05.430Z"
   },
   {
    "duration": 81,
    "start_time": "2023-03-16T17:33:05.464Z"
   },
   {
    "duration": 94,
    "start_time": "2023-03-16T17:33:05.547Z"
   },
   {
    "duration": 84,
    "start_time": "2023-03-16T17:33:05.643Z"
   },
   {
    "duration": 9,
    "start_time": "2023-03-16T17:33:05.729Z"
   },
   {
    "duration": 21,
    "start_time": "2023-03-16T17:33:05.740Z"
   },
   {
    "duration": 55,
    "start_time": "2023-03-16T17:33:05.763Z"
   },
   {
    "duration": 38,
    "start_time": "2023-03-16T17:33:05.821Z"
   },
   {
    "duration": 54,
    "start_time": "2023-03-16T17:33:05.862Z"
   },
   {
    "duration": 4,
    "start_time": "2023-03-16T17:33:05.918Z"
   },
   {
    "duration": 47,
    "start_time": "2023-03-16T17:33:05.924Z"
   },
   {
    "duration": 18,
    "start_time": "2023-03-16T17:33:05.973Z"
   },
   {
    "duration": 19,
    "start_time": "2023-03-16T17:33:05.993Z"
   },
   {
    "duration": 27,
    "start_time": "2023-03-16T17:33:06.014Z"
   },
   {
    "duration": 29,
    "start_time": "2023-03-16T17:33:06.042Z"
   },
   {
    "duration": 25,
    "start_time": "2023-03-16T17:33:06.073Z"
   },
   {
    "duration": 22,
    "start_time": "2023-03-16T17:33:06.099Z"
   },
   {
    "duration": 43,
    "start_time": "2023-03-16T17:33:06.125Z"
   },
   {
    "duration": 2,
    "start_time": "2023-03-16T17:33:06.170Z"
   },
   {
    "duration": 48,
    "start_time": "2023-03-16T17:33:06.174Z"
   },
   {
    "duration": 0,
    "start_time": "2023-03-16T17:33:06.224Z"
   },
   {
    "duration": 0,
    "start_time": "2023-03-16T17:33:06.225Z"
   },
   {
    "duration": 0,
    "start_time": "2023-03-16T17:33:06.227Z"
   },
   {
    "duration": 0,
    "start_time": "2023-03-16T17:33:06.228Z"
   },
   {
    "duration": 0,
    "start_time": "2023-03-16T17:33:06.229Z"
   },
   {
    "duration": 0,
    "start_time": "2023-03-16T17:33:06.230Z"
   },
   {
    "duration": 0,
    "start_time": "2023-03-16T17:33:06.231Z"
   },
   {
    "duration": 0,
    "start_time": "2023-03-16T17:33:06.232Z"
   },
   {
    "duration": 21,
    "start_time": "2023-03-16T17:34:25.320Z"
   },
   {
    "duration": 20,
    "start_time": "2023-03-16T17:34:36.725Z"
   },
   {
    "duration": 4,
    "start_time": "2023-03-16T17:46:02.225Z"
   },
   {
    "duration": 87,
    "start_time": "2023-03-16T19:30:26.978Z"
   },
   {
    "duration": 530,
    "start_time": "2023-03-16T19:30:43.415Z"
   },
   {
    "duration": 632,
    "start_time": "2023-03-16T19:30:43.948Z"
   },
   {
    "duration": 49,
    "start_time": "2023-03-16T19:30:44.582Z"
   },
   {
    "duration": 35,
    "start_time": "2023-03-16T19:30:44.634Z"
   },
   {
    "duration": 4,
    "start_time": "2023-03-16T19:30:44.672Z"
   },
   {
    "duration": 54,
    "start_time": "2023-03-16T19:30:44.678Z"
   },
   {
    "duration": 15,
    "start_time": "2023-03-16T19:30:44.734Z"
   },
   {
    "duration": 4,
    "start_time": "2023-03-16T19:30:44.751Z"
   },
   {
    "duration": 31,
    "start_time": "2023-03-16T19:30:44.757Z"
   },
   {
    "duration": 37,
    "start_time": "2023-03-16T19:30:44.796Z"
   },
   {
    "duration": 32,
    "start_time": "2023-03-16T19:30:44.836Z"
   },
   {
    "duration": 123,
    "start_time": "2023-03-16T19:30:44.871Z"
   },
   {
    "duration": 127,
    "start_time": "2023-03-16T19:30:44.996Z"
   },
   {
    "duration": 112,
    "start_time": "2023-03-16T19:30:45.125Z"
   },
   {
    "duration": 14,
    "start_time": "2023-03-16T19:30:45.245Z"
   },
   {
    "duration": 32,
    "start_time": "2023-03-16T19:30:45.261Z"
   },
   {
    "duration": 78,
    "start_time": "2023-03-16T19:30:45.298Z"
   },
   {
    "duration": 67,
    "start_time": "2023-03-16T19:30:45.378Z"
   },
   {
    "duration": 63,
    "start_time": "2023-03-16T19:30:45.447Z"
   },
   {
    "duration": 14,
    "start_time": "2023-03-16T19:30:45.512Z"
   },
   {
    "duration": 30,
    "start_time": "2023-03-16T19:30:45.528Z"
   },
   {
    "duration": 29,
    "start_time": "2023-03-16T19:30:45.561Z"
   },
   {
    "duration": 38,
    "start_time": "2023-03-16T19:30:45.592Z"
   },
   {
    "duration": 26,
    "start_time": "2023-03-16T19:30:45.632Z"
   },
   {
    "duration": 54,
    "start_time": "2023-03-16T19:30:45.661Z"
   },
   {
    "duration": 31,
    "start_time": "2023-03-16T19:30:45.719Z"
   },
   {
    "duration": 16,
    "start_time": "2023-03-16T19:30:45.752Z"
   },
   {
    "duration": 65,
    "start_time": "2023-03-16T19:30:45.771Z"
   },
   {
    "duration": 31,
    "start_time": "2023-03-16T19:30:45.839Z"
   },
   {
    "duration": 7,
    "start_time": "2023-03-16T19:30:45.872Z"
   },
   {
    "duration": 174,
    "start_time": "2023-03-16T19:30:45.881Z"
   },
   {
    "duration": 0,
    "start_time": "2023-03-16T19:30:46.058Z"
   },
   {
    "duration": 0,
    "start_time": "2023-03-16T19:30:46.059Z"
   },
   {
    "duration": 0,
    "start_time": "2023-03-16T19:30:46.061Z"
   },
   {
    "duration": 0,
    "start_time": "2023-03-16T19:30:46.063Z"
   },
   {
    "duration": 0,
    "start_time": "2023-03-16T19:30:46.065Z"
   },
   {
    "duration": 0,
    "start_time": "2023-03-16T19:30:46.066Z"
   },
   {
    "duration": 0,
    "start_time": "2023-03-16T19:30:46.068Z"
   },
   {
    "duration": 41,
    "start_time": "2023-03-16T19:30:56.469Z"
   },
   {
    "duration": 5,
    "start_time": "2023-03-16T19:32:19.670Z"
   },
   {
    "duration": 44,
    "start_time": "2023-03-16T19:32:22.160Z"
   },
   {
    "duration": 5,
    "start_time": "2023-03-16T19:34:47.645Z"
   },
   {
    "duration": 36,
    "start_time": "2023-03-16T19:34:51.817Z"
   },
   {
    "duration": 20,
    "start_time": "2023-03-16T19:36:21.863Z"
   },
   {
    "duration": 9,
    "start_time": "2023-03-16T19:39:09.608Z"
   },
   {
    "duration": 12,
    "start_time": "2023-03-16T19:39:15.628Z"
   },
   {
    "duration": 28,
    "start_time": "2023-03-16T19:39:28.665Z"
   },
   {
    "duration": 21,
    "start_time": "2023-03-16T19:39:49.217Z"
   },
   {
    "duration": 39,
    "start_time": "2023-03-16T19:40:03.483Z"
   },
   {
    "duration": 22,
    "start_time": "2023-03-16T19:40:08.386Z"
   },
   {
    "duration": 51,
    "start_time": "2023-03-16T19:43:01.727Z"
   },
   {
    "duration": 16,
    "start_time": "2023-03-16T19:46:00.115Z"
   },
   {
    "duration": 13,
    "start_time": "2023-03-16T19:46:06.866Z"
   },
   {
    "duration": 16,
    "start_time": "2023-03-16T19:46:15.528Z"
   },
   {
    "duration": 23,
    "start_time": "2023-03-16T19:47:28.990Z"
   },
   {
    "duration": 6,
    "start_time": "2023-03-16T19:48:21.814Z"
   },
   {
    "duration": 11,
    "start_time": "2023-03-16T19:49:45.216Z"
   },
   {
    "duration": 8,
    "start_time": "2023-03-16T19:50:00.392Z"
   },
   {
    "duration": 13,
    "start_time": "2023-03-16T19:50:35.716Z"
   },
   {
    "duration": 7,
    "start_time": "2023-03-16T19:50:40.668Z"
   },
   {
    "duration": 139,
    "start_time": "2023-03-16T19:55:01.499Z"
   },
   {
    "duration": 97,
    "start_time": "2023-03-16T19:55:52.758Z"
   },
   {
    "duration": 83,
    "start_time": "2023-03-16T19:56:10.522Z"
   },
   {
    "duration": 99,
    "start_time": "2023-03-16T19:58:42.657Z"
   },
   {
    "duration": 461,
    "start_time": "2023-03-16T19:59:03.254Z"
   },
   {
    "duration": 231,
    "start_time": "2023-03-16T19:59:03.720Z"
   },
   {
    "duration": 50,
    "start_time": "2023-03-16T19:59:03.953Z"
   },
   {
    "duration": 53,
    "start_time": "2023-03-16T19:59:04.009Z"
   },
   {
    "duration": 3,
    "start_time": "2023-03-16T19:59:04.064Z"
   },
   {
    "duration": 37,
    "start_time": "2023-03-16T19:59:04.071Z"
   },
   {
    "duration": 17,
    "start_time": "2023-03-16T19:59:04.112Z"
   },
   {
    "duration": 14,
    "start_time": "2023-03-16T19:59:04.131Z"
   },
   {
    "duration": 39,
    "start_time": "2023-03-16T19:59:04.147Z"
   },
   {
    "duration": 39,
    "start_time": "2023-03-16T19:59:04.194Z"
   },
   {
    "duration": 46,
    "start_time": "2023-03-16T19:59:04.235Z"
   },
   {
    "duration": 99,
    "start_time": "2023-03-16T19:59:04.283Z"
   },
   {
    "duration": 108,
    "start_time": "2023-03-16T19:59:04.396Z"
   },
   {
    "duration": 86,
    "start_time": "2023-03-16T19:59:04.506Z"
   },
   {
    "duration": 13,
    "start_time": "2023-03-16T19:59:04.594Z"
   },
   {
    "duration": 13,
    "start_time": "2023-03-16T19:59:04.610Z"
   },
   {
    "duration": 51,
    "start_time": "2023-03-16T19:59:04.625Z"
   },
   {
    "duration": 57,
    "start_time": "2023-03-16T19:59:04.693Z"
   },
   {
    "duration": 70,
    "start_time": "2023-03-16T19:59:04.753Z"
   },
   {
    "duration": 5,
    "start_time": "2023-03-16T19:59:04.825Z"
   },
   {
    "duration": 37,
    "start_time": "2023-03-16T19:59:04.832Z"
   },
   {
    "duration": 38,
    "start_time": "2023-03-16T19:59:04.871Z"
   },
   {
    "duration": 18,
    "start_time": "2023-03-16T19:59:04.911Z"
   },
   {
    "duration": 18,
    "start_time": "2023-03-16T19:59:04.931Z"
   },
   {
    "duration": 58,
    "start_time": "2023-03-16T19:59:04.951Z"
   },
   {
    "duration": 25,
    "start_time": "2023-03-16T19:59:05.012Z"
   },
   {
    "duration": 14,
    "start_time": "2023-03-16T19:59:05.039Z"
   },
   {
    "duration": 46,
    "start_time": "2023-03-16T19:59:05.057Z"
   },
   {
    "duration": 27,
    "start_time": "2023-03-16T19:59:05.108Z"
   },
   {
    "duration": 8,
    "start_time": "2023-03-16T19:59:05.137Z"
   },
   {
    "duration": 54,
    "start_time": "2023-03-16T19:59:05.147Z"
   },
   {
    "duration": 24,
    "start_time": "2023-03-16T19:59:05.205Z"
   },
   {
    "duration": 34,
    "start_time": "2023-03-16T19:59:05.232Z"
   },
   {
    "duration": 16,
    "start_time": "2023-03-16T19:59:05.269Z"
   },
   {
    "duration": 21,
    "start_time": "2023-03-16T19:59:05.293Z"
   },
   {
    "duration": 23,
    "start_time": "2023-03-16T19:59:05.317Z"
   },
   {
    "duration": 33,
    "start_time": "2023-03-16T19:59:05.342Z"
   },
   {
    "duration": 9,
    "start_time": "2023-03-16T19:59:05.378Z"
   },
   {
    "duration": 110,
    "start_time": "2023-03-16T19:59:37.621Z"
   },
   {
    "duration": 133,
    "start_time": "2023-03-16T20:03:09.217Z"
   },
   {
    "duration": 124,
    "start_time": "2023-03-16T20:03:17.211Z"
   },
   {
    "duration": 95,
    "start_time": "2023-03-16T20:04:08.017Z"
   },
   {
    "duration": 83,
    "start_time": "2023-03-16T20:04:14.852Z"
   },
   {
    "duration": 122,
    "start_time": "2023-03-16T20:06:43.630Z"
   },
   {
    "duration": 34,
    "start_time": "2023-03-16T20:06:53.682Z"
   },
   {
    "duration": 9,
    "start_time": "2023-03-16T20:07:02.855Z"
   },
   {
    "duration": 53,
    "start_time": "2023-03-16T20:08:44.517Z"
   },
   {
    "duration": 64,
    "start_time": "2023-03-16T20:08:54.084Z"
   },
   {
    "duration": 75,
    "start_time": "2023-03-16T20:11:28.956Z"
   },
   {
    "duration": 50,
    "start_time": "2023-03-16T20:11:35.319Z"
   },
   {
    "duration": 19,
    "start_time": "2023-03-16T20:11:42.714Z"
   },
   {
    "duration": 19,
    "start_time": "2023-03-16T20:12:38.064Z"
   },
   {
    "duration": 12,
    "start_time": "2023-03-16T20:16:38.076Z"
   },
   {
    "duration": 493,
    "start_time": "2023-03-16T20:19:07.767Z"
   },
   {
    "duration": 199,
    "start_time": "2023-03-16T20:19:08.262Z"
   },
   {
    "duration": 44,
    "start_time": "2023-03-16T20:19:08.463Z"
   },
   {
    "duration": 48,
    "start_time": "2023-03-16T20:19:08.510Z"
   },
   {
    "duration": 2,
    "start_time": "2023-03-16T20:19:08.561Z"
   },
   {
    "duration": 5,
    "start_time": "2023-03-16T20:19:08.566Z"
   },
   {
    "duration": 25,
    "start_time": "2023-03-16T20:19:08.573Z"
   },
   {
    "duration": 8,
    "start_time": "2023-03-16T20:19:08.603Z"
   },
   {
    "duration": 27,
    "start_time": "2023-03-16T20:19:08.613Z"
   },
   {
    "duration": 48,
    "start_time": "2023-03-16T20:19:08.642Z"
   },
   {
    "duration": 43,
    "start_time": "2023-03-16T20:19:08.698Z"
   },
   {
    "duration": 95,
    "start_time": "2023-03-16T20:19:08.743Z"
   },
   {
    "duration": 105,
    "start_time": "2023-03-16T20:19:08.840Z"
   },
   {
    "duration": 87,
    "start_time": "2023-03-16T20:19:08.949Z"
   },
   {
    "duration": 71,
    "start_time": "2023-03-16T20:19:09.038Z"
   },
   {
    "duration": 11,
    "start_time": "2023-03-16T20:19:09.111Z"
   },
   {
    "duration": 41,
    "start_time": "2023-03-16T20:19:09.124Z"
   },
   {
    "duration": 44,
    "start_time": "2023-03-16T20:19:09.167Z"
   },
   {
    "duration": 16,
    "start_time": "2023-03-16T20:19:09.213Z"
   },
   {
    "duration": 5,
    "start_time": "2023-03-16T20:19:09.230Z"
   },
   {
    "duration": 25,
    "start_time": "2023-03-16T20:19:09.237Z"
   },
   {
    "duration": 42,
    "start_time": "2023-03-16T20:19:09.264Z"
   },
   {
    "duration": 16,
    "start_time": "2023-03-16T20:19:09.307Z"
   },
   {
    "duration": 17,
    "start_time": "2023-03-16T20:19:09.325Z"
   },
   {
    "duration": 18,
    "start_time": "2023-03-16T20:19:09.343Z"
   },
   {
    "duration": 42,
    "start_time": "2023-03-16T20:19:09.363Z"
   },
   {
    "duration": 11,
    "start_time": "2023-03-16T20:19:09.409Z"
   },
   {
    "duration": 12,
    "start_time": "2023-03-16T20:19:09.422Z"
   },
   {
    "duration": 10,
    "start_time": "2023-03-16T20:19:09.436Z"
   },
   {
    "duration": 5,
    "start_time": "2023-03-16T20:19:09.447Z"
   },
   {
    "duration": 58,
    "start_time": "2023-03-16T20:19:09.454Z"
   },
   {
    "duration": 13,
    "start_time": "2023-03-16T20:19:09.513Z"
   },
   {
    "duration": 23,
    "start_time": "2023-03-16T20:19:09.527Z"
   },
   {
    "duration": 12,
    "start_time": "2023-03-16T20:19:09.552Z"
   },
   {
    "duration": 38,
    "start_time": "2023-03-16T20:19:09.566Z"
   },
   {
    "duration": 7,
    "start_time": "2023-03-16T20:19:09.610Z"
   },
   {
    "duration": 9,
    "start_time": "2023-03-16T20:19:09.619Z"
   },
   {
    "duration": 13,
    "start_time": "2023-03-16T20:19:09.631Z"
   }
  ],
  "celltoolbar": "Edit Metadata",
  "colab": {
   "collapsed_sections": [
    "E0vqbgi9ay0H",
    "VUC88oWjTJw2"
   ],
   "provenance": []
  },
  "kernelspec": {
   "display_name": "Python 3 (ipykernel)",
   "language": "python",
   "name": "python3"
  },
  "language_info": {
   "codemirror_mode": {
    "name": "ipython",
    "version": 3
   },
   "file_extension": ".py",
   "mimetype": "text/x-python",
   "name": "python",
   "nbconvert_exporter": "python",
   "pygments_lexer": "ipython3",
   "version": "3.9.16"
  },
  "toc": {
   "base_numbering": 1,
   "nav_menu": {
    "height": "215px",
    "width": "403px"
   },
   "number_sections": true,
   "sideBar": true,
   "skip_h1_title": true,
   "title_cell": "Table of Contents",
   "title_sidebar": "Contents",
   "toc_cell": false,
   "toc_position": {
    "height": "calc(100% - 180px)",
    "left": "10px",
    "top": "150px",
    "width": "285.825px"
   },
   "toc_section_display": true,
   "toc_window_display": false
  }
 },
 "nbformat": 4,
 "nbformat_minor": 1
}
